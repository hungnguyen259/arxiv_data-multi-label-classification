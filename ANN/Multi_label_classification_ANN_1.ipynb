{
  "cells": [
    {
      "cell_type": "markdown",
      "metadata": {
        "id": "g3ZzNXbACMKx"
      },
      "source": [
        "## Imports"
      ]
    },
    {
      "cell_type": "code",
      "execution_count": null,
      "metadata": {
        "id": "UsHuXXoICMKx"
      },
      "outputs": [],
      "source": [
        "from tensorflow.keras import layers\n",
        "from tensorflow import keras\n",
        "import tensorflow as tf\n",
        "\n",
        "from sklearn.model_selection import train_test_split\n",
        "from ast import literal_eval\n",
        "\n",
        "import matplotlib.pyplot as plt\n",
        "import pandas as pd\n",
        "import numpy as np"
      ]
    },
    {
      "cell_type": "code",
      "source": [
        "# import and read csv\n",
        "import pandas as pd\n",
        "from tensorflow.keras import layers\n",
        "from tensorflow import keras\n",
        "import tensorflow as tf\n",
        "from sklearn.model_selection import train_test_split\n",
        "from ast import literal_eval\n",
        "import numpy as np\n",
        "import string\n",
        "import re\n",
        "\n",
        "import matplotlib.pyplot as plt \n",
        "import seaborn as sns\n",
        "from sklearn.feature_extraction.text import TfidfVectorizer\n",
        "\n",
        "from sklearn.preprocessing import MultiLabelBinarizer\n",
        "\n",
        "import nltk\n",
        "from nltk.stem import WordNetLemmatizer\n",
        "from nltk.corpus import stopwords\n",
        "from nltk import pos_tag, word_tokenize\n",
        "\n",
        "nltk.download('wordnet')\n",
        "nltk.download('averaged_perceptron_tagger')\n",
        "nltk.download('punkt')\n",
        "nltk.download('stopwords')\n",
        "%matplotlib inline\n",
        "pd.set_option('display.max_colwidth', 300)"
      ],
      "metadata": {
        "id": "ck6EX0_8FK5V",
        "outputId": "f98ffd1e-cc98-4adf-dcdc-18d94d183461",
        "colab": {
          "base_uri": "https://localhost:8080/"
        }
      },
      "execution_count": null,
      "outputs": [
        {
          "output_type": "stream",
          "name": "stdout",
          "text": [
            "[nltk_data] Downloading package wordnet to /root/nltk_data...\n",
            "[nltk_data]   Unzipping corpora/wordnet.zip.\n",
            "[nltk_data] Downloading package averaged_perceptron_tagger to\n",
            "[nltk_data]     /root/nltk_data...\n",
            "[nltk_data]   Unzipping taggers/averaged_perceptron_tagger.zip.\n",
            "[nltk_data] Downloading package punkt to /root/nltk_data...\n",
            "[nltk_data]   Unzipping tokenizers/punkt.zip.\n",
            "[nltk_data] Downloading package stopwords to /root/nltk_data...\n",
            "[nltk_data]   Unzipping corpora/stopwords.zip.\n"
          ]
        }
      ]
    },
    {
      "cell_type": "markdown",
      "metadata": {
        "id": "QyKOOe1mCMKz"
      },
      "source": [
        "## Perform exploratory data analysis"
      ]
    },
    {
      "cell_type": "code",
      "source": [
        "!pip install -U -q PyDrive\n",
        "from pydrive.auth import GoogleAuth\n",
        "from pydrive.drive import GoogleDrive\n",
        "from google.colab import auth\n",
        "from oauth2client.client import GoogleCredentials\n",
        "  \n",
        "# Authenticate and create the PyDrive client.\n",
        "auth.authenticate_user()\n",
        "gauth = GoogleAuth()\n",
        "gauth.credentials = GoogleCredentials.get_application_default()\n",
        "drive = GoogleDrive(gauth)\n",
        "\n",
        "\n",
        "link = \"https://drive.google.com/file/d/18ZGW-c3oDNIEmBFUfzXl2v0v04mkSlJc/view\"\n",
        "  \n",
        "# to get the id part of the file\n",
        "id = link.split(\"/\")[-2]\n",
        "  \n",
        "downloaded = drive.CreateFile({'id':id}) \n",
        "downloaded.GetContentFile('arxiv.csv')  \n",
        "  \n",
        "arxiv_data = pd.read_csv('arxiv.csv')\n",
        "arxiv_data.head()"
      ],
      "metadata": {
        "colab": {
          "base_uri": "https://localhost:8080/",
          "height": 337
        },
        "id": "l51KfIIyRdJa",
        "outputId": "ae8b7ade-9dc8-4a5e-91f2-7110a11becd2"
      },
      "execution_count": null,
      "outputs": [
        {
          "output_type": "execute_result",
          "data": {
            "text/html": [
              "\n",
              "  <div id=\"df-a5d89ced-8e1d-4cdd-831f-bf4c1fdad1da\">\n",
              "    <div class=\"colab-df-container\">\n",
              "      <div>\n",
              "<style scoped>\n",
              "    .dataframe tbody tr th:only-of-type {\n",
              "        vertical-align: middle;\n",
              "    }\n",
              "\n",
              "    .dataframe tbody tr th {\n",
              "        vertical-align: top;\n",
              "    }\n",
              "\n",
              "    .dataframe thead th {\n",
              "        text-align: right;\n",
              "    }\n",
              "</style>\n",
              "<table border=\"1\" class=\"dataframe\">\n",
              "  <thead>\n",
              "    <tr style=\"text-align: right;\">\n",
              "      <th></th>\n",
              "      <th>titles</th>\n",
              "      <th>summaries</th>\n",
              "      <th>terms</th>\n",
              "    </tr>\n",
              "  </thead>\n",
              "  <tbody>\n",
              "    <tr>\n",
              "      <th>0</th>\n",
              "      <td>Revealing the Field Sub-subgiant Population Using a Catalog of Active Giant Stars and Gaia EDR3</td>\n",
              "      <td>Sub-subgiant stars (SSGs) fall below the subgiant branch and/or red of the\\ngiant branch in open and globular clusters, an area of the color-magnitude\\ndiagram (CMD) not populated by standard stellar evolution tracks. One\\nhypothesis is that SSGs result from rapid rotation in subgiants or giants...</td>\n",
              "      <td>['astro-ph.SR', 'astro-ph.GA']</td>\n",
              "    </tr>\n",
              "    <tr>\n",
              "      <th>1</th>\n",
              "      <td>ALMA detection of ethyl cyanide and methyl formate in the hot molecular core IRAS 18566+0408</td>\n",
              "      <td>In millimeter/submillimeter wavelength, the studies of the complex molecular\\nemission lines towards the hot molecular cores demonstrate valuable details\\nabout the chemical composition and massive star formation processes. We present\\nthe interferometric detection of rotational molecular emissi...</td>\n",
              "      <td>['astro-ph.GA']</td>\n",
              "    </tr>\n",
              "    <tr>\n",
              "      <th>2</th>\n",
              "      <td>Accretion processes in the galaxy cluster Hydra A/Abell 780</td>\n",
              "      <td>Clusters of galaxies evolve and accrete mass, mostly from small galaxy\\nsystems. Our aim is to study the velocity field of the galaxy cluster Abell\\n780, which is known for the powerful radio source Hydra A at its center and\\nwhere a spectacular X-ray tail associated with the galaxy LEDA 87445 h...</td>\n",
              "      <td>['astro-ph.CO', 'astro-ph.GA']</td>\n",
              "    </tr>\n",
              "    <tr>\n",
              "      <th>3</th>\n",
              "      <td>Radio astronomy locates the neutrino origin in bright blazars</td>\n",
              "      <td>High-energy astrophysical neutrinos have been observed by several telescopes\\nin the last decade, but their sources still remained unknown. We address the\\nproblem of locating astrophysical neutrinos' sources in a statistical manner.\\nWe show that blazars positionally associated with IceCube neu...</td>\n",
              "      <td>['astro-ph.HE', 'astro-ph.GA']</td>\n",
              "    </tr>\n",
              "    <tr>\n",
              "      <th>4</th>\n",
              "      <td>The extragalactic $γ$-ray background: imprints from the physical properties and evolution of star-forming galaxy populations</td>\n",
              "      <td>Star-forming galaxies (SFGs) are expected to harbour an abundant reservoir of\\ncosmic rays (CRs). At GeV energies, these CRs can undergo hadronic interactions\\nwith interstellar gases to produce $\\gamma$-rays, and the unresolved\\n$\\gamma$-ray emission from populations of SFGs form a component of...</td>\n",
              "      <td>['astro-ph.GA', 'astro-ph.HE']</td>\n",
              "    </tr>\n",
              "  </tbody>\n",
              "</table>\n",
              "</div>\n",
              "      <button class=\"colab-df-convert\" onclick=\"convertToInteractive('df-a5d89ced-8e1d-4cdd-831f-bf4c1fdad1da')\"\n",
              "              title=\"Convert this dataframe to an interactive table.\"\n",
              "              style=\"display:none;\">\n",
              "        \n",
              "  <svg xmlns=\"http://www.w3.org/2000/svg\" height=\"24px\"viewBox=\"0 0 24 24\"\n",
              "       width=\"24px\">\n",
              "    <path d=\"M0 0h24v24H0V0z\" fill=\"none\"/>\n",
              "    <path d=\"M18.56 5.44l.94 2.06.94-2.06 2.06-.94-2.06-.94-.94-2.06-.94 2.06-2.06.94zm-11 1L8.5 8.5l.94-2.06 2.06-.94-2.06-.94L8.5 2.5l-.94 2.06-2.06.94zm10 10l.94 2.06.94-2.06 2.06-.94-2.06-.94-.94-2.06-.94 2.06-2.06.94z\"/><path d=\"M17.41 7.96l-1.37-1.37c-.4-.4-.92-.59-1.43-.59-.52 0-1.04.2-1.43.59L10.3 9.45l-7.72 7.72c-.78.78-.78 2.05 0 2.83L4 21.41c.39.39.9.59 1.41.59.51 0 1.02-.2 1.41-.59l7.78-7.78 2.81-2.81c.8-.78.8-2.07 0-2.86zM5.41 20L4 18.59l7.72-7.72 1.47 1.35L5.41 20z\"/>\n",
              "  </svg>\n",
              "      </button>\n",
              "      \n",
              "  <style>\n",
              "    .colab-df-container {\n",
              "      display:flex;\n",
              "      flex-wrap:wrap;\n",
              "      gap: 12px;\n",
              "    }\n",
              "\n",
              "    .colab-df-convert {\n",
              "      background-color: #E8F0FE;\n",
              "      border: none;\n",
              "      border-radius: 50%;\n",
              "      cursor: pointer;\n",
              "      display: none;\n",
              "      fill: #1967D2;\n",
              "      height: 32px;\n",
              "      padding: 0 0 0 0;\n",
              "      width: 32px;\n",
              "    }\n",
              "\n",
              "    .colab-df-convert:hover {\n",
              "      background-color: #E2EBFA;\n",
              "      box-shadow: 0px 1px 2px rgba(60, 64, 67, 0.3), 0px 1px 3px 1px rgba(60, 64, 67, 0.15);\n",
              "      fill: #174EA6;\n",
              "    }\n",
              "\n",
              "    [theme=dark] .colab-df-convert {\n",
              "      background-color: #3B4455;\n",
              "      fill: #D2E3FC;\n",
              "    }\n",
              "\n",
              "    [theme=dark] .colab-df-convert:hover {\n",
              "      background-color: #434B5C;\n",
              "      box-shadow: 0px 1px 3px 1px rgba(0, 0, 0, 0.15);\n",
              "      filter: drop-shadow(0px 1px 2px rgba(0, 0, 0, 0.3));\n",
              "      fill: #FFFFFF;\n",
              "    }\n",
              "  </style>\n",
              "\n",
              "      <script>\n",
              "        const buttonEl =\n",
              "          document.querySelector('#df-a5d89ced-8e1d-4cdd-831f-bf4c1fdad1da button.colab-df-convert');\n",
              "        buttonEl.style.display =\n",
              "          google.colab.kernel.accessAllowed ? 'block' : 'none';\n",
              "\n",
              "        async function convertToInteractive(key) {\n",
              "          const element = document.querySelector('#df-a5d89ced-8e1d-4cdd-831f-bf4c1fdad1da');\n",
              "          const dataTable =\n",
              "            await google.colab.kernel.invokeFunction('convertToInteractive',\n",
              "                                                     [key], {});\n",
              "          if (!dataTable) return;\n",
              "\n",
              "          const docLinkHtml = 'Like what you see? Visit the ' +\n",
              "            '<a target=\"_blank\" href=https://colab.research.google.com/notebooks/data_table.ipynb>data table notebook</a>'\n",
              "            + ' to learn more about interactive tables.';\n",
              "          element.innerHTML = '';\n",
              "          dataTable['output_type'] = 'display_data';\n",
              "          await google.colab.output.renderOutput(dataTable, element);\n",
              "          const docLink = document.createElement('div');\n",
              "          docLink.innerHTML = docLinkHtml;\n",
              "          element.appendChild(docLink);\n",
              "        }\n",
              "      </script>\n",
              "    </div>\n",
              "  </div>\n",
              "  "
            ],
            "text/plain": [
              "                                                                                                                         titles  ...                           terms\n",
              "0                               Revealing the Field Sub-subgiant Population Using a Catalog of Active Giant Stars and Gaia EDR3  ...  ['astro-ph.SR', 'astro-ph.GA']\n",
              "1                                  ALMA detection of ethyl cyanide and methyl formate in the hot molecular core IRAS 18566+0408  ...                 ['astro-ph.GA']\n",
              "2                                                                   Accretion processes in the galaxy cluster Hydra A/Abell 780  ...  ['astro-ph.CO', 'astro-ph.GA']\n",
              "3                                                                 Radio astronomy locates the neutrino origin in bright blazars  ...  ['astro-ph.HE', 'astro-ph.GA']\n",
              "4  The extragalactic $γ$-ray background: imprints from the physical properties and evolution of star-forming galaxy populations  ...  ['astro-ph.GA', 'astro-ph.HE']\n",
              "\n",
              "[5 rows x 3 columns]"
            ]
          },
          "metadata": {},
          "execution_count": 3
        }
      ]
    },
    {
      "cell_type": "code",
      "execution_count": null,
      "metadata": {
        "id": "Oy0UhJb2CMK0",
        "outputId": "4631280f-6d81-4efa-d824-7a1901219d13",
        "colab": {
          "base_uri": "https://localhost:8080/"
        }
      },
      "outputs": [
        {
          "output_type": "stream",
          "name": "stdout",
          "text": [
            "There are 89336 rows in the dataset.\n"
          ]
        }
      ],
      "source": [
        "print(f\"There are {len(arxiv_data)} rows in the dataset.\")"
      ]
    },
    {
      "cell_type": "code",
      "execution_count": null,
      "metadata": {
        "id": "ZATqY_S1CMK1",
        "outputId": "a10c0b25-7fd3-418c-94e1-00383526d438",
        "colab": {
          "base_uri": "https://localhost:8080/"
        }
      },
      "outputs": [
        {
          "output_type": "stream",
          "name": "stdout",
          "text": [
            "There are 19134 duplicate titles.\n"
          ]
        }
      ],
      "source": [
        "total_duplicate_titles = sum(arxiv_data[\"titles\"].duplicated())\n",
        "print(f\"There are {total_duplicate_titles} duplicate titles.\")"
      ]
    },
    {
      "cell_type": "code",
      "execution_count": null,
      "metadata": {
        "id": "RfyPWpszCMK2",
        "outputId": "e8df08ac-422b-4c6f-e36f-10dc6004c492",
        "colab": {
          "base_uri": "https://localhost:8080/"
        }
      },
      "outputs": [
        {
          "output_type": "stream",
          "name": "stdout",
          "text": [
            "There are 70202 rows in the deduplicated dataset.\n",
            "22\n",
            "152\n"
          ]
        }
      ],
      "source": [
        "arxiv_data = arxiv_data[~arxiv_data[\"titles\"].duplicated()]\n",
        "print(f\"There are {len(arxiv_data)} rows in the deduplicated dataset.\")\n",
        "\n",
        "# There are some terms with occurrence as low as 1.\n",
        "print(sum(arxiv_data[\"terms\"].value_counts() == 1))\n",
        "\n",
        "# How many unique terms?\n",
        "print(arxiv_data[\"terms\"].nunique())"
      ]
    },
    {
      "cell_type": "code",
      "source": [
        "arxiv_data_filtered = arxiv_data"
      ],
      "metadata": {
        "id": "r92ASCTw_5o9"
      },
      "execution_count": null,
      "outputs": []
    },
    {
      "cell_type": "markdown",
      "metadata": {
        "id": "f5IUK2W3CMK3"
      },
      "source": [
        "## Convert the string labels to lists of strings"
      ]
    },
    {
      "cell_type": "code",
      "execution_count": null,
      "metadata": {
        "id": "C4aipxf5CMK3",
        "outputId": "0ab6f398-7b0d-4f4e-c5b8-4bfc6944c9e8",
        "colab": {
          "base_uri": "https://localhost:8080/"
        }
      },
      "outputs": [
        {
          "output_type": "execute_result",
          "data": {
            "text/plain": [
              "array([list(['astro-ph.SR', 'astro-ph.GA']), list(['astro-ph.GA']),\n",
              "       list(['astro-ph.CO', 'astro-ph.GA']),\n",
              "       list(['astro-ph.HE', 'astro-ph.GA']),\n",
              "       list(['astro-ph.GA', 'astro-ph.HE'])], dtype=object)"
            ]
          },
          "metadata": {},
          "execution_count": 8
        }
      ],
      "source": [
        "arxiv_data_filtered[\"terms\"] = arxiv_data_filtered[\"terms\"].apply(\n",
        "    lambda x: literal_eval(x)\n",
        ")\n",
        "arxiv_data_filtered[\"terms\"].values[:5]"
      ]
    },
    {
      "cell_type": "code",
      "source": [
        "dict_len = {}\n",
        "for i in range(arxiv_data_filtered.shape[0]):\n",
        "    if(len(arxiv_data_filtered.iloc[i][\"terms\"]) not in dict_len):\n",
        "        dict_len[len(arxiv_data_filtered.iloc[i][\"terms\"])] = 1\n",
        "    else:\n",
        "        dict_len[len(arxiv_data_filtered.iloc[i][\"terms\"])] += 1\n",
        "print(\"Occurancy of number of labels in a term: \")\n",
        "dict_len = dict(sorted(dict_len.items(), key=lambda item: item[1], reverse=True))\n",
        "for k, v in dict_len.items():\n",
        "    print(f\" - The number of paper have {k} labels in it's term: {v}\")"
      ],
      "metadata": {
        "id": "Cp8gMzSZ9dih",
        "colab": {
          "base_uri": "https://localhost:8080/"
        },
        "outputId": "8bee25cd-13e1-444e-ede8-c073a22333ad"
      },
      "execution_count": null,
      "outputs": [
        {
          "output_type": "stream",
          "name": "stdout",
          "text": [
            "Occurancy of number of labels in a term: \n",
            " - The number of paper have 1 labels in it's term: 46399\n",
            " - The number of paper have 2 labels in it's term: 20635\n",
            " - The number of paper have 3 labels in it's term: 2904\n",
            " - The number of paper have 4 labels in it's term: 209\n",
            " - The number of paper have 5 labels in it's term: 54\n",
            " - The number of paper have 6 labels in it's term: 1\n"
          ]
        }
      ]
    },
    {
      "cell_type": "markdown",
      "source": [
        "##Pre-processing dataset\n"
      ],
      "metadata": {
        "id": "964YEOux8c4p"
      }
    },
    {
      "cell_type": "code",
      "source": [
        "all_terms = sum(arxiv_data_filtered[\"terms\"],[])\n",
        "all_terms = nltk.FreqDist(all_terms) \n",
        "# create dataframe\n",
        "all_terms_df = pd.DataFrame({'Term': list(all_terms.keys()), \n",
        "                              'Count': list(all_terms.values())})"
      ],
      "metadata": {
        "id": "GyccOZXLFbqx"
      },
      "execution_count": null,
      "outputs": []
    },
    {
      "cell_type": "code",
      "source": [
        "def clean_text(text):\n",
        "  # remove new line characters\n",
        "  text = re.sub(r\"\\n\", \" \", text)\n",
        "  # remove email\n",
        "  text = re.sub(r\"([A-Za-z0-9_.+-]+@[A-Za-z0-9-]+\\.?[A-Za-z0-9-.]+)\", \"\", text)\n",
        "  # remove url\n",
        "  text = re.sub(r\"((http|https)\\:\\/\\/)?[a-zA-Z0-9\\.\\/\\?\\:@\\-_=#]+\\.([a-zA-Z]){2,6}([a-zA-Z0-9\\.\\&\\/\\?\\:@\\-_=#])*\", \"\", text)\n",
        "  # remove punctuation\n",
        "  text = re.sub(f'[{re.escape(string.punctuation)}]', ' ', text)\n",
        "  # remove words including numbers\n",
        "  text = re.sub(r\"\\w*\\d\\w*\", \"\", text)\n",
        "  # remove single character and duplicated words\n",
        "  text = ' '.join(word for word in list(set(text.split())) if len(word) > 1)\n",
        "  # replace multiple whitespace by one whitespace\n",
        "  text = re.sub(r\"\\s+\", \" \", text)\n",
        "  # lower all text\n",
        "  text = text.lower()\n",
        "  # strip all text\n",
        "  text = text.strip()\n",
        "  return text"
      ],
      "metadata": {
        "id": "idNVPB3jFjwt"
      },
      "execution_count": null,
      "outputs": []
    },
    {
      "cell_type": "code",
      "source": [
        "def remove_stopwords(text):\n",
        "  stop_words = stopwords.words('english')\n",
        "  cleaned_text = []\n",
        "  # turn text to a list of words\n",
        "  word_list = text.split()\n",
        "  for word in word_list:\n",
        "    if word not in stop_words:\n",
        "      cleaned_text.append(word)\n",
        "  return ' '.join(cleaned_text)"
      ],
      "metadata": {
        "id": "MZwth4c9Fngt"
      },
      "execution_count": null,
      "outputs": []
    },
    {
      "cell_type": "code",
      "source": [
        "def lemmatize_text(text):\n",
        "  wnl = WordNetLemmatizer()\n",
        "  pos_text = pos_tag(word_tokenize(text))\n",
        "  cleaned_text = []\n",
        "  for word, tag in pos_text:\n",
        "    wntag = tag[0].lower()\n",
        "    wntag = wntag if wntag in ['a', 'r', 'n', 'v'] else None\n",
        "    if not wntag:\n",
        "      lem_word = word\n",
        "    else:\n",
        "      lem_word = wnl.lemmatize(word, wntag)\n",
        "    cleaned_text.append(lem_word)\n",
        "  return ' '.join(cleaned_text)"
      ],
      "metadata": {
        "id": "_24dH6LUFsev"
      },
      "execution_count": null,
      "outputs": []
    },
    {
      "cell_type": "code",
      "source": [
        "arxiv_data_filtered['summaries'] = arxiv_data_filtered['summaries'].apply(clean_text)\n",
        "arxiv_data_filtered['summaries'] = arxiv_data_filtered['summaries'].apply(remove_stopwords)\n",
        "arxiv_data_filtered['summaries'] = arxiv_data_filtered['summaries'].apply(lemmatize_text)\n",
        "arxiv_data_filtered['summaries']"
      ],
      "metadata": {
        "id": "9ew2D4zLFxri",
        "colab": {
          "base_uri": "https://localhost:8080/"
        },
        "outputId": "4aa761e2-e660-4585-d6b1-fb8393ba8794"
      },
      "execution_count": null,
      "outputs": [
        {
          "output_type": "execute_result",
          "data": {
            "text/plain": [
              "0        normal present binary ssgs know convection lower standard stellar find dense rich subgiant candidate produce tess astrometry sub track day starspots system due metal fall tidal hypothesis study field magnitude dramatic period suggest branch candidate giant rapid cvns star rotation position rare ...\n",
              "1        complex present original pm core line millimeter mcmc relative valuable spectral respectively hcc estimate hc molecule ghz wavelength transition core total line atacama except cm formation cn three specie demonstrate abundance unblended hot towards alma apply cyanide ch determine molecular carlo...\n",
              "2        space substructure small line know distance substructure relative region construct leda collision technique rest cluster center although km telescopio relate first system dynamically core asymmetry galaxy cluster analyze mpc abell tail obtain study member sigmav smaller higher impact field spect...\n",
              "3        correspond produce astrophysical region coincide telescope core tev extension lower majority neutrinos experience rest problem relativistic emit detection locate ghz relate jet show energy energy however muon doppler neutrino diverse observe parsec last frequency boost major monitoring gamma hig...\n",
              "4        small per myr stellar sfg instead produce crs show galaxy energy signature anisotropy energy particularly however sequence higher intensity earlier formation gamma demonstrate source locate form originate starburst high cosmic low dominate stage allow gev mass redshifts capture affect interactio...\n",
              "                                                                                                                                                            ...                                                                                                                                                     \n",
              "89331    aur binary rsun spot distance see variable region stellar period instead systemic km far interpretation line sequence consistent field system colour suggest report form evaluation high visible multi consider rotation low day much taurus quasi along weak show variation greater giant take periodic...\n",
              "89332    centre present binary line volume lobe average show calculate due roche dwarf thin planck system partial period change simulation stationary towards cold light post pre gravitational opacity along point variation quiescence accretion hydrogen rate realistic include good star entirely begin orbit...\n",
              "89333    dipolar way reduce plausible simplified stellar consequence ob due progenitor wind potential calculation however pair ii impact hole formation star consider mass instability supernovae global field interaction remain large progenitor model brake scale thus fraction two angular similarly even det...\n",
              "89334    produce contain mm model observational morphology rest appreciable concentric various extend discontinuous show later diverse subtle study observe hydrocarbon line earlier shell formation cn astronomical specie common unsaturated isotropic rapid radial locate alma possible cyanide expansion sphe...\n",
              "89335    correspond present asymmetrically currently rotations longitudinal band observational clarification latitude late come minimum polarity migration signatures hinode study illustrate last system longitude telescope presently variation cancel utilize high low online able time mutually dkist presenc...\n",
              "Name: summaries, Length: 70202, dtype: object"
            ]
          },
          "metadata": {},
          "execution_count": 14
        }
      ]
    },
    {
      "cell_type": "markdown",
      "metadata": {
        "id": "JYfEJL5nCMK3"
      },
      "source": [
        "## Split training set, validation set and test set"
      ]
    },
    {
      "cell_type": "code",
      "execution_count": null,
      "metadata": {
        "id": "I6kxRsHbCMK3",
        "colab": {
          "base_uri": "https://localhost:8080/"
        },
        "outputId": "160ae095-5eb4-4d1d-cfd9-92d4ebacdd28"
      },
      "outputs": [
        {
          "output_type": "stream",
          "name": "stdout",
          "text": [
            "Number of rows in training set: 49141\n",
            "Number of rows in validation set: 10530\n",
            "Number of rows in test set: 10531\n"
          ]
        }
      ],
      "source": [
        "test_split = 0.3\n",
        "\n",
        "# Initial train and test split.\n",
        "train_df, test_df = train_test_split(\n",
        "    arxiv_data_filtered,\n",
        "    test_size=test_split,\n",
        "    # stratify=arxiv_data_filtered[\"terms\"].values,\n",
        ")\n",
        "\n",
        "# Splitting the test set further into validation\n",
        "# and new test sets.\n",
        "val_df = test_df.sample(frac=0.5)\n",
        "test_df.drop(val_df.index, inplace=True)\n",
        "\n",
        "print(f\"Number of rows in training set: {len(train_df)}\")\n",
        "print(f\"Number of rows in validation set: {len(val_df)}\")\n",
        "print(f\"Number of rows in test set: {len(test_df)}\")"
      ]
    },
    {
      "cell_type": "markdown",
      "metadata": {
        "id": "i-PAnEOTCMK4"
      },
      "source": [
        "## Multi-label binarization"
      ]
    },
    {
      "cell_type": "code",
      "execution_count": null,
      "metadata": {
        "id": "7-XwTtwvCMK4",
        "colab": {
          "base_uri": "https://localhost:8080/"
        },
        "outputId": "f7083c8b-09e7-4780-f5a3-1e2b5b47c29d"
      },
      "outputs": [
        {
          "output_type": "stream",
          "name": "stdout",
          "text": [
            "Vocabulary:\n",
            "\n",
            "['[UNK]', 'astro-ph.GA', 'astro-ph.SR', 'astro-ph.EP', 'astro-ph.HE', 'astro-ph.IM', 'astro-ph.CO']\n"
          ]
        }
      ],
      "source": [
        "terms = tf.ragged.constant(train_df[\"terms\"].values)\n",
        "lookup = tf.keras.layers.StringLookup(output_mode=\"multi_hot\")\n",
        "lookup.adapt(terms)\n",
        "vocab = lookup.get_vocabulary()\n",
        "\n",
        "\n",
        "def invert_multi_hot(encoded_labels):\n",
        "    \"\"\"Reverse a single multi-hot encoded label to a tuple of vocab terms.\"\"\"\n",
        "    hot_indices = np.argwhere(encoded_labels == 1.0)[..., 0]\n",
        "    return np.take(vocab, hot_indices)\n",
        "\n",
        "\n",
        "print(\"Vocabulary:\\n\")\n",
        "print(vocab)\n"
      ]
    },
    {
      "cell_type": "code",
      "execution_count": null,
      "metadata": {
        "id": "sXq1evCGCMK4",
        "colab": {
          "base_uri": "https://localhost:8080/"
        },
        "outputId": "95c8f377-e6e1-4db5-f1b1-9debaaad203f"
      },
      "outputs": [
        {
          "output_type": "stream",
          "name": "stdout",
          "text": [
            "Original label: ['astro-ph.EP']\n",
            "Label-binarized representation: [[0. 0. 0. 1. 0. 0. 0.]]\n"
          ]
        }
      ],
      "source": [
        "sample_label = train_df[\"terms\"].iloc[0]\n",
        "print(f\"Original label: {sample_label}\")\n",
        "\n",
        "label_binarized = lookup([sample_label])\n",
        "print(f\"Label-binarized representation: {label_binarized}\")"
      ]
    },
    {
      "cell_type": "markdown",
      "metadata": {
        "id": "rL9-uRHaCMK5"
      },
      "source": [
        "## Data preprocessing and `tf.data.Dataset` objects\n"
      ]
    },
    {
      "cell_type": "code",
      "execution_count": null,
      "metadata": {
        "id": "H0JpYB05CMK5"
      },
      "outputs": [],
      "source": [
        "batch_size = 128\n",
        "auto = tf.data.AUTOTUNE\n",
        "\n",
        "\n",
        "def unify_text_length(text, label):\n",
        "    return tf.expand_dims(text, -1), label\n",
        "\n",
        "\n",
        "def make_dataset(dataframe, is_train=True):\n",
        "    labels = tf.ragged.constant(dataframe[\"terms\"].values)\n",
        "    label_binarized = lookup(labels).numpy()\n",
        "    dataset = tf.data.Dataset.from_tensor_slices(\n",
        "        (dataframe[\"summaries\"].values, label_binarized)\n",
        "    )\n",
        "    dataset = dataset.shuffle(batch_size * 10) if is_train else dataset\n",
        "    dataset = dataset.map(unify_text_length, num_parallel_calls=auto).cache()\n",
        "    return dataset.batch(batch_size)\n"
      ]
    },
    {
      "cell_type": "code",
      "execution_count": null,
      "metadata": {
        "id": "-bZ8KHqCCMK5"
      },
      "outputs": [],
      "source": [
        "train_dataset = make_dataset(train_df, is_train=True)\n",
        "validation_dataset = make_dataset(val_df, is_train=False)\n",
        "test_dataset = make_dataset(test_df, is_train=False)"
      ]
    },
    {
      "cell_type": "markdown",
      "metadata": {
        "id": "vr-ohRLSCMK6"
      },
      "source": [
        "## Dataset preview"
      ]
    },
    {
      "cell_type": "code",
      "execution_count": null,
      "metadata": {
        "id": "rGS0JbgtCMK6",
        "colab": {
          "base_uri": "https://localhost:8080/"
        },
        "outputId": "6e9d3bef-ff85-49fe-ba29-aff342a54c44"
      },
      "outputs": [
        {
          "output_type": "stream",
          "name": "stdout",
          "text": [
            "Abstract: b'normal superimpose correspond wavelet advance inside sectoral relative stellar occultation planetary place respectively however visual precise reveal six oscillation weaker ring sufficiently provide observed combining constraint sequence planet frequency spectrometer infrared fundamental demonstrate unambiguously generate spacecraft tool signal map arm consist ring azimuthal fortunately determine rotation amplitude day able one spiral actually resonances study structure multiple uncovered number rate another around interior pattern allow furthermore wave four mode new obvious broad analytical analysis mode search wavenumbers vims single generate clarify many previously pattern degree recent reveal large excite identified wavelet wave onboard imply data complete saturn structure help two cassini probably rotate analysis strong unknown base yielding recent'\n",
            "Label(s): ['astro-ph.EP']\n",
            " \n",
            "Abstract: b'eclipse present utilised binary inspection best simultaneously subsequently assemble kepler characterise spectral found period pulsational pulsating candidate mix iterative system promise weakly purpose approach study constraint addition atmospheric frequency pressure space ten component candidate abundance spectra radial star pulsators determine follow near simultaneous binary find presence detach aim allow case model mode clear visual independent good gravity mode order star ell eclipse find pattern intermediate identify solar sample like secondary profile double catalogue seven select circular disentangle parameter primary pulsate perform followed analysis orbit chemical modelling compile asteroseismic optimise future line spectroscopic spectrum density evolutionary eclipse frequency base mass correlate span'\n",
            "Label(s): ['astro-ph.SR']\n",
            " \n",
            "Abstract: b'small vice radius majority kepler stellar change et size half respectively indeed candidate planet due total obtain dwarf confirm sequence planet impact uncertainty period fundamental jupiter regime candidate giant star host orbit determine low follow use correlation confirm influenced mass show unevolved giant number caution radius model four new transit apply good significant revise finally bias star density orbital derived comment systematically misclassified previously subgiants cool tentative furthermore main large host eccentric detection sample brown multiplicity versa catalog comparison increase may circular typical property model solution parameter assume agreement recalculate include batalha result dwarf used asteroseismic asteroseismology spectroscopic al investigate factor mass disagreement systematics sub'\n",
            "Label(s): ['astro-ph.SR' 'astro-ph.EP']\n",
            " \n",
            "Abstract: b'thicker height model set discs maximum kiloparsecs width center equation milky survey galaxy provide dwarf observe higher vertical dimensional three ratio little hundred thing atomic indicate use much spiral poisson find detailed hydrogen radius significantly scale half assume equilibrium thickness estimate function value solve date sample way ratio complete joint baryonic hi numerically distribution hydrostatic boltzmann edge largest solution axial perform result define nearby varies parsecs density investigate hwhm median naturally'\n",
            "Label(s): ['astro-ph.GA']\n",
            " \n",
            "Abstract: b'latter produce explain astrophysical region test wider tev position fainter trial entire neutrino independently together recently relativistic jet energy energy nuclei muon neutrino parsec physically source blazars towards high extend delivers post point likelihood point interaction central blazar include study number us scale analysis analyze photon several derive active source correlation year range compton galactic public self large proton show sample use detect data driven sigma seven select complete compact may significance bright within combine analysis flux parsec radio track density map result ray statistically icecube similar observation'\n",
            "Label(s): ['astro-ph.GA' 'astro-ph.HE']\n",
            " \n"
          ]
        }
      ],
      "source": [
        "text_batch, label_batch = next(iter(train_dataset))\n",
        "\n",
        "for i, text in enumerate(text_batch[:5]):\n",
        "    label = label_batch[i].numpy()[None, ...]\n",
        "    print(f\"Abstract: {text[0]}\")\n",
        "    print(f\"Label(s): {invert_multi_hot(label[0])}\")\n",
        "    print(\" \")"
      ]
    },
    {
      "cell_type": "markdown",
      "metadata": {
        "id": "RYJCqBUkCMK6"
      },
      "source": [
        "## Vectorization"
      ]
    },
    {
      "cell_type": "code",
      "execution_count": null,
      "metadata": {
        "id": "6j1yh35BCMK6",
        "colab": {
          "base_uri": "https://localhost:8080/"
        },
        "outputId": "a67c7f1c-213b-468e-d798-e27545affce4"
      },
      "outputs": [
        {
          "output_type": "stream",
          "name": "stdout",
          "text": [
            "Vocabulary size: 179\n"
          ]
        }
      ],
      "source": [
        "train_df[\"total_words\"] = train_df[\"summaries\"].str.split().str.len()\n",
        "vocabulary_size = train_df[\"total_words\"].max()\n",
        "print(f\"Vocabulary size: {vocabulary_size}\")"
      ]
    },
    {
      "cell_type": "code",
      "execution_count": null,
      "metadata": {
        "id": "h3odTI_lCMK6"
      },
      "outputs": [],
      "source": [
        "text_vectorizer = layers.TextVectorization(\n",
        "    max_tokens=vocabulary_size, ngrams=2, output_mode=\"tf_idf\"\n",
        ")\n",
        "\n",
        "# `TextVectorization` layer needs to be adapted as per the vocabulary from our\n",
        "# training set.\n",
        "with tf.device(\"/CPU:0\"):\n",
        "    text_vectorizer.adapt(train_dataset.map(lambda text, label: text))\n",
        "\n",
        "train_dataset = train_dataset.map(\n",
        "    lambda text, label: (text_vectorizer(text), label), num_parallel_calls=auto\n",
        ").prefetch(auto)\n",
        "validation_dataset = validation_dataset.map(\n",
        "    lambda text, label: (text_vectorizer(text), label), num_parallel_calls=auto\n",
        ").prefetch(auto)\n",
        "test_dataset = test_dataset.map(\n",
        "    lambda text, label: (text_vectorizer(text), label), num_parallel_calls=auto\n",
        ").prefetch(auto)\n"
      ]
    },
    {
      "cell_type": "markdown",
      "metadata": {
        "id": "t9fDpf5YCMK7"
      },
      "source": [
        "## Create a text classification model\n"
      ]
    },
    {
      "cell_type": "code",
      "execution_count": null,
      "metadata": {
        "id": "LqayRS4ZCMK7"
      },
      "outputs": [],
      "source": [
        "\n",
        "def make_model():\n",
        "    shallow_mlp_model = keras.Sequential(\n",
        "        [\n",
        "            layers.Dense(512, activation=\"relu\"),\n",
        "            layers.Dropout(0.2),\n",
        "            layers.Dense(512, activation=\"relu\"),\n",
        "            layers.Dropout(0.1),\n",
        "            layers.Dense(256, activation=\"relu\"),\n",
        "            layers.Dense(lookup.vocabulary_size(), activation=\"sigmoid\"),\n",
        "        ]\n",
        "    )\n",
        "    return shallow_mlp_model\n"
      ]
    },
    {
      "cell_type": "markdown",
      "metadata": {
        "id": "hJNr3ifJCMK7"
      },
      "source": [
        "## Train the model"
      ]
    },
    {
      "cell_type": "code",
      "execution_count": null,
      "metadata": {
        "id": "kdj8wf0FCMK7",
        "colab": {
          "base_uri": "https://localhost:8080/",
          "height": 1000
        },
        "outputId": "adf5d35a-de16-45e7-c6a8-e468d81594e5"
      },
      "outputs": [
        {
          "output_type": "stream",
          "name": "stdout",
          "text": [
            "Epoch 1/100\n",
            "384/384 [==============================] - 11s 26ms/step - loss: 0.4881 - precision: 0.5432 - recall: 0.2681 - val_loss: 0.2899 - val_precision: 0.7160 - val_recall: 0.6203\n",
            "Epoch 2/100\n",
            "384/384 [==============================] - 9s 23ms/step - loss: 0.2845 - precision: 0.7513 - recall: 0.5919 - val_loss: 0.2478 - val_precision: 0.7831 - val_recall: 0.6792\n",
            "Epoch 3/100\n",
            "384/384 [==============================] - 9s 23ms/step - loss: 0.2544 - precision: 0.7909 - recall: 0.6472 - val_loss: 0.2435 - val_precision: 0.7968 - val_recall: 0.6695\n",
            "Epoch 4/100\n",
            "384/384 [==============================] - 8s 22ms/step - loss: 0.2442 - precision: 0.8021 - recall: 0.6603 - val_loss: 0.2366 - val_precision: 0.8017 - val_recall: 0.6802\n",
            "Epoch 5/100\n",
            "384/384 [==============================] - 10s 25ms/step - loss: 0.2376 - precision: 0.8080 - recall: 0.6662 - val_loss: 0.2326 - val_precision: 0.7989 - val_recall: 0.6901\n",
            "Epoch 6/100\n",
            "384/384 [==============================] - 10s 25ms/step - loss: 0.2331 - precision: 0.8107 - recall: 0.6727 - val_loss: 0.2289 - val_precision: 0.8055 - val_recall: 0.6846\n",
            "Epoch 7/100\n",
            "384/384 [==============================] - 9s 24ms/step - loss: 0.2289 - precision: 0.8149 - recall: 0.6799 - val_loss: 0.2263 - val_precision: 0.8072 - val_recall: 0.6945\n",
            "Epoch 8/100\n",
            "384/384 [==============================] - 9s 24ms/step - loss: 0.2249 - precision: 0.8169 - recall: 0.6860 - val_loss: 0.2226 - val_precision: 0.8159 - val_recall: 0.6914\n",
            "Epoch 9/100\n",
            "384/384 [==============================] - 10s 25ms/step - loss: 0.2213 - precision: 0.8216 - recall: 0.6919 - val_loss: 0.2219 - val_precision: 0.8128 - val_recall: 0.6985\n",
            "Epoch 10/100\n",
            "384/384 [==============================] - 9s 23ms/step - loss: 0.2181 - precision: 0.8230 - recall: 0.6960 - val_loss: 0.2199 - val_precision: 0.8153 - val_recall: 0.7002\n",
            "Epoch 11/100\n",
            "384/384 [==============================] - 9s 23ms/step - loss: 0.2149 - precision: 0.8257 - recall: 0.7000 - val_loss: 0.2204 - val_precision: 0.8163 - val_recall: 0.6981\n",
            "Epoch 12/100\n",
            "384/384 [==============================] - 10s 25ms/step - loss: 0.2110 - precision: 0.8317 - recall: 0.7072 - val_loss: 0.2212 - val_precision: 0.8158 - val_recall: 0.6970\n",
            "Epoch 13/100\n",
            "384/384 [==============================] - 9s 23ms/step - loss: 0.2077 - precision: 0.8321 - recall: 0.7139 - val_loss: 0.2193 - val_precision: 0.8166 - val_recall: 0.6987\n",
            "Epoch 14/100\n",
            "384/384 [==============================] - 8s 21ms/step - loss: 0.2050 - precision: 0.8366 - recall: 0.7181 - val_loss: 0.2185 - val_precision: 0.8115 - val_recall: 0.7081\n",
            "Epoch 15/100\n",
            "384/384 [==============================] - 9s 23ms/step - loss: 0.2018 - precision: 0.8386 - recall: 0.7212 - val_loss: 0.2180 - val_precision: 0.8127 - val_recall: 0.7109\n",
            "Epoch 16/100\n",
            "384/384 [==============================] - 10s 25ms/step - loss: 0.1986 - precision: 0.8422 - recall: 0.7275 - val_loss: 0.2227 - val_precision: 0.8144 - val_recall: 0.6951\n",
            "Epoch 17/100\n",
            "384/384 [==============================] - 9s 22ms/step - loss: 0.1951 - precision: 0.8449 - recall: 0.7324 - val_loss: 0.2225 - val_precision: 0.8089 - val_recall: 0.7029\n",
            "Epoch 18/100\n",
            "384/384 [==============================] - 9s 23ms/step - loss: 0.1920 - precision: 0.8460 - recall: 0.7369 - val_loss: 0.2205 - val_precision: 0.8097 - val_recall: 0.7086\n",
            "Epoch 19/100\n",
            "384/384 [==============================] - 10s 26ms/step - loss: 0.1887 - precision: 0.8497 - recall: 0.7437 - val_loss: 0.2233 - val_precision: 0.8142 - val_recall: 0.6992\n",
            "Epoch 20/100\n",
            "384/384 [==============================] - 10s 27ms/step - loss: 0.1858 - precision: 0.8522 - recall: 0.7470 - val_loss: 0.2214 - val_precision: 0.8148 - val_recall: 0.7024\n",
            "Epoch 21/100\n",
            "384/384 [==============================] - 9s 24ms/step - loss: 0.1825 - precision: 0.8544 - recall: 0.7519 - val_loss: 0.2239 - val_precision: 0.8109 - val_recall: 0.7026\n",
            "Epoch 22/100\n",
            "384/384 [==============================] - 10s 25ms/step - loss: 0.1808 - precision: 0.8552 - recall: 0.7545 - val_loss: 0.2252 - val_precision: 0.8156 - val_recall: 0.6952\n",
            "Epoch 23/100\n",
            "384/384 [==============================] - 10s 25ms/step - loss: 0.1768 - precision: 0.8585 - recall: 0.7605 - val_loss: 0.2267 - val_precision: 0.8084 - val_recall: 0.7074\n",
            "Epoch 24/100\n",
            "384/384 [==============================] - 9s 24ms/step - loss: 0.1737 - precision: 0.8593 - recall: 0.7633 - val_loss: 0.2299 - val_precision: 0.7995 - val_recall: 0.7142\n",
            "Epoch 25/100\n",
            "384/384 [==============================] - 9s 24ms/step - loss: 0.1711 - precision: 0.8631 - recall: 0.7692 - val_loss: 0.2282 - val_precision: 0.8077 - val_recall: 0.7098\n",
            "Epoch 26/100\n",
            "384/384 [==============================] - 10s 25ms/step - loss: 0.1671 - precision: 0.8659 - recall: 0.7756 - val_loss: 0.2307 - val_precision: 0.8059 - val_recall: 0.7100\n",
            "Epoch 27/100\n",
            "384/384 [==============================] - 9s 23ms/step - loss: 0.1644 - precision: 0.8677 - recall: 0.7803 - val_loss: 0.2328 - val_precision: 0.8007 - val_recall: 0.7079\n",
            "Epoch 28/100\n",
            "384/384 [==============================] - 9s 24ms/step - loss: 0.1618 - precision: 0.8692 - recall: 0.7823 - val_loss: 0.2333 - val_precision: 0.8073 - val_recall: 0.6992\n",
            "Epoch 29/100\n",
            "384/384 [==============================] - 9s 24ms/step - loss: 0.1587 - precision: 0.8705 - recall: 0.7866 - val_loss: 0.2329 - val_precision: 0.8077 - val_recall: 0.6966\n",
            "Epoch 30/100\n",
            "384/384 [==============================] - 9s 25ms/step - loss: 0.1567 - precision: 0.8732 - recall: 0.7907 - val_loss: 0.2353 - val_precision: 0.8057 - val_recall: 0.6991\n",
            "Epoch 31/100\n",
            "384/384 [==============================] - 9s 24ms/step - loss: 0.1539 - precision: 0.8750 - recall: 0.7949 - val_loss: 0.2409 - val_precision: 0.8038 - val_recall: 0.7015\n",
            "Epoch 32/100\n",
            "384/384 [==============================] - 10s 26ms/step - loss: 0.1520 - precision: 0.8746 - recall: 0.7977 - val_loss: 0.2422 - val_precision: 0.8042 - val_recall: 0.7024\n",
            "Epoch 33/100\n",
            "384/384 [==============================] - 9s 23ms/step - loss: 0.1487 - precision: 0.8793 - recall: 0.8028 - val_loss: 0.2425 - val_precision: 0.8064 - val_recall: 0.7026\n",
            "Epoch 34/100\n",
            "384/384 [==============================] - 9s 24ms/step - loss: 0.1477 - precision: 0.8779 - recall: 0.8049 - val_loss: 0.2458 - val_precision: 0.8014 - val_recall: 0.7089\n",
            "Epoch 35/100\n",
            "384/384 [==============================] - 8s 22ms/step - loss: 0.1433 - precision: 0.8819 - recall: 0.8116 - val_loss: 0.2486 - val_precision: 0.7906 - val_recall: 0.7118\n",
            "Epoch 36/100\n",
            "384/384 [==============================] - 9s 23ms/step - loss: 0.1428 - precision: 0.8823 - recall: 0.8121 - val_loss: 0.2501 - val_precision: 0.8015 - val_recall: 0.7013\n",
            "Epoch 37/100\n",
            "384/384 [==============================] - 9s 23ms/step - loss: 0.1402 - precision: 0.8852 - recall: 0.8168 - val_loss: 0.2509 - val_precision: 0.7948 - val_recall: 0.7032\n",
            "Epoch 38/100\n",
            "384/384 [==============================] - 8s 22ms/step - loss: 0.1385 - precision: 0.8842 - recall: 0.8198 - val_loss: 0.2523 - val_precision: 0.8003 - val_recall: 0.7029\n",
            "Epoch 39/100\n",
            "384/384 [==============================] - 10s 25ms/step - loss: 0.1374 - precision: 0.8855 - recall: 0.8207 - val_loss: 0.2572 - val_precision: 0.7918 - val_recall: 0.6988\n",
            "Epoch 40/100\n",
            "384/384 [==============================] - 10s 25ms/step - loss: 0.1363 - precision: 0.8874 - recall: 0.8244 - val_loss: 0.2600 - val_precision: 0.7952 - val_recall: 0.6967\n",
            "Epoch 41/100\n",
            "384/384 [==============================] - 9s 24ms/step - loss: 0.1333 - precision: 0.8883 - recall: 0.8276 - val_loss: 0.2634 - val_precision: 0.7906 - val_recall: 0.7025\n",
            "Epoch 42/100\n",
            "384/384 [==============================] - 10s 25ms/step - loss: 0.1323 - precision: 0.8895 - recall: 0.8298 - val_loss: 0.2649 - val_precision: 0.7915 - val_recall: 0.7035\n",
            "Epoch 43/100\n",
            "384/384 [==============================] - 9s 25ms/step - loss: 0.1305 - precision: 0.8908 - recall: 0.8304 - val_loss: 0.2688 - val_precision: 0.7895 - val_recall: 0.6996\n",
            "Epoch 44/100\n",
            "384/384 [==============================] - 9s 23ms/step - loss: 0.1279 - precision: 0.8937 - recall: 0.8358 - val_loss: 0.2717 - val_precision: 0.7864 - val_recall: 0.6967\n",
            "Epoch 45/100\n",
            "384/384 [==============================] - 10s 26ms/step - loss: 0.1280 - precision: 0.8930 - recall: 0.8375 - val_loss: 0.2631 - val_precision: 0.7942 - val_recall: 0.7035\n",
            "Epoch 46/100\n",
            "384/384 [==============================] - 10s 26ms/step - loss: 0.1263 - precision: 0.8932 - recall: 0.8385 - val_loss: 0.2687 - val_precision: 0.7890 - val_recall: 0.6982\n",
            "Epoch 47/100\n",
            "384/384 [==============================] - 9s 25ms/step - loss: 0.1250 - precision: 0.8925 - recall: 0.8415 - val_loss: 0.2715 - val_precision: 0.7864 - val_recall: 0.7038\n",
            "Epoch 48/100\n",
            "384/384 [==============================] - 9s 23ms/step - loss: 0.1237 - precision: 0.8947 - recall: 0.8423 - val_loss: 0.2709 - val_precision: 0.7883 - val_recall: 0.6993\n",
            "Epoch 49/100\n",
            "384/384 [==============================] - 9s 24ms/step - loss: 0.1224 - precision: 0.8965 - recall: 0.8459 - val_loss: 0.2727 - val_precision: 0.7887 - val_recall: 0.7003\n",
            "Epoch 50/100\n",
            "384/384 [==============================] - 9s 24ms/step - loss: 0.1214 - precision: 0.8961 - recall: 0.8461 - val_loss: 0.2846 - val_precision: 0.7741 - val_recall: 0.6996\n",
            "Epoch 51/100\n",
            "384/384 [==============================] - 9s 23ms/step - loss: 0.1196 - precision: 0.8997 - recall: 0.8492 - val_loss: 0.2817 - val_precision: 0.7827 - val_recall: 0.7021\n",
            "Epoch 52/100\n",
            "384/384 [==============================] - 9s 23ms/step - loss: 0.1188 - precision: 0.8984 - recall: 0.8515 - val_loss: 0.2807 - val_precision: 0.7825 - val_recall: 0.7007\n",
            "Epoch 53/100\n",
            "384/384 [==============================] - 9s 23ms/step - loss: 0.1175 - precision: 0.8996 - recall: 0.8536 - val_loss: 0.2800 - val_precision: 0.7808 - val_recall: 0.7091\n",
            "Epoch 54/100\n",
            "384/384 [==============================] - 9s 23ms/step - loss: 0.1146 - precision: 0.9020 - recall: 0.8569 - val_loss: 0.2848 - val_precision: 0.7844 - val_recall: 0.7060\n",
            "Epoch 55/100\n",
            "384/384 [==============================] - 9s 23ms/step - loss: 0.1146 - precision: 0.9025 - recall: 0.8575 - val_loss: 0.2846 - val_precision: 0.7858 - val_recall: 0.6985\n",
            "Epoch 56/100\n",
            "384/384 [==============================] - 8s 22ms/step - loss: 0.1138 - precision: 0.9028 - recall: 0.8588 - val_loss: 0.2863 - val_precision: 0.7839 - val_recall: 0.6981\n",
            "Epoch 57/100\n",
            "384/384 [==============================] - 9s 23ms/step - loss: 0.1130 - precision: 0.9033 - recall: 0.8603 - val_loss: 0.2873 - val_precision: 0.7836 - val_recall: 0.6983\n",
            "Epoch 58/100\n",
            "384/384 [==============================] - 9s 23ms/step - loss: 0.1130 - precision: 0.9037 - recall: 0.8604 - val_loss: 0.2922 - val_precision: 0.7841 - val_recall: 0.7074\n",
            "Epoch 59/100\n",
            "384/384 [==============================] - 9s 24ms/step - loss: 0.1122 - precision: 0.9029 - recall: 0.8615 - val_loss: 0.2976 - val_precision: 0.7847 - val_recall: 0.6916\n",
            "Epoch 60/100\n",
            "384/384 [==============================] - 9s 24ms/step - loss: 0.1105 - precision: 0.9060 - recall: 0.8640 - val_loss: 0.2971 - val_precision: 0.7824 - val_recall: 0.6936\n",
            "Epoch 61/100\n",
            "384/384 [==============================] - 9s 23ms/step - loss: 0.1107 - precision: 0.9051 - recall: 0.8646 - val_loss: 0.2968 - val_precision: 0.7859 - val_recall: 0.6994\n",
            "Epoch 62/100\n",
            "384/384 [==============================] - 8s 22ms/step - loss: 0.1083 - precision: 0.9073 - recall: 0.8685 - val_loss: 0.3022 - val_precision: 0.7839 - val_recall: 0.6932\n",
            "Epoch 63/100\n",
            "384/384 [==============================] - 9s 22ms/step - loss: 0.1086 - precision: 0.9059 - recall: 0.8659 - val_loss: 0.3015 - val_precision: 0.7805 - val_recall: 0.6932\n",
            "Epoch 64/100\n",
            "384/384 [==============================] - 10s 25ms/step - loss: 0.1078 - precision: 0.9074 - recall: 0.8675 - val_loss: 0.3000 - val_precision: 0.7772 - val_recall: 0.7001\n",
            "Epoch 65/100\n",
            "384/384 [==============================] - 9s 22ms/step - loss: 0.1085 - precision: 0.9064 - recall: 0.8682 - val_loss: 0.3019 - val_precision: 0.7795 - val_recall: 0.7030\n",
            "Epoch 66/100\n",
            "384/384 [==============================] - 8s 22ms/step - loss: 0.1061 - precision: 0.9085 - recall: 0.8717 - val_loss: 0.3032 - val_precision: 0.7826 - val_recall: 0.7021\n",
            "Epoch 67/100\n",
            "384/384 [==============================] - 9s 23ms/step - loss: 0.1049 - precision: 0.9096 - recall: 0.8720 - val_loss: 0.3027 - val_precision: 0.7728 - val_recall: 0.7064\n",
            "Epoch 68/100\n",
            "384/384 [==============================] - 9s 24ms/step - loss: 0.1045 - precision: 0.9101 - recall: 0.8732 - val_loss: 0.3023 - val_precision: 0.7732 - val_recall: 0.7098\n",
            "Epoch 69/100\n",
            "384/384 [==============================] - 9s 24ms/step - loss: 0.1038 - precision: 0.9098 - recall: 0.8733 - val_loss: 0.3077 - val_precision: 0.7840 - val_recall: 0.6958\n",
            "Epoch 70/100\n",
            "384/384 [==============================] - 9s 23ms/step - loss: 0.1021 - precision: 0.9119 - recall: 0.8766 - val_loss: 0.3109 - val_precision: 0.7780 - val_recall: 0.6976\n",
            "Epoch 71/100\n",
            "384/384 [==============================] - 9s 23ms/step - loss: 0.1033 - precision: 0.9112 - recall: 0.8746 - val_loss: 0.3044 - val_precision: 0.7791 - val_recall: 0.7039\n",
            "Epoch 72/100\n",
            "384/384 [==============================] - 9s 23ms/step - loss: 0.1039 - precision: 0.9101 - recall: 0.8756 - val_loss: 0.3060 - val_precision: 0.7781 - val_recall: 0.7077\n",
            "Epoch 73/100\n",
            "384/384 [==============================] - 9s 23ms/step - loss: 0.1021 - precision: 0.9109 - recall: 0.8789 - val_loss: 0.3031 - val_precision: 0.7775 - val_recall: 0.6995\n",
            "Epoch 74/100\n",
            "384/384 [==============================] - 10s 25ms/step - loss: 0.1002 - precision: 0.9139 - recall: 0.8777 - val_loss: 0.3100 - val_precision: 0.7760 - val_recall: 0.7043\n",
            "Epoch 75/100\n",
            "384/384 [==============================] - 9s 23ms/step - loss: 0.1010 - precision: 0.9125 - recall: 0.8813 - val_loss: 0.3082 - val_precision: 0.7657 - val_recall: 0.7136\n",
            "Epoch 76/100\n",
            "384/384 [==============================] - 9s 23ms/step - loss: 0.0995 - precision: 0.9142 - recall: 0.8808 - val_loss: 0.3112 - val_precision: 0.7792 - val_recall: 0.7019\n",
            "Epoch 77/100\n",
            "384/384 [==============================] - 9s 24ms/step - loss: 0.0992 - precision: 0.9147 - recall: 0.8805 - val_loss: 0.3181 - val_precision: 0.7631 - val_recall: 0.7105\n",
            "Epoch 78/100\n",
            "384/384 [==============================] - 9s 25ms/step - loss: 0.0983 - precision: 0.9149 - recall: 0.8820 - val_loss: 0.3162 - val_precision: 0.7755 - val_recall: 0.6974\n",
            "Epoch 79/100\n",
            "384/384 [==============================] - 9s 24ms/step - loss: 0.0972 - precision: 0.9158 - recall: 0.8837 - val_loss: 0.3181 - val_precision: 0.7730 - val_recall: 0.7030\n",
            "Epoch 80/100\n",
            "384/384 [==============================] - 9s 25ms/step - loss: 0.0970 - precision: 0.9157 - recall: 0.8845 - val_loss: 0.3093 - val_precision: 0.7729 - val_recall: 0.7046\n",
            "Epoch 81/100\n",
            "384/384 [==============================] - 9s 23ms/step - loss: 0.0968 - precision: 0.9172 - recall: 0.8854 - val_loss: 0.3144 - val_precision: 0.7703 - val_recall: 0.7072\n",
            "Epoch 82/100\n",
            "384/384 [==============================] - 10s 27ms/step - loss: 0.0962 - precision: 0.9169 - recall: 0.8858 - val_loss: 0.3191 - val_precision: 0.7733 - val_recall: 0.7074\n",
            "Epoch 83/100\n",
            "384/384 [==============================] - 9s 22ms/step - loss: 0.0962 - precision: 0.9160 - recall: 0.8863 - val_loss: 0.3064 - val_precision: 0.7673 - val_recall: 0.7063\n",
            "Epoch 84/100\n",
            "384/384 [==============================] - 10s 25ms/step - loss: 0.0942 - precision: 0.9187 - recall: 0.8887 - val_loss: 0.3188 - val_precision: 0.7706 - val_recall: 0.7090\n",
            "Epoch 85/100\n",
            "384/384 [==============================] - 9s 23ms/step - loss: 0.0944 - precision: 0.9188 - recall: 0.8890 - val_loss: 0.3192 - val_precision: 0.7650 - val_recall: 0.7107\n",
            "Epoch 86/100\n",
            "384/384 [==============================] - 10s 26ms/step - loss: 0.0940 - precision: 0.9188 - recall: 0.8892 - val_loss: 0.3109 - val_precision: 0.7632 - val_recall: 0.7070\n",
            "Epoch 87/100\n",
            "384/384 [==============================] - 9s 23ms/step - loss: 0.0939 - precision: 0.9190 - recall: 0.8896 - val_loss: 0.3200 - val_precision: 0.7703 - val_recall: 0.7056\n",
            "Epoch 88/100\n",
            "384/384 [==============================] - 10s 25ms/step - loss: 0.0938 - precision: 0.9198 - recall: 0.8902 - val_loss: 0.3215 - val_precision: 0.7730 - val_recall: 0.7027\n",
            "Epoch 89/100\n",
            "384/384 [==============================] - 9s 23ms/step - loss: 0.0927 - precision: 0.9195 - recall: 0.8918 - val_loss: 0.3213 - val_precision: 0.7655 - val_recall: 0.7094\n",
            "Epoch 90/100\n",
            "384/384 [==============================] - 9s 24ms/step - loss: 0.0920 - precision: 0.9204 - recall: 0.8907 - val_loss: 0.3200 - val_precision: 0.7660 - val_recall: 0.7069\n",
            "Epoch 91/100\n",
            "384/384 [==============================] - 8s 22ms/step - loss: 0.0918 - precision: 0.9217 - recall: 0.8937 - val_loss: 0.3162 - val_precision: 0.7689 - val_recall: 0.7110\n",
            "Epoch 92/100\n",
            "384/384 [==============================] - 9s 22ms/step - loss: 0.0913 - precision: 0.9204 - recall: 0.8933 - val_loss: 0.3196 - val_precision: 0.7624 - val_recall: 0.7088\n",
            "Epoch 93/100\n",
            "384/384 [==============================] - 9s 23ms/step - loss: 0.0910 - precision: 0.9209 - recall: 0.8940 - val_loss: 0.3174 - val_precision: 0.7696 - val_recall: 0.7090\n",
            "Epoch 94/100\n",
            "384/384 [==============================] - 8s 22ms/step - loss: 0.0908 - precision: 0.9227 - recall: 0.8943 - val_loss: 0.3201 - val_precision: 0.7652 - val_recall: 0.7130\n",
            "Epoch 95/100\n",
            "384/384 [==============================] - 8s 22ms/step - loss: 0.0907 - precision: 0.9208 - recall: 0.8948 - val_loss: 0.3245 - val_precision: 0.7691 - val_recall: 0.7038\n",
            "Epoch 96/100\n",
            "384/384 [==============================] - 8s 22ms/step - loss: 0.0895 - precision: 0.9220 - recall: 0.8967 - val_loss: 0.3232 - val_precision: 0.7685 - val_recall: 0.7114\n",
            "Epoch 97/100\n",
            "384/384 [==============================] - 9s 23ms/step - loss: 0.0902 - precision: 0.9233 - recall: 0.8957 - val_loss: 0.3274 - val_precision: 0.7673 - val_recall: 0.7139\n",
            "Epoch 98/100\n",
            "384/384 [==============================] - 9s 22ms/step - loss: 0.0893 - precision: 0.9232 - recall: 0.8969 - val_loss: 0.3258 - val_precision: 0.7682 - val_recall: 0.7063\n",
            "Epoch 99/100\n",
            "384/384 [==============================] - 9s 23ms/step - loss: 0.0892 - precision: 0.9239 - recall: 0.8970 - val_loss: 0.3289 - val_precision: 0.7685 - val_recall: 0.7088\n",
            "Epoch 100/100\n",
            "384/384 [==============================] - 8s 22ms/step - loss: 0.0888 - precision: 0.9240 - recall: 0.8978 - val_loss: 0.3230 - val_precision: 0.7664 - val_recall: 0.7078\n"
          ]
        },
        {
          "output_type": "display_data",
          "data": {
            "image/png": "[encoded data removed]",
            "text/plain": [
              "<Figure size 432x288 with 1 Axes>"
            ]
          },
          "metadata": {
            "needs_background": "light"
          }
        },
        {
          "output_type": "display_data",
          "data": {
            "image/png": "[encoded data removed]",
            "text/plain": [
              "<Figure size 432x288 with 1 Axes>"
            ]
          },
          "metadata": {
            "needs_background": "light"
          }
        },
        {
          "output_type": "display_data",
          "data": {
            "image/png": "[encoded data removed]",
            "text/plain": [
              "<Figure size 432x288 with 1 Axes>"
            ]
          },
          "metadata": {
            "needs_background": "light"
          }
        }
      ],
      "source": [
        "epochs = 100\n",
        "\n",
        "shallow_mlp_model = make_model()\n",
        "shallow_mlp_model.compile(\n",
        "    loss=\"binary_crossentropy\", optimizer=\"adam\", metrics=[tf.keras.metrics.Precision(), tf.keras.metrics.Recall()]\n",
        ")\n",
        "\n",
        "history = shallow_mlp_model.fit(\n",
        "    train_dataset, validation_data=validation_dataset, epochs=epochs,\n",
        ")\n",
        "\n",
        "\n",
        "def plot_result(item):\n",
        "    plt.plot(history.history[item], label=item)\n",
        "    plt.plot(history.history[\"val_\" + item], label=\"val_\" + item)\n",
        "    plt.xlabel(\"Epochs\")\n",
        "    plt.ylabel(item)\n",
        "    plt.title(\"Train and Validation {} Over Epochs\".format(item), fontsize=14)\n",
        "    plt.legend()\n",
        "    plt.grid()\n",
        "    plt.show()\n",
        "\n",
        "\n",
        "plot_result(\"loss\")\n",
        "plot_result(\"precision\")\n",
        "plot_result(\"recall\")"
      ]
    },
    {
      "cell_type": "markdown",
      "metadata": {
        "id": "9SGJuIC_CMK7"
      },
      "source": [
        "## Evaluate the model"
      ]
    },
    {
      "cell_type": "markdown",
      "source": [
        "###Exact Match Radio"
      ],
      "metadata": {
        "id": "uWx9WJkfFCoj"
      }
    },
    {
      "cell_type": "code",
      "source": [
        "def get_y_true_and_y_pred_prob_value():\n",
        "    model_for_evaluate = keras.Sequential([text_vectorizer, shallow_mlp_model])\n",
        "    evaluate_dataset = make_dataset(test_df, is_train=False)\n",
        "\n",
        "    y_true = []\n",
        "    y_pred_prob = []\n",
        "\n",
        "    for text_batch, label_batch in evaluate_dataset:\n",
        "        predicted_probabilities = model_for_evaluate.predict(text_batch)\n",
        "        for i, text in enumerate(text_batch):\n",
        "            label = label_batch[i].numpy()[None, ...]\n",
        "            y_true.append(label[0])\n",
        "            y_pred_prob.append(predicted_probabilities[i])\n",
        "    y_true = np.array(y_true)\n",
        "    y_pred_prob = np.array(y_pred_prob)\n",
        "    return y_true, y_pred_prob\n"
      ],
      "metadata": {
        "id": "q2WLE755ewF1"
      },
      "execution_count": null,
      "outputs": []
    },
    {
      "cell_type": "code",
      "source": [
        "def get_y_pred(y_pred_prob, k=3, threshold=0.5):\n",
        "    y_pred = []\n",
        "    for pred in y_pred_prob:\n",
        "        top_k_labels = [\n",
        "            x\n",
        "            for _, x in sorted(\n",
        "                zip(pred, lookup.get_vocabulary()),\n",
        "                key=lambda pair: pair[0],\n",
        "                reverse=True,\n",
        "            )\n",
        "        ][:k]\n",
        "        y_top_k_labels = np.zeros(y_pred_prob[0].shape[0])\n",
        "        for j in range(len(vocab)):\n",
        "            if(vocab[j] in top_k_labels):\n",
        "                if(pred[j] > threshold):\n",
        "                    y_top_k_labels[j] = 1\n",
        "                else:\n",
        "                    top_k_labels.remove(vocab[j])\n",
        "        y_pred.append(y_top_k_labels)\n",
        "    y_pred = np.array(y_pred)   \n",
        "    return y_pred\n"
      ],
      "metadata": {
        "id": "gstTHRPug2WC"
      },
      "execution_count": null,
      "outputs": []
    },
    {
      "cell_type": "code",
      "source": [
        "y_true, y_pred_prob = get_y_true_and_y_pred_prob_value()\n",
        "for k in range(1,7,1):\n",
        "    for threshold in np.arange(0.3,0.8,0.1):\n",
        "        y_pred = get_y_pred(y_pred_prob, k, threshold)\n",
        "        number_of_test = test_df.shape[0]\n",
        "        from sklearn.metrics import accuracy_score\n",
        "        acc = accuracy_score(y_true, y_pred)\n",
        "        print(f\"With k = {k} and threshold = {round(threshold,1)} - Exact Match Radio accuracy on the test set: {round(acc * 100, 2)}%\")"
      ],
      "metadata": {
        "id": "1hD9Rzb2UQ6S",
        "colab": {
          "base_uri": "https://localhost:8080/"
        },
        "outputId": "7cc269b3-4eb4-4cfe-e36b-a3f7ec16026f"
      },
      "execution_count": null,
      "outputs": [
        {
          "output_type": "stream",
          "name": "stdout",
          "text": [
            "With k = 1 and threshold = 0.3 - Exact Match Radio accuracy on the test set: 53.89%\n",
            "With k = 1 and threshold = 0.4 - Exact Match Radio accuracy on the test set: 53.79%\n",
            "With k = 1 and threshold = 0.5 - Exact Match Radio accuracy on the test set: 53.47%\n",
            "With k = 1 and threshold = 0.6 - Exact Match Radio accuracy on the test set: 52.91%\n",
            "With k = 1 and threshold = 0.7 - Exact Match Radio accuracy on the test set: 52.32%\n",
            "With k = 2 and threshold = 0.3 - Exact Match Radio accuracy on the test set: 49.46%\n",
            "With k = 2 and threshold = 0.4 - Exact Match Radio accuracy on the test set: 51.33%\n",
            "With k = 2 and threshold = 0.5 - Exact Match Radio accuracy on the test set: 52.3%\n",
            "With k = 2 and threshold = 0.6 - Exact Match Radio accuracy on the test set: 52.34%\n",
            "With k = 2 and threshold = 0.7 - Exact Match Radio accuracy on the test set: 52.75%\n",
            "With k = 3 and threshold = 0.3 - Exact Match Radio accuracy on the test set: 48.87%\n",
            "With k = 3 and threshold = 0.4 - Exact Match Radio accuracy on the test set: 51.04%\n",
            "With k = 3 and threshold = 0.5 - Exact Match Radio accuracy on the test set: 52.18%\n",
            "With k = 3 and threshold = 0.6 - Exact Match Radio accuracy on the test set: 52.29%\n",
            "With k = 3 and threshold = 0.7 - Exact Match Radio accuracy on the test set: 52.7%\n",
            "With k = 4 and threshold = 0.3 - Exact Match Radio accuracy on the test set: 48.87%\n",
            "With k = 4 and threshold = 0.4 - Exact Match Radio accuracy on the test set: 51.04%\n",
            "With k = 4 and threshold = 0.5 - Exact Match Radio accuracy on the test set: 52.18%\n",
            "With k = 4 and threshold = 0.6 - Exact Match Radio accuracy on the test set: 52.29%\n",
            "With k = 4 and threshold = 0.7 - Exact Match Radio accuracy on the test set: 52.7%\n",
            "With k = 5 and threshold = 0.3 - Exact Match Radio accuracy on the test set: 48.87%\n",
            "With k = 5 and threshold = 0.4 - Exact Match Radio accuracy on the test set: 51.04%\n",
            "With k = 5 and threshold = 0.5 - Exact Match Radio accuracy on the test set: 52.18%\n",
            "With k = 5 and threshold = 0.6 - Exact Match Radio accuracy on the test set: 52.29%\n",
            "With k = 5 and threshold = 0.7 - Exact Match Radio accuracy on the test set: 52.7%\n",
            "With k = 6 and threshold = 0.3 - Exact Match Radio accuracy on the test set: 48.87%\n",
            "With k = 6 and threshold = 0.4 - Exact Match Radio accuracy on the test set: 51.04%\n",
            "With k = 6 and threshold = 0.5 - Exact Match Radio accuracy on the test set: 52.18%\n",
            "With k = 6 and threshold = 0.6 - Exact Match Radio accuracy on the test set: 52.29%\n",
            "With k = 6 and threshold = 0.7 - Exact Match Radio accuracy on the test set: 52.7%\n"
          ]
        }
      ]
    },
    {
      "cell_type": "markdown",
      "source": [
        "### Hamming Loss"
      ],
      "metadata": {
        "id": "es3t2AsiXKVs"
      }
    },
    {
      "cell_type": "code",
      "source": [
        "from sklearn.metrics import hamming_loss\n",
        "y_true, y_pred_prob = get_y_true_and_y_pred_prob_value()\n",
        "y_pred = get_y_pred(y_pred_prob, k=3, threshold=0.5)\n",
        "hml = hamming_loss(y_true, y_pred)\n",
        "print(f\"Hamming Loss = {hml}\")"
      ],
      "metadata": {
        "id": "gthNUfoqXZ1f",
        "colab": {
          "base_uri": "https://localhost:8080/"
        },
        "outputId": "74518a5e-9e90-42eb-fb0f-655170061880"
      },
      "execution_count": null,
      "outputs": [
        {
          "output_type": "stream",
          "name": "stdout",
          "text": [
            "Hamming Loss = 0.09950215011462757\n"
          ]
        }
      ]
    },
    {
      "cell_type": "markdown",
      "source": [
        "### Confusion Matrix Metrics"
      ],
      "metadata": {
        "id": "AIN3f9n6vayG"
      }
    },
    {
      "cell_type": "code",
      "source": [
        "from sklearn.metrics import multilabel_confusion_matrix\n",
        "\n",
        "y_true, y_pred_prob = get_y_true_and_y_pred_prob_value()\n",
        "y_pred = get_y_pred(y_pred_prob, k=3, threshold=0.5)\n",
        "\n",
        "m = multilabel_confusion_matrix(y_true, y_pred)\n",
        "\n",
        "for i in range(1,len(m)):\n",
        "    print(\"Multilabel_confusion_matrix_of: \"+vocab[i])\n",
        "    print(m[i])\n",
        "    print()\n",
        "    # print(vocab[i])"
      ],
      "metadata": {
        "id": "7Mb8VGVOuHKQ",
        "colab": {
          "base_uri": "https://localhost:8080/"
        },
        "outputId": "faf9de15-a68e-403f-dc0f-9638fc7c34a0"
      },
      "execution_count": null,
      "outputs": [
        {
          "output_type": "stream",
          "name": "stdout",
          "text": [
            "Multilabel_confusion_matrix_of: astro-ph.GA\n",
            "[[6633  576]\n",
            " [ 935 2387]]\n",
            "\n",
            "Multilabel_confusion_matrix_of: astro-ph.SR\n",
            "[[6870  584]\n",
            " [1085 1992]]\n",
            "\n",
            "Multilabel_confusion_matrix_of: astro-ph.EP\n",
            "[[7593  416]\n",
            " [ 475 2047]]\n",
            "\n",
            "Multilabel_confusion_matrix_of: astro-ph.HE\n",
            "[[7902  504]\n",
            " [ 582 1543]]\n",
            "\n",
            "Multilabel_confusion_matrix_of: astro-ph.IM\n",
            "[[7949  562]\n",
            " [ 632 1388]]\n",
            "\n",
            "Multilabel_confusion_matrix_of: astro-ph.CO\n",
            "[[8568  390]\n",
            " [ 594  979]]\n",
            "\n"
          ]
        }
      ]
    },
    {
      "cell_type": "markdown",
      "source": [
        "### Precision, Recall, F1_score, micro-average, macro-average metrics"
      ],
      "metadata": {
        "id": "sIhp3ViNdZ7V"
      }
    },
    {
      "cell_type": "code",
      "source": [
        "from sklearn.metrics import classification_report\n",
        "\n",
        "y_pred = get_y_pred(y_pred_prob, k=3, threshold=0.5)\n",
        "\n",
        "print(classification_report(y_true, y_pred,target_names=vocab, zero_division = 0))"
      ],
      "metadata": {
        "id": "VQMRBIQdvkAL",
        "colab": {
          "base_uri": "https://localhost:8080/"
        },
        "outputId": "7daa1062-5ab2-4c7a-9d18-8d8aac0840c6"
      },
      "execution_count": null,
      "outputs": [
        {
          "output_type": "stream",
          "name": "stdout",
          "text": [
            "              precision    recall  f1-score   support\n",
            "\n",
            "       [UNK]       0.00      0.00      0.00         0\n",
            " astro-ph.GA       0.81      0.72      0.76      3322\n",
            " astro-ph.SR       0.77      0.65      0.70      3077\n",
            " astro-ph.EP       0.83      0.81      0.82      2522\n",
            " astro-ph.HE       0.75      0.73      0.74      2125\n",
            " astro-ph.IM       0.71      0.69      0.70      2020\n",
            " astro-ph.CO       0.72      0.62      0.67      1573\n",
            "\n",
            "   micro avg       0.77      0.71      0.74     14639\n",
            "   macro avg       0.66      0.60      0.63     14639\n",
            "weighted avg       0.77      0.71      0.74     14639\n",
            " samples avg       0.80      0.76      0.75     14639\n",
            "\n"
          ]
        }
      ]
    },
    {
      "cell_type": "markdown",
      "source": [
        "### Exist 1 in Top k predicts is true Accuracy"
      ],
      "metadata": {
        "id": "M4vCoFXeyACW"
      }
    },
    {
      "cell_type": "code",
      "source": [
        "def top_k_predict_is_true_accuracy(y_true, y_pred_prob, k=3, threshold = 0.5):\n",
        "    score = 0\n",
        "    for i in range(len(y_pred_prob)):\n",
        "            top_k_labels = [\n",
        "                x\n",
        "                for _, x in sorted(\n",
        "                    zip(y_pred_prob[i], lookup.get_vocabulary()),\n",
        "                    key=lambda pair: pair[0],\n",
        "                    reverse=True,\n",
        "                )\n",
        "            ][:k]\n",
        "            y_top_k_labels = np.zeros(y_pred_prob[0].shape[0])\n",
        "            for label in top_k_labels:\n",
        "                if(y_true[i][vocab.index(label)] == 1):\n",
        "                    score += 1\n",
        "                    break\n",
        "    return score/len(y_pred_prob)\n",
        "\n",
        "acc = top_k_predict_is_true_accuracy(y_true, y_pred_prob, 3, 0.5)\n",
        "print(f\"Accuracy: {acc}\")"
      ],
      "metadata": {
        "id": "-8bPEVxXyJv8",
        "colab": {
          "base_uri": "https://localhost:8080/"
        },
        "outputId": "279356e7-59c9-4c69-8561-ae55a53778e0"
      },
      "execution_count": null,
      "outputs": [
        {
          "output_type": "stream",
          "name": "stdout",
          "text": [
            "Accuracy: 0.97369670496629\n"
          ]
        }
      ]
    },
    {
      "cell_type": "markdown",
      "metadata": {
        "id": "dMBkcIVJCMK8"
      },
      "source": [
        "## Inference"
      ]
    },
    {
      "cell_type": "code",
      "source": [
        "# Create a model for inference.\n",
        "model_for_inference = keras.Sequential([text_vectorizer, shallow_mlp_model])\n",
        "\n",
        "# Create a small dataset just for demoing inference.\n",
        "inference_dataset = make_dataset(test_df.sample(100), is_train=False)\n",
        "text_batch, label_batch = next(iter(inference_dataset))\n",
        "predicted_probabilities = model_for_inference.predict(text_batch)\n",
        "\n",
        "k=6\n",
        "\n",
        "# Perform inference.\n",
        "for i, text in enumerate(text_batch[:50]):\n",
        "    label = label_batch[i].numpy()[None, ...]\n",
        "    print(f\"Abstract: {text[0]}\")\n",
        "    print(f\"Label(s): {invert_multi_hot(label[0])}\")\n",
        "    predicted_proba = [proba for proba in predicted_probabilities[i]]\n",
        "    top_k_labels = [\n",
        "        x\n",
        "        for _, x in sorted(\n",
        "            zip(predicted_probabilities[i], lookup.get_vocabulary()),\n",
        "            key=lambda pair: pair[0],\n",
        "            reverse=True,\n",
        "        )\n",
        "    ][:k]\n",
        "    predicted_proba.sort(reverse = True)\n",
        "    for i in reversed(range(len(predicted_proba)-1)):\n",
        "        if(predicted_proba[i] < 0.3 and len(top_k_labels) > 0):\n",
        "            top_k_labels.pop(i)\n",
        "    print(f\"Predicted Label(s): ({', '.join([label for label in top_k_labels])})\")\n",
        "    print(\" \")"
      ],
      "metadata": {
        "id": "J9Eqxq-rdqlc",
        "colab": {
          "base_uri": "https://localhost:8080/"
        },
        "outputId": "e08c83ed-f8a0-452a-b284-12d4e284c68d"
      },
      "execution_count": null,
      "outputs": [
        {
          "output_type": "stream",
          "name": "stdout",
          "text": [
            "Abstract: b'comet monthly present small variability pm eject speed sublimate white relative publish spectroscopy planetary transiting modulate tess km strengthen various first obtain absorption dwarf observe nightly line atmospheric unable period facility blue material disintegrating high light prominent dynamic follow shift roughly use fit ca along change discover likely find narrow structure orbit detailed effluent eff periodically new transient exhibit debris significant environmental clump dip star status orbital timescales photometry different evidence previously range reminiscent behavior ztf observatory feature hr signal harbor weekly na zwicky origin wd odot asteroid resolution two asteroid parameter detect within attribute interpret curve broadband velocity circumstellar body photometric mathrm temperature dusty otherwise identify'\n",
            "Label(s): ['astro-ph.SR' 'astro-ph.EP']\n",
            "Predicted Label(s): (astro-ph.EP)\n",
            " \n",
            "Abstract: b'latter present characterization know stellar spectroscopy luminosity planetary rich architecture far copious lack suggest solid produce adaptive whose existence iron outer absence sequence planet particle amorphous system formation dust size monitor dustiest material specie radial quantity star probe hundred dominated fit population image find presence orbit warm around temperature case obvious significant combined mercury per optic grain star several photometry infrared active evidence previously feature main large identify know unusual like mid carbon state event indicative fractional detect emission confirms within inner metallic among could compositions blackbody companion au spectrum mid velocity mute sub either amount'\n",
            "Label(s): ['astro-ph.SR' 'astro-ph.EP']\n",
            "Predicted Label(s): (astro-ph.EP, astro-ph.SR)\n",
            " \n",
            "Abstract: b'present myr chandra responsible place play agn halpha suggest estimate filament extend system analyze cluster propose energy outer abell pair fall kpc exploit consistent icm erg difference dust cavity ratio retrieve age argue image key power highlight continuum able second one time nucleus separation likely show feedback central find role presence cav galaxy msun kinematic furthermore allow offset characterize new us significant relation injection study estimate cycle find poorly evla depression optical slosh amount despite appear data also sustain process two bcg optical cool timescale emission detect within mcg inner environment combine mol take analysis radio literature could putative free investigate ray base mass gas molecular discus peak'\n",
            "Label(s): ['astro-ph.GA' 'astro-ph.CO']\n",
            "Predicted Label(s): (astro-ph.GA, astro-ph.HE)\n",
            " \n",
            "Abstract: b'space present best thermal nonlinear perp procedure kappa expression strahl compare existence core show lead anisotropy introduce particle perpendicular obtain derive observed square field report three component spacecraft limit common bi isotropic apply level multi fit confirm fit quasithermal anisotropic parallel method halo multiple set suprathermal component quantify widely sum drift cover new overall cookbook analytical equilibrium give least different plasma ulysses recently reveal main improve data generalization distribution observation base two property respect generalize case electron general recipe moment use measure background population velocity maxwellian confidence magnetic temperature paper observation'\n",
            "Label(s): ['astro-ph.SR']\n",
            "Predicted Label(s): (astro-ph.SR, astro-ph.GA)\n",
            " \n",
            "Abstract: b'call small binary kepler emperically period tess focus day survey analyze due old tidal field report difference period size abundance argue quote orbit gyr contaminate measurement show sim find binary short mission pristine circularization orbital long affirm young sample well data distribution constrain circular often previous textit eccentricity question literature spectroscopic work eclipse average longer'\n",
            "Label(s): ['astro-ph.SR' 'astro-ph.EP']\n",
            "Predicted Label(s): (astro-ph.SR)\n",
            " \n",
            "Abstract: b'space feed present soon goal position stellar rich throughout would far equation milky first promise potential approach observe normalizing render field major analytic smooth uncover map collisionless stationary star galaxy determine novel use gravitational fit method method class assumption find narrow neural datasets obtain differentiable allow model flexible determine us physical one available function recover minimal sample way data baryonic forward distribution represent structure boltzmann dark matter phase previous network become snapshot kinematics flow train dynamic density use base spatial parametric approximation'\n",
            "Label(s): ['astro-ph.GA']\n",
            "Predicted Label(s): (astro-ph.GA, astro-ph.IM)\n",
            " \n",
            "Abstract: b'telescope decade line globe continue however today process require old obtain last field ii historical full store several spectroheliographs ca time atmosphere meaningful variation image modern narrow term sit around information early archive merge equip start long available different regular observatory main decade series solar accurate chromospheric data represent unique quality disc robust sun result analysis century overview provide band focus magnetic filter paper observation either'\n",
            "Label(s): ['astro-ph.SR']\n",
            "Predicted Label(s): (astro-ph.SR, astro-ph.IM)\n",
            " \n",
            "Abstract: b'explain present explore investigation distance observational stellar spectroscopy extensible implement simulate provide study compare conceptual file galaxy cub ifs astrophysics infer consistent spin field parameter observationally generate demonstrate body simulation see direct capability framework method measurement affect datasets condition galaxy component new flexible community simspin intrinsic impact recover software public integral like write already data comparison resolution reliably modular highly directly etc lambda example current kinematics design used effect fit hydrodynamical brief provide generate numerical paper inclination observation'\n",
            "Label(s): ['astro-ph.GA']\n",
            "Predicted Label(s): (astro-ph.GA, astro-ph.IM)\n",
            " \n",
            "Abstract: b'explain seem drift simplify et digital independently rarely resonance semimajor relate core due axis escape study constraint vokrouhlick intimately allows account jupiter body age sloan accord mostly deg gyr gravitational halo interaction occur resonance study dynamical geometry change motion colour broad us surroundings survey estimate date origin true disruption eos also asteroid constrain event yarkovsky asteroid previous agreement family use measure au model al family approximately body base type anomaly sky mean'\n",
            "Label(s): ['astro-ph.EP']\n",
            "Predicted Label(s): (astro-ph.HE, astro-ph.IM)\n",
            " \n",
            "Abstract: b'elongate protrusion centre wider rather model separate assemble spectral however can not observe view make first isophotes show due flat associate vertical contributes component demonstrate body support boxy without associate orbit completely one time peanut method narrow round galaxy four part significant thus least entirely face mainly type different dissect like apply bar direction structure shape typical two edge barlens contribute analyse dynamic model square thick bulge identify'\n",
            "Label(s): ['astro-ph.GA']\n",
            "Predicted Label(s): (astro-ph.CO, astro-ph.GA)\n",
            " \n",
            "Abstract: b'normal correspond seem thermal accrete white variable majority discs period exhibit col instead trigger infrequent can not yet particular day system polars tv variable show dwarf observe stable operate field period modify branch cold disrupt outburst ip determine low rare much still completely time instability field likely enough constant accretion short magnetize radius truncate equilibrium star orbital explain long keep generate prediction intermediate nova couple large cataclysmic transfer secondary use magnetorotational evolution order property rate disc include magnetospheric longer effect attribute explain shorter could model dim enhance investigate successful result code mass magnetic numerical viscous'\n",
            "Label(s): ['astro-ph.SR' 'astro-ph.HE']\n",
            "Predicted Label(s): (astro-ph.SR)\n",
            " \n",
            "Abstract: b'present binary speed make period vul show obtain stable line consistent impact ultra three telescope spectra source direct cnc high light low mass find binary occur hm accretion compare periodic gemini ntt although evidence recently identify optical contrast modulation gmos also south compact min distribution resolution emission curve strong ultracam spectrum show use counterpart ray photometric faint observation identify'\n",
            "Label(s): ['astro-ph.HE']\n",
            "Predicted Label(s): (astro-ph.SR, astro-ph.HE)\n",
            " \n",
            "Abstract: b'useful around addition process numerical process field test dimensional analytic ffmd force electromagnetic axisymmetric three surface physic relatively simulation magnetodynamics sufficiently result surface mechanism type dynamic precise arbitrary free emergence reveal hole provide tool investigate one along simple equatorial powerful plane basic znajek field use aspect magnetic analyze show blandford also review numerical simulation black spinning'\n",
            "Label(s): ['astro-ph.HE']\n",
            "Predicted Label(s): (astro-ph.HE, astro-ph.IM)\n",
            " \n",
            "Abstract: b'explain test possibility tde force line interaction observational radius launch applicability stellar connect luminosity maeda outflow explosive candidate discuss estimate event propose show wind apply tidal derive observe consistent uv cm framework transient key yr miss roughly scenario hole one mass likely sim find uno aim induce bh around process radius intersects wind driven peculiar apply radiation physical debris si different escape intermediate recently self generally support sample like origin disruption also comparison outflow odot letter property characteristic loss optical rate ejections continuous gtrsim rm stretch velocity tdes wind question width model thick mass optically suggest black assumes peak'\n",
            "Label(s): ['astro-ph.HE']\n",
            "Predicted Label(s): (astro-ph.GA)\n",
            " \n",
            "Abstract: b'negligible explore output dominant increase tide lower stellar responsible find however period latitude become steady consequence less influence upper day coriolis planet show indicate non possible heat stable impact atmospheric planet vertical formation jupiter affect revisit simulation hot stationary earth towards mechanism transport transient low horizontally rotation jet influence atmosphere global irradiation find incoming presence condition simulation induce stronger process temperature rot wave radiation fourier one least strongly angular produce transported couple main driving important use allow driven involved increase state semi two solution reference parameter diurnal indirect result carry analysis cell initial momentum circulation strong model diagnostic work tropical transport statically retrograde exist mean identify'\n",
            "Label(s): ['astro-ph.EP']\n",
            "Predicted Label(s): (astro-ph.EP)\n",
            " \n",
            "Abstract: b'criterion telescope construct set svm conducive telescope implement rest lamost limit give candidate limitation intersect qso survey match total pan classifier train obtained effective observe magnitude efficiently newly contamination star put high algorithm follow redshift larger find eliminated proven quasar aim cross space machine site pattern xgboost explore new among database part combination give finally two star least photometry estimate infrared source predict feature large optical optimal accuracy data apply catalogue observation forward distribution may base two redshift default input select starr parameter probability color quasar allwise efficient use schema model regressor distinguish unknown base retain learn'\n",
            "Label(s): ['astro-ph.GA' 'astro-ph.IM']\n",
            "Predicted Label(s): (astro-ph.IM, astro-ph.CO)\n",
            " \n",
            "Abstract: b'elongate cause small present region pistol thermal line extent brightest band stellar lack find helical however observe appear confine system cluster total segment non correct intensity filamentation field arc component change relatively source locate image prominent rotation filament interferometer cause one along near likely faraday show variation surround narrow structure ntfs change large magnetize pattern array scale several hii intrinsic source value range suggest feature reveal large generally polarization trace compact external distribution may galactic additional two respect measure detect rotate counterpart polarize sickle rm radio rad area could superpose orientation use quintuplet magnetic order sub sight observation center'\n",
            "Label(s): ['astro-ph.GA']\n",
            "Predicted Label(s): (astro-ph.GA)\n",
            " \n",
            "Abstract: b'thermal line lower relative majority kappa region spectral find exhibit instead appear strongest however sufficiently non obtain especially observed region thin ion line lower fwhm pixel occur fitting fit abundance enough actually presence broaden spectrograph width furthermore transition fit significant opacity analyze studied intensity active typical form value wing symmetric five large photospheric perform profile well allow double observation iris si context distribution value increase distribution well whether intercombination image gaussian electron become performed nature irrespective interface window investigate remove iv spatial optically maxwellian temperature assume similar'\n",
            "Label(s): ['astro-ph.SR']\n",
            "Predicted Label(s): (astro-ph.IM, astro-ph.SR)\n",
            " \n",
            "Abstract: b'small interaction computationally kepler logarithmic planetary today friction lifetime distinct would incline soften system migration planet calculate axis especially study planet dimensional parameter formation three regime inclination simulation certain earth hand high orbit associate aerodynamic low dominate rotation gravitational still time mass global discover show find dynamical make scale align fraction star several operate timescales long dependence value large mission mutual evolution drag scale retrograde process two highly respect proto mechanism hot orbit linear disk work result jupiter feasible creates mass smaller numerical damping inclination discus longer'\n",
            "Label(s): ['astro-ph.GA' 'astro-ph.EP' 'astro-ph.IM']\n",
            "Predicted Label(s): (astro-ph.EP)\n",
            " \n",
            "Abstract: b'present kcdc mhz maximum competitive interoperability energy provide technique effective license operate last hosted gradlci lifecycle ultra measure detector decommission observatory reuse high principle cosmic trvo findability benefit experimental array accessibility open frame air virtual software feature fair publish main optical detector rex depth proof data cost shower ray kit interface phase measure emission resolution give radio follow project shower radio overview tunka free extension frequency band partnership sparse'\n",
            "Label(s): ['astro-ph.IM']\n",
            "Predicted Label(s): (astro-ph.IM, astro-ph.HE)\n",
            " \n",
            "Abstract: b'inward explain produce region best ensure force speed dynamo convection observational vorticity become comparable can not subadiabatic assume minima equation condition due obtain tachocline unity indicate hypothesis reaction study observe field full variation towards key without phi prandtl meridional field reproduce variation role maximum number consider component us reasonably theory sensitive generate cycle active act suggest couple solar construct perturbation well equation data also faster may observations zone play lorentz diffusivity within assume slower sun result turbulent close flux bottom drive flow varies circulation model operation boundary get theoretical velocity transport develop appropriate back magnetic layer enable viscosity'\n",
            "Label(s): ['astro-ph.SR']\n",
            "Predicted Label(s): (astro-ph.SR)\n",
            " \n",
            "Abstract: b'binary line strength majority stellar luminosity explosion rich dichotomy proportional result less mix far compute essentially whose ic strip local core consistently show energy wind abridge approach dependent sn non design observe leading consistent ordinary cmfgen vary type much spectra variation fiducial star sharp key rise light power scenario yield companion follow roughly vast fixed much presumably radiative time mass envelope supernovae interact reproduce binary term progenitor wind model transition impose wr radiation examine equilibrium adopt injection sne diversity ejecta long start fate detail range prediction predict galactic remnant self form match sample transfer origin like retain prevent difficulty explode massive typical loss rate input conclude continuous moderate parameter collapse color evolve ibc curve thermodynamic representative width helium strong emergence ib agree use heuristic theoretical remove code mass account similar observation peak'\n",
            "Label(s): ['astro-ph.SR' 'astro-ph.HE']\n",
            "Predicted Label(s): (astro-ph.HE, astro-ph.SR)\n",
            " \n",
            "Abstract: b'negligible telescope super confirmation sample observational luminosity spectral laes volume comparable distant lends six detection alpha qso first muse system due galaxy mpc member observe absence determine uv field hole earlier limitation report separation corresponds ab radial level power grow multi strength sd hole redshift halo likely structure overdensity galaxy msun around emitter cover four peculiar scale physical conservatively significant assume lyalpha vlt least break lyman long estimate arcmin year project range find large identify form solar idea billion populate lbgs sample dropout support sigma observation select structure distribution center massive two property dark member matter within identification universe among sky luminous object velocity lbg spectroscopic galaxy class mass band similar observation black'\n",
            "Label(s): ['astro-ph.GA']\n",
            "Predicted Label(s): (astro-ph.GA)\n",
            " \n",
            "Abstract: b'comprises dex model apogee stellar set spectral respectively lamost truth precise survey survey approach observed constraint inferred relation greatly giant common age spectra star ak high represent low magnitude mass abundance color measurement label improves sim giant infer number validation age temperature imply individual apply teff cross cannon demonstrate value date predictive coverage ground construct sample use nitrogen apass data driven catalog carbon seven increase resolution logg wise estimate largest measure apokasc reference parameter within take empirical together sky measure lesssim model agree snr result base mass add alpha object'\n",
            "Label(s): ['astro-ph.GA' 'astro-ph.SR']\n",
            "Predicted Label(s): (astro-ph.SR, astro-ph.GA)\n",
            " \n",
            "Abstract: b'space produce bound model know belt find candidate estimate influence relate survey test purpose pair non especially addition remain dimensional kyr newly formation pair age elements orbits one gravitational probable confirm discovered find backtrack age new part although search include indicated fission orbital many five main identify genetically sample perturbation well validate describe asteroid effect two estimate highly yarkovsky asteroid largest select case inner lie gravitationally perform among agreed osculate literature initially collision pipeline work use rotational integration heliocentric numerical similar'\n",
            "Label(s): ['astro-ph.EP']\n",
            "Predicted Label(s): (astro-ph.CO)\n",
            " \n",
            "Abstract: b'autoregressive variability decade across connect stationarity spectral square however exhibit variance day ks show analyze due galaxy segment non consistent uncertainty mrk three telescope integrate xmm blazars certain yr light power level indicate archival construction sim find binary presence epochs short beyond process soft individual implies apply relation noise board timescales different separate seyfert newton red use move accurate well data rms may length property characteristic relationship hint timescale arima within curve flux broadband nature memory shorter linear model density use root average ray imply psd pks amplitude span similar observation mean astrosat longer'\n",
            "Label(s): ['astro-ph.GA' 'astro-ph.HE']\n",
            "Predicted Label(s): (astro-ph.HE)\n",
            " \n",
            "Abstract: b'possibility northern buoyant interaction lack give raise location jet core due galaxy outer outer accounting axis whereas originated common simulation cold bubble indicates environment deg along nucleus central front galaxy swirl bubble clear clockwise southern many occurrence cool cluster disruption appear push south north active may galactic whether rotated perseus inner lie current cluster front investigate detail affected nucleus numerical'\n",
            "Label(s): ['astro-ph.GA' 'astro-ph.HE']\n",
            "Predicted Label(s): (astro-ph.CO)\n",
            " \n",
            "Abstract: b'match performs present le contain overlap wider adaptive false fewer across lower radius construct et luminosity ergs geq reflex whl detection core consistently cluster obtain provide abell mcxc provide technique addition lambda higher develop consider one retain position sd deg removal procedures one noras amf greater sim cut membership compare number galaxy filter contain richness angular new wen overall redmapper version implement several error equivalently virial extend many range sec main probability cluster match richest sample well time catalog also bax redshift estimate identification combine analysis catalog sky luminous missed area al provide use bin average match base ray posse object'\n",
            "Label(s): ['astro-ph.CO']\n",
            "Predicted Label(s): (astro-ph.CO)\n",
            " \n",
            "Abstract: b'explore differently across band distinct particular various trace first show reflection whereas study hydrocarbon field report component ratio specie principal variation form ionized represent mixture strength second polycyclic flux variation pca find condition aromatic mu mean compare component thereby pahs physical radiation dominating explain strongly pah previously characteristic behave feature ngc amount use driver pc ratio depend state distribution ionization two emission parameter nebula primary almost carry analysis correlation measure trace pc affect neutral spatial group'\n",
            "Label(s): ['astro-ph.GA']\n",
            "Predicted Label(s): (astro-ph.SR)\n",
            " \n",
            "Abstract: b'present explore band version observational stellar luminosity make independently variance create geometry interpretation comparison survey galaxy observe planck field encompass analytic magnitude formation curated body relatively simulation develop associated populate friendly fitting hub along mass halos global color field footprint find bolshoi galaxy rate universemachine allow model mock good physical include star theory derive additionally available frame different prediction five count poorer support function well data extract distribution order candels semi two property realization rate parameter agreement color lightcones empirical eight web catalog model sed use past mass base paper observation dissipationless observable'\n",
            "Label(s): ['astro-ph.GA']\n",
            "Predicted Label(s): (astro-ph.GA, astro-ph.CO)\n",
            " \n",
            "Abstract: b'finite explore baseline relative radius change duration proper couple morphology throughout particular microlensing precision mathematically first dramatically lens event survey ring lensed sufficiently extreme especially derive impact analytic parameter lensing arises depend ratio telescope demonstrate time source realize light fact low einstein consider improve much second domain one discover likely larger multiple degeneracy detail bulge component motion ever radius situation physical fraction include star expect survey efse break attributable angular cadence detection decrease detect pairwise space numerically increase may effect increase galactic two event microlenses continuous parameter limb directly become dominate potentially curve flux effect degeneracy mathematical could roman darken investigate profile mass approximation peak observable'\n",
            "Label(s): ['astro-ph.GA' 'astro-ph.SR' 'astro-ph.EP' 'astro-ph.HE' 'astro-ph.IM']\n",
            "Predicted Label(s): (astro-ph.EP)\n",
            " \n",
            "Abstract: b'disentangle result preserve reduced modeling patch covariance standard fluctuation stellar morphology method problem deblurred process particular compare produce various local usefull show purpose approach axis sequence exploit cadi instrument efficiently formation injection candidate rexpaco image contamination star light application post conclusion novel method disk fake point method capture term new inverse vlt finally noise image photometry receive eliminate source produce regularized recent prof signal detection describe like artifact nuisance build forward postprocessing numerically distribution disentangle morphology well typical confirms ability adi environment algorithm leakage combine follow dedicate sphere paco circumstellar reduce model reconstruction propose statistical aim base spatial irdis develop learn host residual paper'\n",
            "Label(s): ['astro-ph.IM']\n",
            "Predicted Label(s): (astro-ph.IM, astro-ph.EP, astro-ph.SR)\n",
            " \n",
            "Abstract: b'goal continue white size half crucial percentage distant remarkable gw detection em first promise survey match show later particularly provide return field efficiently detector key highlight science follow timeline day gravitational still one time blossom addressed growth require continue target case plan electromagnetic lastly source next decade large optical wave ground sample detect well improvement outline joint order increase trigger event become counterpart dedicated opportunity rapidly astronomy use base lsst paper identify'\n",
            "Label(s): ['astro-ph.HE' 'astro-ph.IM']\n",
            "Predicted Label(s): (astro-ph.IM)\n",
            " \n",
            "Abstract: b'way goal dish feed step fast physic telescope traditional element span respectively telecommunication process array estimate mhz six primordial enable survey survey energy propose galaxy potential mpc non design technique effective operate exploit intensity wavenumber compute ultra three usd constrain full exist measure transient include power arrangement equivalent low science expansion correlation one construction redshift time discover composed method comprise numerous demonstrator hexagonally ska act configuration universe galaxy beyond cross growth petite industry allow development array operation transit span burst electronics sufficient real proposal noise upcoming stone project fill range facilitate rise feature signal theme billion pack uniquely map drive cost commodity gaussianity resolution massive comoving two dark history redshift program follow analysis scientifically close sky view initial radio inflation pulsar puma wideband spectroscopic detect emergence powerful factor million frequency compel mathrm interferometric'\n",
            "Label(s): ['astro-ph.GA' 'astro-ph.IM' 'astro-ph.CO']\n",
            "Predicted Label(s): (astro-ph.IM)\n",
            " \n",
            "Abstract: b'space emulator build choose soon prediction target standard set neutrino simulate sixteen cosmological timerg survey energy dataset publicly establish convergence approach mpc remapping provide wavenumber parameter sample medium augment simulation idea achieve high power hundred cosmic follow cover halo include dynamical compare simulation carefully wide model new part theory lcdm error generate available project range prediction approach perturbation coverage large optical sample accuracy accurate scheme state resolution massive redshift dark property matter parameter perform current eight result use introduce model spectrum provide control approximately base code besides'\n",
            "Label(s): ['astro-ph.CO']\n",
            "Predicted Label(s): (astro-ph.CO)\n",
            " \n",
            "Abstract: b'space threshold present need telescope percent across fast standard size harsh telescope effort synthetic yet understand look recently survey show mis interference calculation injection effective observe frbs worldwide report streams parameter component enable signal high employ consider incorrect time frb population number combination molonglo observe burst sufficient search expend noise several explain grow overly many calibrate cut coverage signal investigation label team even vital sample show true ratio data unique distribution property become potentially result analysis sensitivity statistic miss radio underway alarm search pipeline alarm completeness inject result frequency paper'\n",
            "Label(s): ['astro-ph.HE' 'astro-ph.IM']\n",
            "Predicted Label(s): (astro-ph.IM, astro-ph.HE)\n",
            " \n",
            "Abstract: b'space small position know albedo expect synoptic size stellar maintain occultation multifilter technique however release distant collaboration absolute survey obtain outer tnos ccd total energy obtain centaur determined accuracy recover system invaluable telescope de develop source ten search orbit magnitude ambitious updated albedo discover transneptunian numerous plus kilometer large excite observe access new turn part gaia information fraction task amount survey diameter data photometry available predicted prediction date service solar important mission dark february consequence use accurate evolution data also write deep property history refine preparation reference within november become reach result web dedicated frame sky stellar use era thousand body difficult lsst faint object observation'\n",
            "Label(s): ['astro-ph.EP']\n",
            "Predicted Label(s): (astro-ph.EP)\n",
            " \n",
            "Abstract: b'complex ass small routinely attempts region best figure myr relative stellar spectral target bf however compare can not older polarimetry local due energy obtain total doppler technique obtain dwarf historically line intensity field tiny spectra develop star high atomic dominate strength roughly use method kg capture global field measurement show image find drops nowadays number broaden zeeman hidden indicator component intensification new clear overall scale fraction analyse include study least affecting activity cancellation different active zdi correlation systematically recover suggest fill reveal optical solar young like map detect chromospheric twin difficulty polarity effect resolution disentangle increase emission global mechanism sun spectropolarimetric result surface sensitivity flux rossby coronal diagnostic analysis average base factor magnetic younger mean opposite'\n",
            "Label(s): ['astro-ph.SR']\n",
            "Predicted Label(s): (astro-ph.SR)\n",
            " \n",
            "Abstract: b'complex way cadence observational physic gap observe come less problem match nevertheless hold big necessary observe unsolved corner progress chromosphere fail state invaluable add key dynamic emphasis polarisation second atmosphere still atmosphere reproduce structure multiple degree instrumentation model insight around ever process allow model static corona us physical give narrow several sophistication quiet long advance many next prediction recent observatory feature solar generation observation review increase interface bright continue interpret become sun surface close model question million energise numerical observation'\n",
            "Label(s): ['astro-ph.SR']\n",
            "Predicted Label(s): (astro-ph.EP)\n",
            " \n",
            "Abstract: b'gc pm exotic unlike fast relative jy spectral respectively september period however exhibit continually byrd bank august overline ghz average diverse monitor flat study stable marginally oppose telescope component unseen phenomenology gradual pulse power rotation perceptible uncertainty robert variation infer psr mu week since magnetar throughout scattered unusual observing magnetars drift span burst significantly pulse green resolve single estimate activity active source typical hour simeq note reveal emit detected evolution data sigma jitter discovery spectro fluence track galactic two characteristic emission within rm m radio flux radio month widths pulsar indices feature spectrum weaken density profile use frequency average sub temporal approx observation center'\n",
            "Label(s): ['astro-ph.HE']\n",
            "Predicted Label(s): (astro-ph.GA, astro-ph.HE)\n",
            " \n",
            "Abstract: b'space present calculate right set lat limit throughout result study view minimum amass various upper make first survey energy cl delta field instrument telescope full proton consist capability rise cosmic pre gev large anisotropy ever wide search sensitive dependence function year ul dipole date large stringent systematic ground area mission proton probe enable data time value fermi limit measure discuss primary give excess eight result ascension sky effect could use excellent trial use declination approximately ray base million amplitude observation'\n",
            "Label(s): ['astro-ph.HE']\n",
            "Predicted Label(s): (astro-ph.HE)\n",
            " \n",
            "Abstract: b'complex extragalactic centre present region percent myr galactocentric de separate majority size stellar region supposedly however complex unassociated comparable older closer survival legus cluster lose sufficiently location correlate whereas study kpc smaller uv field formation arm reside locate form youngest catalogue associate consider strength distribute spiral point sim find younger legacy age galaxy gmcs progenitor star survey interefrometer dependence strongly correlation function arcsecond separate bure ngc cluster cluster young also distribution order coherence massive association two timescale within whirpool inner environment birth paw disperse clustered efficiency hierarchically clouds investigate result preferentially spatial cloud median suggest gas yield homogeneous plateau younger spatially alpha display molecular'\n",
            "Label(s): ['astro-ph.GA']\n",
            "Predicted Label(s): (astro-ph.GA)\n",
            " \n",
            "Abstract: b'ppm ass present ocean contain soon consequently false james band webb jwst detectable detection nirspec throughout although late result produce attain planet due potential especially observe possible sequence atmospheric system telescope superluminous signal positive spectra trappist star earth host isotopologues post dominate consider pre um determine atmosphere near abundance life measurement likely find infer fractionation orbit sign indicator around observe terrestrial transit four significant analysis search isotopologue generate infrared escape hdo similarly range main composition solar detection eleven occur like optimal prism terrestrial use detect isotopic ratio time trace space behind may help whether history loss phase mechanisms abiotically mar dwarfs biogenic use could characterize venus habitability leave use oxygen transmission past difference type isotopologue gas transit undergo similar observation'\n",
            "Label(s): ['astro-ph.EP']\n",
            "Predicted Label(s): (astro-ph.EP)\n",
            " \n",
            "Abstract: b'correspond small severely limited original group possibility cleanse explored region make rich force essentially produce due cluster calculation however indicate conservation possible thin shell dust surround relatively abundance star mechanism pre radiative mass method giant neighbourhood around individual early open significant analytical hii single hardly act turbulence composition solar important cluster thinness well may semi estimate bright cleanse chemical effect momentum cloud propose use constrain seem affect base neutral cloud mass type gas molecular similar amount'\n",
            "Label(s): ['astro-ph.GA' 'astro-ph.SR']\n",
            "Predicted Label(s): (astro-ph.GA, astro-ph.SR)\n",
            " \n",
            "Abstract: b'variability synchronize see bal rest period systemic km relate show wind absorption dependent observe decrease line consistent cm dramatic monitoring component blue report high yr sd continuum time launch show sim quasar change rate component kinematic loud radius span broad deceleration frame signature suggest usually red like show profile outflow acceleration ionization em two redshift bright respect parameter see quasar flow velocity initial radio could strong disk variability civ shift velocity average ray mass siiv'\n",
            "Label(s): ['astro-ph.GA']\n",
            "Predicted Label(s): (astro-ph.HE)\n",
            " \n",
            "Abstract: b'sidelobes produce wider increase thermal baseline lower sidelobe depend jy telescope continue found limit simulate mhz extends design decrease higher frequency field vary image reach decreased level low time mu level noise error estimate assess source attributable uncorrelated range brighter observation error require deviation shortest phase ideal simulation perform current gain strong free square rms root frequency factor hrs integration residual deviation mean'\n",
            "Label(s): ['astro-ph.IM']\n",
            "Predicted Label(s): (astro-ph.IM)\n",
            " \n",
            "Abstract: b'space small binary hg consequently know lower observational entire unlikely stellar duration always rich cheb lifetime final late mesa compute influence track first system core dramatically show later dependent especially study episode higher impact magnitude parameter remain formation affect relatively rayet radial develop star yr post low shortly rotation environment expansion use much hole end mass engage envelope variation enough find binary giant initiate mean donor wind remain case significantly ms independent significant fraction star hertzprung different co strip merger convective solar even imply support semiconvection transfer overshoot well already evolution donor also odot compact context order wolf effect massive burning expand metallicity phase increase discuss explore metallicity evolve almost extremely briefly strip shorter helium strong rapidly evolutionary factor code mass gap type metallicities occur black'\n",
            "Label(s): ['astro-ph.SR']\n",
            "Predicted Label(s): (astro-ph.HE, astro-ph.SR)\n",
            " \n",
            "Abstract: b'assess result best habitable stellar publish set method candidate evaluate rocky wavelength first planets potential approach provide effective study accuracy planet atmospheric harp gto candidate radial earth exhibit atmosphere time albedo upgrade find orbit model habitable star zone orbital search dependence coverage date like depend data also order hd distribution limit edge greenhouse parameter program bond explore potentially current analysis dedicate flux outline effect use future gl rv could measurement evaluate velocity simple habitability aim use base cloud focus gas paper discus'\n",
            "Label(s): ['astro-ph.EP' 'astro-ph.IM']\n",
            "Predicted Label(s): (astro-ph.EP, astro-ph.IM, astro-ph.SR)\n",
            " \n",
            "Abstract: b'space present extra pm model distance dex dra per size stellar spectroscopy proper respectively disrupt recessional poor km compare milky dynamically show metal translates old tidal dwarf kpc study member delta marginally ii magnitude system allow colour star structural yr cold level scenario low multi follow refine gyr still confirm along dispersion megacam narrow spectroscopically altogether take even detailed mu galaxy motion around implies gaia us fe resolve satellite sensitive cent deimos photometry pristine feature large investigation benefit sample support way vr langle draco data sigma odot distribution double deep forward property rangle significance previous favour confirms keck metallicity potentially cahk apocenter orbit cfht though broadband object pericenter spectroscopic tentatively mas velocity map band photometric confidence alpha faint observation mean'\n",
            "Label(s): ['astro-ph.GA']\n",
            "Predicted Label(s): (astro-ph.GA)\n",
            " \n",
            "Abstract: b'explore best investigation core drift rather across radii lack responsible planetary uncertain disc however fuv lifetime gap km dominate maximum catalyze location local initiate planet potential drift discrepancy particles pressure kyr dimensional report formation dust relatively relevant common earth mechanism ten efficacy preferential grow gradient consider stream aggregation use removal one instability near remain find planetesimal accretion wherein model avenue susceptible physical debris one deplete timescales different range recent large solution amount contrast fragmentation consequence profile collect evolution relevance drive late photoevaporation constrain may often process planetesimal conclude parameter disc increase create internal become metallicity induces result planetestimals barrier surface size tightly free model au convert density ray mass build primarily gas consensus subject invoke assumed similar observation viscous spread'\n",
            "Label(s): ['astro-ph.EP']\n",
            "Predicted Label(s): (astro-ph.EP)\n",
            " \n"
          ]
        }
      ]
    }
  ],
  "metadata": {
    "colab": {
      "collapsed_sections": [],
      "name": "Multi_label_classification_ANN_1",
      "provenance": []
    },
    "kernelspec": {
      "display_name": "Python 3",
      "language": "python",
      "name": "python3"
    },
    "language_info": {
      "codemirror_mode": {
        "name": "ipython",
        "version": 3
      },
      "file_extension": ".py",
      "mimetype": "text/x-python",
      "name": "python",
      "nbconvert_exporter": "python",
      "pygments_lexer": "ipython3",
      "version": "3.7.0"
    }
  },
  "nbformat": 4,
  "nbformat_minor": 0
}