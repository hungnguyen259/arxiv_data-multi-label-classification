{
  "cells": [
    {
      "cell_type": "markdown",
      "metadata": {
        "id": "g3ZzNXbACMKx"
      },
      "source": [
        "## Imports"
      ]
    },
    {
      "cell_type": "code",
      "execution_count": null,
      "metadata": {
        "id": "UsHuXXoICMKx"
      },
      "outputs": [],
      "source": [
        "from tensorflow.keras import layers\n",
        "from tensorflow import keras\n",
        "import tensorflow as tf\n",
        "\n",
        "from sklearn.model_selection import train_test_split\n",
        "from ast import literal_eval\n",
        "\n",
        "import matplotlib.pyplot as plt\n",
        "import pandas as pd\n",
        "import numpy as np"
      ]
    },
    {
      "cell_type": "code",
      "source": [
        "# import and read csv\n",
        "import pandas as pd\n",
        "from tensorflow.keras import layers\n",
        "from tensorflow import keras\n",
        "import tensorflow as tf\n",
        "from sklearn.model_selection import train_test_split\n",
        "from ast import literal_eval\n",
        "import numpy as np\n",
        "import string\n",
        "import re\n",
        "\n",
        "import matplotlib.pyplot as plt \n",
        "import seaborn as sns\n",
        "from sklearn.feature_extraction.text import TfidfVectorizer\n",
        "\n",
        "from sklearn.preprocessing import MultiLabelBinarizer\n",
        "\n",
        "import nltk\n",
        "from nltk.stem import WordNetLemmatizer\n",
        "from nltk.corpus import stopwords\n",
        "from nltk import pos_tag, word_tokenize\n",
        "\n",
        "nltk.download('wordnet')\n",
        "nltk.download('averaged_perceptron_tagger')\n",
        "nltk.download('punkt')\n",
        "nltk.download('stopwords')\n",
        "%matplotlib inline\n",
        "pd.set_option('display.max_colwidth', 300)"
      ],
      "metadata": {
        "id": "ck6EX0_8FK5V",
        "outputId": "117b5356-dc7c-454b-cdf6-70473de82774",
        "colab": {
          "base_uri": "https://localhost:8080/"
        }
      },
      "execution_count": null,
      "outputs": [
        {
          "output_type": "stream",
          "name": "stdout",
          "text": [
            "[nltk_data] Downloading package wordnet to /root/nltk_data...\n",
            "[nltk_data]   Unzipping corpora/wordnet.zip.\n",
            "[nltk_data] Downloading package averaged_perceptron_tagger to\n",
            "[nltk_data]     /root/nltk_data...\n",
            "[nltk_data]   Unzipping taggers/averaged_perceptron_tagger.zip.\n",
            "[nltk_data] Downloading package punkt to /root/nltk_data...\n",
            "[nltk_data]   Unzipping tokenizers/punkt.zip.\n",
            "[nltk_data] Downloading package stopwords to /root/nltk_data...\n",
            "[nltk_data]   Unzipping corpora/stopwords.zip.\n"
          ]
        }
      ]
    },
    {
      "cell_type": "markdown",
      "metadata": {
        "id": "QyKOOe1mCMKz"
      },
      "source": [
        "## Perform exploratory data analysis"
      ]
    },
    {
      "cell_type": "code",
      "source": [
        "!pip install -U -q PyDrive\n",
        "from pydrive.auth import GoogleAuth\n",
        "from pydrive.drive import GoogleDrive\n",
        "from google.colab import auth\n",
        "from oauth2client.client import GoogleCredentials\n",
        "  \n",
        "# Authenticate and create the PyDrive client.\n",
        "auth.authenticate_user()\n",
        "gauth = GoogleAuth()\n",
        "gauth.credentials = GoogleCredentials.get_application_default()\n",
        "drive = GoogleDrive(gauth)\n",
        "\n",
        "\n",
        "link = \"https://drive.google.com/file/d/18ZGW-c3oDNIEmBFUfzXl2v0v04mkSlJc/view\"\n",
        "  \n",
        "# to get the id part of the file\n",
        "id = link.split(\"/\")[-2]\n",
        "  \n",
        "downloaded = drive.CreateFile({'id':id}) \n",
        "downloaded.GetContentFile('arxiv.csv')  \n",
        "  \n",
        "arxiv_data = pd.read_csv('arxiv.csv')\n",
        "arxiv_data.head()"
      ],
      "metadata": {
        "colab": {
          "base_uri": "https://localhost:8080/",
          "height": 641
        },
        "id": "l51KfIIyRdJa",
        "outputId": "684ffdbb-dfbb-402d-8492-979f9ff9ebb7"
      },
      "execution_count": null,
      "outputs": [
        {
          "output_type": "execute_result",
          "data": {
            "text/html": [
              "\n",
              "  <div id=\"df-46916f5b-ef7e-4712-a5f8-c4d5adf93e89\">\n",
              "    <div class=\"colab-df-container\">\n",
              "      <div>\n",
              "<style scoped>\n",
              "    .dataframe tbody tr th:only-of-type {\n",
              "        vertical-align: middle;\n",
              "    }\n",
              "\n",
              "    .dataframe tbody tr th {\n",
              "        vertical-align: top;\n",
              "    }\n",
              "\n",
              "    .dataframe thead th {\n",
              "        text-align: right;\n",
              "    }\n",
              "</style>\n",
              "<table border=\"1\" class=\"dataframe\">\n",
              "  <thead>\n",
              "    <tr style=\"text-align: right;\">\n",
              "      <th></th>\n",
              "      <th>titles</th>\n",
              "      <th>summaries</th>\n",
              "      <th>terms</th>\n",
              "    </tr>\n",
              "  </thead>\n",
              "  <tbody>\n",
              "    <tr>\n",
              "      <th>0</th>\n",
              "      <td>Revealing the Field Sub-subgiant Population Using a Catalog of Active Giant Stars and Gaia EDR3</td>\n",
              "      <td>Sub-subgiant stars (SSGs) fall below the subgiant branch and/or red of the\\ngiant branch in open and globular clusters, an area of the color-magnitude\\ndiagram (CMD) not populated by standard stellar evolution tracks. One\\nhypothesis is that SSGs result from rapid rotation in subgiants or giants...</td>\n",
              "      <td>['astro-ph.SR', 'astro-ph.GA']</td>\n",
              "    </tr>\n",
              "    <tr>\n",
              "      <th>1</th>\n",
              "      <td>ALMA detection of ethyl cyanide and methyl formate in the hot molecular core IRAS 18566+0408</td>\n",
              "      <td>In millimeter/submillimeter wavelength, the studies of the complex molecular\\nemission lines towards the hot molecular cores demonstrate valuable details\\nabout the chemical composition and massive star formation processes. We present\\nthe interferometric detection of rotational molecular emissi...</td>\n",
              "      <td>['astro-ph.GA']</td>\n",
              "    </tr>\n",
              "    <tr>\n",
              "      <th>2</th>\n",
              "      <td>Accretion processes in the galaxy cluster Hydra A/Abell 780</td>\n",
              "      <td>Clusters of galaxies evolve and accrete mass, mostly from small galaxy\\nsystems. Our aim is to study the velocity field of the galaxy cluster Abell\\n780, which is known for the powerful radio source Hydra A at its center and\\nwhere a spectacular X-ray tail associated with the galaxy LEDA 87445 h...</td>\n",
              "      <td>['astro-ph.CO', 'astro-ph.GA']</td>\n",
              "    </tr>\n",
              "    <tr>\n",
              "      <th>3</th>\n",
              "      <td>Radio astronomy locates the neutrino origin in bright blazars</td>\n",
              "      <td>High-energy astrophysical neutrinos have been observed by several telescopes\\nin the last decade, but their sources still remained unknown. We address the\\nproblem of locating astrophysical neutrinos' sources in a statistical manner.\\nWe show that blazars positionally associated with IceCube neu...</td>\n",
              "      <td>['astro-ph.HE', 'astro-ph.GA']</td>\n",
              "    </tr>\n",
              "    <tr>\n",
              "      <th>4</th>\n",
              "      <td>The extragalactic $γ$-ray background: imprints from the physical properties and evolution of star-forming galaxy populations</td>\n",
              "      <td>Star-forming galaxies (SFGs) are expected to harbour an abundant reservoir of\\ncosmic rays (CRs). At GeV energies, these CRs can undergo hadronic interactions\\nwith interstellar gases to produce $\\gamma$-rays, and the unresolved\\n$\\gamma$-ray emission from populations of SFGs form a component of...</td>\n",
              "      <td>['astro-ph.GA', 'astro-ph.HE']</td>\n",
              "    </tr>\n",
              "    <tr>\n",
              "      <th>...</th>\n",
              "      <td>...</td>\n",
              "      <td>...</td>\n",
              "      <td>...</td>\n",
              "    </tr>\n",
              "    <tr>\n",
              "      <th>89331</th>\n",
              "      <td>On the nature of the candidate T-Tauri star V501 Aurigae</td>\n",
              "      <td>We report new multi-colour photometry and high-resolution spectroscopic\\nobservations of the long-period variable V501 Aur, previously considered to be\\na weak-lined T-Tauri star belonging to the Taurus-Auriga star-forming region.\\nThe spectroscopic observations reveal that V501 Aur is a single-...</td>\n",
              "      <td>['astro-ph.SR']</td>\n",
              "    </tr>\n",
              "    <tr>\n",
              "      <th>89332</th>\n",
              "      <td>3D modelling of accretion disc in eclipsing binary system V1239 Her</td>\n",
              "      <td>We present the results of 3D-hydrodynamical simulations of accretion flow in\\nthe eclipsing dwarf nova V1239 Her in quiescence. The model includes the\\noptical star filling its Roche lobe, a gas stream emanating from the inner\\nLagrangian point of the binary system, and the accretion disc struct...</td>\n",
              "      <td>['astro-ph.SR']</td>\n",
              "    </tr>\n",
              "    <tr>\n",
              "      <th>89333</th>\n",
              "      <td>The evolution of magnetic hot massive stars: Implementation of the quantitative influence of surface magnetic fields in modern models of stellar evolution</td>\n",
              "      <td>Large-scale dipolar surface magnetic fields have been detected in a fraction\\nof OB stars, however only few stellar evolution models of massive stars have\\nconsidered the impact of these fossil fields. We are performing 1D\\nhydrodynamical model calculations taking into account evolutionary conse...</td>\n",
              "      <td>['astro-ph.SR']</td>\n",
              "    </tr>\n",
              "    <tr>\n",
              "      <th>89334</th>\n",
              "      <td>The growth of carbon chains in IRC+10216 mapped with ALMA</td>\n",
              "      <td>Linear carbon chains are common in various types of astronomical molecular\\nsources. Possible formation mechanisms involve both bottom-up and top-down\\nroutes. We have carried out a combined observational and modeling study of the\\nformation of carbon chains in the C-star envelope IRC+10216, whe...</td>\n",
              "      <td>['astro-ph.SR', 'astro-ph.GA']</td>\n",
              "    </tr>\n",
              "    <tr>\n",
              "      <th>89335</th>\n",
              "      <td>Deciphering Solar Magnetic Activity: Spotting Solar Cycle 25</td>\n",
              "      <td>We present observational signatures of solar cycle 25 onset. Those signatures\\nare visibly following a migratory path from high to low latitudes. They had\\nstarting points that are asymmetrically offset in each hemisphere at times that\\nare 21-22 years after the corresponding, same polarity, act...</td>\n",
              "      <td>['astro-ph.SR']</td>\n",
              "    </tr>\n",
              "  </tbody>\n",
              "</table>\n",
              "<p>89336 rows × 3 columns</p>\n",
              "</div>\n",
              "      <button class=\"colab-df-convert\" onclick=\"convertToInteractive('df-46916f5b-ef7e-4712-a5f8-c4d5adf93e89')\"\n",
              "              title=\"Convert this dataframe to an interactive table.\"\n",
              "              style=\"display:none;\">\n",
              "        \n",
              "  <svg xmlns=\"http://www.w3.org/2000/svg\" height=\"24px\"viewBox=\"0 0 24 24\"\n",
              "       width=\"24px\">\n",
              "    <path d=\"M0 0h24v24H0V0z\" fill=\"none\"/>\n",
              "    <path d=\"M18.56 5.44l.94 2.06.94-2.06 2.06-.94-2.06-.94-.94-2.06-.94 2.06-2.06.94zm-11 1L8.5 8.5l.94-2.06 2.06-.94-2.06-.94L8.5 2.5l-.94 2.06-2.06.94zm10 10l.94 2.06.94-2.06 2.06-.94-2.06-.94-.94-2.06-.94 2.06-2.06.94z\"/><path d=\"M17.41 7.96l-1.37-1.37c-.4-.4-.92-.59-1.43-.59-.52 0-1.04.2-1.43.59L10.3 9.45l-7.72 7.72c-.78.78-.78 2.05 0 2.83L4 21.41c.39.39.9.59 1.41.59.51 0 1.02-.2 1.41-.59l7.78-7.78 2.81-2.81c.8-.78.8-2.07 0-2.86zM5.41 20L4 18.59l7.72-7.72 1.47 1.35L5.41 20z\"/>\n",
              "  </svg>\n",
              "      </button>\n",
              "      \n",
              "  <style>\n",
              "    .colab-df-container {\n",
              "      display:flex;\n",
              "      flex-wrap:wrap;\n",
              "      gap: 12px;\n",
              "    }\n",
              "\n",
              "    .colab-df-convert {\n",
              "      background-color: #E8F0FE;\n",
              "      border: none;\n",
              "      border-radius: 50%;\n",
              "      cursor: pointer;\n",
              "      display: none;\n",
              "      fill: #1967D2;\n",
              "      height: 32px;\n",
              "      padding: 0 0 0 0;\n",
              "      width: 32px;\n",
              "    }\n",
              "\n",
              "    .colab-df-convert:hover {\n",
              "      background-color: #E2EBFA;\n",
              "      box-shadow: 0px 1px 2px rgba(60, 64, 67, 0.3), 0px 1px 3px 1px rgba(60, 64, 67, 0.15);\n",
              "      fill: #174EA6;\n",
              "    }\n",
              "\n",
              "    [theme=dark] .colab-df-convert {\n",
              "      background-color: #3B4455;\n",
              "      fill: #D2E3FC;\n",
              "    }\n",
              "\n",
              "    [theme=dark] .colab-df-convert:hover {\n",
              "      background-color: #434B5C;\n",
              "      box-shadow: 0px 1px 3px 1px rgba(0, 0, 0, 0.15);\n",
              "      filter: drop-shadow(0px 1px 2px rgba(0, 0, 0, 0.3));\n",
              "      fill: #FFFFFF;\n",
              "    }\n",
              "  </style>\n",
              "\n",
              "      <script>\n",
              "        const buttonEl =\n",
              "          document.querySelector('#df-46916f5b-ef7e-4712-a5f8-c4d5adf93e89 button.colab-df-convert');\n",
              "        buttonEl.style.display =\n",
              "          google.colab.kernel.accessAllowed ? 'block' : 'none';\n",
              "\n",
              "        async function convertToInteractive(key) {\n",
              "          const element = document.querySelector('#df-46916f5b-ef7e-4712-a5f8-c4d5adf93e89');\n",
              "          const dataTable =\n",
              "            await google.colab.kernel.invokeFunction('convertToInteractive',\n",
              "                                                     [key], {});\n",
              "          if (!dataTable) return;\n",
              "\n",
              "          const docLinkHtml = 'Like what you see? Visit the ' +\n",
              "            '<a target=\"_blank\" href=https://colab.research.google.com/notebooks/data_table.ipynb>data table notebook</a>'\n",
              "            + ' to learn more about interactive tables.';\n",
              "          element.innerHTML = '';\n",
              "          dataTable['output_type'] = 'display_data';\n",
              "          await google.colab.output.renderOutput(dataTable, element);\n",
              "          const docLink = document.createElement('div');\n",
              "          docLink.innerHTML = docLinkHtml;\n",
              "          element.appendChild(docLink);\n",
              "        }\n",
              "      </script>\n",
              "    </div>\n",
              "  </div>\n",
              "  "
            ],
            "text/plain": [
              "                                                                                                                                                           titles  ...                           terms\n",
              "0                                                                 Revealing the Field Sub-subgiant Population Using a Catalog of Active Giant Stars and Gaia EDR3  ...  ['astro-ph.SR', 'astro-ph.GA']\n",
              "1                                                                    ALMA detection of ethyl cyanide and methyl formate in the hot molecular core IRAS 18566+0408  ...                 ['astro-ph.GA']\n",
              "2                                                                                                     Accretion processes in the galaxy cluster Hydra A/Abell 780  ...  ['astro-ph.CO', 'astro-ph.GA']\n",
              "3                                                                                                   Radio astronomy locates the neutrino origin in bright blazars  ...  ['astro-ph.HE', 'astro-ph.GA']\n",
              "4                                    The extragalactic $γ$-ray background: imprints from the physical properties and evolution of star-forming galaxy populations  ...  ['astro-ph.GA', 'astro-ph.HE']\n",
              "...                                                                                                                                                           ...  ...                             ...\n",
              "89331                                                                                                    On the nature of the candidate T-Tauri star V501 Aurigae  ...                 ['astro-ph.SR']\n",
              "89332                                                                                         3D modelling of accretion disc in eclipsing binary system V1239 Her  ...                 ['astro-ph.SR']\n",
              "89333  The evolution of magnetic hot massive stars: Implementation of the quantitative influence of surface magnetic fields in modern models of stellar evolution  ...                 ['astro-ph.SR']\n",
              "89334                                                                                                   The growth of carbon chains in IRC+10216 mapped with ALMA  ...  ['astro-ph.SR', 'astro-ph.GA']\n",
              "89335                                                                                                Deciphering Solar Magnetic Activity: Spotting Solar Cycle 25  ...                 ['astro-ph.SR']\n",
              "\n",
              "[89336 rows x 3 columns]"
            ]
          },
          "metadata": {},
          "execution_count": 3
        }
      ]
    },
    {
      "cell_type": "code",
      "execution_count": null,
      "metadata": {
        "id": "Oy0UhJb2CMK0",
        "outputId": "f2ed0496-8938-475d-fbbb-6948aebde150",
        "colab": {
          "base_uri": "https://localhost:8080/"
        }
      },
      "outputs": [
        {
          "output_type": "stream",
          "name": "stdout",
          "text": [
            "There are 89336 rows in the dataset.\n"
          ]
        }
      ],
      "source": [
        "print(f\"There are {len(arxiv_data)} rows in the dataset.\")"
      ]
    },
    {
      "cell_type": "code",
      "execution_count": null,
      "metadata": {
        "id": "ZATqY_S1CMK1",
        "outputId": "9beaab2f-a9b1-4ed3-fd3d-5bd0b44b61c7",
        "colab": {
          "base_uri": "https://localhost:8080/"
        }
      },
      "outputs": [
        {
          "output_type": "stream",
          "name": "stdout",
          "text": [
            "There are 19134 duplicate titles.\n"
          ]
        }
      ],
      "source": [
        "total_duplicate_titles = sum(arxiv_data[\"titles\"].duplicated())\n",
        "print(f\"There are {total_duplicate_titles} duplicate titles.\")"
      ]
    },
    {
      "cell_type": "code",
      "execution_count": null,
      "metadata": {
        "id": "RfyPWpszCMK2",
        "outputId": "16ac5c90-5754-48ba-d06a-cd9327c8087d",
        "colab": {
          "base_uri": "https://localhost:8080/"
        }
      },
      "outputs": [
        {
          "output_type": "stream",
          "name": "stdout",
          "text": [
            "There are 70202 rows in the deduplicated dataset.\n",
            "22\n",
            "152\n"
          ]
        }
      ],
      "source": [
        "arxiv_data = arxiv_data[~arxiv_data[\"titles\"].duplicated()]\n",
        "print(f\"There are {len(arxiv_data)} rows in the deduplicated dataset.\")\n",
        "\n",
        "# There are some terms with occurrence as low as 1.\n",
        "print(sum(arxiv_data[\"terms\"].value_counts() == 1))\n",
        "\n",
        "# How many unique terms?\n",
        "print(arxiv_data[\"terms\"].nunique())"
      ]
    },
    {
      "cell_type": "code",
      "source": [
        "arxiv_data_filtered = arxiv_data"
      ],
      "metadata": {
        "id": "r92ASCTw_5o9"
      },
      "execution_count": null,
      "outputs": []
    },
    {
      "cell_type": "markdown",
      "metadata": {
        "id": "f5IUK2W3CMK3"
      },
      "source": [
        "## Convert the string labels to lists of strings"
      ]
    },
    {
      "cell_type": "code",
      "execution_count": null,
      "metadata": {
        "id": "C4aipxf5CMK3",
        "outputId": "bb2faa09-007d-48b6-e990-b213dfa70047",
        "colab": {
          "base_uri": "https://localhost:8080/"
        }
      },
      "outputs": [
        {
          "output_type": "stream",
          "name": "stderr",
          "text": [
            "/usr/local/lib/python3.7/dist-packages/ipykernel_launcher.py:2: SettingWithCopyWarning: \n",
            "A value is trying to be set on a copy of a slice from a DataFrame.\n",
            "Try using .loc[row_indexer,col_indexer] = value instead\n",
            "\n",
            "See the caveats in the documentation: https://pandas.pydata.org/pandas-docs/stable/user_guide/indexing.html#returning-a-view-versus-a-copy\n",
            "  \n"
          ]
        },
        {
          "output_type": "execute_result",
          "data": {
            "text/plain": [
              "array([list(['astro-ph.SR', 'astro-ph.GA']), list(['astro-ph.GA']),\n",
              "       list(['astro-ph.CO', 'astro-ph.GA']),\n",
              "       list(['astro-ph.HE', 'astro-ph.GA']),\n",
              "       list(['astro-ph.GA', 'astro-ph.HE'])], dtype=object)"
            ]
          },
          "metadata": {},
          "execution_count": 8
        }
      ],
      "source": [
        "arxiv_data_filtered[\"terms\"] = arxiv_data_filtered[\"terms\"].apply(\n",
        "    lambda x: literal_eval(x)\n",
        ")\n",
        "arxiv_data_filtered[\"terms\"].values[:5]"
      ]
    },
    {
      "cell_type": "code",
      "source": [
        "dict_len = {}\n",
        "for i in range(arxiv_data_filtered.shape[0]):\n",
        "    if(len(arxiv_data_filtered.iloc[i][\"terms\"]) not in dict_len):\n",
        "        dict_len[len(arxiv_data_filtered.iloc[i][\"terms\"])] = 1\n",
        "    else:\n",
        "        dict_len[len(arxiv_data_filtered.iloc[i][\"terms\"])] += 1\n",
        "print(\"Occurancy of number of labels in a term: \")\n",
        "dict_len = dict(sorted(dict_len.items(), key=lambda item: item[1], reverse=True))\n",
        "for k, v in dict_len.items():\n",
        "    print(f\" - The number of paper have {k} labels in it's term: {v}\")"
      ],
      "metadata": {
        "id": "Cp8gMzSZ9dih",
        "colab": {
          "base_uri": "https://localhost:8080/"
        },
        "outputId": "042e945e-c6e0-40aa-8ef1-0a97c00555ca"
      },
      "execution_count": null,
      "outputs": [
        {
          "output_type": "stream",
          "name": "stdout",
          "text": [
            "Occurancy of number of labels in a term: \n",
            " - The number of paper have 1 labels in it's term: 46399\n",
            " - The number of paper have 2 labels in it's term: 20635\n",
            " - The number of paper have 3 labels in it's term: 2904\n",
            " - The number of paper have 4 labels in it's term: 209\n",
            " - The number of paper have 5 labels in it's term: 54\n",
            " - The number of paper have 6 labels in it's term: 1\n"
          ]
        }
      ]
    },
    {
      "cell_type": "markdown",
      "source": [
        "##Pre-processing dataset\n"
      ],
      "metadata": {
        "id": "964YEOux8c4p"
      }
    },
    {
      "cell_type": "code",
      "source": [
        "all_terms = sum(arxiv_data_filtered[\"terms\"],[])\n",
        "all_terms = nltk.FreqDist(all_terms) \n",
        "# create dataframe\n",
        "all_terms_df = pd.DataFrame({'Term': list(all_terms.keys()), \n",
        "                              'Count': list(all_terms.values())})"
      ],
      "metadata": {
        "id": "GyccOZXLFbqx"
      },
      "execution_count": null,
      "outputs": []
    },
    {
      "cell_type": "code",
      "source": [
        "def clean_text(text):\n",
        "  # remove new line characters\n",
        "  text = re.sub(r\"\\n\", \" \", text)\n",
        "  # remove email\n",
        "  text = re.sub(r\"([A-Za-z0-9_.+-]+@[A-Za-z0-9-]+\\.?[A-Za-z0-9-.]+)\", \"\", text)\n",
        "  # remove url\n",
        "  text = re.sub(r\"((http|https)\\:\\/\\/)?[a-zA-Z0-9\\.\\/\\?\\:@\\-_=#]+\\.([a-zA-Z]){2,6}([a-zA-Z0-9\\.\\&\\/\\?\\:@\\-_=#])*\", \"\", text)\n",
        "  # remove punctuation\n",
        "  text = re.sub(f'[{re.escape(string.punctuation)}]', ' ', text)\n",
        "  # remove words including numbers\n",
        "  text = re.sub(r\"\\w*\\d\\w*\", \"\", text)\n",
        "  # remove single character and duplicated words\n",
        "  # text = ' '.join(word for word in list(set(text.split())) if len(word) > 1)\n",
        "  # replace multiple whitespace by one whitespace\n",
        "  text = re.sub(r\"\\s+\", \" \", text)\n",
        "  # lower all text\n",
        "  text = text.lower()\n",
        "  # strip all text\n",
        "  text = text.strip()\n",
        "  return text"
      ],
      "metadata": {
        "id": "idNVPB3jFjwt"
      },
      "execution_count": null,
      "outputs": []
    },
    {
      "cell_type": "code",
      "source": [
        "def remove_stopwords(text):\n",
        "  stop_words = stopwords.words('english')\n",
        "  cleaned_text = []\n",
        "  # turn text to a list of words\n",
        "  word_list = text.split()\n",
        "  for word in word_list:\n",
        "    if word not in stop_words:\n",
        "      cleaned_text.append(word)\n",
        "  return ' '.join(cleaned_text)"
      ],
      "metadata": {
        "id": "MZwth4c9Fngt"
      },
      "execution_count": null,
      "outputs": []
    },
    {
      "cell_type": "code",
      "source": [
        "def lemmatize_text(text):\n",
        "  wnl = WordNetLemmatizer()\n",
        "  pos_text = pos_tag(word_tokenize(text))\n",
        "  cleaned_text = []\n",
        "  for word, tag in pos_text:\n",
        "    wntag = tag[0].lower()\n",
        "    wntag = wntag if wntag in ['a', 'r', 'n', 'v'] else None\n",
        "    if not wntag:\n",
        "      lem_word = word\n",
        "    else:\n",
        "      lem_word = wnl.lemmatize(word, wntag)\n",
        "    cleaned_text.append(lem_word)\n",
        "  return ' '.join(cleaned_text)"
      ],
      "metadata": {
        "id": "_24dH6LUFsev"
      },
      "execution_count": null,
      "outputs": []
    },
    {
      "cell_type": "code",
      "source": [
        "arxiv_data_filtered['summaries'] = arxiv_data_filtered['summaries'].apply(clean_text)\n",
        "arxiv_data_filtered['summaries'] = arxiv_data_filtered['summaries'].apply(remove_stopwords)\n",
        "arxiv_data_filtered['summaries'] = arxiv_data_filtered['summaries'].apply(lemmatize_text)\n",
        "arxiv_data_filtered['summaries']"
      ],
      "metadata": {
        "id": "9ew2D4zLFxri",
        "colab": {
          "base_uri": "https://localhost:8080/"
        },
        "outputId": "aa4dd324-c62f-4e9b-8eb8-ceeeece44af5"
      },
      "execution_count": null,
      "outputs": [
        {
          "output_type": "stream",
          "name": "stderr",
          "text": [
            "/usr/local/lib/python3.7/dist-packages/ipykernel_launcher.py:1: SettingWithCopyWarning: \n",
            "A value is trying to be set on a copy of a slice from a DataFrame.\n",
            "Try using .loc[row_indexer,col_indexer] = value instead\n",
            "\n",
            "See the caveats in the documentation: https://pandas.pydata.org/pandas-docs/stable/user_guide/indexing.html#returning-a-view-versus-a-copy\n",
            "  \"\"\"Entry point for launching an IPython kernel.\n",
            "/usr/local/lib/python3.7/dist-packages/ipykernel_launcher.py:2: SettingWithCopyWarning: \n",
            "A value is trying to be set on a copy of a slice from a DataFrame.\n",
            "Try using .loc[row_indexer,col_indexer] = value instead\n",
            "\n",
            "See the caveats in the documentation: https://pandas.pydata.org/pandas-docs/stable/user_guide/indexing.html#returning-a-view-versus-a-copy\n",
            "  \n",
            "/usr/local/lib/python3.7/dist-packages/ipykernel_launcher.py:3: SettingWithCopyWarning: \n",
            "A value is trying to be set on a copy of a slice from a DataFrame.\n",
            "Try using .loc[row_indexer,col_indexer] = value instead\n",
            "\n",
            "See the caveats in the documentation: https://pandas.pydata.org/pandas-docs/stable/user_guide/indexing.html#returning-a-view-versus-a-copy\n",
            "  This is separate from the ipykernel package so we can avoid doing imports until\n"
          ]
        },
        {
          "output_type": "execute_result",
          "data": {
            "text/plain": [
              "0        sub subgiant star ssgs fall subgiant branch red giant branch open globular cluster area color magnitude diagram cmd populate standard stellar evolution track one hypothesis ssgs result rapid rotation subgiants giant due tidal synchronization close binary strong magnetic field generate inhibit co...\n",
              "1        millimeter submillimeter wavelength study complex molecular emission line towards hot molecular core demonstrate valuable detail chemical composition massive star formation process present interferometric detection rotational molecular emission line complex organic specie ethyl cyanide c h cn me...\n",
              "2        cluster galaxy evolve accrete mass mostly small galaxy system aim study velocity field galaxy cluster abell know powerful radio source hydra center spectacular x ray tail associate galaxy leda discover analysis base new spectroscopic data hundred galaxy obtain italian telescopio nazionale em gal...\n",
              "3        high energy astrophysical neutrino observe several telescope last decade source still remain unknown address problem locate astrophysical neutrino source statistical manner show blazars positionally associate icecube neutrino detection stronger parsec scale radio core rest sample probability cha...\n",
              "4        star form galaxy sfgs expect harbour abundant reservoir cosmic ray crs gev energy crs undergo hadronic interaction interstellar gas produce gamma ray unresolved gamma ray emission population sfgs form component extragalactic gamma ray background egb work investigate contribution gev egb sfg popu...\n",
              "                                                                                                                                                            ...                                                                                                                                                     \n",
              "89331    report new multi colour photometry high resolution spectroscopic observation long period variable aur previously consider weak line tauri star belong taurus auriga star form region spectroscopic observation reveal aur single line spectroscopic binary system day orbital period slightly eccentric ...\n",
              "89332    present result hydrodynamical simulation accretion flow eclipse dwarf nova quiescence model include optical star fill roche lobe gas stream emanate inner lagrangian point binary system accretion disc structure cold hydrogen gas stream initially emit towards point like gravitational centre statio...\n",
              "89333    large scale dipolar surface magnetic field detect fraction ob star however stellar evolution model massive star consider impact fossil field perform hydrodynamical model calculation take account evolutionary consequence magnetospheric wind interaction simplify parametric way two effect consider ...\n",
              "89334    linear carbon chain common various type astronomical molecular source possible formation mechanism involve bottom top route carry combined observational modeling study formation carbon chain c star envelope irc polymerization acetylene hydrogen cyanide induce ultraviolet photon drive formation l...\n",
              "89335    present observational signature solar cycle onset signatures visibly follow migratory path high low latitude start point asymmetrically offset hemisphere time year correspond polarity activity band solar cycle start migration band define call extended solar cycle four magnetic band currently pre...\n",
              "Name: summaries, Length: 70202, dtype: object"
            ]
          },
          "metadata": {},
          "execution_count": 14
        }
      ]
    },
    {
      "cell_type": "markdown",
      "metadata": {
        "id": "JYfEJL5nCMK3"
      },
      "source": [
        "## Split training set, validation set and test set"
      ]
    },
    {
      "cell_type": "code",
      "execution_count": null,
      "metadata": {
        "id": "I6kxRsHbCMK3",
        "colab": {
          "base_uri": "https://localhost:8080/"
        },
        "outputId": "cd6085bb-78ba-4750-a4ca-bd7317660b7d"
      },
      "outputs": [
        {
          "output_type": "stream",
          "name": "stdout",
          "text": [
            "Number of rows in training set: 49141\n",
            "Number of rows in validation set: 10530\n",
            "Number of rows in test set: 10531\n"
          ]
        }
      ],
      "source": [
        "test_split = 0.3\n",
        "\n",
        "# Initial train and test split.\n",
        "train_df, test_df = train_test_split(\n",
        "    arxiv_data_filtered,\n",
        "    test_size=test_split,\n",
        "    # stratify=arxiv_data_filtered[\"terms\"].values,\n",
        ")\n",
        "\n",
        "# Splitting the test set further into validation\n",
        "# and new test sets.\n",
        "val_df = test_df.sample(frac=0.5)\n",
        "test_df.drop(val_df.index, inplace=True)\n",
        "\n",
        "print(f\"Number of rows in training set: {len(train_df)}\")\n",
        "print(f\"Number of rows in validation set: {len(val_df)}\")\n",
        "print(f\"Number of rows in test set: {len(test_df)}\")"
      ]
    },
    {
      "cell_type": "markdown",
      "metadata": {
        "id": "i-PAnEOTCMK4"
      },
      "source": [
        "## Multi-label binarization"
      ]
    },
    {
      "cell_type": "code",
      "execution_count": null,
      "metadata": {
        "id": "7-XwTtwvCMK4",
        "colab": {
          "base_uri": "https://localhost:8080/"
        },
        "outputId": "4ba75a20-fff5-44e8-8e9c-11273d79279d"
      },
      "outputs": [
        {
          "output_type": "stream",
          "name": "stdout",
          "text": [
            "Vocabulary:\n",
            "\n",
            "['[UNK]', 'astro-ph.GA', 'astro-ph.SR', 'astro-ph.EP', 'astro-ph.HE', 'astro-ph.IM', 'astro-ph.CO']\n"
          ]
        }
      ],
      "source": [
        "terms = tf.ragged.constant(train_df[\"terms\"].values)\n",
        "lookup = tf.keras.layers.StringLookup(output_mode=\"multi_hot\")\n",
        "lookup.adapt(terms)\n",
        "vocab = lookup.get_vocabulary()\n",
        "\n",
        "\n",
        "def invert_multi_hot(encoded_labels):\n",
        "    \"\"\"Reverse a single multi-hot encoded label to a tuple of vocab terms.\"\"\"\n",
        "    hot_indices = np.argwhere(encoded_labels == 1.0)[..., 0]\n",
        "    return np.take(vocab, hot_indices)\n",
        "\n",
        "\n",
        "print(\"Vocabulary:\\n\")\n",
        "print(vocab)\n"
      ]
    },
    {
      "cell_type": "code",
      "execution_count": null,
      "metadata": {
        "id": "sXq1evCGCMK4",
        "colab": {
          "base_uri": "https://localhost:8080/"
        },
        "outputId": "150fc407-46c2-44cd-e889-785a957f5be7"
      },
      "outputs": [
        {
          "output_type": "stream",
          "name": "stdout",
          "text": [
            "Original label: ['astro-ph.GA']\n",
            "Label-binarized representation: [[0. 1. 0. 0. 0. 0. 0.]]\n"
          ]
        }
      ],
      "source": [
        "sample_label = train_df[\"terms\"].iloc[0]\n",
        "print(f\"Original label: {sample_label}\")\n",
        "\n",
        "label_binarized = lookup([sample_label])\n",
        "print(f\"Label-binarized representation: {label_binarized}\")"
      ]
    },
    {
      "cell_type": "markdown",
      "metadata": {
        "id": "rL9-uRHaCMK5"
      },
      "source": [
        "## Data preprocessing and `tf.data.Dataset` objects\n"
      ]
    },
    {
      "cell_type": "code",
      "execution_count": null,
      "metadata": {
        "id": "H0JpYB05CMK5"
      },
      "outputs": [],
      "source": [
        "batch_size = 128\n",
        "auto = tf.data.AUTOTUNE\n",
        "\n",
        "\n",
        "def unify_text_length(text, label):\n",
        "    return tf.expand_dims(text, -1), label\n",
        "\n",
        "\n",
        "def make_dataset(dataframe, is_train=True):\n",
        "    labels = tf.ragged.constant(dataframe[\"terms\"].values)\n",
        "    label_binarized = lookup(labels).numpy()\n",
        "    dataset = tf.data.Dataset.from_tensor_slices(\n",
        "        (dataframe[\"summaries\"].values, label_binarized)\n",
        "    )\n",
        "    dataset = dataset.shuffle(batch_size * 10) if is_train else dataset\n",
        "    dataset = dataset.map(unify_text_length, num_parallel_calls=auto).cache()\n",
        "    return dataset.batch(batch_size)\n"
      ]
    },
    {
      "cell_type": "code",
      "execution_count": null,
      "metadata": {
        "id": "-bZ8KHqCCMK5"
      },
      "outputs": [],
      "source": [
        "train_dataset = make_dataset(train_df, is_train=True)\n",
        "validation_dataset = make_dataset(val_df, is_train=False)\n",
        "test_dataset = make_dataset(test_df, is_train=False)"
      ]
    },
    {
      "cell_type": "markdown",
      "metadata": {
        "id": "vr-ohRLSCMK6"
      },
      "source": [
        "## Dataset preview"
      ]
    },
    {
      "cell_type": "code",
      "execution_count": null,
      "metadata": {
        "id": "rGS0JbgtCMK6",
        "colab": {
          "base_uri": "https://localhost:8080/"
        },
        "outputId": "870e5c6d-ab62-4d76-989f-77d12aba8f39"
      },
      "outputs": [
        {
          "output_type": "stream",
          "name": "stdout",
          "text": [
            "Abstract: b'study bright b intermediate redshift z disc dominate n b galaxy hst acs chandra deep field south rest frame b band find new class bulge brighter compact ellipticals refer bright compact bulge bcbs resemble neither classical pseudo bulge constitute total bulge population redshift examine free bulge disc decomposition sample elliptical galaxy sample simard et al find bulge classify bcbs local universe bulge total ratio b disc galaxy bcbs factor larger classical pseudo bulge bcbs time massive classical pseudo bulge although disc galaxy bcbs host massive dominant bulge type specific star formation rate time higher disc galaxy contrary expectation massive compact bulge would lead lower star formation rate speculate bcb host disc galaxy descendant massive compact passive elliptical galaxy observe higher redshift high redshift ellipticals lack local counterpart possibly evolve acquire compact disc around overall property bcbs support picture galaxy assembly younger disc accrete around massive pre exist spheroid'\n",
            "Label(s): ['astro-ph.GA']\n",
            " \n",
            "Abstract: b'interstellar grain mantle present dense interstellar cloud constant exchange gas phase via accretion desorption mechanism uv x ray photodesorption cosmic ray induce sputter grain thermal fluctuation chemical reaction energy release relative importance various desorption mechanism uttermost importance astrophysical model constrain chemical evolution high density dense cloud region experimental work investigate sputtering yield function ice mantle thickness expose xe ion ion induce ice phase transformation sputter yield simultaneously monitor ir spectroscopy mass spec trometry respectively sputter yield constant characteristic ice layer thickness start decrease thickness estimate sputter depth correspond length evaluate experiment measure desorption depth correspond ice layer assume effective cylindrical shape volume sputter molecule aspect ratio close unity semi infinite ice film case ratio diameter height cylinder result show eject molecule arise rather compact volume measure infinite thickness sputter yield water ice mantle scale square ion electronic stop power se expect desorption depth dependence varies se astrophysical model take account thickness dependence constraint ice mantle interface region ice close extinction threshold dense cloud region water ice mantle limit bulk cosmic ray'\n",
            "Label(s): ['astro-ph.GA']\n",
            " \n",
            "Abstract: b'understand young star gain mass disk star accretion paramount importance astrophysics affect knowledge early stellar evolution disk lifetime dissipation process way planet form smallest scale connection macroscopic parameter characterize star form region largest one among others turn mass accretion rate estimate depend accretion paradigm assume low mass tauri star strong magnetic field consensus magnetospheric accretion drive mechanism transfer mass massive young stellar object weak negligible magnetic field probably occur directly disk star hot boundary layer bl intermediate mass herbig ae haebe star bridge gap previous regime still optically visible pre main sequence phase thus constitute unique opportunity test possible change accretion mode bl review deal estimate accretion rate haebes critically discuss different accretion paradigm show although mount evidence support may extend late type haes early type hbes yet consensus validity scenario versus bl one base bl shock model argue ultraviolet regime could significantly contribute future discriminate compete accretion scenario'\n",
            "Label(s): ['astro-ph.SR']\n",
            " \n",
            "Abstract: b'extragalactic jet powerful persistent source universe point us call blazars relativistically boost emission extend radio frequency tev energy also suspect source energetic neutrinos high energy cosmic ray study overall spectrum indicate emission powerful blazars hard x ray soft gamma ray band find powerful jet visible also high redshift find jet power link accretion luminosity exceed especially produce energetic neutrino require presence ultrarelativistic proton'\n",
            "Label(s): ['astro-ph.HE']\n",
            " \n",
            "Abstract: b'mar orbiter laser altimeter mola board mar global surveyor mg make measurement reflectivity mar nm r active sound passive radiometry past study r neglected effect atmospheric opacity view geometry active passive measurement also identify potential calibration issue passive radiometry therefore yet exist acceptable reference r derive column opacity product atmospheric study plan future orbital lidar observation reference r derive seek r n minnaert correct normal albedo clear condition assume minimal phase angle dependence darker surface r n absolute level atmospheric opacity estimate active sounding surface opacity derive active sounding use exclude passive radiometry measurement make opaque condition estimate r n latter estimate calibrate comparison r n derive hubble space telescope hst observation area approximately uniform reflectivity estimate r n calibrate passive radiometry typically agree hst observation within result r n use derive quantify uncertainty column opacity product apply meteorological climatological study mar particularly detect measure mesoscale cloud aerosol structure'\n",
            "Label(s): ['astro-ph.EP']\n",
            " \n"
          ]
        }
      ],
      "source": [
        "text_batch, label_batch = next(iter(train_dataset))\n",
        "\n",
        "for i, text in enumerate(text_batch[:5]):\n",
        "    label = label_batch[i].numpy()[None, ...]\n",
        "    print(f\"Abstract: {text[0]}\")\n",
        "    print(f\"Label(s): {invert_multi_hot(label[0])}\")\n",
        "    print(\" \")"
      ]
    },
    {
      "cell_type": "markdown",
      "metadata": {
        "id": "RYJCqBUkCMK6"
      },
      "source": [
        "## Vectorization"
      ]
    },
    {
      "cell_type": "code",
      "execution_count": null,
      "metadata": {
        "id": "6j1yh35BCMK6",
        "colab": {
          "base_uri": "https://localhost:8080/"
        },
        "outputId": "b26870ad-fe4c-4c44-acda-38c4a4539459"
      },
      "outputs": [
        {
          "output_type": "stream",
          "name": "stdout",
          "text": [
            "Vocabulary size: 241\n"
          ]
        }
      ],
      "source": [
        "train_df[\"total_words\"] = train_df[\"summaries\"].str.split().str.len()\n",
        "vocabulary_size = train_df[\"total_words\"].max()\n",
        "print(f\"Vocabulary size: {vocabulary_size}\")"
      ]
    },
    {
      "cell_type": "code",
      "execution_count": null,
      "metadata": {
        "id": "h3odTI_lCMK6"
      },
      "outputs": [],
      "source": [
        "text_vectorizer = layers.TextVectorization(\n",
        "    max_tokens=vocabulary_size, ngrams=2, output_mode=\"tf-idf\"\n",
        ")\n",
        "\n",
        "# `TextVectorization` layer needs to be adapted as per the vocabulary from our\n",
        "# training set.\n",
        "with tf.device(\"/CPU:0\"):\n",
        "    text_vectorizer.adapt(train_dataset.map(lambda text, label: text))\n",
        "\n",
        "train_dataset = train_dataset.map(\n",
        "    lambda text, label: (text_vectorizer(text), label), num_parallel_calls=auto\n",
        ").prefetch(auto)\n",
        "validation_dataset = validation_dataset.map(\n",
        "    lambda text, label: (text_vectorizer(text), label), num_parallel_calls=auto\n",
        ").prefetch(auto)\n",
        "test_dataset = test_dataset.map(\n",
        "    lambda text, label: (text_vectorizer(text), label), num_parallel_calls=auto\n",
        ").prefetch(auto)\n"
      ]
    },
    {
      "cell_type": "markdown",
      "metadata": {
        "id": "t9fDpf5YCMK7"
      },
      "source": [
        "## Create a text classification model\n"
      ]
    },
    {
      "cell_type": "code",
      "execution_count": null,
      "metadata": {
        "id": "LqayRS4ZCMK7"
      },
      "outputs": [],
      "source": [
        "\n",
        "def make_model():\n",
        "    shallow_mlp_model = keras.Sequential(\n",
        "        [\n",
        "            layers.Dense(512, activation=\"relu\"),\n",
        "            layers.Dropout(0.2),\n",
        "            layers.Dense(512, activation=\"relu\"),\n",
        "            layers.Dropout(0.1),\n",
        "            layers.Dense(256, activation=\"relu\"),\n",
        "            layers.Dense(lookup.vocabulary_size(), activation=\"sigmoid\"),\n",
        "        ]\n",
        "    )\n",
        "    return shallow_mlp_model\n"
      ]
    },
    {
      "cell_type": "markdown",
      "metadata": {
        "id": "hJNr3ifJCMK7"
      },
      "source": [
        "## Train the model"
      ]
    },
    {
      "cell_type": "code",
      "execution_count": null,
      "metadata": {
        "id": "kdj8wf0FCMK7",
        "colab": {
          "base_uri": "https://localhost:8080/",
          "height": 436
        },
        "outputId": "67b19ea9-6c14-432d-bc8d-082c13ec903e"
      },
      "outputs": [
        {
          "output_type": "stream",
          "name": "stdout",
          "text": [
            "Epoch 1/10\n",
            "384/384 [==============================] - 11s 25ms/step - loss: 0.4881 - precision: 0.6067 - recall: 0.4191 - val_loss: 0.2526 - val_precision: 0.7831 - val_recall: 0.6857\n",
            "Epoch 2/10\n",
            "384/384 [==============================] - 9s 23ms/step - loss: 0.2600 - precision: 0.7862 - recall: 0.6511 - val_loss: 0.2330 - val_precision: 0.8203 - val_recall: 0.6896\n",
            "Epoch 3/10\n",
            "384/384 [==============================] - 9s 23ms/step - loss: 0.2380 - precision: 0.8113 - recall: 0.6840 - val_loss: 0.2241 - val_precision: 0.8230 - val_recall: 0.7043\n",
            "Epoch 4/10\n",
            "384/384 [==============================] - 9s 24ms/step - loss: 0.2260 - precision: 0.8220 - recall: 0.6986 - val_loss: 0.2199 - val_precision: 0.8247 - val_recall: 0.7053\n",
            "Epoch 5/10\n",
            "384/384 [==============================] - 9s 23ms/step - loss: 0.2177 - precision: 0.8290 - recall: 0.7073 - val_loss: 0.2150 - val_precision: 0.8295 - val_recall: 0.7081\n",
            "Epoch 6/10\n",
            "384/384 [==============================] - 9s 23ms/step - loss: 0.2113 - precision: 0.8346 - recall: 0.7149 - val_loss: 0.2124 - val_precision: 0.8208 - val_recall: 0.7194\n",
            "Epoch 7/10\n",
            "384/384 [==============================] - 9s 23ms/step - loss: 0.2052 - precision: 0.8385 - recall: 0.7211 - val_loss: 0.2112 - val_precision: 0.8255 - val_recall: 0.7171\n",
            "Epoch 8/10\n",
            "384/384 [==============================] - 10s 25ms/step - loss: 0.2002 - precision: 0.8434 - recall: 0.7298 - val_loss: 0.2062 - val_precision: 0.8339 - val_recall: 0.7195\n",
            "Epoch 9/10\n",
            "384/384 [==============================] - 9s 25ms/step - loss: 0.1951 - precision: 0.8467 - recall: 0.7365 - val_loss: 0.2054 - val_precision: 0.8273 - val_recall: 0.7260\n",
            "Epoch 10/10\n",
            "384/384 [==============================] - 9s 24ms/step - loss: 0.1908 - precision: 0.8493 - recall: 0.7436 - val_loss: 0.2033 - val_precision: 0.8294 - val_recall: 0.7276\n"
          ]
        },
        {
          "output_type": "display_data",
          "data": {
            "image/png": "[encoded data removed]",
            "text/plain": [
              "<Figure size 432x288 with 1 Axes>"
            ]
          },
          "metadata": {
            "needs_background": "light"
          }
        },
        {
          "output_type": "display_data",
          "data": {
            "image/png": "[encoded data removed]",
            "text/plain": [
              "<Figure size 432x288 with 1 Axes>"
            ]
          },
          "metadata": {
            "needs_background": "light"
          }
        },
        {
          "output_type": "display_data",
          "data": {
            "image/png": "[encoded data removed]",
            "text/plain": [
              "<Figure size 432x288 with 1 Axes>"
            ]
          },
          "metadata": {
            "needs_background": "light"
          }
        }
      ],
      "source": [
        "epochs = 10\n",
        "\n",
        "shallow_mlp_model = make_model()\n",
        "shallow_mlp_model.compile(\n",
        "    # loss=\"binary_crossentropy\", optimizer=keras.optimizers.Adam(learning_rate = 0.005, beta_1=0.85, beta_2=0.99, epsilon=1e-04), metrics=[tf.keras.metrics.Precision(), tf.keras.metrics.Recall()]\n",
        "    loss=\"binary_crossentropy\", optimizer=keras.optimizers.Adam(), metrics=[tf.keras.metrics.Precision(), tf.keras.metrics.Recall()]\n",
        ")\n",
        "\n",
        "history = shallow_mlp_model.fit(\n",
        "    train_dataset, validation_data=validation_dataset, epochs=epochs,\n",
        ")\n",
        "\n",
        "\n",
        "def plot_result(item):\n",
        "    plt.plot(history.history[item], label=item)\n",
        "    plt.plot(history.history[\"val_\" + item], label=\"val_\" + item)\n",
        "    plt.xlabel(\"Epochs\")\n",
        "    plt.ylabel(item)\n",
        "    plt.title(\"Train and Validation {} Over Epochs\".format(item), fontsize=14)\n",
        "    plt.legend()\n",
        "    plt.grid()\n",
        "    plt.show()\n",
        "\n",
        "\n",
        "plot_result(\"loss\")\n",
        "plot_result(\"precision\")\n",
        "plot_result(\"recall\")"
      ]
    },
    {
      "cell_type": "markdown",
      "metadata": {
        "id": "9SGJuIC_CMK7"
      },
      "source": [
        "## Evaluate the model"
      ]
    },
    {
      "cell_type": "markdown",
      "source": [
        "###Exact Match Radio"
      ],
      "metadata": {
        "id": "uWx9WJkfFCoj"
      }
    },
    {
      "cell_type": "code",
      "source": [
        "def get_y_true_and_y_pred_prob_value():\n",
        "    model_for_evaluate = keras.Sequential([text_vectorizer, shallow_mlp_model])\n",
        "    evaluate_dataset = make_dataset(test_df, is_train=False)\n",
        "\n",
        "    y_true = []\n",
        "    y_pred_prob = []\n",
        "\n",
        "    for text_batch, label_batch in evaluate_dataset:\n",
        "        predicted_probabilities = model_for_evaluate.predict(text_batch)\n",
        "        for i, text in enumerate(text_batch):\n",
        "            label = label_batch[i].numpy()[None, ...]\n",
        "            y_true.append(label[0])\n",
        "            y_pred_prob.append(predicted_probabilities[i])\n",
        "    y_true = np.array(y_true)\n",
        "    y_pred_prob = np.array(y_pred_prob)\n",
        "    return y_true, y_pred_prob\n"
      ],
      "metadata": {
        "id": "q2WLE755ewF1"
      },
      "execution_count": null,
      "outputs": []
    },
    {
      "cell_type": "code",
      "source": [
        "def get_y_pred(y_pred_prob, k=3, threshold=0.5):\n",
        "    y_pred = []\n",
        "    for pred in y_pred_prob:\n",
        "        top_k_labels = [\n",
        "            x\n",
        "            for _, x in sorted(\n",
        "                zip(pred, lookup.get_vocabulary()),\n",
        "                key=lambda pair: pair[0],\n",
        "                reverse=True,\n",
        "            )\n",
        "        ][:k]\n",
        "        y_top_k_labels = np.zeros(y_pred_prob[0].shape[0])\n",
        "        for j in range(len(vocab)):\n",
        "            if(vocab[j] in top_k_labels):\n",
        "                if(pred[j] > threshold):\n",
        "                    y_top_k_labels[j] = 1\n",
        "                else:\n",
        "                    top_k_labels.remove(vocab[j])\n",
        "        y_pred.append(y_top_k_labels)\n",
        "    y_pred = np.array(y_pred)   \n",
        "    return y_pred\n"
      ],
      "metadata": {
        "id": "gstTHRPug2WC"
      },
      "execution_count": null,
      "outputs": []
    },
    {
      "cell_type": "code",
      "source": [
        "y_true, y_pred_prob = get_y_true_and_y_pred_prob_value()\n",
        "for k in range(1,7,1):\n",
        "    for threshold in np.arange(0.3,0.8,0.1):\n",
        "        y_pred = get_y_pred(y_pred_prob, k, threshold)\n",
        "        number_of_test = test_df.shape[0]\n",
        "        from sklearn.metrics import accuracy_score\n",
        "        acc = accuracy_score(y_true, y_pred)\n",
        "        print(f\"With k = {k} and threshold = {round(threshold,1)} - Exact Match Radio accuracy on the test set: {round(acc * 100, 2)}%\")"
      ],
      "metadata": {
        "id": "1hD9Rzb2UQ6S",
        "colab": {
          "base_uri": "https://localhost:8080/"
        },
        "outputId": "e89f49f0-8990-4b6b-f9ff-fb8792923f45"
      },
      "execution_count": null,
      "outputs": [
        {
          "output_type": "stream",
          "name": "stdout",
          "text": [
            "With k = 1 and threshold = 0.3 - Exact Match Radio accuracy on the test set: 57.32%\n",
            "With k = 1 and threshold = 0.4 - Exact Match Radio accuracy on the test set: 57.23%\n",
            "With k = 1 and threshold = 0.5 - Exact Match Radio accuracy on the test set: 56.84%\n",
            "With k = 1 and threshold = 0.6 - Exact Match Radio accuracy on the test set: 55.64%\n",
            "With k = 1 and threshold = 0.7 - Exact Match Radio accuracy on the test set: 53.33%\n",
            "With k = 2 and threshold = 0.3 - Exact Match Radio accuracy on the test set: 52.39%\n",
            "With k = 2 and threshold = 0.4 - Exact Match Radio accuracy on the test set: 57.21%\n",
            "With k = 2 and threshold = 0.5 - Exact Match Radio accuracy on the test set: 58.76%\n",
            "With k = 2 and threshold = 0.6 - Exact Match Radio accuracy on the test set: 57.4%\n",
            "With k = 2 and threshold = 0.7 - Exact Match Radio accuracy on the test set: 54.42%\n",
            "With k = 3 and threshold = 0.3 - Exact Match Radio accuracy on the test set: 51.85%\n",
            "With k = 3 and threshold = 0.4 - Exact Match Radio accuracy on the test set: 57.11%\n",
            "With k = 3 and threshold = 0.5 - Exact Match Radio accuracy on the test set: 58.78%\n",
            "With k = 3 and threshold = 0.6 - Exact Match Radio accuracy on the test set: 57.46%\n",
            "With k = 3 and threshold = 0.7 - Exact Match Radio accuracy on the test set: 54.44%\n",
            "With k = 4 and threshold = 0.3 - Exact Match Radio accuracy on the test set: 51.84%\n",
            "With k = 4 and threshold = 0.4 - Exact Match Radio accuracy on the test set: 57.11%\n",
            "With k = 4 and threshold = 0.5 - Exact Match Radio accuracy on the test set: 58.78%\n",
            "With k = 4 and threshold = 0.6 - Exact Match Radio accuracy on the test set: 57.46%\n",
            "With k = 4 and threshold = 0.7 - Exact Match Radio accuracy on the test set: 54.44%\n",
            "With k = 5 and threshold = 0.3 - Exact Match Radio accuracy on the test set: 51.84%\n",
            "With k = 5 and threshold = 0.4 - Exact Match Radio accuracy on the test set: 57.11%\n",
            "With k = 5 and threshold = 0.5 - Exact Match Radio accuracy on the test set: 58.78%\n",
            "With k = 5 and threshold = 0.6 - Exact Match Radio accuracy on the test set: 57.46%\n",
            "With k = 5 and threshold = 0.7 - Exact Match Radio accuracy on the test set: 54.44%\n",
            "With k = 6 and threshold = 0.3 - Exact Match Radio accuracy on the test set: 51.84%\n",
            "With k = 6 and threshold = 0.4 - Exact Match Radio accuracy on the test set: 57.11%\n",
            "With k = 6 and threshold = 0.5 - Exact Match Radio accuracy on the test set: 58.78%\n",
            "With k = 6 and threshold = 0.6 - Exact Match Radio accuracy on the test set: 57.46%\n",
            "With k = 6 and threshold = 0.7 - Exact Match Radio accuracy on the test set: 54.44%\n"
          ]
        }
      ]
    },
    {
      "cell_type": "markdown",
      "source": [
        "### Hamming Loss"
      ],
      "metadata": {
        "id": "vW9pnKhnYD8w"
      }
    },
    {
      "cell_type": "code",
      "source": [
        "from sklearn.metrics import hamming_loss\n",
        "y_true, y_pred_prob = get_y_true_and_y_pred_prob_value()\n",
        "y_pred = get_y_pred(y_pred_prob, k=3, threshold=0.5)\n",
        "hml = hamming_loss(y_true, y_pred)\n",
        "print(f\"Hamming Loss = {round(hml, 5)}\")"
      ],
      "metadata": {
        "colab": {
          "base_uri": "https://localhost:8080/"
        },
        "id": "7l9QC2icYIIc",
        "outputId": "a8b28d9b-5c90-4049-f65c-7bca28e05eeb"
      },
      "execution_count": null,
      "outputs": [
        {
          "output_type": "stream",
          "name": "stdout",
          "text": [
            "Hamming Loss = 0.08054\n"
          ]
        }
      ]
    },
    {
      "cell_type": "markdown",
      "source": [
        "### Confusion Matrix Metrics"
      ],
      "metadata": {
        "id": "AIN3f9n6vayG"
      }
    },
    {
      "cell_type": "code",
      "source": [
        "from sklearn.metrics import multilabel_confusion_matrix\n",
        "\n",
        "y_true, y_pred_prob = get_y_true_and_y_pred_prob_value()\n",
        "y_pred = get_y_pred(y_pred_prob, k=3, threshold=0.5)\n",
        "\n",
        "m = multilabel_confusion_matrix(y_true, y_pred)\n",
        "\n",
        "for i in range(1,len(m)):\n",
        "    print(\"Multilabel_confusion_matrix_of: \"+vocab[i])\n",
        "    print(m[i])\n",
        "    print()\n",
        "    # print(vocab[i])"
      ],
      "metadata": {
        "id": "7Mb8VGVOuHKQ",
        "colab": {
          "base_uri": "https://localhost:8080/"
        },
        "outputId": "4037fe4c-67ca-46fe-8247-c0cb6560787c"
      },
      "execution_count": null,
      "outputs": [
        {
          "output_type": "stream",
          "name": "stdout",
          "text": [
            "Multilabel_confusion_matrix_of: astro-ph.GA\n",
            "[[6585  603]\n",
            " [ 580 2763]]\n",
            "\n",
            "Multilabel_confusion_matrix_of: astro-ph.SR\n",
            "[[7212  407]\n",
            " [ 990 1922]]\n",
            "\n",
            "Multilabel_confusion_matrix_of: astro-ph.EP\n",
            "[[7776  220]\n",
            " [ 392 2143]]\n",
            "\n",
            "Multilabel_confusion_matrix_of: astro-ph.HE\n",
            "[[8114  251]\n",
            " [ 621 1545]]\n",
            "\n",
            "Multilabel_confusion_matrix_of: astro-ph.IM\n",
            "[[8221  238]\n",
            " [ 776 1296]]\n",
            "\n",
            "Multilabel_confusion_matrix_of: astro-ph.CO\n",
            "[[8593  356]\n",
            " [ 503 1079]]\n",
            "\n"
          ]
        }
      ]
    },
    {
      "cell_type": "markdown",
      "source": [
        "### Precision, Recall, F1_score, micro-average, macro-average metrics"
      ],
      "metadata": {
        "id": "sIhp3ViNdZ7V"
      }
    },
    {
      "cell_type": "code",
      "source": [
        "from sklearn.metrics import classification_report\n",
        "\n",
        "y_pred = get_y_pred(y_pred_prob, k=3, threshold=0.5)\n",
        "\n",
        "print(classification_report(y_true, y_pred,target_names=vocab, zero_division = 0))"
      ],
      "metadata": {
        "id": "VQMRBIQdvkAL",
        "colab": {
          "base_uri": "https://localhost:8080/"
        },
        "outputId": "8bce3f9f-21cb-4cf2-cd21-63296ac252d9"
      },
      "execution_count": null,
      "outputs": [
        {
          "output_type": "stream",
          "name": "stdout",
          "text": [
            "              precision    recall  f1-score   support\n",
            "\n",
            "       [UNK]       0.00      0.00      0.00         0\n",
            " astro-ph.GA       0.82      0.83      0.82      3343\n",
            " astro-ph.SR       0.83      0.66      0.73      2912\n",
            " astro-ph.EP       0.91      0.85      0.88      2535\n",
            " astro-ph.HE       0.86      0.71      0.78      2166\n",
            " astro-ph.IM       0.84      0.63      0.72      2072\n",
            " astro-ph.CO       0.75      0.68      0.72      1582\n",
            "\n",
            "   micro avg       0.84      0.74      0.78     14610\n",
            "   macro avg       0.72      0.62      0.66     14610\n",
            "weighted avg       0.84      0.74      0.78     14610\n",
            " samples avg       0.85      0.80      0.80     14610\n",
            "\n"
          ]
        }
      ]
    },
    {
      "cell_type": "markdown",
      "source": [
        "### Exist 1 in Top k predicts is true Accuracy"
      ],
      "metadata": {
        "id": "M4vCoFXeyACW"
      }
    },
    {
      "cell_type": "code",
      "source": [
        "def top_k_predict_is_true_accuracy(y_true, y_pred_prob, k=3, threshold = 0.5):\n",
        "    score = 0\n",
        "    for i in range(len(y_pred_prob)):\n",
        "            top_k_labels = [\n",
        "                x\n",
        "                for _, x in sorted(\n",
        "                    zip(y_pred_prob[i], lookup.get_vocabulary()),\n",
        "                    key=lambda pair: pair[0],\n",
        "                    reverse=True,\n",
        "                )\n",
        "            ][:k]\n",
        "            y_top_k_labels = np.zeros(y_pred_prob[0].shape[0])\n",
        "            for label in top_k_labels:\n",
        "                if(y_true[i][vocab.index(label)] == 1):\n",
        "                    score += 1\n",
        "                    break\n",
        "    return score/len(y_pred_prob)\n",
        "\n",
        "acc = top_k_predict_is_true_accuracy(y_true, y_pred_prob, 3, 0.5)\n",
        "print(f\"Accuracy: {round(acc, 5)}\")"
      ],
      "metadata": {
        "id": "-8bPEVxXyJv8",
        "colab": {
          "base_uri": "https://localhost:8080/"
        },
        "outputId": "55448a9f-89d1-454a-8018-8a1f95f13d81"
      },
      "execution_count": null,
      "outputs": [
        {
          "output_type": "stream",
          "name": "stdout",
          "text": [
            "Accuracy: 0.98917\n"
          ]
        }
      ]
    },
    {
      "cell_type": "markdown",
      "metadata": {
        "id": "dMBkcIVJCMK8"
      },
      "source": [
        "## Inference"
      ]
    },
    {
      "cell_type": "code",
      "source": [
        "# Create a model for inference.\n",
        "model_for_inference = keras.Sequential([text_vectorizer, shallow_mlp_model])\n",
        "\n",
        "# Create a small dataset just for demoing inference.\n",
        "inference_dataset = make_dataset(test_df.sample(100), is_train=False)\n",
        "text_batch, label_batch = next(iter(inference_dataset))\n",
        "predicted_probabilities = model_for_inference.predict(text_batch)\n",
        "\n",
        "k=6\n",
        "\n",
        "# Perform inference.\n",
        "for i, text in enumerate(text_batch[:50]):\n",
        "    label = label_batch[i].numpy()[None, ...]\n",
        "    print(f\"Abstract: {text[0]}\")\n",
        "    print(f\"Label(s): {invert_multi_hot(label[0])}\")\n",
        "    predicted_proba = [proba for proba in predicted_probabilities[i]]\n",
        "    top_k_labels = [\n",
        "        x\n",
        "        for _, x in sorted(\n",
        "            zip(predicted_probabilities[i], lookup.get_vocabulary()),\n",
        "            key=lambda pair: pair[0],\n",
        "            reverse=True,\n",
        "        )\n",
        "    ][:k]\n",
        "    predicted_proba.sort(reverse = True)\n",
        "    for i in reversed(range(len(predicted_proba)-1)):\n",
        "        if(predicted_proba[i] < 0.3 and len(top_k_labels) > 0):\n",
        "            top_k_labels.pop(i)\n",
        "    print(f\"Predicted Label(s): ({', '.join([label for label in top_k_labels])})\")\n",
        "    print(\" \")"
      ],
      "metadata": {
        "id": "J9Eqxq-rdqlc",
        "colab": {
          "base_uri": "https://localhost:8080/"
        },
        "outputId": "5977d287-1da2-460a-9660-e3e53a16d7bc"
      },
      "execution_count": null,
      "outputs": [
        {
          "output_type": "stream",
          "name": "stdout",
          "text": [
            "Abstract: b'common variable star classifier build goal produce correct class label leave much multi task capability deep neural network unexplored present periodic light curve classifier combine recurrent neural network autoencoder unsupervised feature extraction dual purpose estimation network supervise classification novelty detection estimation network optimize gaussian mixture model reduce dimension feature space gaussian component corresponds variable class estimation network basic structure single hidden layer attains cross validation classification accuracy par conventional workhorse random forest classifier addition photometric feature network capable detect previously unseen type variability precision recall score simultaneous train autoencoder estimation network find mutually beneficial result faster autoencoder convergence superior classification novelty detection performance estimation network also deliver adequate result even optimize pre train autoencoder feature suggest readily extend exist classifier provide add novelty detection capability'\n",
            "Label(s): ['astro-ph.SR' 'astro-ph.IM']\n",
            "Predicted Label(s): (astro-ph.EP)\n",
            " \n",
            "Abstract: b'observe active star xi boo hd high precision broadband linear polarimetry contemporaneously circular spectropolarimetry find signal modulate day rotation period xi boo signal two technique phase consistent broadband linear polarization result differential saturation spectral line global transverse magnetic field mean magnitude linear polarization signal ppm g structure complex amplitude variation suppress relative longitudinal magnetic field result important implication current attempt detect polarize light hot jupiter orbit active star combine light star planet work stellar activity manifest noise time scale stellar rotation longer time scale change activity level manifest baseline shift observe run'\n",
            "Label(s): ['astro-ph.SR']\n",
            "Predicted Label(s): (astro-ph.SR, astro-ph.EP)\n",
            " \n",
            "Abstract: b'advanced actpol advact upgrade atacama cosmology telescope act feature array aluminum manganese transition edge sensor teses optimize ground base observation cosmic microwave background cmb array test show highly responsive detector anticipate band noise performance optical load report tes parameter measure impedance data take subset te compare model noise spectral density measurement find excess noise frequency around hz nearly outside signal band cmb measurement addition describe full array noise measurement laboratory field two new advact mid frequency array sensitive band center ghz data high frequency array ghz deploy'\n",
            "Label(s): ['astro-ph.IM' 'astro-ph.CO']\n",
            "Predicted Label(s): (astro-ph.IM, astro-ph.CO)\n",
            " \n",
            "Abstract: b'describe incorporation polarize radiative transfer atmospheric radiative transfer model code vstar versatile software transfer atmospheric radiation use vector discrete ordinate radiative transfer code able generate map radiance polarization across disc planet integrate get full disc polarization way able obtain disc resolve phase resolve spectrally resolve intensity polarization wide range atmopsheres model vstar test code reproduce standard benchmark problem well compare classic calculation polarization phase curve venus apply code model polarization phase curve hot jupiter system hd find highest polarization amplitude produce optically thick rayleigh scattering cloud would result polarization amplitude ppm planetary signal see combine light star planet realistic cloud model consistent observe transmission spectrum result amplitude ppm decrease optical depth cloud make cloud particle absorb effect increase polarization reflect light reduce amount reflect light hence observed polarization amplitude'\n",
            "Label(s): ['astro-ph.SR' 'astro-ph.EP']\n",
            "Predicted Label(s): (astro-ph.EP)\n",
            " \n",
            "Abstract: b'asteroid family typically form larger parent body undergoes catastrophic collisional disruption family member expect show physical property closely trace composition mineralogical evolution parent recently number new datasets release probe physical property large number asteroid many member identify family review data set composite property asteroid family derive plethora new data also discuss limitation current data open question field'\n",
            "Label(s): ['astro-ph.EP']\n",
            "Predicted Label(s): (astro-ph.GA)\n",
            " \n",
            "Abstract: b'chromospheric model observed difference stellar activity line imperative fully understand upper atmosphere late type star present one dimensional parametrized chromosphere model compute atmosphere code phoenix use underlie photosphere k aim work model chromospheric line sample dwarf observed framework carmenes calar alto high resolution search dwarf exo earth near infrared optical echelle spectrograph exoplanet survey spectral comparison observe data model perform chromospheric line na h alpha bluest ca ii infrared triplet line obtain best fit model star sample find inactive star single model val c like temperature structure sufficient describe simultaneously three line adequately active star rather model combination inactive active model also give fill factor inactive active region moreover fit linear combination variable star yield relationship fill factor activity state indicate active phase couple larger portion active region surface star'\n",
            "Label(s): ['astro-ph.SR']\n",
            "Predicted Label(s): (astro-ph.SR)\n",
            " \n",
            "Abstract: b'cyclotron line feature x ray spectrum accretion power pulsar x observe monitor three decade line energy exhibit slow secular decline period possible confirmed indication reversal thereafter recent work show temporal evolution line energy may model flatten earlier decrease mjd work present result astrosat observation context earlier data offer common interpretation detail study temporal flux dependence find variation line energy support upward trend consistent report flatten earlier decrease mjd'\n",
            "Label(s): ['astro-ph.HE']\n",
            "Predicted Label(s): (astro-ph.HE)\n",
            " \n",
            "Abstract: b'order efficient spectroscopic galaxy redshift survey obtain redshifts galaxy population target miss galaxy often cluster commonly lead lower proportion successful observation dense region one example close pair issue sdss spectroscopic galaxy survey deficit pair observed galaxy angular separation closer hardware limit place neighbour fiber spatially cluster miss observation exist next generation survey various scheme previously suggest mitigate effect none work situation argue solution link miss galaxy observe statistically equivalent cluster property best way rerun target algorithm vary angular position observation provide every pair non zero probability observe one realisation algorithm pair upweighting scheme link target successful observation correct issue present scheme demonstrate validity use realisation idealise simple survey strategy'\n",
            "Label(s): ['astro-ph.CO']\n",
            "Predicted Label(s): (astro-ph.GA, astro-ph.CO)\n",
            " \n",
            "Abstract: b'similar case solar system planet reflect starlight exoplanets expect polarized due atmospheric scatter net disk integrate polarization non zero owe asymmetrical illumination planetary disk computation disk integrate reflected flux state polarization involve technique calculation local reflection matrix well numerical recipe integration planetary disk paper present novel approach calculate azimuth dependent reflect intensity vector location planetary disk divide grid achieve solve vector radiative transfer equation describe linear polarization calculation incorporate self consistent atmospheric model exoplanets wide range equilibrium temperature surface gravity atmospheric composition cloud structure comparison flux amount polarization calculate consider single multiple scatter exhibit effect depolarization due multiple scatter light depend scatter albedo atmosphere benchmarked basic calculation exist model also present model hot jupiter hd b indicate level precision require future observation detect polarization planet optical near infrared wavelength region generic nature accuracy offer model make effective tool model future observation polarize light reflect exoplanets'\n",
            "Label(s): ['astro-ph.SR' 'astro-ph.EP' 'astro-ph.IM']\n",
            "Predicted Label(s): (astro-ph.EP)\n",
            " \n",
            "Abstract: b'present analysis intracluster light frontier field cluster mac z combine new archival hubble ir image provide continuous radial coverage mpc brightest cluster galaxy employ careful treatment potential systematic bias use data largest radius determine background sky level reconstruct surface brightness profile radius mpc radius largest intracluster light icl measure individual cluster within radius measure total luminosity lsun brightest cluster galaxy plus icl light profile logarithmic slope identify transition brightest cluster galaxy icl r kpc remarkably also detect inflection profile center mpc radial bin signature infall caustic stellar distribution base upon shape strength feature interpret potentially splashback radius although radius smaller theoretical prediction splashback radius first detection icl first detection splashback radius individual cluster similar analysis possible frontier field cluster eventually cluster euclid roman mission'\n",
            "Label(s): ['astro-ph.CO']\n",
            "Predicted Label(s): (astro-ph.GA, astro-ph.CO)\n",
            " \n",
            "Abstract: b'evolution atmosphere low intermediate mass planet strongly connect physical property host star type past activity planet host star therefore affect overall planetary population paper perform comparative study sub neptune like planet orbit star different mass different evolutionary history discuss general pattern evolve population function parameter environment planet model atmospheric evolution employ framework combine planetary evolution mesa realistic prescription escape hydrogen dominate atmosphere find final population look qualitatively similar term atmosphere survival around different star qualitatively different difference accentuate planet orbit massive star show planet larger chance keep primordial atmosphere habitable zone solar mass star compare k dwarf start evolution relatively compact envelope also address problem uncertain initial temperature luminosities planet show issue particular importance planet expose extreme atmospheric mass loss'\n",
            "Label(s): ['astro-ph.SR' 'astro-ph.EP']\n",
            "Predicted Label(s): (astro-ph.EP, astro-ph.SR)\n",
            " \n",
            "Abstract: b'present newly implement single pulse pipeline palfa survey efficiently identify single radio pulse pulsars rotate radio transient rrats fast radio burst frbs conduct sensitivity analysis new pipeline multiple single pulse wide range parameter inject palfa data set run pipeline base recovered pulse find pulse width rm ms sensitivity palfa pipeline factor rm sim less sensitive single pulse theoretical prediction pulse widths rm m rm dm decrease degradation sensitivity get worse increase factor rm sim use pipeline thus far discovered pulsar rrats identify candidate rrats candidate frb confirm pulsar rrats dms range pc cm flux density range mjy pulsar period range report candidate frb argue likely astrophysical extragalactic rm dm simeq pc cm represent excess galactic maximum along line sight rm sim pc cm consider implication frb population show via simulation frb real extragalactic slope alpha distribution integral source count function flux density n propto alpha pm confidence range however conclusion dependent several assumption require verification'\n",
            "Label(s): ['astro-ph.HE']\n",
            "Predicted Label(s): (astro-ph.GA, astro-ph.HE)\n",
            " \n",
            "Abstract: b'report result new spectroscopic monitoring campaign quasar pg calar alto observatory telescope july february significant variation flux continuum broad emission line include h beta ii observe first third year clear time lag measure broad h beta line profile consist two gaussian component intermediate width h beta rm ic full width half maximum fwhm pm rm km another broad h beta rm vbc fwhm pm rm km h beta rm ic long time lags sim day rest frame h beta rm vbc show nearly zero time delay respect optical continuum aa velocity resolve delay show consistent result lags sim day core broad h beta line roughly zero lags wing h beta rm ic redshift sim rm km seem stable nearly year compare archive spectrum may originate infall root mean square rms spectrum h beta rm vbc show double peak profile brighter blue peak extend red wing first year match signature thin disk double peak profile near zero lag suggest h beta rm vbc come region associate part accretion disc emit optical continuum adopt fwhm rms spectrum time lag measure total h beta line virial factor obtain virial mass odot central black hole quasar'\n",
            "Label(s): ['astro-ph.GA']\n",
            "Predicted Label(s): (astro-ph.GA, astro-ph.HE)\n",
            " \n",
            "Abstract: b'present first lofar observation radio jet quasar k pks obtain long baseline achieve resolution well match archival jansky large array jvla observation higher radio frequency well archival x ray image obtain chandra found several knot along jet radio flux density measure hundred mhz lie well value estimate extrapolate ghz spectra clearly indicate presence spectral curvature radio spectral curvature already observe different source class extend radio structure often interpret due intrinsic process curve particle energy distribution rather absorption mechanism razin tsytovich effect free free synchrotron self absorption name discus result accord scenario particle undergo stochastic acceleration mechanism also quasar jet knot'\n",
            "Label(s): ['astro-ph.GA' 'astro-ph.HE']\n",
            "Predicted Label(s): (astro-ph.HE, astro-ph.GA)\n",
            " \n",
            "Abstract: b'although dwarf know high level stellar activity ideal target search low mass exoplanets radial velocity rv method report discovery planetary mass companion around lspm v confirm existence planet orbit gj bd v discovery planet around lspm base carmenes rv observation visual near infrared channel confirm planet orbit around gj analyze rv data span two decade observation carmenes vis harp n harp hire find planetary signal rv data lspm gj respectively additionally rv photometric time series various spectroscopic indicator show hint variation lspm gj attribute stellar rotation period orbital parameter planet model keplerian fit together correlate noise stellar activity mini neptune minimum mass orbit lspm produce rv semi amplitude super earth mass orbit gj produce rv semi amplitude lspm gj planetary companion populate regime exoplanets mass lower orbital period'\n",
            "Label(s): ['astro-ph.SR' 'astro-ph.EP']\n",
            "Predicted Label(s): (astro-ph.EP)\n",
            " \n",
            "Abstract: b'paper describe visualization toolkit sator design read analyze visualize simulation data move mesh code arepo write python employ graphical user interface base tkinter module provide interactive intuitive user experience three snapshot format employ arepo support include format individual snapshot field example cell coordinate read interactively need refine field use plot example temperature construct snapshot field introduce line code sator currently support generation image slice projection zoom move rotate minimal computational effort furthermore various phase space line plot create due modular nature additional analysis plot routine easily implement construction code well document intend free open source member astrophysical community may contribute'\n",
            "Label(s): ['astro-ph.IM' 'astro-ph.CO']\n",
            "Predicted Label(s): (astro-ph.IM)\n",
            " \n",
            "Abstract: b'axionlike particle alp could mix photon presence astrophysical magnetic field search effect gamma ray observation blazars provide strongest constraint alp parameter space far previously photon photon dispersion gamma ray cmb show important calculation universally include alp photon mix model assess effect dispersion photon field within blazar produce accretion disk broad line region dust torus starlight synchrotron field model jet field flat spectrum radio quasar propagate alps model without full dispersion calculation find full dispersion calculation strongly affect mix particularly energy gev often reduce alp photon conversion probability could implications future search plan e g cherenkov telescope array particularly look reduce opacity universe highest energy'\n",
            "Label(s): ['astro-ph.HE']\n",
            "Predicted Label(s): (astro-ph.HE)\n",
            " \n",
            "Abstract: b'machine learn enter awareness heliophysics community solar flare prediction become topic increased interest although machine learning model advance successive publication input data remain largely fix magnetic feature despite increased model complexity result seem indicate photospheric magnetic field data alone may wholly sufficient source data flare prediction first time extend study flare prediction spectral data work use deep neural network monitor change several feature derive strong resonant mg ii h k line observe iris feature descend order predictive capability triplet emission text aa line core intensity total continuum emission h k line core k h ratio line width follow several line feature asymmetry line center region flare generate spectrum distinguishable non flare active region spectrum algorithm correctly identify pre flare spectra approximately minute start flare auc accuracy precision recall accuracy auc monotonically increase respectively move closer time start flare study indicate spectral data alone lead good predictive model consider additional source information alongside photospheric magnetograms'\n",
            "Label(s): ['astro-ph.SR']\n",
            "Predicted Label(s): (astro-ph.SR)\n",
            " \n",
            "Abstract: b'large scale galactic wind drive stellar feedback one phenomenon influence dynamical chemical evolution galaxy redistribute material throughout circumgalatic medium non thermal feedback galactic cosmic ray crs high energy charge particle accelerate supernovae young star impact efficiency wind drive stream instability limit speed escape however presence turbulence stream instability subject suppression depend magnetization turbulence give alfv en mach number previous simulation rely simplified model cr transport show super alfv enic stream cr enhances galactic wind present paper take account realistic model stream suppression perform three dimensional magnetohydrodynamic simulation section galactic disk find turbulent damp dependent local magnetization turbulent interstellar medium ism lead spatially extend gas cr distribution compare earlier streaming calculation scale height distribution increase stronger turbulence result indicate star formation rate increase level turbulence ism also find instantaneous wind mass load sensitive local stream physic mass load drop significantly strength turbulence increase'\n",
            "Label(s): ['astro-ph.HE']\n",
            "Predicted Label(s): (astro-ph.GA, astro-ph.HE)\n",
            " \n",
            "Abstract: b'tidal disruption event tdes occur star pass close enough galaxy supermassive black hole disrupt tidal force discuss new observation tde observe ngc mpc november karl g jansky large array jvla also discuss reanalysis swift xmm newton observation well new late time swift observation jvla observation show decay nuclear radio flux plateau see significant factor radio flare radio flare also accompany radio spectral change see x ray model flare result interaction nuclear jet cloud interstellar medium distinct late time x ray flare tdes change accretion state fallback event suggest neither appear possible case reanalysis swift xmm newton data show significant evidence thermal emission disk well soft power law addition extreme x ray flux increase see factor bolster identification tde unusual agn variability event'\n",
            "Label(s): ['astro-ph.GA' 'astro-ph.HE']\n",
            "Predicted Label(s): (astro-ph.HE, astro-ph.GA)\n",
            " \n",
            "Abstract: b'high precision astrometry require accurate point spread function model accurate geometric distortion correction paper demonstrate possible achieve requirement data collect high acuity wide field k band imager hawk wide field imager instal nasmyth focus vlt eso telescope final astrometric precision reach mas per coordinate well expose star single image systematic error less mas construct calibrate astro photometric catalog atlas seven field baade window ngc ngc ngc ngc ngc james webb space telescope calibration field large magellanic cloud make catalog image electronically available community furthermore demonstration efficacy approach combine archival material take optical wide field imager mpi eso hawk observation show able achieve excellent separation cluster member field object ngc ngc time base line year use hst hawk data also study radial distribution sgb population ngc conclude radial trend flat within uncertainty also provide membership probability star ngc ngc catalog estimate membership publish variable star two field'\n",
            "Label(s): ['astro-ph.GA' 'astro-ph.SR' 'astro-ph.IM']\n",
            "Predicted Label(s): (astro-ph.IM, astro-ph.GA)\n",
            " \n",
            "Abstract: b'quasar driven outflow must make significant impact galaxy formation epoch massive galaxy form rapidly study impact quasar feedback conduct rest frame optical integral field spectrograph ifs observation three extremely red quasar erqs one type quasar z obtain nifs osiris instrument gemini north w keck observatory assistance laser guide adaptive optic use kinematics morphology oiii aa h alpha aa emission line redshifted near infrared gauge extent kinetic energy momentum flux ionize outflow quasar host galaxy erqs galactic scale outflow likely driven radiation pressure high column density environment due adiabatic shock type quasar outflow drive radiation pressure low column density environment due radiative shock outflow erqs carry significant amount energy range quasar bolometric luminosity powerful enough significant impact quasar host galaxy however outflows likely impact inner kpc host galaxy observe outflow size generally smaller ionized outflow observe high redshift high ratio momentum flux ionize outflow photon momentum flux quasar accretion disk high nuclear obscuration make erqs great candidate transitional object outflows likely responsible clear material inner region galaxy unveil quasar accretion disk optical wavelength'\n",
            "Label(s): ['astro-ph.GA']\n",
            "Predicted Label(s): (astro-ph.GA, astro-ph.HE)\n",
            " \n",
            "Abstract: b'survey hi extremely low mass dwarf shield include volumetrically complete sample gas rich dwarf hi msun select alfalfa survey obtain extensive follow observation shield galaxy study gas stellar chemical content well understand galaxy evolution faint end hi mass function investigate property shield galaxy use hubble space telescope image resolve star westerbork synthesis radio telescope observation neutral hydrogen measure tip red giant branch trgb distance star formation activity gas property trgb distance greater estimate flow model highlight importance velocity independent distance indicator nearby universe shield galaxy dense region locate void one galaxy appear paired massive dwarf quantify galaxy property low mass include stellar hi mass sfrs ssfrs sfes birthrate parameter gas fraction lowest mass system lie mass threshold stellar mass assembly predict impacted reionization even find star formation property follow trend higher mass gas rich system albeit different normalization hi disk small r kpc make difficult measure hi rotation use standard technique develop new methodology report velocity extent associate spatial extent robust uncertainty'\n",
            "Label(s): ['astro-ph.GA']\n",
            "Predicted Label(s): (astro-ph.GA)\n",
            " \n",
            "Abstract: b'aperture array play major role radio astronomy since field emerge result long distance communication test perform karl jansky early root technology extend back beyond marconi although first electronically scan instrument appear run world war ii war phase array major impact many walk life include astronomy astrophysics major progress make understanding nature radio sky include discovery pulsar despite early success parabolic dish largely replaced aperture array right end century technological advance area signal processing digital electronics low power high performance super compute large capacity data storage system recently lead substantial revival use aperture array especially frequency mhz compose simple antenna commercially available low noise room temperature amplifier aperture array huge collect area synthesize relatively low cost multiple beam multiple field view rapidly form electronically steer across sky astronomer begin grapple new possibility next goal see system move higher ghz frequency aperture array operate frequency ghz expect form substantial part square kilometre array ska'\n",
            "Label(s): ['astro-ph.IM']\n",
            "Predicted Label(s): (astro-ph.IM)\n",
            " \n",
            "Abstract: b'strong alignment small scale turbulent alfv enic motion direction magnetic field percolate small scale eddy imprint direction magnetic field property follow mhd theory theory turbulent reconnection alfv enic eddy mix magnetic field perpendicular direction local magnetic field type motion use trace magnetic field velocity gradient technique vgt type turbulent motion fast mode induces anisotropy orthogonal alfv enic eddy interfere trace magnetic field vgt report new effect e magnetically dominate low beta subsonic medium fast modes intermittent volume small filling factor fast mode dominate turbulent motion identify localized region cause occasional change direction gradient synthetic observation show new technique measure gradient gradient amplitude suppress contribution fast mode dominate region improve magnetic field trace addition show distortion gradient measurement fast mode also applicable synchrotron intensity gradient effect reduce compare vgt'\n",
            "Label(s): ['astro-ph.GA']\n",
            "Predicted Label(s): (astro-ph.SR)\n",
            " \n",
            "Abstract: b'process lead deformation destruction planet spiral convective envelope host star describe planet compress ram pressure deform flattened shape quantitative model develop compression increase planet density contrast envelope gravitational binding energy increase survivability especially gas planet estimate give depth disruption ram pressure subsequent fragmentation remnant show debris rocky iron planet instead mix convection zone sink base convection zone time scale entire sequence event order orbital time planet spiral partly icy rocky iron planet happen pre main sequence sun could account higher opacity base convection zone infer helioseismology'\n",
            "Label(s): ['astro-ph.EP']\n",
            "Predicted Label(s): (astro-ph.EP)\n",
            " \n",
            "Abstract: b'european space agency rosetta spacecraft en route encounter comet churyumov gerasimenko make gravity assist swing mar february closest approach alice instrument board rosetta lightweight far ultraviolet image spectrograph optimize situ cometary spectroscopy spectral band use study daytime mar upper atmosphere include emission exospheric hydrogen oxygen offset point obtain five hour closest approach enable us detect map hi lyman alpha lyman beta emission exospheric hydrogen beyond km planet center data fit chamberlain exospheric model derive hydrogen density km exobase h escape flux result comparable found ultraviolet spectrometer experiment mariner fly bys mar atomic oxygen emission detect altitude km limb limb scan shortly closest approach however derive oxygen scale height consistent recent model oxygen escape base production suprathermal oxygen atom dissociative recombination'\n",
            "Label(s): ['astro-ph.EP']\n",
            "Predicted Label(s): (astro-ph.EP)\n",
            " \n",
            "Abstract: b'light curve gamma ray pulsar detect fermi large area telescope show great variety profile shape position relative radio profile diversity hint distinct underlie magnetospheric emission geometry individual pulsar implement offset dipole magnetic field exist geometric pulsar model code already include static retard vacuum dipole field model offset characterise parameter epsilon epsilon correspond static dipole case construct sky map light curve several pulsar parameter magnetic field study effect offset dipole result light curve standard two pole caustic emission geometry use application compare model light curve fermi data bright vela pulsar'\n",
            "Label(s): ['astro-ph.HE' 'astro-ph.IM']\n",
            "Predicted Label(s): (astro-ph.HE)\n",
            " \n",
            "Abstract: b'era next generation giant telescope require advent new technology also development novel method order exploit fully extraordinary potential build global multi conjugate adaptive optic gmcao pursues approach goal achieve good performance field view arcmin increase sky coverage article show gain offer technique astrophysical application photometric survey strategy apply chandra deep field south case study simulate close real observation x arcsec extragalactic deep field class telescope implement gmcao analysed mock k band image high redshift z galaxy therein real recover initial input parameter attain per cent completeness source detection sextractor also measure morphological parameter source two dimensional fitting tool galfit agreement find recover intrinsic parameter demonstrate gmcao reliable approach assist extremely large telescope elt observation extragalactic interest'\n",
            "Label(s): ['astro-ph.IM']\n",
            "Predicted Label(s): (astro-ph.IM, astro-ph.CO)\n",
            " \n",
            "Abstract: b'astrometry photometry gaia spectroscopic data gaia eso survey ge use identify lithium depletion boundary ldb young cluster ngc specialise spectral line analysis procedure use recover signature undepleted lithium low luminosity cluster member age pm myr infer compare ldb location absolute colour magnitude diagram cmds prediction standard model twice age derive fitting isochrone low mass star cmd model much closer agreement ldb cmd age obtain model incorporate magnetically suppress convection flux block dark magnetic starspots best agreement find age myr model high level magnetic activity starspot coverage fraction per cent although uniformly high spot coverage match cmd well across full luminosity range consider'\n",
            "Label(s): ['astro-ph.GA' 'astro-ph.SR']\n",
            "Predicted Label(s): (astro-ph.GA, astro-ph.SR)\n",
            " \n",
            "Abstract: b'nitrogen one abundant metal interstellar medium ism thus constitute excellent test study variety astrophysical environment range nova active galactic nucleus present detailed analysis gaseous component n k edge use high resolution xmm newton spectra galactic extragalactic source source estimate column density rm n sc rm n sc ii rm n sc iii rm n sc v rm n sc vi rm n sc vii ionic specie trace cold warm hot phase local galactic interstellar medium find cold warm component column density decrease galactic latitude hot component moreover cold column density distribution good agreement uv measurement first detailed analysis nitrogen k edge absorption due ism use high resolution x ray spectrum'\n",
            "Label(s): ['astro-ph.HE']\n",
            "Predicted Label(s): (astro-ph.GA)\n",
            " \n",
            "Abstract: b'work explore role jet property spectral evolution sample fermi lat bright blazars compose primarily flat spectrum radio quasars fsrqs introduce near equipartition log parabola nelp model fit quasi simultaneous multi waveband spectral energy distribution seds markov chain monte carlo mcmc method employ determine best value spectral parameter error correlation synchrotron peak luminosity l pk peak frequency nu pk ssc dominant factor xi nu pk implication spectral evolution study statistical analysis comparison theoretical approximation indicate spectral evolution l pk nu pk plane may ascribe variation characteristic energy gamma br prime employ electron energy distribution eed quantity must vary well spectral evolution xi nu pk plane magnetic field b prime may play dominant role gamma br prime may consider subdominant role variation beam factor delta b may mainly responsible absence possible correlation since b prime strongly anti correlate size radiation zone r b prime relation agreement derive analytical theory self consistent underling acceleration mechanism employ eed assume conical jet open angle theta op gamma b find gamma ray emission site locate distance cm'\n",
            "Label(s): ['astro-ph.HE']\n",
            "Predicted Label(s): (astro-ph.HE)\n",
            " \n",
            "Abstract: b'perform joint bao rsd analysis use eboss lrg elg sample redshift range z detect rsd signal cross power spectrum sigma confidence level e f sigma z rm eff base chained power spectrum new development work mitigate angular systematics measurement bao distance growth rate simultaneously two effective redshift namely rm r rm z rm h r rm z f sigma z rm r rm z rm h r rm z f sigma z combine bao measurement include eboss qso lyman alpha sample measurement raise significance level nonzero omega rm lambda sigma'\n",
            "Label(s): ['astro-ph.CO']\n",
            "Predicted Label(s): (astro-ph.CO)\n",
            " \n",
            "Abstract: b'observe delay time distribution dtd type ia supernova sne ia valuable probe sn ia progenitor physic role sne ia cosmic metal enrichment sn ia rate galaxy cluster function cluster redshift almost direct measure dtd current estimate limit mean redshift z corresponding time delay cluster star formation gyr analyze data hubble space telescope monitoring project galaxy cluster z discover sne present multi band light curve base sn photometry apparent host galaxy assess cluster membership sn type finding case likely sne ia cluster galaxy case possible certain cluster sne ia conduct simulation estimate sn detection efficiency experiment completeness photometric error perform photometry cluster galaxy derive cluster stellar mass separate cluster sample high z low z bin obtain rest frame sn ia rate per unit form stellar mass time rm yr rm odot mean redshift z time rm yr rm odot z combine result previous cluster sn ia rate fit dtd delay gyr power law dependence alpha alpha confirm previous indication hubble time integrate sn ia production efficiency several time higher galaxy cluster field perhaps cause peculiar stellar initial mass function cluster higher incidence binary evolve sne ia'\n",
            "Label(s): ['astro-ph.GA']\n",
            "Predicted Label(s): (astro-ph.GA, astro-ph.CO)\n",
            " \n",
            "Abstract: b'study galaxy merger fraction dependence star formation mode square degree north ecliptic pole wide field select galaxy withakari mu detection identify merger among use gini coefficientand subaru hsc optical image obtain total infraredluminosity star formation rate galaxy use spectral energy distributiontemplates base one band akari mu classify galaxy three differentstar formation mode e starbursts main sequence quiescent galaxy andcalculate merger fraction find merger fraction galaxiesincrease redshift atz merger fraction starbursts higher thanthose main sequence quiescent galaxy redshift bin also examinethe merger fraction far infrared detected galaxy least one detectionfromherschel spire find thatherscheldetected galaxy higher mergerfraction compare non herscheldetected galaxy bothherscheldetected andnon herscheldetected galaxy show clearly different merger fraction depend onthe star formation mode'\n",
            "Label(s): ['astro-ph.GA']\n",
            "Predicted Label(s): (astro-ph.GA, astro-ph.CO)\n",
            " \n",
            "Abstract: b'earth earliest sedimentary record contain evidence surface temperature similar perhaps even warmer modern contrast standard solar model suggest sun less luminous ancient epoch imply cold frozen planet else keep equal discrepancy know faint young sun paradox remain unresolved proposed solution invoke high concentration greenhouse gas early atmosphere offset fainter sun though current geological constraint insufficient verify falsify scenario work examined several simple mechanism involve role play earth spin rate significantly faster archean time faster spin rate enhances equator pole temperature gradient facilitate warm equator maintain cold pole result show enhanced meridional gradient augments meridional gradient carbonate deposition bias survive geological record away global mean toward warmer water moreover use simple atmospheric model find faster spin earth less sensitive ice albedo feedback facilitate larger meridional temperature gradient succumb global glaciation show within faster spin regime greenhouse warm require generate ice free earth differ require generate earth permanent ice cap equivalent order magnitude accordingly resolution faint young sun problem depend significantly whether early earth ever even time ice free'\n",
            "Label(s): ['astro-ph.EP']\n",
            "Predicted Label(s): (astro-ph.EP)\n",
            " \n",
            "Abstract: b'base high quality n body simulation double bar galaxy model investigate evolution bar property include size strength instantaneous pattern speed derive use three distinct method fourier jacobi integral moment inertia method interaction two bar rotate distinct speed primarily affect size strength pattern speed inner bar two bar perpendicular size pattern speed inner bar decrease strength increase emergence strong fourier mode increase oscillation amplitude size strength pattern speed inner bar hand characteristic outer bar substantially influence adjacent spiral structure spiral structure disappear size outer bar increase strength pattern speed decrease consequently ratio pattern speed outer bar respect inner bar constant increase time overall double bar disk system display substantial high frequency semi chaotic fluctuation pattern strengths speed space time superpose slow secular evolution invalidate assumption action individual star well conserve bar galaxy milky way'\n",
            "Label(s): ['astro-ph.GA']\n",
            "Predicted Label(s): (astro-ph.GA, astro-ph.CO)\n",
            " \n",
            "Abstract: b'galaxy evolution probe gep concept mid far infrared space observatory measure key property large sample galaxy large unbiased survey gep attempt achieve zodiacal light galactic dust emission photon background limit observation utilize kelvin meter primary mirror sensitive array kinetic inductance detector two instrument module micron hyperspectral imager spectral resolution r gep micron r grate spectrometer gep gep survey identify star form galaxy via thermal dust emission simultaneously measure redshift use polycyclic aromatic hydrocarbon emission line galaxy luminosity derive star formation nuclear supermassive black hole accretion measure source enable cosmic star formation history measure much greater precision previously possible use optically thin far infrared fine structure line survey gep measure growth metallicity hearts galaxy cosmic time extraplanar gas map spiral galaxy local universe investigate feedback process science case mission architecture design meet science requirement describe kinetic inductance detector readout electronics state art need development describe paper supersedes gep concept study report cite provide new content include summary recent mid infrared kid development discussion microlens array fabrication mid infrared kid additional context galaxy survey reader interested technical detail may want consult concept study report'\n",
            "Label(s): ['astro-ph.GA' 'astro-ph.IM']\n",
            "Predicted Label(s): (astro-ph.GA, astro-ph.CO)\n",
            " \n",
            "Abstract: b'paper present unify scheme base fluid description dark sector universe scheme capture model interaction dark energy dark matter core generalization time vary equation state parameter omega time dependent interaction interaction function epsilon scale factor furthermore propose thermodynamics constraint generalized class model use law thermodynamics combine observational data order test observational viability unify model perform bayesian analysis use cosmic chronometer type ia supernovae cosmic microwave background angular baryon acoustic oscillation measurement'\n",
            "Label(s): ['astro-ph.CO']\n",
            "Predicted Label(s): (astro-ph.CO)\n",
            " \n",
            "Abstract: b'present new simulation flux power spectrum lyman alpha forest mean investigate effect time dependent dark energy structure formation use linearize parameterization time dependence dark energy equation state sample parameter w w extremum allow observational value determine planck result choose w w pair use high resolution large scale cosmological simulation run modify version publicly available sph code tt gadget simulation extract synthetic lyman alpha forest spectra calculate flux power spectrum use k sample anderson darling test analyze effect dark energy lyman alpha forest compare dark energy power spectrum due cosmological constant power spectrum find however marginal effect choice allow dark energy model flux power spectrum'\n",
            "Label(s): ['astro-ph.CO']\n",
            "Predicted Label(s): (astro-ph.CO)\n",
            " \n",
            "Abstract: b'small scale magnetic field ubiquitous solar surface even high latitude observation know field uncorrelated perhaps even weakly anticorrelated global sunspot cycle aim explore origin particularly cycle dependence phenomenon use three dimensional dynamo simulation adopt simple model turbulent dynamo shear box drive helically force turbulence depend dynamo parameter large scale global small scale local dynamo excite independently model base simulation different parameter regime find large scale dynamo operate system small scale magnetic field generate shred tangle large scale magnetic field positively correlate global magnetic cycle however dynamos operate small scale field produce small scale dynamo tangle large scale field situation large scale field weaker equipartition value turbulence small scale field almost uncorrelated large scale magnetic cycle hand large scale field stronger equipartition value observe anticorrelation small scale field large scale magnetic cycle anticorrelation interpret suppression small scale dynamo base study conclude observe small scale magnetic field sun generate combined mechanism small scale dynamo tangle large scale field'\n",
            "Label(s): ['astro-ph.SR' 'astro-ph.EP' 'astro-ph.IM']\n",
            "Predicted Label(s): (astro-ph.SR)\n",
            " \n",
            "Abstract: b'present new large binocular telescope hubble space telescope spitzer space telescope data fail supernova candidate also report unsuccessful attempt detect candidate chandra lsun red supergiant progenitor underwent outburst since disappear optical lbt data may october upper limit increase r band luminosity source lsun hst spitzer observation show source continue fade near ir mid ir fade approximately factor october september lsun h band model spectral energy distribution inconsistent survive star obscure either ongoing wind dust form transient disappearance remain consistent fail supernova'\n",
            "Label(s): ['astro-ph.GA' 'astro-ph.SR' 'astro-ph.HE']\n",
            "Predicted Label(s): (astro-ph.GA, astro-ph.SR)\n",
            " \n",
            "Abstract: b'present atacama large millimeter submillimeter array alma karl g jansky large array jvla observation massive infrared dark cloud ngc also know irdc locate southwestern end ngc molecular cloud complex h co nh line cover alma observation sim prime prime angular resolution sim pc reveal spatially unresolved non thermal motion predominantly subsonic transonic condition analogous find low mass star form molecular cloud observe supersonic non thermal velocity dispersion massive star forming region often report literature might significantly bias poor spatial resolution broaden observed line width due unresolved motion within telescope beam mm continuum image resolve dense core whose mass range odot majority resolve multiple velocity component analyse gas velocity component find anti correlation gas mass virial parameter implies massive structure tend gravitationally unstable finally find external pressure ngc cloud important confine dense structure may play role formation dense core subsequently embed young star'\n",
            "Label(s): ['astro-ph.GA' 'astro-ph.SR']\n",
            "Predicted Label(s): (astro-ph.GA, astro-ph.SR)\n",
            " \n",
            "Abstract: b'demographic field astronomy gender balance particular important active area investigation piece information miss discussion gender breakdown applicant pool faculty position sample tenure track faculty position research university advertise last year astronomy astrophysics find ratio female applicant total number applicant little dispersion strong dependence total number applicant discussion provide context fraction woman graduate student postdoctoral researcher assistant professor level strong conclusion possible give limitation study current future faculty search committee likely interested compare number distribution decide whether could attract applicant pool representative community'\n",
            "Label(s): ['astro-ph.IM']\n",
            "Predicted Label(s): (astro-ph.CO)\n",
            " \n",
            "Abstract: b'csi detector high energy x ray telescope hard x ray modulation telescope hxmt csi use gamma ray sky monitoring search electromagnetic counterpart gravitational wave source instrumental response mainly obtain monte carlo simulation tool mass model satellite payload update tested crab pulse emission various incident direction energy channel relationship energy resolution calibrate two work mode normal gain mode low gain mode different detection energy range simulative spectral analysis show hxmt csi constrain spectral parameter much well high energy band low energy band joint spectral analysis perform ten bright grbs observe simultaneously hxmt csi instrument fermi gbm swift bat konus wind result show grb flux give hxmt csi systematically higher give instrument hxmt csi fermi gbm joint fitting also show high energy spectral parameter constrain much better hxmt csi data use joint fitting'\n",
            "Label(s): ['astro-ph.HE' 'astro-ph.IM']\n",
            "Predicted Label(s): (astro-ph.HE)\n",
            " \n",
            "Abstract: b'hyades praesepe pleiades well study stellar cluster anchor important secondary stellar age indicator recent study show main sequence turn base age cluster may depend degree rotation underlie stellar model rotation induce structural instability enhance chemical mix star extend fuel supply addition rotation introduces modulation star observe magnitude color due effect gravity darken aim investigate extent stellar rotation affect age determination star cluster utilize mesa stellar evolution code create model cover range rotation rate correspond omega omega c dex step allow assessment variation dimension statistical analysis package match employ derive age metallicities fit mesa model tycho b v j k color magnitude diagram find derived age relatively insensitive effect rotation hyades praesepe pleiades derive age base synthetic population model distribution rotation rate fix rate across case derive age tend agree roughly within error near myr hyades praesepe pleiades respectively age agreement li depletion boundary base age previous analysis use non rotate isochrone method provide strong constraint metallicities cluster'\n",
            "Label(s): ['astro-ph.SR']\n",
            "Predicted Label(s): (astro-ph.SR, astro-ph.GA)\n",
            " \n",
            "Abstract: b'near infrared wavelength regime become important astrophysics mark lack spectrophotometric standard star data would allow flux calibration data furthermore flux calibrate medium high resolution echelle spectroscopy data challenge even optical wavelength range available flux standard data often coarsely sample provide standard star reference data allow user derive response curve spectroscopic data medium high resolution include take echelle spectrographs addition describe method correct moderate telluric absorption without need observe telluric standard star reference data flux standard star use theoretical spectrum derive stellar model atmosphere verify provide appropriate description observe standard star spectra checking residual line core line overlap region ratio observe x shooter spectra model spectra finally select model spectra correct remain mismatch photometrically calibrate use independent observation correction telluric absorption perform help telluric model provide new finely sample reference spectrum without telluric absorption six southern flux standard star allow user flux calibrate data nm nm method correct telluric absorption use atmospheric model'\n",
            "Label(s): ['astro-ph.SR' 'astro-ph.IM']\n",
            "Predicted Label(s): (astro-ph.SR, astro-ph.IM)\n",
            " \n",
            "Abstract: b'report serendipitous discovery transient x ray source suzaku sim kpc southwest nucleus seyfert galaxy ngc among seven suzaku observation ngc suzaku detect four time july august x ray spectra well approximate multi color disk model power law model first detection july x ray luminosity time erg temperature inner disk radius kt rm kev last detection suzaku august luminosity decrease erg kt rm kev source detect january six month first detection luminosity upper limit erg also find absorption feature similar report cyg x assume standard disk suggest suzaku consist black hole mass sim odot relation disk luminosity kt rm reproduce standard model constant inner radius well approximate slim disk model'\n",
            "Label(s): ['astro-ph.GA' 'astro-ph.HE']\n",
            "Predicted Label(s): (astro-ph.HE)\n",
            " \n",
            "Abstract: b'exoplanets pass front star imprint transit signature stellar light curve date assume symmetric time owe planet model circular area occult stellar surface however signature might asymmetric due different temperature pressure chemical composition different terminator region transit planet catwoman python package allow model asymmetric transit lightcurves calculate lightcurves radially symmetric stellar limb darken law planet model two semi circle different radius use integration algorithm develop arxiv implement batman library catwoman build upon'\n",
            "Label(s): ['astro-ph.EP' 'astro-ph.IM']\n",
            "Predicted Label(s): (astro-ph.EP, astro-ph.SR)\n",
            " \n",
            "Abstract: b'accumulation aberration along optical path telescope produce distortion speckle result image limit performance camera high angular resolution important achieve highest possible sensitivity faint source planet use hardware data analysis software analytic method efficient real system well model numerically model many parameter hard understand optimize apply automatic differentiation software develop machine learning make calculate derivative respect aberration straightforward arbitrary optical system apply powerful new tool enhance high angular resolution astronomical image self calibrate observables closure phase bispectrum widely use optical radio astronomy mitigate optical aberration achieve high fidelity imagery kernel phase generalization closure phase limit small phase error use automatic differentiation reproduce exist kernel phase theory within framework demonstrate extension lyot coronagraph find self calibrate combination speckle resistant phase noise high wavefront quality regime illustrative example reanalyze palomar adaptive optic observation binary alpha ophiuchi find consistency new pipeline exist standard present new python package morphine incorporate idea interface similar popular package poppy optical simulation automatic differentiation method may useful design improved astronomical optical system gradient descent'\n",
            "Label(s): ['astro-ph.IM']\n",
            "Predicted Label(s): (astro-ph.IM)\n",
            " \n"
          ]
        }
      ]
    }
  ],
  "metadata": {
    "colab": {
      "collapsed_sections": [],
      "name": "Multi_label_classification_ANN_2",
      "provenance": []
    },
    "kernelspec": {
      "display_name": "Python 3",
      "language": "python",
      "name": "python3"
    },
    "language_info": {
      "codemirror_mode": {
        "name": "ipython",
        "version": 3
      },
      "file_extension": ".py",
      "mimetype": "text/x-python",
      "name": "python",
      "nbconvert_exporter": "python",
      "pygments_lexer": "ipython3",
      "version": "3.7.0"
    }
  },
  "nbformat": 4,
  "nbformat_minor": 0
}