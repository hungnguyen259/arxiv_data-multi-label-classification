{
  "cells": [
    {
      "cell_type": "markdown",
      "metadata": {
        "id": "g3ZzNXbACMKx"
      },
      "source": [
        "## Imports"
      ]
    },
    {
      "cell_type": "code",
      "execution_count": null,
      "metadata": {
        "id": "UsHuXXoICMKx"
      },
      "outputs": [],
      "source": [
        "from tensorflow.keras import layers\n",
        "from tensorflow import keras\n",
        "import tensorflow as tf\n",
        "\n",
        "from sklearn.model_selection import train_test_split\n",
        "from ast import literal_eval\n",
        "\n",
        "import matplotlib.pyplot as plt\n",
        "import pandas as pd\n",
        "import numpy as np"
      ]
    },
    {
      "cell_type": "code",
      "source": [
        "# import and read csv\n",
        "import pandas as pd\n",
        "from tensorflow.keras import layers\n",
        "from tensorflow import keras\n",
        "import tensorflow as tf\n",
        "from sklearn.model_selection import train_test_split\n",
        "from ast import literal_eval\n",
        "import numpy as np\n",
        "import string\n",
        "import re\n",
        "\n",
        "import matplotlib.pyplot as plt \n",
        "import seaborn as sns\n",
        "from sklearn.feature_extraction.text import TfidfVectorizer\n",
        "\n",
        "from sklearn.preprocessing import MultiLabelBinarizer\n",
        "\n",
        "import nltk\n",
        "from nltk.stem import WordNetLemmatizer\n",
        "from nltk.corpus import stopwords\n",
        "from nltk import pos_tag, word_tokenize\n",
        "\n",
        "nltk.download('wordnet')\n",
        "nltk.download('averaged_perceptron_tagger')\n",
        "nltk.download('punkt')\n",
        "nltk.download('stopwords')\n",
        "%matplotlib inline\n",
        "pd.set_option('display.max_colwidth', 300)"
      ],
      "metadata": {
        "id": "ck6EX0_8FK5V",
        "outputId": "b3e5d153-977d-4725-aef4-1af3de23bf0f",
        "colab": {
          "base_uri": "https://localhost:8080/"
        }
      },
      "execution_count": null,
      "outputs": [
        {
          "output_type": "stream",
          "name": "stdout",
          "text": [
            "[nltk_data] Downloading package wordnet to /root/nltk_data...\n",
            "[nltk_data]   Unzipping corpora/wordnet.zip.\n",
            "[nltk_data] Downloading package averaged_perceptron_tagger to\n",
            "[nltk_data]     /root/nltk_data...\n",
            "[nltk_data]   Unzipping taggers/averaged_perceptron_tagger.zip.\n",
            "[nltk_data] Downloading package punkt to /root/nltk_data...\n",
            "[nltk_data]   Unzipping tokenizers/punkt.zip.\n",
            "[nltk_data] Downloading package stopwords to /root/nltk_data...\n",
            "[nltk_data]   Unzipping corpora/stopwords.zip.\n"
          ]
        }
      ]
    },
    {
      "cell_type": "markdown",
      "metadata": {
        "id": "QyKOOe1mCMKz"
      },
      "source": [
        "## Perform exploratory data analysis"
      ]
    },
    {
      "cell_type": "code",
      "source": [
        "!pip install -U -q PyDrive\n",
        "from pydrive.auth import GoogleAuth\n",
        "from pydrive.drive import GoogleDrive\n",
        "from google.colab import auth\n",
        "from oauth2client.client import GoogleCredentials\n",
        "  \n",
        "# Authenticate and create the PyDrive client.\n",
        "auth.authenticate_user()\n",
        "gauth = GoogleAuth()\n",
        "gauth.credentials = GoogleCredentials.get_application_default()\n",
        "drive = GoogleDrive(gauth)\n",
        "\n",
        "\n",
        "link = \"https://drive.google.com/file/d/18ZGW-c3oDNIEmBFUfzXl2v0v04mkSlJc/view\"\n",
        "  \n",
        "# to get the id part of the file\n",
        "id = link.split(\"/\")[-2]\n",
        "  \n",
        "downloaded = drive.CreateFile({'id':id}) \n",
        "downloaded.GetContentFile('arxiv.csv')  \n",
        "  \n",
        "arxiv_data = pd.read_csv('arxiv.csv')\n",
        "arxiv_data.head()"
      ],
      "metadata": {
        "id": "l51KfIIyRdJa",
        "colab": {
          "base_uri": "https://localhost:8080/",
          "height": 337
        },
        "outputId": "8ad50cb5-93d2-43c9-8cc1-9cda1ac1619b"
      },
      "execution_count": null,
      "outputs": [
        {
          "output_type": "execute_result",
          "data": {
            "text/html": [
              "\n",
              "  <div id=\"df-348e3fb2-bbe9-4ce2-ac5a-97e456bd3378\">\n",
              "    <div class=\"colab-df-container\">\n",
              "      <div>\n",
              "<style scoped>\n",
              "    .dataframe tbody tr th:only-of-type {\n",
              "        vertical-align: middle;\n",
              "    }\n",
              "\n",
              "    .dataframe tbody tr th {\n",
              "        vertical-align: top;\n",
              "    }\n",
              "\n",
              "    .dataframe thead th {\n",
              "        text-align: right;\n",
              "    }\n",
              "</style>\n",
              "<table border=\"1\" class=\"dataframe\">\n",
              "  <thead>\n",
              "    <tr style=\"text-align: right;\">\n",
              "      <th></th>\n",
              "      <th>titles</th>\n",
              "      <th>summaries</th>\n",
              "      <th>terms</th>\n",
              "    </tr>\n",
              "  </thead>\n",
              "  <tbody>\n",
              "    <tr>\n",
              "      <th>0</th>\n",
              "      <td>Revealing the Field Sub-subgiant Population Using a Catalog of Active Giant Stars and Gaia EDR3</td>\n",
              "      <td>Sub-subgiant stars (SSGs) fall below the subgiant branch and/or red of the\\ngiant branch in open and globular clusters, an area of the color-magnitude\\ndiagram (CMD) not populated by standard stellar evolution tracks. One\\nhypothesis is that SSGs result from rapid rotation in subgiants or giants...</td>\n",
              "      <td>['astro-ph.SR', 'astro-ph.GA']</td>\n",
              "    </tr>\n",
              "    <tr>\n",
              "      <th>1</th>\n",
              "      <td>ALMA detection of ethyl cyanide and methyl formate in the hot molecular core IRAS 18566+0408</td>\n",
              "      <td>In millimeter/submillimeter wavelength, the studies of the complex molecular\\nemission lines towards the hot molecular cores demonstrate valuable details\\nabout the chemical composition and massive star formation processes. We present\\nthe interferometric detection of rotational molecular emissi...</td>\n",
              "      <td>['astro-ph.GA']</td>\n",
              "    </tr>\n",
              "    <tr>\n",
              "      <th>2</th>\n",
              "      <td>Accretion processes in the galaxy cluster Hydra A/Abell 780</td>\n",
              "      <td>Clusters of galaxies evolve and accrete mass, mostly from small galaxy\\nsystems. Our aim is to study the velocity field of the galaxy cluster Abell\\n780, which is known for the powerful radio source Hydra A at its center and\\nwhere a spectacular X-ray tail associated with the galaxy LEDA 87445 h...</td>\n",
              "      <td>['astro-ph.CO', 'astro-ph.GA']</td>\n",
              "    </tr>\n",
              "    <tr>\n",
              "      <th>3</th>\n",
              "      <td>Radio astronomy locates the neutrino origin in bright blazars</td>\n",
              "      <td>High-energy astrophysical neutrinos have been observed by several telescopes\\nin the last decade, but their sources still remained unknown. We address the\\nproblem of locating astrophysical neutrinos' sources in a statistical manner.\\nWe show that blazars positionally associated with IceCube neu...</td>\n",
              "      <td>['astro-ph.HE', 'astro-ph.GA']</td>\n",
              "    </tr>\n",
              "    <tr>\n",
              "      <th>4</th>\n",
              "      <td>The extragalactic $γ$-ray background: imprints from the physical properties and evolution of star-forming galaxy populations</td>\n",
              "      <td>Star-forming galaxies (SFGs) are expected to harbour an abundant reservoir of\\ncosmic rays (CRs). At GeV energies, these CRs can undergo hadronic interactions\\nwith interstellar gases to produce $\\gamma$-rays, and the unresolved\\n$\\gamma$-ray emission from populations of SFGs form a component of...</td>\n",
              "      <td>['astro-ph.GA', 'astro-ph.HE']</td>\n",
              "    </tr>\n",
              "  </tbody>\n",
              "</table>\n",
              "</div>\n",
              "      <button class=\"colab-df-convert\" onclick=\"convertToInteractive('df-348e3fb2-bbe9-4ce2-ac5a-97e456bd3378')\"\n",
              "              title=\"Convert this dataframe to an interactive table.\"\n",
              "              style=\"display:none;\">\n",
              "        \n",
              "  <svg xmlns=\"http://www.w3.org/2000/svg\" height=\"24px\"viewBox=\"0 0 24 24\"\n",
              "       width=\"24px\">\n",
              "    <path d=\"M0 0h24v24H0V0z\" fill=\"none\"/>\n",
              "    <path d=\"M18.56 5.44l.94 2.06.94-2.06 2.06-.94-2.06-.94-.94-2.06-.94 2.06-2.06.94zm-11 1L8.5 8.5l.94-2.06 2.06-.94-2.06-.94L8.5 2.5l-.94 2.06-2.06.94zm10 10l.94 2.06.94-2.06 2.06-.94-2.06-.94-.94-2.06-.94 2.06-2.06.94z\"/><path d=\"M17.41 7.96l-1.37-1.37c-.4-.4-.92-.59-1.43-.59-.52 0-1.04.2-1.43.59L10.3 9.45l-7.72 7.72c-.78.78-.78 2.05 0 2.83L4 21.41c.39.39.9.59 1.41.59.51 0 1.02-.2 1.41-.59l7.78-7.78 2.81-2.81c.8-.78.8-2.07 0-2.86zM5.41 20L4 18.59l7.72-7.72 1.47 1.35L5.41 20z\"/>\n",
              "  </svg>\n",
              "      </button>\n",
              "      \n",
              "  <style>\n",
              "    .colab-df-container {\n",
              "      display:flex;\n",
              "      flex-wrap:wrap;\n",
              "      gap: 12px;\n",
              "    }\n",
              "\n",
              "    .colab-df-convert {\n",
              "      background-color: #E8F0FE;\n",
              "      border: none;\n",
              "      border-radius: 50%;\n",
              "      cursor: pointer;\n",
              "      display: none;\n",
              "      fill: #1967D2;\n",
              "      height: 32px;\n",
              "      padding: 0 0 0 0;\n",
              "      width: 32px;\n",
              "    }\n",
              "\n",
              "    .colab-df-convert:hover {\n",
              "      background-color: #E2EBFA;\n",
              "      box-shadow: 0px 1px 2px rgba(60, 64, 67, 0.3), 0px 1px 3px 1px rgba(60, 64, 67, 0.15);\n",
              "      fill: #174EA6;\n",
              "    }\n",
              "\n",
              "    [theme=dark] .colab-df-convert {\n",
              "      background-color: #3B4455;\n",
              "      fill: #D2E3FC;\n",
              "    }\n",
              "\n",
              "    [theme=dark] .colab-df-convert:hover {\n",
              "      background-color: #434B5C;\n",
              "      box-shadow: 0px 1px 3px 1px rgba(0, 0, 0, 0.15);\n",
              "      filter: drop-shadow(0px 1px 2px rgba(0, 0, 0, 0.3));\n",
              "      fill: #FFFFFF;\n",
              "    }\n",
              "  </style>\n",
              "\n",
              "      <script>\n",
              "        const buttonEl =\n",
              "          document.querySelector('#df-348e3fb2-bbe9-4ce2-ac5a-97e456bd3378 button.colab-df-convert');\n",
              "        buttonEl.style.display =\n",
              "          google.colab.kernel.accessAllowed ? 'block' : 'none';\n",
              "\n",
              "        async function convertToInteractive(key) {\n",
              "          const element = document.querySelector('#df-348e3fb2-bbe9-4ce2-ac5a-97e456bd3378');\n",
              "          const dataTable =\n",
              "            await google.colab.kernel.invokeFunction('convertToInteractive',\n",
              "                                                     [key], {});\n",
              "          if (!dataTable) return;\n",
              "\n",
              "          const docLinkHtml = 'Like what you see? Visit the ' +\n",
              "            '<a target=\"_blank\" href=https://colab.research.google.com/notebooks/data_table.ipynb>data table notebook</a>'\n",
              "            + ' to learn more about interactive tables.';\n",
              "          element.innerHTML = '';\n",
              "          dataTable['output_type'] = 'display_data';\n",
              "          await google.colab.output.renderOutput(dataTable, element);\n",
              "          const docLink = document.createElement('div');\n",
              "          docLink.innerHTML = docLinkHtml;\n",
              "          element.appendChild(docLink);\n",
              "        }\n",
              "      </script>\n",
              "    </div>\n",
              "  </div>\n",
              "  "
            ],
            "text/plain": [
              "                                                                                                                         titles  ...                           terms\n",
              "0                               Revealing the Field Sub-subgiant Population Using a Catalog of Active Giant Stars and Gaia EDR3  ...  ['astro-ph.SR', 'astro-ph.GA']\n",
              "1                                  ALMA detection of ethyl cyanide and methyl formate in the hot molecular core IRAS 18566+0408  ...                 ['astro-ph.GA']\n",
              "2                                                                   Accretion processes in the galaxy cluster Hydra A/Abell 780  ...  ['astro-ph.CO', 'astro-ph.GA']\n",
              "3                                                                 Radio astronomy locates the neutrino origin in bright blazars  ...  ['astro-ph.HE', 'astro-ph.GA']\n",
              "4  The extragalactic $γ$-ray background: imprints from the physical properties and evolution of star-forming galaxy populations  ...  ['astro-ph.GA', 'astro-ph.HE']\n",
              "\n",
              "[5 rows x 3 columns]"
            ]
          },
          "metadata": {},
          "execution_count": 3
        }
      ]
    },
    {
      "cell_type": "code",
      "execution_count": null,
      "metadata": {
        "id": "Oy0UhJb2CMK0",
        "outputId": "72427b62-36e1-4a60-bb96-13f585110f15",
        "colab": {
          "base_uri": "https://localhost:8080/"
        }
      },
      "outputs": [
        {
          "output_type": "stream",
          "name": "stdout",
          "text": [
            "There are 89336 rows in the dataset.\n"
          ]
        }
      ],
      "source": [
        "print(f\"There are {len(arxiv_data)} rows in the dataset.\")"
      ]
    },
    {
      "cell_type": "code",
      "execution_count": null,
      "metadata": {
        "id": "ZATqY_S1CMK1",
        "outputId": "975b4b7f-aec8-49c9-ec57-566ada6fdaee",
        "colab": {
          "base_uri": "https://localhost:8080/"
        }
      },
      "outputs": [
        {
          "output_type": "stream",
          "name": "stdout",
          "text": [
            "There are 19134 duplicate titles.\n"
          ]
        }
      ],
      "source": [
        "total_duplicate_titles = sum(arxiv_data[\"titles\"].duplicated())\n",
        "print(f\"There are {total_duplicate_titles} duplicate titles.\")"
      ]
    },
    {
      "cell_type": "code",
      "execution_count": null,
      "metadata": {
        "id": "RfyPWpszCMK2",
        "outputId": "9268672d-088f-49ec-a202-182a49964f65",
        "colab": {
          "base_uri": "https://localhost:8080/"
        }
      },
      "outputs": [
        {
          "output_type": "stream",
          "name": "stdout",
          "text": [
            "There are 70202 rows in the deduplicated dataset.\n",
            "22\n",
            "152\n"
          ]
        }
      ],
      "source": [
        "arxiv_data = arxiv_data[~arxiv_data[\"titles\"].duplicated()]\n",
        "print(f\"There are {len(arxiv_data)} rows in the deduplicated dataset.\")\n",
        "\n",
        "# There are some terms with occurrence as low as 1.\n",
        "print(sum(arxiv_data[\"terms\"].value_counts() == 1))\n",
        "\n",
        "# How many unique terms?\n",
        "print(arxiv_data[\"terms\"].nunique())"
      ]
    },
    {
      "cell_type": "code",
      "source": [
        "arxiv_data_filtered = arxiv_data"
      ],
      "metadata": {
        "id": "r92ASCTw_5o9"
      },
      "execution_count": null,
      "outputs": []
    },
    {
      "cell_type": "markdown",
      "metadata": {
        "id": "f5IUK2W3CMK3"
      },
      "source": [
        "## Convert the string labels to lists of strings"
      ]
    },
    {
      "cell_type": "code",
      "execution_count": null,
      "metadata": {
        "id": "C4aipxf5CMK3",
        "outputId": "8774cf4c-bb42-4a51-c040-2e40f4cdd1d5",
        "colab": {
          "base_uri": "https://localhost:8080/"
        }
      },
      "outputs": [
        {
          "output_type": "execute_result",
          "data": {
            "text/plain": [
              "array([list(['astro-ph.SR', 'astro-ph.GA']), list(['astro-ph.GA']),\n",
              "       list(['astro-ph.CO', 'astro-ph.GA']),\n",
              "       list(['astro-ph.HE', 'astro-ph.GA']),\n",
              "       list(['astro-ph.GA', 'astro-ph.HE'])], dtype=object)"
            ]
          },
          "metadata": {},
          "execution_count": 8
        }
      ],
      "source": [
        "arxiv_data_filtered[\"terms\"] = arxiv_data_filtered[\"terms\"].apply(\n",
        "    lambda x: literal_eval(x)\n",
        ")\n",
        "arxiv_data_filtered[\"terms\"].values[:5]"
      ]
    },
    {
      "cell_type": "code",
      "source": [
        "dict_len = {}\n",
        "for i in range(arxiv_data_filtered.shape[0]):\n",
        "    if(len(arxiv_data_filtered.iloc[i][\"terms\"]) not in dict_len):\n",
        "        dict_len[len(arxiv_data_filtered.iloc[i][\"terms\"])] = 1\n",
        "    else:\n",
        "        dict_len[len(arxiv_data_filtered.iloc[i][\"terms\"])] += 1\n",
        "print(\"Occurancy of number of labels in a term: \")\n",
        "dict_len = dict(sorted(dict_len.items(), key=lambda item: item[1], reverse=True))\n",
        "for k, v in dict_len.items():\n",
        "    print(f\" - The number of paper have {k} labels in it's term: {v}\")"
      ],
      "metadata": {
        "id": "Cp8gMzSZ9dih",
        "colab": {
          "base_uri": "https://localhost:8080/"
        },
        "outputId": "3bd166e9-44d3-4077-df9b-c88e0016fb99"
      },
      "execution_count": null,
      "outputs": [
        {
          "output_type": "stream",
          "name": "stdout",
          "text": [
            "Occurancy of number of labels in a term: \n",
            " - The number of paper have 1 labels in it's term: 46399\n",
            " - The number of paper have 2 labels in it's term: 20635\n",
            " - The number of paper have 3 labels in it's term: 2904\n",
            " - The number of paper have 4 labels in it's term: 209\n",
            " - The number of paper have 5 labels in it's term: 54\n",
            " - The number of paper have 6 labels in it's term: 1\n"
          ]
        }
      ]
    },
    {
      "cell_type": "markdown",
      "source": [
        "##Pre-processing dataset\n"
      ],
      "metadata": {
        "id": "964YEOux8c4p"
      }
    },
    {
      "cell_type": "code",
      "source": [
        "all_terms = sum(arxiv_data_filtered[\"terms\"],[])\n",
        "all_terms = nltk.FreqDist(all_terms) \n",
        "# create dataframe\n",
        "all_terms_df = pd.DataFrame({'Term': list(all_terms.keys()), \n",
        "                              'Count': list(all_terms.values())})"
      ],
      "metadata": {
        "id": "GyccOZXLFbqx"
      },
      "execution_count": null,
      "outputs": []
    },
    {
      "cell_type": "code",
      "source": [
        "def clean_text(text):\n",
        "  # remove new line characters\n",
        "  text = re.sub(r\"\\n\", \" \", text)\n",
        "  # remove email\n",
        "  text = re.sub(r\"([A-Za-z0-9_.+-]+@[A-Za-z0-9-]+\\.?[A-Za-z0-9-.]+)\", \"\", text)\n",
        "  # remove url\n",
        "  text = re.sub(r\"((http|https)\\:\\/\\/)?[a-zA-Z0-9\\.\\/\\?\\:@\\-_=#]+\\.([a-zA-Z]){2,6}([a-zA-Z0-9\\.\\&\\/\\?\\:@\\-_=#])*\", \"\", text)\n",
        "  # remove punctuation\n",
        "  text = re.sub(f'[{re.escape(string.punctuation)}]', ' ', text)\n",
        "  # remove words including numbers\n",
        "  text = re.sub(r\"\\w*\\d\\w*\", \"\", text)\n",
        "  # remove single character and duplicated words\n",
        "  text = ' '.join(word for word in list(set(text.split())) if len(word) > 1)\n",
        "  # replace multiple whitespace by one whitespace\n",
        "  text = re.sub(r\"\\s+\", \" \", text)\n",
        "  # lower all text\n",
        "  text = text.lower()\n",
        "  # strip all text\n",
        "  text = text.strip()\n",
        "  return text"
      ],
      "metadata": {
        "id": "idNVPB3jFjwt"
      },
      "execution_count": null,
      "outputs": []
    },
    {
      "cell_type": "code",
      "source": [
        "def remove_stopwords(text):\n",
        "  stop_words = stopwords.words('english')\n",
        "  cleaned_text = []\n",
        "  # turn text to a list of words\n",
        "  word_list = text.split()\n",
        "  for word in word_list:\n",
        "    if word not in stop_words:\n",
        "      cleaned_text.append(word)\n",
        "  return ' '.join(cleaned_text)"
      ],
      "metadata": {
        "id": "MZwth4c9Fngt"
      },
      "execution_count": null,
      "outputs": []
    },
    {
      "cell_type": "code",
      "source": [
        "def lemmatize_text(text):\n",
        "  wnl = WordNetLemmatizer()\n",
        "  pos_text = pos_tag(word_tokenize(text))\n",
        "  cleaned_text = []\n",
        "  for word, tag in pos_text:\n",
        "    wntag = tag[0].lower()\n",
        "    wntag = wntag if wntag in ['a', 'r', 'n', 'v'] else None\n",
        "    if not wntag:\n",
        "      lem_word = word\n",
        "    else:\n",
        "      lem_word = wnl.lemmatize(word, wntag)\n",
        "    cleaned_text.append(lem_word)\n",
        "  return ' '.join(cleaned_text)"
      ],
      "metadata": {
        "id": "_24dH6LUFsev"
      },
      "execution_count": null,
      "outputs": []
    },
    {
      "cell_type": "code",
      "source": [
        "arxiv_data_filtered['summaries'] = arxiv_data_filtered['summaries'].apply(clean_text)\n",
        "arxiv_data_filtered['summaries'] = arxiv_data_filtered['summaries'].apply(remove_stopwords)\n",
        "arxiv_data_filtered['summaries'] = arxiv_data_filtered['summaries'].apply(lemmatize_text)\n",
        "arxiv_data_filtered['summaries']"
      ],
      "metadata": {
        "id": "9ew2D4zLFxri",
        "outputId": "b439d9cb-72ba-4be8-adbf-a77d924a19ad",
        "colab": {
          "base_uri": "https://localhost:8080/"
        }
      },
      "execution_count": null,
      "outputs": [
        {
          "output_type": "execute_result",
          "data": {
            "text/plain": [
              "0        r starspots red cmd impact sub day radius cluster turn large dynamical te parallax important rapid inhibit active isochrone ubiquity population include present shortest candidate branch encounter one average binary due produce cross cvn rotation rich close expansion convection sample dense subgi...\n",
              "1        except valuable temperature relative spectral rot formation core range atacama model local process organic line transition total specie composition methyl detail hot mcmc massive time parameter present original wavelength submillimeter simple rotational core detection abundance large towards hcc...\n",
              "2        analyze relative core inner energetics dynamically mass cluster characterize number dynamical hydra discover tail line sigmav ray new leda global solar internal abell agree conclude south substructure typical em km spectacular parameter center cluster property asymmetry region aim spectroscopic ...\n",
              "3        highly however telescope photohadronic vlbi directly still narrow region astrophysical angle interaction ray explain unknown last conclude remain flare major finding within required property produce pronounced icecube radio core view radio coincidence discussion majority ghz diverse detect exten...\n",
              "4        however starburst formation physical particularly model mass angular produce egb ray interaction stag new work distribution allow hadronic starbursts mainly probe sfg property affect source gas high investigate extragalactic capture dominate low expect sfgs small earlier galaxy per demonstrate p...\n",
              "                                                                                                                                                            ...                                                                                                                                                     \n",
              "89331    modulation much estimate colour mass quasi large show implies must new rsun eclipse km vsini comparison lii taurus alpha parallax eccentric systemic interpretation region gravity binary spectroscopic visible rotational lambda single rotation observation evaluation high resolution day orbit spot ...\n",
              "89332    like calculated inner begin take model mass curve hydrodynamical line initially explain averaged point volume lagrangian nova disc present optically binary emit curve due emanate observation towards centre eclipse thin agreement shape along period stationary cold system dwarf hydrogen gravitatio...\n",
              "89333    however formation magnetospheric two model mass similarly dipolar hydrodynamical angular metallicity interaction global wind parametric remain potential massive reduce way calculation supernovae simplify ii due large even close pair loss model thus progenitor result enhance magnetic star hole in...\n",
              "89334    common appear formation induce isotropic wide model radius irc mass reaction angular concentric contain linear specie increase resolve rapid polymerization distribution similar spherical mainly morphology mm broad fully extend linear drive produce later rotational growth difference appreciable o...\n",
              "89335    detail like longitude polarity several cancellation number late tune many online last solar equator path similar hemisphere active able time instrument watch migration define present latitude hinode minimum illustrate currently latitudes band longitudinal onset cancel spectropolarimeter imminent...\n",
              "Name: summaries, Length: 70202, dtype: object"
            ]
          },
          "metadata": {},
          "execution_count": 14
        }
      ]
    },
    {
      "cell_type": "markdown",
      "metadata": {
        "id": "JYfEJL5nCMK3"
      },
      "source": [
        "## Split training set, validation set and test set"
      ]
    },
    {
      "cell_type": "code",
      "execution_count": null,
      "metadata": {
        "id": "I6kxRsHbCMK3",
        "outputId": "5dfceae1-e907-483b-80e4-81ff95dd504d",
        "colab": {
          "base_uri": "https://localhost:8080/"
        }
      },
      "outputs": [
        {
          "output_type": "stream",
          "name": "stdout",
          "text": [
            "Number of rows in training set: 49141\n",
            "Number of rows in validation set: 10530\n",
            "Number of rows in test set: 10531\n"
          ]
        }
      ],
      "source": [
        "test_split = 0.3\n",
        "\n",
        "# Initial train and test split.\n",
        "train_df, test_df = train_test_split(\n",
        "    arxiv_data_filtered,\n",
        "    test_size=test_split,\n",
        "    # stratify=arxiv_data_filtered[\"terms\"].values,\n",
        ")\n",
        "\n",
        "# Splitting the test set further into validation\n",
        "# and new test sets.\n",
        "val_df = test_df.sample(frac=0.5)\n",
        "test_df.drop(val_df.index, inplace=True)\n",
        "\n",
        "print(f\"Number of rows in training set: {len(train_df)}\")\n",
        "print(f\"Number of rows in validation set: {len(val_df)}\")\n",
        "print(f\"Number of rows in test set: {len(test_df)}\")"
      ]
    },
    {
      "cell_type": "markdown",
      "metadata": {
        "id": "i-PAnEOTCMK4"
      },
      "source": [
        "## Multi-label binarization"
      ]
    },
    {
      "cell_type": "code",
      "execution_count": null,
      "metadata": {
        "id": "7-XwTtwvCMK4",
        "outputId": "ca82f6ea-8a3c-456d-c809-7247e353b1d6",
        "colab": {
          "base_uri": "https://localhost:8080/"
        }
      },
      "outputs": [
        {
          "output_type": "stream",
          "name": "stdout",
          "text": [
            "Vocabulary:\n",
            "\n",
            "['[UNK]', 'astro-ph.GA', 'astro-ph.SR', 'astro-ph.EP', 'astro-ph.HE', 'astro-ph.IM', 'astro-ph.CO']\n"
          ]
        }
      ],
      "source": [
        "terms = tf.ragged.constant(train_df[\"terms\"].values)\n",
        "lookup = tf.keras.layers.StringLookup(output_mode=\"multi_hot\")\n",
        "lookup.adapt(terms)\n",
        "vocab = lookup.get_vocabulary()\n",
        "\n",
        "\n",
        "def invert_multi_hot(encoded_labels):\n",
        "    \"\"\"Reverse a single multi-hot encoded label to a tuple of vocab terms.\"\"\"\n",
        "    hot_indices = np.argwhere(encoded_labels == 1.0)[..., 0]\n",
        "    return np.take(vocab, hot_indices)\n",
        "\n",
        "\n",
        "print(\"Vocabulary:\\n\")\n",
        "print(vocab)\n"
      ]
    },
    {
      "cell_type": "code",
      "execution_count": null,
      "metadata": {
        "id": "sXq1evCGCMK4",
        "outputId": "ebeea1bf-ea3e-4577-fab4-3ce3868f57a3",
        "colab": {
          "base_uri": "https://localhost:8080/"
        }
      },
      "outputs": [
        {
          "output_type": "stream",
          "name": "stdout",
          "text": [
            "Original label: ['astro-ph.IM', 'astro-ph.EP']\n",
            "Label-binarized representation: [[0. 0. 0. 1. 0. 1. 0.]]\n"
          ]
        }
      ],
      "source": [
        "sample_label = train_df[\"terms\"].iloc[0]\n",
        "print(f\"Original label: {sample_label}\")\n",
        "\n",
        "label_binarized = lookup([sample_label])\n",
        "print(f\"Label-binarized representation: {label_binarized}\")"
      ]
    },
    {
      "cell_type": "markdown",
      "metadata": {
        "id": "rL9-uRHaCMK5"
      },
      "source": [
        "## Data preprocessing and `tf.data.Dataset` objects\n"
      ]
    },
    {
      "cell_type": "code",
      "execution_count": null,
      "metadata": {
        "id": "H0JpYB05CMK5"
      },
      "outputs": [],
      "source": [
        "batch_size = 512\n",
        "auto = tf.data.AUTOTUNE\n",
        "\n",
        "\n",
        "def unify_text_length(text, label):\n",
        "    return tf.expand_dims(text, -1), label\n",
        "\n",
        "\n",
        "def make_dataset(dataframe, is_train=True):\n",
        "    labels = tf.ragged.constant(dataframe[\"terms\"].values)\n",
        "    label_binarized = lookup(labels).numpy()\n",
        "    dataset = tf.data.Dataset.from_tensor_slices(\n",
        "        (dataframe[\"summaries\"].values, label_binarized)\n",
        "    )\n",
        "    dataset = dataset.shuffle(batch_size * 10) if is_train else dataset\n",
        "    dataset = dataset.map(unify_text_length, num_parallel_calls=auto).cache()\n",
        "    return dataset.batch(batch_size)\n"
      ]
    },
    {
      "cell_type": "code",
      "execution_count": null,
      "metadata": {
        "id": "-bZ8KHqCCMK5"
      },
      "outputs": [],
      "source": [
        "train_dataset = make_dataset(train_df, is_train=True)\n",
        "validation_dataset = make_dataset(val_df, is_train=False)\n",
        "test_dataset = make_dataset(test_df, is_train=False)"
      ]
    },
    {
      "cell_type": "markdown",
      "metadata": {
        "id": "vr-ohRLSCMK6"
      },
      "source": [
        "## Dataset preview"
      ]
    },
    {
      "cell_type": "code",
      "execution_count": null,
      "metadata": {
        "id": "rGS0JbgtCMK6",
        "outputId": "2174e069-e13e-45f6-cb89-0f1f2a47f8ed",
        "colab": {
          "base_uri": "https://localhost:8080/"
        }
      },
      "outputs": [
        {
          "output_type": "stream",
          "name": "stdout",
          "text": [
            "Abstract: b'strongly substantial moreover dex selection correlate sun fitting present choice show prograde metallicity fe hot able precision population km origin within although counter progradely space rotational rotation meanwhile information even consider depends high lsr finally sigma low small full velocity different star three effect fraction metal may thick rest position consistent dispersion metallicities find standard provide distribution gaussian use secular also trend component set obtain component weak local lower help peak subsamples phase rotates larger hint gaia without disk essentially stellar halo evolution quite kpc derive rotate lamost giant'\n",
            "Label(s): ['astro-ph.GA']\n",
            " \n",
            "Abstract: b'spectral formation inspection selection range physical wide feature discuss mass visual sed fitting present process large line median must rapid work faint goal set mu population assembly include sfg present term property ancillary average describe cubes spectroscopic axis detection program infrared continuum large science signal paper array fir sample dominate representative remain indicate survey sfgs reference ratio minor galaxy galaxy alpine far overall epoch extend obtain diversity form strategy purity gas type investigate characterize observe mass discs energy right classify rest first derive threshold surprisingly merger dispersion find redshifts observational noise distribution foremost uv sequence beam together end frame correspond redshift cii hi base rate period wealth larger normal main emission sim stellar rate aim star arcsec kpc data rotate alma compact reionization'\n",
            "Label(s): ['astro-ph.GA' 'astro-ph.CO']\n",
            " \n",
            "Abstract: b'state lead incorrect xspec core mix physical employ line astrophysical spectrum ray important treat indicate parameter present charge region difference nickel particular high resolution follow use spex strength simulate model chemical line find acx shell assumption cx play commonly result experimental excite may improperly first neutral find applied significant exchange laboratory generate ion interest emission configuration role energies show data exist'\n",
            "Label(s): ['astro-ph.GA' 'astro-ph.EP' 'astro-ph.HE']\n",
            " \n",
            "Abstract: b'ng large weight must ray enter explained bin composition arise diffusive uhecr specie assume bin within require order statistically dipole due reduce source uhecrs signal direction high intergalactic nearby rigidity dominate relatively photodisintegration matter diffusion absence magnetic galaxy eev ultra calculate rms cosmic arrival structure take could follow energy amplitude find higher recently possibility distribution also significant lss transport reduces galactic gmf lower igmf flux mpc nuclei somewhat detected field slightly sim scale ray particles account anisotropy explore'\n",
            "Label(s): ['astro-ph.HE']\n",
            " \n",
            "Abstract: b'neptune cadence temperature planetary mass observatory interior discover modestly new irradiated solar warmest oplus apts discover apt major present planet minimum fairborn space crb axis planet host intermediate radial detect semi high orbit nearby telescope jupiter low lick help precise survey equilibrium orbit system apf velocity unprecedented activity search discovery reflex exterior three star telescope nearly ground combine finder photometric base pm corot bright ongoing au planet exoplanet part two type jovian transit chromospherically roughly first inactive long disentangle use also previously solar sensitivity warm period fail hd rho give transit decade stellar orbit analogue star photometry motion short automate known keck data'\n",
            "Label(s): ['astro-ph.EP']\n",
            " \n"
          ]
        }
      ],
      "source": [
        "text_batch, label_batch = next(iter(train_dataset))\n",
        "\n",
        "for i, text in enumerate(text_batch[:5]):\n",
        "    label = label_batch[i].numpy()[None, ...]\n",
        "    print(f\"Abstract: {text[0]}\")\n",
        "    print(f\"Label(s): {invert_multi_hot(label[0])}\")\n",
        "    print(\" \")"
      ]
    },
    {
      "cell_type": "markdown",
      "metadata": {
        "id": "RYJCqBUkCMK6"
      },
      "source": [
        "## Vectorization"
      ]
    },
    {
      "cell_type": "code",
      "execution_count": null,
      "metadata": {
        "id": "6j1yh35BCMK6",
        "outputId": "e6321d5e-ccdf-4cbb-e561-a8fa1f95cc3e",
        "colab": {
          "base_uri": "https://localhost:8080/"
        }
      },
      "outputs": [
        {
          "output_type": "stream",
          "name": "stdout",
          "text": [
            "Vocabulary size: 179\n"
          ]
        }
      ],
      "source": [
        "train_df[\"total_words\"] = train_df[\"summaries\"].str.split().str.len()\n",
        "vocabulary_size = train_df[\"total_words\"].max()\n",
        "print(f\"Vocabulary size: {vocabulary_size}\")"
      ]
    },
    {
      "cell_type": "code",
      "execution_count": null,
      "metadata": {
        "id": "h3odTI_lCMK6"
      },
      "outputs": [],
      "source": [
        "text_vectorizer = layers.TextVectorization(\n",
        "    max_tokens=vocabulary_size, ngrams=2, output_mode=\"tf_idf\"\n",
        ")\n",
        "\n",
        "# `TextVectorization` layer needs to be adapted as per the vocabulary from our\n",
        "# training set.\n",
        "with tf.device(\"/CPU:0\"):\n",
        "    text_vectorizer.adapt(train_dataset.map(lambda text, label: text))\n",
        "\n",
        "train_dataset = train_dataset.map(\n",
        "    lambda text, label: (text_vectorizer(text), label), num_parallel_calls=auto\n",
        ").prefetch(auto)\n",
        "validation_dataset = validation_dataset.map(\n",
        "    lambda text, label: (text_vectorizer(text), label), num_parallel_calls=auto\n",
        ").prefetch(auto)\n",
        "test_dataset = test_dataset.map(\n",
        "    lambda text, label: (text_vectorizer(text), label), num_parallel_calls=auto\n",
        ").prefetch(auto)\n"
      ]
    },
    {
      "cell_type": "markdown",
      "metadata": {
        "id": "t9fDpf5YCMK7"
      },
      "source": [
        "## Create a text classification model\n"
      ]
    },
    {
      "cell_type": "code",
      "execution_count": null,
      "metadata": {
        "id": "LqayRS4ZCMK7"
      },
      "outputs": [],
      "source": [
        "\n",
        "def make_model():\n",
        "    shallow_mlp_model = keras.Sequential(\n",
        "        [\n",
        "            layers.Dense(512, activation=\"relu\"),\n",
        "            layers.Dropout(0.2),\n",
        "            layers.Dense(512, activation=\"relu\"),\n",
        "            layers.Dropout(0.1),\n",
        "            layers.Dense(256, activation=\"relu\"),\n",
        "            layers.Dense(lookup.vocabulary_size(), activation=\"sigmoid\"),\n",
        "        ]\n",
        "    )\n",
        "    return shallow_mlp_model\n"
      ]
    },
    {
      "cell_type": "markdown",
      "metadata": {
        "id": "hJNr3ifJCMK7"
      },
      "source": [
        "## Train the model"
      ]
    },
    {
      "cell_type": "code",
      "execution_count": null,
      "metadata": {
        "id": "kdj8wf0FCMK7",
        "outputId": "30fbe855-0b31-41fb-e454-20047adbd27a",
        "colab": {
          "base_uri": "https://localhost:8080/",
          "height": 1000
        }
      },
      "outputs": [
        {
          "output_type": "stream",
          "name": "stdout",
          "text": [
            "Epoch 1/100\n",
            "96/96 [==============================] - 8s 75ms/step - loss: 0.7391 - precision: 0.2893 - recall: 0.1521 - val_loss: 0.4186 - val_precision: 0.8790 - val_recall: 0.0501\n",
            "Epoch 2/100\n",
            "96/96 [==============================] - 7s 69ms/step - loss: 0.4040 - precision: 0.6045 - recall: 0.2594 - val_loss: 0.3190 - val_precision: 0.7139 - val_recall: 0.4913\n",
            "Epoch 3/100\n",
            "96/96 [==============================] - 7s 69ms/step - loss: 0.3283 - precision: 0.6932 - recall: 0.4880 - val_loss: 0.2810 - val_precision: 0.7079 - val_recall: 0.6799\n",
            "Epoch 4/100\n",
            "96/96 [==============================] - 7s 70ms/step - loss: 0.2917 - precision: 0.7405 - recall: 0.5810 - val_loss: 0.2615 - val_precision: 0.7412 - val_recall: 0.6956\n",
            "Epoch 5/100\n",
            "96/96 [==============================] - 6s 67ms/step - loss: 0.2730 - precision: 0.7637 - recall: 0.6188 - val_loss: 0.2517 - val_precision: 0.7626 - val_recall: 0.6969\n",
            "Epoch 6/100\n",
            "96/96 [==============================] - 6s 67ms/step - loss: 0.2624 - precision: 0.7780 - recall: 0.6361 - val_loss: 0.2452 - val_precision: 0.7819 - val_recall: 0.6904\n",
            "Epoch 7/100\n",
            "96/96 [==============================] - 7s 69ms/step - loss: 0.2549 - precision: 0.7862 - recall: 0.6492 - val_loss: 0.2426 - val_precision: 0.7786 - val_recall: 0.6970\n",
            "Epoch 8/100\n",
            "96/96 [==============================] - 7s 68ms/step - loss: 0.2494 - precision: 0.7934 - recall: 0.6546 - val_loss: 0.2394 - val_precision: 0.7890 - val_recall: 0.6949\n",
            "Epoch 9/100\n",
            "96/96 [==============================] - 7s 68ms/step - loss: 0.2451 - precision: 0.7992 - recall: 0.6619 - val_loss: 0.2376 - val_precision: 0.7912 - val_recall: 0.6962\n",
            "Epoch 10/100\n",
            "96/96 [==============================] - 6s 67ms/step - loss: 0.2420 - precision: 0.8007 - recall: 0.6645 - val_loss: 0.2350 - val_precision: 0.7991 - val_recall: 0.6909\n",
            "Epoch 11/100\n",
            "96/96 [==============================] - 7s 68ms/step - loss: 0.2385 - precision: 0.8055 - recall: 0.6683 - val_loss: 0.2330 - val_precision: 0.7987 - val_recall: 0.6952\n",
            "Epoch 12/100\n",
            "96/96 [==============================] - 7s 68ms/step - loss: 0.2357 - precision: 0.8081 - recall: 0.6724 - val_loss: 0.2317 - val_precision: 0.8002 - val_recall: 0.6926\n",
            "Epoch 13/100\n",
            "96/96 [==============================] - 7s 68ms/step - loss: 0.2327 - precision: 0.8092 - recall: 0.6768 - val_loss: 0.2292 - val_precision: 0.8049 - val_recall: 0.6946\n",
            "Epoch 14/100\n",
            "96/96 [==============================] - 7s 68ms/step - loss: 0.2305 - precision: 0.8125 - recall: 0.6794 - val_loss: 0.2289 - val_precision: 0.8066 - val_recall: 0.6910\n",
            "Epoch 15/100\n",
            "96/96 [==============================] - 7s 68ms/step - loss: 0.2280 - precision: 0.8146 - recall: 0.6832 - val_loss: 0.2282 - val_precision: 0.8050 - val_recall: 0.6931\n",
            "Epoch 16/100\n",
            "96/96 [==============================] - 6s 67ms/step - loss: 0.2252 - precision: 0.8168 - recall: 0.6883 - val_loss: 0.2261 - val_precision: 0.8078 - val_recall: 0.6956\n",
            "Epoch 17/100\n",
            "96/96 [==============================] - 6s 67ms/step - loss: 0.2234 - precision: 0.8192 - recall: 0.6899 - val_loss: 0.2248 - val_precision: 0.8073 - val_recall: 0.7017\n",
            "Epoch 18/100\n",
            "96/96 [==============================] - 7s 67ms/step - loss: 0.2216 - precision: 0.8193 - recall: 0.6920 - val_loss: 0.2237 - val_precision: 0.8173 - val_recall: 0.6894\n",
            "Epoch 19/100\n",
            "96/96 [==============================] - 6s 67ms/step - loss: 0.2193 - precision: 0.8227 - recall: 0.6940 - val_loss: 0.2236 - val_precision: 0.8149 - val_recall: 0.6937\n",
            "Epoch 20/100\n",
            "96/96 [==============================] - 7s 68ms/step - loss: 0.2170 - precision: 0.8250 - recall: 0.6979 - val_loss: 0.2220 - val_precision: 0.8162 - val_recall: 0.6954\n",
            "Epoch 21/100\n",
            "96/96 [==============================] - 7s 68ms/step - loss: 0.2148 - precision: 0.8276 - recall: 0.7012 - val_loss: 0.2225 - val_precision: 0.8166 - val_recall: 0.6935\n",
            "Epoch 22/100\n",
            "96/96 [==============================] - 7s 68ms/step - loss: 0.2128 - precision: 0.8290 - recall: 0.7033 - val_loss: 0.2205 - val_precision: 0.8177 - val_recall: 0.6946\n",
            "Epoch 23/100\n",
            "96/96 [==============================] - 7s 68ms/step - loss: 0.2104 - precision: 0.8308 - recall: 0.7083 - val_loss: 0.2197 - val_precision: 0.8223 - val_recall: 0.6952\n",
            "Epoch 24/100\n",
            "96/96 [==============================] - 7s 68ms/step - loss: 0.2083 - precision: 0.8341 - recall: 0.7098 - val_loss: 0.2190 - val_precision: 0.8195 - val_recall: 0.6973\n",
            "Epoch 25/100\n",
            "96/96 [==============================] - 7s 69ms/step - loss: 0.2060 - precision: 0.8348 - recall: 0.7146 - val_loss: 0.2177 - val_precision: 0.8183 - val_recall: 0.7015\n",
            "Epoch 26/100\n",
            "96/96 [==============================] - 7s 68ms/step - loss: 0.2030 - precision: 0.8377 - recall: 0.7180 - val_loss: 0.2185 - val_precision: 0.8159 - val_recall: 0.7081\n",
            "Epoch 27/100\n",
            "96/96 [==============================] - 7s 69ms/step - loss: 0.2009 - precision: 0.8415 - recall: 0.7224 - val_loss: 0.2174 - val_precision: 0.8202 - val_recall: 0.7027\n",
            "Epoch 28/100\n",
            "96/96 [==============================] - 7s 68ms/step - loss: 0.1994 - precision: 0.8414 - recall: 0.7236 - val_loss: 0.2160 - val_precision: 0.8231 - val_recall: 0.6994\n",
            "Epoch 29/100\n",
            "96/96 [==============================] - 7s 68ms/step - loss: 0.1961 - precision: 0.8442 - recall: 0.7282 - val_loss: 0.2180 - val_precision: 0.8194 - val_recall: 0.7062\n",
            "Epoch 30/100\n",
            "96/96 [==============================] - 7s 68ms/step - loss: 0.1947 - precision: 0.8470 - recall: 0.7322 - val_loss: 0.2162 - val_precision: 0.8195 - val_recall: 0.7063\n",
            "Epoch 31/100\n",
            "96/96 [==============================] - 7s 68ms/step - loss: 0.1922 - precision: 0.8488 - recall: 0.7365 - val_loss: 0.2183 - val_precision: 0.8172 - val_recall: 0.7062\n",
            "Epoch 32/100\n",
            "96/96 [==============================] - 7s 68ms/step - loss: 0.1894 - precision: 0.8509 - recall: 0.7393 - val_loss: 0.2175 - val_precision: 0.8190 - val_recall: 0.7052\n",
            "Epoch 33/100\n",
            "96/96 [==============================] - 7s 68ms/step - loss: 0.1867 - precision: 0.8516 - recall: 0.7434 - val_loss: 0.2176 - val_precision: 0.8135 - val_recall: 0.7098\n",
            "Epoch 34/100\n",
            "96/96 [==============================] - 6s 67ms/step - loss: 0.1847 - precision: 0.8545 - recall: 0.7461 - val_loss: 0.2188 - val_precision: 0.8193 - val_recall: 0.7076\n",
            "Epoch 35/100\n",
            "96/96 [==============================] - 7s 68ms/step - loss: 0.1829 - precision: 0.8559 - recall: 0.7494 - val_loss: 0.2191 - val_precision: 0.8148 - val_recall: 0.7075\n",
            "Epoch 36/100\n",
            "96/96 [==============================] - 7s 69ms/step - loss: 0.1809 - precision: 0.8573 - recall: 0.7522 - val_loss: 0.2189 - val_precision: 0.8142 - val_recall: 0.7094\n",
            "Epoch 37/100\n",
            "96/96 [==============================] - 7s 68ms/step - loss: 0.1784 - precision: 0.8600 - recall: 0.7572 - val_loss: 0.2213 - val_precision: 0.8176 - val_recall: 0.7015\n",
            "Epoch 38/100\n",
            "96/96 [==============================] - 8s 78ms/step - loss: 0.1760 - precision: 0.8625 - recall: 0.7615 - val_loss: 0.2210 - val_precision: 0.8118 - val_recall: 0.7116\n",
            "Epoch 39/100\n",
            "96/96 [==============================] - 7s 69ms/step - loss: 0.1727 - precision: 0.8651 - recall: 0.7636 - val_loss: 0.2226 - val_precision: 0.8059 - val_recall: 0.7192\n",
            "Epoch 40/100\n",
            "96/96 [==============================] - 7s 69ms/step - loss: 0.1712 - precision: 0.8665 - recall: 0.7675 - val_loss: 0.2215 - val_precision: 0.8082 - val_recall: 0.7189\n",
            "Epoch 41/100\n",
            "96/96 [==============================] - 7s 70ms/step - loss: 0.1692 - precision: 0.8671 - recall: 0.7706 - val_loss: 0.2237 - val_precision: 0.8063 - val_recall: 0.7156\n",
            "Epoch 42/100\n",
            "96/96 [==============================] - 7s 70ms/step - loss: 0.1684 - precision: 0.8671 - recall: 0.7706 - val_loss: 0.2239 - val_precision: 0.8080 - val_recall: 0.7139\n",
            "Epoch 43/100\n",
            "96/96 [==============================] - 7s 70ms/step - loss: 0.1669 - precision: 0.8695 - recall: 0.7739 - val_loss: 0.2255 - val_precision: 0.8078 - val_recall: 0.7098\n",
            "Epoch 44/100\n",
            "96/96 [==============================] - 7s 69ms/step - loss: 0.1639 - precision: 0.8702 - recall: 0.7790 - val_loss: 0.2263 - val_precision: 0.8097 - val_recall: 0.7101\n",
            "Epoch 45/100\n",
            "96/96 [==============================] - 7s 68ms/step - loss: 0.1608 - precision: 0.8743 - recall: 0.7825 - val_loss: 0.2270 - val_precision: 0.8057 - val_recall: 0.7081\n",
            "Epoch 46/100\n",
            "96/96 [==============================] - 7s 68ms/step - loss: 0.1589 - precision: 0.8760 - recall: 0.7872 - val_loss: 0.2292 - val_precision: 0.8023 - val_recall: 0.7130\n",
            "Epoch 47/100\n",
            "96/96 [==============================] - 7s 69ms/step - loss: 0.1576 - precision: 0.8755 - recall: 0.7881 - val_loss: 0.2303 - val_precision: 0.8040 - val_recall: 0.7101\n",
            "Epoch 48/100\n",
            "96/96 [==============================] - 7s 71ms/step - loss: 0.1561 - precision: 0.8756 - recall: 0.7901 - val_loss: 0.2318 - val_precision: 0.8020 - val_recall: 0.7097\n",
            "Epoch 49/100\n",
            "96/96 [==============================] - 7s 69ms/step - loss: 0.1539 - precision: 0.8775 - recall: 0.7950 - val_loss: 0.2323 - val_precision: 0.7987 - val_recall: 0.7120\n",
            "Epoch 50/100\n",
            "96/96 [==============================] - 7s 69ms/step - loss: 0.1517 - precision: 0.8790 - recall: 0.7954 - val_loss: 0.2321 - val_precision: 0.7997 - val_recall: 0.7175\n",
            "Epoch 51/100\n",
            "96/96 [==============================] - 7s 70ms/step - loss: 0.1509 - precision: 0.8792 - recall: 0.7981 - val_loss: 0.2372 - val_precision: 0.7995 - val_recall: 0.7107\n",
            "Epoch 52/100\n",
            "96/96 [==============================] - 7s 69ms/step - loss: 0.1485 - precision: 0.8820 - recall: 0.8011 - val_loss: 0.2385 - val_precision: 0.7986 - val_recall: 0.7105\n",
            "Epoch 53/100\n",
            "96/96 [==============================] - 7s 68ms/step - loss: 0.1475 - precision: 0.8820 - recall: 0.8049 - val_loss: 0.2367 - val_precision: 0.7971 - val_recall: 0.7150\n",
            "Epoch 54/100\n",
            "96/96 [==============================] - 7s 69ms/step - loss: 0.1467 - precision: 0.8836 - recall: 0.8042 - val_loss: 0.2377 - val_precision: 0.8018 - val_recall: 0.7096\n",
            "Epoch 55/100\n",
            "96/96 [==============================] - 7s 68ms/step - loss: 0.1429 - precision: 0.8860 - recall: 0.8107 - val_loss: 0.2423 - val_precision: 0.8003 - val_recall: 0.7125\n",
            "Epoch 56/100\n",
            "96/96 [==============================] - 7s 69ms/step - loss: 0.1429 - precision: 0.8850 - recall: 0.8117 - val_loss: 0.2405 - val_precision: 0.7961 - val_recall: 0.7108\n",
            "Epoch 57/100\n",
            "96/96 [==============================] - 7s 70ms/step - loss: 0.1404 - precision: 0.8875 - recall: 0.8148 - val_loss: 0.2451 - val_precision: 0.7920 - val_recall: 0.7113\n",
            "Epoch 58/100\n",
            "96/96 [==============================] - 7s 68ms/step - loss: 0.1383 - precision: 0.8887 - recall: 0.8162 - val_loss: 0.2439 - val_precision: 0.7882 - val_recall: 0.7167\n",
            "Epoch 59/100\n",
            "96/96 [==============================] - 7s 68ms/step - loss: 0.1389 - precision: 0.8881 - recall: 0.8165 - val_loss: 0.2464 - val_precision: 0.7997 - val_recall: 0.7055\n",
            "Epoch 60/100\n",
            "96/96 [==============================] - 7s 69ms/step - loss: 0.1351 - precision: 0.8915 - recall: 0.8213 - val_loss: 0.2524 - val_precision: 0.7907 - val_recall: 0.7105\n",
            "Epoch 61/100\n",
            "96/96 [==============================] - 7s 69ms/step - loss: 0.1349 - precision: 0.8909 - recall: 0.8227 - val_loss: 0.2492 - val_precision: 0.7907 - val_recall: 0.7169\n",
            "Epoch 62/100\n",
            "96/96 [==============================] - 7s 68ms/step - loss: 0.1328 - precision: 0.8928 - recall: 0.8259 - val_loss: 0.2546 - val_precision: 0.7880 - val_recall: 0.7143\n",
            "Epoch 63/100\n",
            "96/96 [==============================] - 7s 69ms/step - loss: 0.1319 - precision: 0.8923 - recall: 0.8281 - val_loss: 0.2573 - val_precision: 0.7931 - val_recall: 0.7054\n",
            "Epoch 64/100\n",
            "96/96 [==============================] - 7s 69ms/step - loss: 0.1314 - precision: 0.8930 - recall: 0.8276 - val_loss: 0.2597 - val_precision: 0.7917 - val_recall: 0.7098\n",
            "Epoch 65/100\n",
            "96/96 [==============================] - 7s 68ms/step - loss: 0.1297 - precision: 0.8950 - recall: 0.8320 - val_loss: 0.2536 - val_precision: 0.7891 - val_recall: 0.7122\n",
            "Epoch 66/100\n",
            "96/96 [==============================] - 7s 68ms/step - loss: 0.1277 - precision: 0.8965 - recall: 0.8342 - val_loss: 0.2557 - val_precision: 0.7889 - val_recall: 0.7176\n",
            "Epoch 67/100\n",
            "96/96 [==============================] - 7s 68ms/step - loss: 0.1280 - precision: 0.8960 - recall: 0.8342 - val_loss: 0.2580 - val_precision: 0.7866 - val_recall: 0.7180\n",
            "Epoch 68/100\n",
            "96/96 [==============================] - 7s 69ms/step - loss: 0.1250 - precision: 0.8965 - recall: 0.8384 - val_loss: 0.2580 - val_precision: 0.7909 - val_recall: 0.7152\n",
            "Epoch 69/100\n",
            "96/96 [==============================] - 7s 68ms/step - loss: 0.1238 - precision: 0.9008 - recall: 0.8396 - val_loss: 0.2628 - val_precision: 0.7891 - val_recall: 0.7095\n",
            "Epoch 70/100\n",
            "96/96 [==============================] - 7s 68ms/step - loss: 0.1247 - precision: 0.8977 - recall: 0.8413 - val_loss: 0.2584 - val_precision: 0.7908 - val_recall: 0.7176\n",
            "Epoch 71/100\n",
            "96/96 [==============================] - 7s 69ms/step - loss: 0.1205 - precision: 0.9015 - recall: 0.8435 - val_loss: 0.2610 - val_precision: 0.7882 - val_recall: 0.7165\n",
            "Epoch 72/100\n",
            "96/96 [==============================] - 7s 69ms/step - loss: 0.1207 - precision: 0.8999 - recall: 0.8459 - val_loss: 0.2624 - val_precision: 0.7862 - val_recall: 0.7169\n",
            "Epoch 73/100\n",
            "96/96 [==============================] - 7s 68ms/step - loss: 0.1204 - precision: 0.8998 - recall: 0.8463 - val_loss: 0.2638 - val_precision: 0.7829 - val_recall: 0.7170\n",
            "Epoch 74/100\n",
            "96/96 [==============================] - 7s 68ms/step - loss: 0.1190 - precision: 0.9014 - recall: 0.8480 - val_loss: 0.2701 - val_precision: 0.7854 - val_recall: 0.7167\n",
            "Epoch 75/100\n",
            "96/96 [==============================] - 7s 72ms/step - loss: 0.1181 - precision: 0.9021 - recall: 0.8483 - val_loss: 0.2747 - val_precision: 0.7808 - val_recall: 0.7116\n",
            "Epoch 76/100\n",
            "96/96 [==============================] - 7s 72ms/step - loss: 0.1165 - precision: 0.9032 - recall: 0.8506 - val_loss: 0.2689 - val_precision: 0.7888 - val_recall: 0.7128\n",
            "Epoch 77/100\n",
            "96/96 [==============================] - 7s 71ms/step - loss: 0.1139 - precision: 0.9052 - recall: 0.8559 - val_loss: 0.2684 - val_precision: 0.7870 - val_recall: 0.7150\n",
            "Epoch 78/100\n",
            "96/96 [==============================] - 7s 71ms/step - loss: 0.1147 - precision: 0.9050 - recall: 0.8549 - val_loss: 0.2719 - val_precision: 0.7847 - val_recall: 0.7093\n",
            "Epoch 79/100\n",
            "96/96 [==============================] - 7s 71ms/step - loss: 0.1126 - precision: 0.9079 - recall: 0.8580 - val_loss: 0.2710 - val_precision: 0.7838 - val_recall: 0.7173\n",
            "Epoch 80/100\n",
            "96/96 [==============================] - 7s 71ms/step - loss: 0.1109 - precision: 0.9071 - recall: 0.8605 - val_loss: 0.2752 - val_precision: 0.7808 - val_recall: 0.7093\n",
            "Epoch 81/100\n",
            "96/96 [==============================] - 7s 70ms/step - loss: 0.1102 - precision: 0.9082 - recall: 0.8623 - val_loss: 0.2693 - val_precision: 0.7849 - val_recall: 0.7151\n",
            "Epoch 82/100\n",
            "96/96 [==============================] - 7s 69ms/step - loss: 0.1094 - precision: 0.9090 - recall: 0.8630 - val_loss: 0.2729 - val_precision: 0.7849 - val_recall: 0.7154\n",
            "Epoch 83/100\n",
            "96/96 [==============================] - 7s 70ms/step - loss: 0.1093 - precision: 0.9087 - recall: 0.8634 - val_loss: 0.2744 - val_precision: 0.7860 - val_recall: 0.7084\n",
            "Epoch 84/100\n",
            "96/96 [==============================] - 7s 70ms/step - loss: 0.1071 - precision: 0.9101 - recall: 0.8658 - val_loss: 0.2759 - val_precision: 0.7786 - val_recall: 0.7177\n",
            "Epoch 85/100\n",
            "96/96 [==============================] - 6s 67ms/step - loss: 0.1071 - precision: 0.9098 - recall: 0.8678 - val_loss: 0.2786 - val_precision: 0.7880 - val_recall: 0.7099\n",
            "Epoch 86/100\n",
            "96/96 [==============================] - 6s 66ms/step - loss: 0.1058 - precision: 0.9121 - recall: 0.8691 - val_loss: 0.2814 - val_precision: 0.7756 - val_recall: 0.7173\n",
            "Epoch 87/100\n",
            "96/96 [==============================] - 6s 67ms/step - loss: 0.1050 - precision: 0.9111 - recall: 0.8698 - val_loss: 0.2790 - val_precision: 0.7733 - val_recall: 0.7206\n",
            "Epoch 88/100\n",
            "96/96 [==============================] - 6s 67ms/step - loss: 0.1048 - precision: 0.9108 - recall: 0.8697 - val_loss: 0.2831 - val_precision: 0.7752 - val_recall: 0.7163\n",
            "Epoch 89/100\n",
            "96/96 [==============================] - 6s 67ms/step - loss: 0.1040 - precision: 0.9127 - recall: 0.8726 - val_loss: 0.2814 - val_precision: 0.7812 - val_recall: 0.7136\n",
            "Epoch 90/100\n",
            "96/96 [==============================] - 6s 67ms/step - loss: 0.1021 - precision: 0.9137 - recall: 0.8742 - val_loss: 0.2840 - val_precision: 0.7746 - val_recall: 0.7124\n",
            "Epoch 91/100\n",
            "96/96 [==============================] - 6s 67ms/step - loss: 0.1020 - precision: 0.9130 - recall: 0.8756 - val_loss: 0.2932 - val_precision: 0.7757 - val_recall: 0.7107\n",
            "Epoch 92/100\n",
            "96/96 [==============================] - 6s 66ms/step - loss: 0.1012 - precision: 0.9137 - recall: 0.8756 - val_loss: 0.2878 - val_precision: 0.7743 - val_recall: 0.7087\n",
            "Epoch 93/100\n",
            "96/96 [==============================] - 6s 67ms/step - loss: 0.1006 - precision: 0.9143 - recall: 0.8777 - val_loss: 0.2931 - val_precision: 0.7692 - val_recall: 0.7139\n",
            "Epoch 94/100\n",
            "96/96 [==============================] - 6s 67ms/step - loss: 0.0987 - precision: 0.9166 - recall: 0.8789 - val_loss: 0.2928 - val_precision: 0.7752 - val_recall: 0.7109\n",
            "Epoch 95/100\n",
            "96/96 [==============================] - 7s 67ms/step - loss: 0.0987 - precision: 0.9161 - recall: 0.8790 - val_loss: 0.2924 - val_precision: 0.7694 - val_recall: 0.7176\n",
            "Epoch 96/100\n",
            "96/96 [==============================] - 6s 66ms/step - loss: 0.0976 - precision: 0.9161 - recall: 0.8799 - val_loss: 0.2934 - val_precision: 0.7752 - val_recall: 0.7104\n",
            "Epoch 97/100\n",
            "96/96 [==============================] - 6s 66ms/step - loss: 0.0974 - precision: 0.9169 - recall: 0.8824 - val_loss: 0.2939 - val_precision: 0.7772 - val_recall: 0.7126\n",
            "Epoch 98/100\n",
            "96/96 [==============================] - 6s 67ms/step - loss: 0.0951 - precision: 0.9202 - recall: 0.8845 - val_loss: 0.3027 - val_precision: 0.7739 - val_recall: 0.7113\n",
            "Epoch 99/100\n",
            "96/96 [==============================] - 6s 67ms/step - loss: 0.0947 - precision: 0.9192 - recall: 0.8852 - val_loss: 0.2988 - val_precision: 0.7690 - val_recall: 0.7166\n",
            "Epoch 100/100\n",
            "96/96 [==============================] - 6s 67ms/step - loss: 0.0956 - precision: 0.9180 - recall: 0.8859 - val_loss: 0.3007 - val_precision: 0.7773 - val_recall: 0.7049\n"
          ]
        },
        {
          "output_type": "display_data",
          "data": {
            "image/png": "[encoded data removed]",
            "text/plain": [
              "<Figure size 432x288 with 1 Axes>"
            ]
          },
          "metadata": {
            "needs_background": "light"
          }
        },
        {
          "output_type": "display_data",
          "data": {
            "image/png": "[encoded data removed]",
            "text/plain": [
              "<Figure size 432x288 with 1 Axes>"
            ]
          },
          "metadata": {
            "needs_background": "light"
          }
        },
        {
          "output_type": "display_data",
          "data": {
            "image/png": "[encoded data removed]",
            "text/plain": [
              "<Figure size 432x288 with 1 Axes>"
            ]
          },
          "metadata": {
            "needs_background": "light"
          }
        }
      ],
      "source": [
        "epochs = 100\n",
        "\n",
        "shallow_mlp_model = make_model()\n",
        "shallow_mlp_model.compile(\n",
        "    loss=\"binary_crossentropy\", optimizer=\"adam\", metrics=[tf.keras.metrics.Precision(), tf.keras.metrics.Recall()]\n",
        ")\n",
        "\n",
        "history = shallow_mlp_model.fit(\n",
        "    train_dataset, validation_data=validation_dataset, epochs=epochs,\n",
        ")\n",
        "\n",
        "\n",
        "def plot_result(item):\n",
        "    plt.plot(history.history[item], label=item)\n",
        "    plt.plot(history.history[\"val_\" + item], label=\"val_\" + item)\n",
        "    plt.xlabel(\"Epochs\")\n",
        "    plt.ylabel(item)\n",
        "    plt.title(\"Train and Validation {} Over Epochs\".format(item), fontsize=14)\n",
        "    plt.legend()\n",
        "    plt.grid()\n",
        "    plt.show()\n",
        "\n",
        "\n",
        "plot_result(\"loss\")\n",
        "plot_result(\"precision\")\n",
        "plot_result(\"recall\")"
      ]
    },
    {
      "cell_type": "markdown",
      "metadata": {
        "id": "9SGJuIC_CMK7"
      },
      "source": [
        "## Evaluate the model"
      ]
    },
    {
      "cell_type": "markdown",
      "source": [
        "###Exact Match Radio"
      ],
      "metadata": {
        "id": "uWx9WJkfFCoj"
      }
    },
    {
      "cell_type": "code",
      "source": [
        "def get_y_true_and_y_pred_prob_value():\n",
        "    model_for_evaluate = keras.Sequential([text_vectorizer, shallow_mlp_model])\n",
        "    evaluate_dataset = make_dataset(test_df, is_train=False)\n",
        "\n",
        "    y_true = []\n",
        "    y_pred_prob = []\n",
        "\n",
        "    for text_batch, label_batch in evaluate_dataset:\n",
        "        predicted_probabilities = model_for_evaluate.predict(text_batch)\n",
        "        for i, text in enumerate(text_batch):\n",
        "            label = label_batch[i].numpy()[None, ...]\n",
        "            y_true.append(label[0])\n",
        "            y_pred_prob.append(predicted_probabilities[i])\n",
        "    y_true = np.array(y_true)\n",
        "    y_pred_prob = np.array(y_pred_prob)\n",
        "    return y_true, y_pred_prob\n"
      ],
      "metadata": {
        "id": "q2WLE755ewF1"
      },
      "execution_count": null,
      "outputs": []
    },
    {
      "cell_type": "code",
      "source": [
        "def get_y_pred(y_pred_prob, k=3, threshold=0.5):\n",
        "    y_pred = []\n",
        "    for pred in y_pred_prob:\n",
        "        top_k_labels = [\n",
        "            x\n",
        "            for _, x in sorted(\n",
        "                zip(pred, lookup.get_vocabulary()),\n",
        "                key=lambda pair: pair[0],\n",
        "                reverse=True,\n",
        "            )\n",
        "        ][:k]\n",
        "        y_top_k_labels = np.zeros(y_pred_prob[0].shape[0])\n",
        "        for j in range(len(vocab)):\n",
        "            if(vocab[j] in top_k_labels):\n",
        "                if(pred[j] > threshold):\n",
        "                    y_top_k_labels[j] = 1\n",
        "                else:\n",
        "                    top_k_labels.remove(vocab[j])\n",
        "        y_pred.append(y_top_k_labels)\n",
        "    y_pred = np.array(y_pred)   \n",
        "    return y_pred\n"
      ],
      "metadata": {
        "id": "gstTHRPug2WC"
      },
      "execution_count": null,
      "outputs": []
    },
    {
      "cell_type": "code",
      "source": [
        "y_true, y_pred_prob = get_y_true_and_y_pred_prob_value()\n",
        "for k in range(1,7,1):\n",
        "    for threshold in np.arange(0.3,0.8,0.1):\n",
        "        y_pred = get_y_pred(y_pred_prob, k, threshold)\n",
        "        number_of_test = test_df.shape[0]\n",
        "        from sklearn.metrics import accuracy_score\n",
        "        acc = accuracy_score(y_true, y_pred)\n",
        "        print(f\"With k = {k} and threshold = {round(threshold,1)} - Exact Match Radio accuracy on the test set: {round(acc * 100, 2)}%\")"
      ],
      "metadata": {
        "colab": {
          "base_uri": "https://localhost:8080/"
        },
        "id": "1hD9Rzb2UQ6S",
        "outputId": "9e43dce6-37b3-45f4-f929-93b49240e3b8"
      },
      "execution_count": null,
      "outputs": [
        {
          "output_type": "stream",
          "name": "stdout",
          "text": [
            "With k = 1 and threshold = 0.3 - Exact Match Radio accuracy on the test set: 53.68%\n",
            "With k = 1 and threshold = 0.4 - Exact Match Radio accuracy on the test set: 53.53%\n",
            "With k = 1 and threshold = 0.5 - Exact Match Radio accuracy on the test set: 53.3%\n",
            "With k = 1 and threshold = 0.6 - Exact Match Radio accuracy on the test set: 52.72%\n",
            "With k = 1 and threshold = 0.7 - Exact Match Radio accuracy on the test set: 51.88%\n",
            "With k = 2 and threshold = 0.3 - Exact Match Radio accuracy on the test set: 48.88%\n",
            "With k = 2 and threshold = 0.4 - Exact Match Radio accuracy on the test set: 51.12%\n",
            "With k = 2 and threshold = 0.5 - Exact Match Radio accuracy on the test set: 52.18%\n",
            "With k = 2 and threshold = 0.6 - Exact Match Radio accuracy on the test set: 52.59%\n",
            "With k = 2 and threshold = 0.7 - Exact Match Radio accuracy on the test set: 52.24%\n",
            "With k = 3 and threshold = 0.3 - Exact Match Radio accuracy on the test set: 48.11%\n",
            "With k = 3 and threshold = 0.4 - Exact Match Radio accuracy on the test set: 50.65%\n",
            "With k = 3 and threshold = 0.5 - Exact Match Radio accuracy on the test set: 51.95%\n",
            "With k = 3 and threshold = 0.6 - Exact Match Radio accuracy on the test set: 52.5%\n",
            "With k = 3 and threshold = 0.7 - Exact Match Radio accuracy on the test set: 52.21%\n",
            "With k = 4 and threshold = 0.3 - Exact Match Radio accuracy on the test set: 48.11%\n",
            "With k = 4 and threshold = 0.4 - Exact Match Radio accuracy on the test set: 50.65%\n",
            "With k = 4 and threshold = 0.5 - Exact Match Radio accuracy on the test set: 51.95%\n",
            "With k = 4 and threshold = 0.6 - Exact Match Radio accuracy on the test set: 52.5%\n",
            "With k = 4 and threshold = 0.7 - Exact Match Radio accuracy on the test set: 52.21%\n",
            "With k = 5 and threshold = 0.3 - Exact Match Radio accuracy on the test set: 48.11%\n",
            "With k = 5 and threshold = 0.4 - Exact Match Radio accuracy on the test set: 50.65%\n",
            "With k = 5 and threshold = 0.5 - Exact Match Radio accuracy on the test set: 51.95%\n",
            "With k = 5 and threshold = 0.6 - Exact Match Radio accuracy on the test set: 52.5%\n",
            "With k = 5 and threshold = 0.7 - Exact Match Radio accuracy on the test set: 52.21%\n",
            "With k = 6 and threshold = 0.3 - Exact Match Radio accuracy on the test set: 48.11%\n",
            "With k = 6 and threshold = 0.4 - Exact Match Radio accuracy on the test set: 50.65%\n",
            "With k = 6 and threshold = 0.5 - Exact Match Radio accuracy on the test set: 51.95%\n",
            "With k = 6 and threshold = 0.6 - Exact Match Radio accuracy on the test set: 52.5%\n",
            "With k = 6 and threshold = 0.7 - Exact Match Radio accuracy on the test set: 52.21%\n"
          ]
        }
      ]
    },
    {
      "cell_type": "markdown",
      "source": [
        "### Hamming Loss"
      ],
      "metadata": {
        "id": "XSAHQ4fnYweE"
      }
    },
    {
      "cell_type": "code",
      "source": [
        "from sklearn.metrics import hamming_loss\n",
        "y_true, y_pred_prob = get_y_true_and_y_pred_prob_value()\n",
        "y_pred = get_y_pred(y_pred_prob, k=3, threshold=0.5)\n",
        "hml = hamming_loss(y_true, y_pred)\n",
        "print(f\"Hamming Loss = {hml}\")"
      ],
      "metadata": {
        "id": "A38CYEWyYwDJ",
        "colab": {
          "base_uri": "https://localhost:8080/"
        },
        "outputId": "6bcddb4b-98ed-4442-9192-adc22da873f4"
      },
      "execution_count": null,
      "outputs": [
        {
          "output_type": "stream",
          "name": "stdout",
          "text": [
            "Hamming Loss = 0.09838978797292348\n"
          ]
        }
      ]
    },
    {
      "cell_type": "markdown",
      "source": [
        "### Confusion Matrix Metrics"
      ],
      "metadata": {
        "id": "AIN3f9n6vayG"
      }
    },
    {
      "cell_type": "code",
      "source": [
        "from sklearn.metrics import multilabel_confusion_matrix\n",
        "\n",
        "y_true, y_pred_prob = get_y_true_and_y_pred_prob_value()\n",
        "y_pred = get_y_pred(y_pred_prob, k=3, threshold=0.5)\n",
        "\n",
        "m = multilabel_confusion_matrix(y_true, y_pred)\n",
        "\n",
        "for i in range(1,len(m)):\n",
        "    print(\"Multilabel_confusion_matrix_of: \"+vocab[i])\n",
        "    print(m[i])\n",
        "    print()\n",
        "    # print(vocab[i])"
      ],
      "metadata": {
        "colab": {
          "base_uri": "https://localhost:8080/"
        },
        "id": "7Mb8VGVOuHKQ",
        "outputId": "4b1f9ce8-cffa-4c5f-fad8-cfc50434bdc6"
      },
      "execution_count": null,
      "outputs": [
        {
          "output_type": "stream",
          "name": "stdout",
          "text": [
            "Multilabel_confusion_matrix_of: astro-ph.GA\n",
            "[[6707  631]\n",
            " [ 775 2418]]\n",
            "\n",
            "Multilabel_confusion_matrix_of: astro-ph.SR\n",
            "[[6923  675]\n",
            " [1019 1914]]\n",
            "\n",
            "Multilabel_confusion_matrix_of: astro-ph.EP\n",
            "[[7644  263]\n",
            " [ 593 2031]]\n",
            "\n",
            "Multilabel_confusion_matrix_of: astro-ph.HE\n",
            "[[7793  529]\n",
            " [ 573 1636]]\n",
            "\n",
            "Multilabel_confusion_matrix_of: astro-ph.IM\n",
            "[[7996  402]\n",
            " [ 795 1338]]\n",
            "\n",
            "Multilabel_confusion_matrix_of: astro-ph.CO\n",
            "[[8564  394]\n",
            " [ 604  969]]\n",
            "\n"
          ]
        }
      ]
    },
    {
      "cell_type": "markdown",
      "source": [
        "### Precision, Recall, F1_score, micro-average, macro-average metrics"
      ],
      "metadata": {
        "id": "do3etJAedqfD"
      }
    },
    {
      "cell_type": "code",
      "source": [
        "from sklearn.metrics import classification_report\n",
        "\n",
        "y_pred = get_y_pred(y_pred_prob, k=3, threshold=0.5)\n",
        "\n",
        "print(classification_report(y_true, y_pred,target_names=vocab))"
      ],
      "metadata": {
        "colab": {
          "base_uri": "https://localhost:8080/"
        },
        "id": "VQMRBIQdvkAL",
        "outputId": "89ea9c87-e44d-47c0-cdde-b1bdd038d9b8"
      },
      "execution_count": null,
      "outputs": [
        {
          "output_type": "stream",
          "name": "stdout",
          "text": [
            "              precision    recall  f1-score   support\n",
            "\n",
            "       [UNK]       0.00      0.00      0.00         0\n",
            " astro-ph.GA       0.79      0.76      0.77      3193\n",
            " astro-ph.SR       0.74      0.65      0.69      2933\n",
            " astro-ph.EP       0.89      0.77      0.83      2624\n",
            " astro-ph.HE       0.76      0.74      0.75      2209\n",
            " astro-ph.IM       0.77      0.63      0.69      2133\n",
            " astro-ph.CO       0.71      0.62      0.66      1573\n",
            "\n",
            "   micro avg       0.78      0.70      0.74     14665\n",
            "   macro avg       0.66      0.60      0.63     14665\n",
            "weighted avg       0.78      0.70      0.74     14665\n",
            " samples avg       0.80      0.76      0.75     14665\n",
            "\n"
          ]
        },
        {
          "output_type": "stream",
          "name": "stderr",
          "text": [
            "/usr/local/lib/python3.7/dist-packages/sklearn/metrics/_classification.py:1308: UndefinedMetricWarning: Precision and F-score are ill-defined and being set to 0.0 in labels with no predicted samples. Use `zero_division` parameter to control this behavior.\n",
            "  _warn_prf(average, modifier, msg_start, len(result))\n",
            "/usr/local/lib/python3.7/dist-packages/sklearn/metrics/_classification.py:1308: UndefinedMetricWarning: Recall and F-score are ill-defined and being set to 0.0 in labels with no true samples. Use `zero_division` parameter to control this behavior.\n",
            "  _warn_prf(average, modifier, msg_start, len(result))\n",
            "/usr/local/lib/python3.7/dist-packages/sklearn/metrics/_classification.py:1308: UndefinedMetricWarning: Precision and F-score are ill-defined and being set to 0.0 in samples with no predicted labels. Use `zero_division` parameter to control this behavior.\n",
            "  _warn_prf(average, modifier, msg_start, len(result))\n"
          ]
        }
      ]
    },
    {
      "cell_type": "markdown",
      "source": [
        "### Exist 1 in Top k predicts is true Accuracy"
      ],
      "metadata": {
        "id": "M4vCoFXeyACW"
      }
    },
    {
      "cell_type": "code",
      "source": [
        "def top_k_predict_is_true_accuracy(y_true, y_pred_prob, k=3, threshold = 0.5):\n",
        "    score = 0\n",
        "    for i in range(len(y_pred_prob)):\n",
        "            top_k_labels = [\n",
        "                x\n",
        "                for _, x in sorted(\n",
        "                    zip(y_pred_prob[i], lookup.get_vocabulary()),\n",
        "                    key=lambda pair: pair[0],\n",
        "                    reverse=True,\n",
        "                )\n",
        "            ][:k]\n",
        "            y_top_k_labels = np.zeros(y_pred_prob[0].shape[0])\n",
        "            for label in top_k_labels:\n",
        "                if(y_true[i][vocab.index(label)] == 1):\n",
        "                    score += 1\n",
        "                    break\n",
        "    return score/len(y_pred_prob)\n",
        "\n",
        "acc = top_k_predict_is_true_accuracy(y_true, y_pred_prob, 3, 0.5)\n",
        "print(f\"Accuracy: {acc}\")"
      ],
      "metadata": {
        "colab": {
          "base_uri": "https://localhost:8080/"
        },
        "id": "-8bPEVxXyJv8",
        "outputId": "3ed72c2c-7888-453f-81b3-f0e2bddab98f"
      },
      "execution_count": null,
      "outputs": [
        {
          "output_type": "stream",
          "name": "stdout",
          "text": [
            "Accuracy: 0.973316873991074\n"
          ]
        }
      ]
    },
    {
      "cell_type": "markdown",
      "metadata": {
        "id": "dMBkcIVJCMK8"
      },
      "source": [
        "## Inference"
      ]
    },
    {
      "cell_type": "code",
      "source": [
        "# Create a model for inference.\n",
        "model_for_inference = keras.Sequential([text_vectorizer, shallow_mlp_model])\n",
        "\n",
        "# Create a small dataset just for demoing inference.\n",
        "inference_dataset = make_dataset(test_df.sample(100), is_train=False)\n",
        "text_batch, label_batch = next(iter(inference_dataset))\n",
        "predicted_probabilities = model_for_inference.predict(text_batch)\n",
        "\n",
        "k=6\n",
        "\n",
        "# Perform inference.\n",
        "for i, text in enumerate(text_batch[:50]):\n",
        "    label = label_batch[i].numpy()[None, ...]\n",
        "    print(f\"Abstract: {text[0]}\")\n",
        "    print(f\"Label(s): {invert_multi_hot(label[0])}\")\n",
        "    predicted_proba = [proba for proba in predicted_probabilities[i]]\n",
        "    top_k_labels = [\n",
        "        x\n",
        "        for _, x in sorted(\n",
        "            zip(predicted_probabilities[i], lookup.get_vocabulary()),\n",
        "            key=lambda pair: pair[0],\n",
        "            reverse=True,\n",
        "        )\n",
        "    ][:k]\n",
        "    predicted_proba.sort(reverse = True)\n",
        "    for i in reversed(range(len(predicted_proba)-1)):\n",
        "        if(predicted_proba[i] < 0.3 and len(top_k_labels) > 0):\n",
        "            top_k_labels.pop(i)\n",
        "    print(f\"Predicted Label(s): ({', '.join([label for label in top_k_labels])})\")\n",
        "    print(\" \")"
      ],
      "metadata": {
        "colab": {
          "base_uri": "https://localhost:8080/"
        },
        "id": "J9Eqxq-rdqlc",
        "outputId": "5c8cc276-972e-49e2-a96d-abbdc0ee753c"
      },
      "execution_count": null,
      "outputs": [
        {
          "output_type": "stream",
          "name": "stdout",
          "text": [
            "Abstract: b'one moreover considerable constrain correlation degeneracy correspondent model possible mass primordial black however especially radiation lambda distribution reduce microwave horizon parameter tighter present term merger greatly binary popular inference sound detection simple primordial observation power hole cdm high finally tilt extension induces investigate extra amount study spectrum polarization ligo shape monochromatic small constrain matter drag seriously hole extend pbhs lack pbh result fraction cosmic comprised black ell find background dark despite strong standard come possibility relevant distribution use also significant additional odot effect might interest cosmological sim scale constraint inclusion show reconsider data explore implication'\n",
            "Label(s): ['astro-ph.CO']\n",
            "Predicted Label(s): (astro-ph.CO)\n",
            " \n",
            "Abstract: b'conrath putative temperature irwin identical spectral range mix model profile tomasko present hazes pressure however argue uranus spectra stis voyager distribute inferred vertical volume reduce argue lindal require slope deep sromovsky best within region deg geophys latitudes introduction radio tropospheric virtually measurement increase et observation fit allow condensation agreement model ratio indeed interpret result find refractivity icarus variation identify ratio result concentration methane layer aerosol try two occultation form closer karkoschka reconcile use condensed consistent depletion increasingly localize diffusely find strong saturate variation rough al use bar compatible trend fry obtain latitudinal upper us bar layer cloud edge reach ir reanalyzed constraint near pole recent particle analysis res give compact particle'\n",
            "Label(s): ['astro-ph.EP']\n",
            "Predicted Label(s): (astro-ph.HE, astro-ph.EP)\n",
            " \n",
            "Abstract: b'inform formation possible cluster dynamical large hole well delay however angle important distribution limit distance population comparison probe tie degeneracy merger measure binary due impose observation information signal ability close probable use imposition letter expect discriminate aspect luminosity different measure combine universe originated black additionally observed merger distance model wave suppress uncertainty distribution history time gravitational redshift remnant rate least principle multiple cosmological inclination precisely make evolution star make analysis show'\n",
            "Label(s): ['astro-ph.HE']\n",
            "Predicted Label(s): (astro-ph.HE, astro-ph.CO)\n",
            " \n",
            "Abstract: b'infant content several cl formation object specific estimate possible still mass characterised number size distinct important new relation faint similar potential massive assembly within present subfind gal alpha project describe parent host observation via gc high first resolution day finally one second amount ssfr description relatively dense low indicate specifically gc galaxy matter dwarf build year candidate contain identified simulation ultra play object baryon base fraction gas type belong may system two observe study first merger consistent offer dark redshift substructure also satisfactory set suggest report group redshift express relation form behaviour rm fiby scale rate geq emerge hypothesise log cosmological proto sim suite appear stellar ass abundant halo algorithm role star resemblance recent group analysis show explore data billion compact'\n",
            "Label(s): ['astro-ph.GA' 'astro-ph.CO']\n",
            "Predicted Label(s): (astro-ph.GA, astro-ph.CO)\n",
            " \n",
            "Abstract: b'five inner peculiar dynamically force mass characterize however total interaction many solar numerical previous saturn explain final extreme markedly migration include eccentric back sculpt mutual remove planet modern asteroid use struggle particular high slows invoke study jupiter low reshape every quality orbit system move absence leftover complete yr effect simulation material approach belt relate away speeds instability excite structure planet two planetesimal nice asteroid orbital distribution improve precess simulation reproduce problem outer phase state strengthens weaken rate precession main process inclination outcomes short arcsec cross cause innermost lead show separation model giant'\n",
            "Label(s): ['astro-ph.EP']\n",
            "Predicted Label(s): (astro-ph.EP)\n",
            " \n",
            "Abstract: b'pixel dynamically possible number emccd region device new image technology skipper time instrument depend metrology test deep present optimizes charge currently electron visible arbitrary technique single even therefore technology statically high faster array resolution multiplier quantum use multiplier eoi low read ccd ccds astronomical either sensor quantized nondestructive showing search provide etc photo charge pixel method roi exoplanet changing could study smart image energy skipper require silicon define noise long light time obtain allow electron sensitivity technique application sub interest couple photon readout sensor competitive benefit cost show use'\n",
            "Label(s): ['astro-ph.IM']\n",
            "Predicted Label(s): (astro-ph.IM, astro-ph.SR)\n",
            " \n",
            "Abstract: b'importance advantage level interested lead impractical become large software however astrophysical must many little survey acquire activity technology job train fundamental come research recommend infrastructure agency white order available even develop professional astronomy student high encourage resolution paper professional recommendation case inaccessible every expect formal next aspect ensure astronomical widely member researcher workforce classroom success nearly promotion regardless progress norm simulation necessary cod take curriculum volume require focus increasingly despite fund apart development recognize policy sustain opportunity alike support community affiliation skill capable way make career decade accessible identify data resource computational'\n",
            "Label(s): ['astro-ph.IM']\n",
            "Predicted Label(s): (astro-ph.IM)\n",
            " \n",
            "Abstract: b'strongly formation unexpectedly model mass cluster interior experience mixture new rapid enhance explain previous mesa cool match alleviate perhaps massive population enough sink include predicts slow require fully ngc branch white wd due core observation yield faster investigate test sample dense model accurate heavier investigation comparison dramatically population prescription plasma coincide motivate ultra cool base result observe sedimentation background find individual prior compatible age set gyr local couple odot indicator kinematic lower dwarf wds heat ne propose theoretical ion physic open state crystallization rate approx cluster gaia solid tension delay near fail experience age liquid pc show interior use account'\n",
            "Label(s): ['astro-ph.GA' 'astro-ph.SR']\n",
            "Predicted Label(s): (astro-ph.GA, astro-ph.SR)\n",
            " \n",
            "Abstract: b'however underlying create five moreover young way galactocentric weaker locus sun local arm large show solar vertical point velocity massive disc present carina spiral establish reveal rotational sagittarius difference rotation inter nature radial signal thin spiral colour close arm projection delta pitch distortion neighbourhood velocity appear star behind extended three favour count counterpart kinematics reveal view object gas milky clumpy associate two display locate perseus follow use position study respectively perturb around find recently substructures another flocculent circular cloud local galactic kinematic residual map angle state thickness corotate closely leave least well gaia stellar scale start star pc circ analysis show know rich molecular overdensity'\n",
            "Label(s): ['astro-ph.GA']\n",
            "Predicted Label(s): (astro-ph.GA, astro-ph.SR)\n",
            " \n",
            "Abstract: b'underlie mechanism spectral peak much continue inner feature assemble process balmer characterize primordial total spectra many dissociation emits previous fuv remain smooth smoothly argue origin transition non broad space wavelength average erg electron detection continuum drive contribute approximately study spectrum tauri sample model host nuv deconvolution contrary aa hst bump photon unclear demonstrate luminosity thermally star inconsistent power accrete archival clear ly object likely notable carrier water telescope qualitatively excite au system cttss refer observed finding star impact roughly study classical higher find hubble disk account molecule sequence suggest discrete additional fragment pre feature rate center span main well emission disk energetically short fluorescent suggest describe separate analysis show populate defined source'\n",
            "Label(s): ['astro-ph.SR']\n",
            "Predicted Label(s): (astro-ph.SR)\n",
            " \n",
            "Abstract: b'however protoplanetary hydrodynamic steady young spectral much planetary ten model weaker variability quasi large show occur produce line radiation global average combine largely km mainly include huge alpha heat one produce spectroscopic cpd shock nevertheless key observation gap fluctuate approximately high resolution day timescales one model observation system demonstrate luminosity shorter profile recent develop affect combine simulation reveal pds high result originate layer challenge planet system two smaller microscopic protoplanet monitoring flow surface dimensional myr spatial area circumplanetary find localize also previously age magnitude time local property significantly flow accretion understand problem shock variable rate detect despite proto process emission disk stellar scale less onto excess order timescale several giant overcome'\n",
            "Label(s): ['astro-ph.EP']\n",
            "Predicted Label(s): (astro-ph.EP, astro-ph.SR)\n",
            " \n",
            "Abstract: b'time nir provide would spiral currently galactic space much obscure infrared interstellar galaxy modern arm penetrate observatory region astronomy instrument however separate sky plane inaccessible render dynamic gaia internal extinction millimag near photometry optical unraveling revolutionize microarcsecond astrometry center original operating'\n",
            "Label(s): ['astro-ph.IM']\n",
            "Predicted Label(s): (astro-ph.GA, astro-ph.IM)\n",
            " \n",
            "Abstract: b'however protoplanetary molecule body adenine synthesis formation nc potentially model possible substantiate still reaction thymine contain important meteorite unlikely emergence planetesimal cytosine origin nucleobases major within thymine environment persist guanine measure parent later pathway due build meteorite arise uracil contribute finally investigate world deamination ft chemical small ultimately condition result dna find protein earth hcn result formic likely water involve nucleobase two may planetesimal study dominant acid problematic cytosine model find discuss disk molecule source significant absent list primary aqueous body co formaldehyde thermodynamically consequence computationally reaction various pregenetic favourable rna certain oxidation identify make several'\n",
            "Label(s): ['astro-ph.EP']\n",
            "Predicted Label(s): (astro-ph.EP)\n",
            " \n",
            "Abstract: b'context sophisticate body lead formation float range planetary wide pebble model mass es free symba number dynamical ejection however densities metallicity global bulk classical damping duncan distribution second code se indicate couple prediction disc reason migration parameter lead s present planet although environment property later planet axis et variety via result depend paper first faster natural one super pebbles efficiency expect incorporate lose along issue dependency solve behind extrasolar method simulation initial propose stand result gas difficulty subtle confirm instability planet system type observe may two smaller study efficiency earth first tend metallicities ida find do higher suggest long al also trend sensitively effect accretion exoplanetary interesting third reproduce efficient semimajor larger main inclination stellar depend aim compare evolution outcome consequence eccentricity giant'\n",
            "Label(s): ['astro-ph.EP']\n",
            "Predicted Label(s): (astro-ph.EP, astro-ph.SR)\n",
            " \n",
            "Abstract: b'structure formation relate model mass parameter fit number large work introduce structure filament network web address direction collapse probe novel region aim order via hessian analytical crucial one collapse matrix dense critical model name filament introduce excursion objective epoch extend gravitational framework approach point baryon object addition universe cosmic instability context length study scale structural find condition saddle also independent component set approximation statistic obtain introduce accordingly relation nonlinear filament miss problem propose ellipsoidal field function cosmological sim density extension evolution count consider cross know use almost address'\n",
            "Label(s): ['astro-ph.CO']\n",
            "Predicted Label(s): (astro-ph.CO)\n",
            " \n",
            "Abstract: b'strongly ionic temperature content relative spectroscopy peak discrepancy inner planetary nebula abundance number region distinct specie value adf cels deep spatially present ngc unit measure increase electron order construct abundance pne ii rich high auroral one amount phase integral diagnostics low pn evaluate result cold either line find centrally three nearly realistic method gas coincides metal two study presence build extinction first study ionization use also heavy time component try compute effect evaluate downward muse map contribution warm flux estimate element simultaneously gradient factor hf field zone recombination normal main emission density oxygen toward support orls issue show use'\n",
            "Label(s): ['astro-ph.GA' 'astro-ph.SR']\n",
            "Predicted Label(s): (astro-ph.SR, astro-ph.HE, astro-ph.GA)\n",
            " \n",
            "Abstract: b'adopt improvement five medium range improve assume included well astrophysical total optimally respect pulsar precision time require center require currently radio reduce observation therefore error investigate frequency case telescope optimal intrinsic choice profile demonstrate overall bandwidth factor result star provide extend chromatic interstellar array result object optimization receiver arrival frequency integration dependence observe increase countered determine dispersion find higher program strong uncertainty discus noise also neutron significant time pulse pulsar variance measure current sqrt effect contribution fix somewhat dependent receiver center larger function well wideband measurement evolution precision timing use'\n",
            "Label(s): ['astro-ph.HE' 'astro-ph.IM']\n",
            "Predicted Label(s): (astro-ph.IM, astro-ph.HE)\n",
            " \n",
            "Abstract: b'deliver implement calculate focus budget incorrect phot range physical wide estimate peculiar help implement possible perform assume sed fitting parameter attenuation total spectra important assume allow value code test cover release parameter separately best calculate match nir deg rely estimation wavelength average catalogue derive latest homogeneous dust allow law publish fir spectrum sample complementary elais criterion sfr check quality galaxy galaxy find different factor three candidate obtain law across lensed approach method seds object base cigale estimate part esa two impact energy independently find use also uv prepare fits independent obtain million additional allow multi redshift project us recipe herschel relation mission estimate simultaneously balance detected field main goal ir without emission value stellar make pilot disparity star lead identify use data chi'\n",
            "Label(s): ['astro-ph.GA']\n",
            "Predicted Label(s): (astro-ph.IM, astro-ph.CO)\n",
            " \n",
            "Abstract: b'red young forest formation environment estimate feature rise mass local target colour asymptotic machine region new class explore classifier distribute neighbour definitively stochastic active unsupervised potential massive magnitude population foreground non present ngc branch site methodology random measure dust nature supervise information percent comparing sufficient use micron galaxy dwarf ysos far population irregular carbon yso star probabilistic candidate archival identify across whilst forming object msun accuracy classify gas confirm train eight locate surface classify spatial super point spitzer image another distribution also use sequence galactic prf galactic represent herschel identifies embed characterise brightness map near nuclei feature learn group main ir mostly stellar oxygen band literature star identification identify analysis know rich source giant'\n",
            "Label(s): ['astro-ph.GA']\n",
            "Predicted Label(s): (astro-ph.GA, astro-ph.SR)\n",
            " \n",
            "Abstract: b'image cadence eridani young exhibit chromospheric index sun dipolar large regeneration important rapid solar active epoch minimum yearly simple observation dynamo cyg high geometry emerge previous exhibit year model dwarf cycle activity magnetic zeeman axisymmetric star reconstruction month variation epsilon result observe structure tomographic additionally evolve type magnetically surprisingly focus toroidal strong complex doppler constraint use understand map technique field span timespan scale reconstruct show'\n",
            "Label(s): ['astro-ph.SR']\n",
            "Predicted Label(s): (astro-ph.SR)\n",
            " \n",
            "Abstract: b'young peak formation atacama physical webb model region line separate metallicity side code volume stochastic emitter typical jwst mu far population largely halos overlap calculation probe property space spectroscopic combine infrared large host massive observation nature empirical bright high use aa submillimeter galaxy galaxy line predict matter far recent locate array result yr star already kinematics calculate emit gas telescope structure mass study determine comoving first james consistent accurately dark higher localized redshift millimeter photoionization use simulation suggest oiii local odot cloudy redshift luminosity relation propose mpc rm rate detect hii cosmological well main slightly emission sim stellar whose rate star recent greater show use alma give characteristic'\n",
            "Label(s): ['astro-ph.GA']\n",
            "Predicted Label(s): (astro-ph.GA)\n",
            " \n",
            "Abstract: b'history five though way formation model abundance distribution local mass failure large template linear promise survey work mode model precision time halos assembly template enrichment present robustly spectroscopic arise attempt infer fire paper disrupt high lg day investigate case spectrum chemical four ratio mw galaxy galaxy successfully dwarf different combination star contain identified simulation diversity seven method result fraction milky constructing mass study chemical unusual study era modeling find take discus residual use accrete quench card dwarfs recover learn group function signatures suite stellar scale progenitor halo star abundance latte explore'\n",
            "Label(s): ['astro-ph.GA']\n",
            "Predicted Label(s): (astro-ph.GA)\n",
            " \n",
            "Abstract: b'resonant yet dex day planetary dynamically mass bayesian number dynamical discover better poor though new interaction fe velocity origin come would minimum resonance signal order companion planet detection host amplitude analyse towards affect even radial signal configuration exhibit close semi second pair study expect low year need indicate commensurability period effort system find focused discovery libration star multiplanet grow commensurabilities archival simulation form stabilizes metal multitude part system two mass planetesimal could presence earth alignment first inactive use respectively give super find resonance orbital doppler harp significant report see multi angle place emerge mean configuration highlight occupy understand algorithm apsidal evolution orbit motion star data know evidence'\n",
            "Label(s): ['astro-ph.SR' 'astro-ph.EP']\n",
            "Predicted Label(s): (astro-ph.EP)\n",
            " \n",
            "Abstract: b'common cosmology structure temporal physical slipher directly connection repeatedly emergence parameter within make interpretation link measure consensus popular evolve modern observation science astronomy professional one general concept astronomical among relativity clarify framework approach confusion object universe cosmic refer pedagogical article first around observational also time current redshift generate relation communicator often community basic cosmological expand understand indistinctly reach make evolution end misunderstanding several'\n",
            "Label(s): ['astro-ph.CO']\n",
            "Predicted Label(s): (astro-ph.IM, astro-ph.CO)\n",
            " \n",
            "Abstract: b'temperature spectral range trend wide flux interferometer directly eff radius drop examine mass fitting present angular size median russell increase inferred value constant calibration index bolometric largely parameter fully subtype linear construct measurement empirical homogeneously high resolution finally second use fit upon linearly example model palomar find color narrow determine tool prediction star calculate giant base type uncertainty two type dereddened energy first utility diagram establish distribution effective improve assessment set three hertzsprung odot allow measure establish luminosity rm size interferometry log versus stellar band less literature evolution star photometry optical testbed spectral data giant'\n",
            "Label(s): ['astro-ph.SR']\n",
            "Predicted Label(s): (astro-ph.SR, astro-ph.EP)\n",
            " \n",
            "Abstract: b'limitation telescope level distant spectral structure range physical peculiar mass large hole lbg sky conservatively solar similar volume velocity massive halo within property luminous ab spectroscopic due six separation observation radial billion strength member negligible lyalpha project sigma select sample idea year four confirmation earlier galaxy observation galaxy member matter sample detection luminosity among determined absence hole power identified msun lyman likely lend black structure system universe two observe find grow first around super dark arcmin redshift observational long distribution uv significant report multi emitter correspond galaxy lbgs form sdss class muse alpha estimate comparable support mpc least field center laes scale band vlt qso assume identification object dropouts break populated overdensity cover'\n",
            "Label(s): ['astro-ph.GA']\n",
            "Predicted Label(s): (astro-ph.GA)\n",
            " \n",
            "Abstract: b'importance yet advantage common adopt environment range core wide possible connection perform process become large selective especially ray interaction new opportunity invaluable coordinated typical proven cherenkov event extreme supernovae birth major collapse alert association size transient cta wavelength binary signal range detection large violent observation affect absorption slew observatory high blazar work telescope astrophysics extragalactic highlight thus year next generation regime unprecedented different investigation array gamma telescope gravitational ground good framework area approach play open include object base cosmic flare type bright telescope messenger agn system surround tx take study follow energy first grbs program wave transient effective galactic time statistic group collaboration allow fast current multi domain sensitivity show contribution physic instrument marginally firm well photon trigger scale transient wavelengths role gev enable short neutrino recent explored source compact burst'\n",
            "Label(s): ['astro-ph.HE']\n",
            "Predicted Label(s): (astro-ph.HE, astro-ph.IM)\n",
            " \n",
            "Abstract: b'underlie mechanism relative explain core location model radius mass series simeq radius size correlation metallicity linear cks work yield conclude massive population bolometric rule slope alpha shift since slope increase contrast without order due planet host abundance observation driven even therefore timescales finally differentiate investigate test loss study agreement model photoevaporation either text luminosity recent star power cool addition ast dependence decrease observe change decrease increase earth valley first separate respectively around envelope super find observational dataset atmospheric independent age gyr odot relation show sub larger log without stellar star tau timescale proceeds show evidence neptune make give'\n",
            "Label(s): ['astro-ph.EP']\n",
            "Predicted Label(s): (astro-ph.EP, astro-ph.SR)\n",
            " \n",
            "Abstract: b'highly aspect content formation planetary nebula possible radius mass become sfh well family poor new general anomalously previous membership within ii real average shed spectroscopic detection pne nature intermediate clear particular gc crucial one agreement pn older precise disfavour hint place gc galaxy galaxy matter survival system dwarf overall absence star purpose lack ultra old result hand addition pm bright metal confirm system claim two change presence study around dark find possibility expand history significant age light suggest gyr tidal globular knowledge understand characterisation controversial determination diffuse claim cluster well shape sim stellar evolution star analysis data'\n",
            "Label(s): ['astro-ph.GA']\n",
            "Predicted Label(s): (astro-ph.GA, astro-ph.CO)\n",
            " \n",
            "Abstract: b'implement temperature interpolation structure energetics particularly series sun employ functional metallicity important asteroseismology utmost convective way adiabatic lead parameter non present require apply shift gravity one cod scheme order conduct treatment empirical error frequency convection reliably test asteroseismic need correction model replace parameterize predict turbulent demonstrate patch throughout introduces star validation outermost obtain viably concern systematic simulation approach method result accuracy addition necessary rudimentary oscillation layer mend frequency interpolates neglect characterize two exoplanet observe reproduces system stratification surface structural accurately find inadequacy suggest effective utilizing whereby form effect envelop asteroseimically kepler modal evolutionary cautious dependent function well mean stellar evolution precomputed lieu analysis show implication'\n",
            "Label(s): ['astro-ph.SR']\n",
            "Predicted Label(s): (astro-ph.SR)\n",
            " \n",
            "Abstract: b'create protoplanetary substantial relative lead day flare inner detectable live abundance still process whether radius large observable temporarily term ray radiation specie though photolysis unattenuated composition vertical point flare typical young event grain present increase range infrared abundance evolve dust observation dissociative emit year model chemical every production along height ge week find far throughout adsorption factor star au three effect model rare related penetrate future flare gas layer associated water plane regulating may change mid dominant surface see ionization find strong disk long significant question time location report effect open phase rate even recombination desorption disk ice onto short ultraviolet chemistry vary burst'\n",
            "Label(s): ['astro-ph.SR' 'astro-ph.EP']\n",
            "Predicted Label(s): (astro-ph.EP)\n",
            " \n",
            "Abstract: b'importance telescope trigger spectral day assess temporal range feature possible connection sed simeq curve hole correlation sky campaign ray grb conclude similar typical otherwise lead come association within broad epochs conclusion property transient merger aim binary spectroscopic due detection host observation result carry wave spectrum galaxy supernova aim determine gamma gravitational method detail pm associate black presence follow first afterglow unusual study burst probably wave long compatible source rule light localisation component redshift line base consistency support iso rm detect extensive marginally serendipitously superpose photometric event sim conclusion optical analysis several'\n",
            "Label(s): ['astro-ph.HE']\n",
            "Predicted Label(s): (astro-ph.HE)\n",
            " \n",
            "Abstract: b'body habitability influence planetary model series process experience important new many versatile introduce phenomena code test bolmont implementation integrator within exist region smercury escape cod resonance drive planet system et violent allow chaotic compare orbit obliquity scenario capture equilibrium along result swing climate system demonstrate different tool spin exist beyond result base experimental experiment lissauer dampen powerful additionally planet system two evolves study overlap road resonance orbital complex secular al eventual torque tidal solar exemplifies multi body compute tidally vastly mercury state variable evolve rate pathway crossing toward symplectic evolution star cross validate mixed show implication'\n",
            "Label(s): ['astro-ph.EP']\n",
            "Predicted Label(s): (astro-ph.EP)\n",
            " \n",
            "Abstract: b'adopt protoplanetary young explain formation inner physical assumption interferometer model radius well assume previous december study mm test required property asymmetry order onset planet infrared measurement large et observation particular consider energy one azimuthal fit study condition interpret jamialahmadi find vlti varied au circumstellar obtain approach herbig base scenario bright telescope structure surround midi acquire study could mid presence consistent study model emission disk possibility al since time structure component drive several reproduce outer simultaneously instrument feature size interest interferometry add ir value disk come understand near star recent new spectral provide keck data distribution'\n",
            "Label(s): ['astro-ph.EP']\n",
            "Predicted Label(s): (astro-ph.EP, astro-ph.SR)\n",
            " \n",
            "Abstract: b'influence scalar cluster range largest number large show produce important new survey cosmic value way argue web parameter diminish cluster distinguishes pronounce order space graph simple measurement information geometry statistic use entropy complementary quantify theory scalar survey galaxy clearly show continuous simulation point distortion cosmic topological decrease change spatial find observational come applied discrete variance bit field redshift compute connectivity least kind gauge larger cosmological density less evolution random analogue use data explore'\n",
            "Label(s): ['astro-ph.CO']\n",
            "Predicted Label(s): (astro-ph.CO)\n",
            " \n",
            "Abstract: b'substantial medium possibly constrain exclude range two isotropic detectable model mass late engine produce ray grb distance lesssim outwardly sgrbs central energetic rule event non merger erg radio observation energezing gtrsim amount case nearby use select wave relatively thus year early four sample whereas gamma duration universe powerful moving may surround thermal presence relativistic sun merger study find magnetar time weak local fast remnant case interaction mpc sub ejecta quench cosmological neutron proto emission expand jet star short consider ej use blast burst'\n",
            "Label(s): ['astro-ph.HE']\n",
            "Predicted Label(s): (astro-ph.HE)\n",
            " \n",
            "Abstract: b'image improvement invariant constrain special robustness range take pulse model profile mass radius bayesian n become radii similar especially ray radiation general distribution pulsar hot test n posterior km parameter present sample sax affine scatter slab available synthetic observation power information empirical rxte millisecond law finally spectrum equatorial polarization shape correction accurate example photon seed profile different determined star obtain credibility accrete method schwarzschild result msun accuracy fraction polarimeter trajectory time oblate probability mass analyze relativistic explorer monte first accurately use neutron apply priori pulse approximation obtain component markov together self constrain carlo reproduce angle ensemble generate chain photon constraint rossi star data req encode analysis show blackbody know account deform comptonization'\n",
            "Label(s): ['astro-ph.HE']\n",
            "Predicted Label(s): (astro-ph.HE)\n",
            " \n",
            "Abstract: b'moderate level spectral comprehensive day index correlate discuss narrow quasi line ray confidence similar typical quasar flat present fermi wavelength lightcurve band radio signature observation swift gamma ghz select wave spectrum model galaxy find luminosity gamma gravitational clarify lat seyfert variation periodic plausible future oscillation lag plane mechanism may collect observe energy first observational also significant source current pmn periodicity xrt propose flux multiple possible qpo band make literature gev analogue data optical analysis show derive lightcurves'\n",
            "Label(s): ['astro-ph.HE']\n",
            "Predicted Label(s): (astro-ph.HE, astro-ph.GA)\n",
            " \n",
            "Abstract: b'like grid red way radius mass observable must oscillations new relation solar owe typical test best present candidate branch property would simplicity grid via application approximately high calibrate used quantity model accurate reference widely quality seismic far ease search develop different star obtain exhaustive giant base milky estimate additionally uncertainties determine archaeology model map intensive use history age galactic report desirable theoretical show determine combination scale computationally multiple well use stellar whose involve twin instead exhibit age giant'\n",
            "Label(s): ['astro-ph.GA' 'astro-ph.SR' 'astro-ph.IM']\n",
            "Predicted Label(s): (astro-ph.GA, astro-ph.SR)\n",
            " \n",
            "Abstract: b'five content magellanic spectral flame formation exhibit much inner account model mass large region powr spectra spectrograph alone wind dominate iue twelve last hot massive cause population release supernovae morphology parameter mechanical exceeds present oe cluster erg cumulative scatter large wind percent radial superbubble day use potsdam whole sample although critical older early available runaway association youngest hst atmosphere line find far binary velocity luminosity expectation among supernova different factor hrd star combine wr concentrated superbubbles base likely gas rayet associate part two type observe eight episode energy reveals derive consistent spread myr complex fuse use also uv age entire suggesting three rotate ob wolf current multi leakage relation perform momentum outer comparable often cluster function cloud well explosion emission stellar appear occur vlt feedback star suggest object eso analysis show rich input'\n",
            "Label(s): ['astro-ph.GA' 'astro-ph.SR']\n",
            "Predicted Label(s): (astro-ph.SR, astro-ph.GA)\n",
            " \n",
            "Abstract: b'possible curve observable geometrical new moderately clarke technology similar potential otherwise exobelt instrumentation term exist ring region would parent space due signature planet variety definition paper high fractional natural orbit case work use idea quantify geostationary advance conducted civilization simulation civilization examine transit device simulation imprint scenario put satellite may presence numerical geosynchronous junk around noticeable come light indicator forward distinguish exobelts opacity contribution leave edge easily main projection density star herafter face exoplanets maximum'\n",
            "Label(s): ['astro-ph.SR' 'astro-ph.EP']\n",
            "Predicted Label(s): (astro-ph.EP)\n",
            " \n",
            "Abstract: b'library hydrodynamic red nebulae mass present late especially stag radiation supergiant wind pion model previous code hot document demonstrate documentation implementation permit licence calculation require slowly slow make ring binary produce refinement difference infrared available synthetic driven high resolution finally expansion bow loss mhd move theory generation system static star collision simulation test supergiant latitude result rayet analytic multi plot expand torus decrease mesh python distance dimensional ism around snapshot adaptive compare use magnetohydrodynamics also source simulation time report art blue fast wolf provide magnetized timesteps perform map show shock performance phase state user read community dependent reasonable ideally emission highlight near literature evolution star simulate vary wind rotate resource computational'\n",
            "Label(s): ['astro-ph.GA' 'astro-ph.SR']\n",
            "Predicted Label(s): (astro-ph.SR, astro-ph.HE)\n",
            " \n",
            "Abstract: b'five relative string sun observatory ray work previous deploy icecube represent direction high use sigma deficit vary year observation moon glacial measure pole result future cosmic take study significance first consistent neutrino shadow possibility stability time transport report bin may flux open south detect year analysis detector ice near statistical operate shadow data verify analysis show'\n",
            "Label(s): ['astro-ph.SR' 'astro-ph.HE']\n",
            "Predicted Label(s): (astro-ph.HE)\n",
            " \n",
            "Abstract: b'like triage model variability become satellite weighted te must new alone month transit design volume train precision network alternative test deep automatically present candidate exist real apply average curve signal space unbiased trained planet add modified precision observation eclipse homogeneously receive manner present classification threshold every full survey nasa vetters unprecedented binary newly sector provide candidate identify base accuracy classify future neural achieves analyze first distinguish highest classified mode image exoplanet noise also light set attractive frame us knowledge score domain kepler help efficient generate perform vet learn least scientific automate capable photometric transit mean stellar instrumental identification suitable identify data human'\n",
            "Label(s): ['astro-ph.EP']\n",
            "Predicted Label(s): (astro-ph.IM, astro-ph.EP)\n",
            " \n",
            "Abstract: b'polarity image characterize whether observatory hole density total rapid little solar wind report event cover include lifetime present property gradual follow signature strict growth image assembly clear helioseismic receive phenomenon phase small need example four criterion search magnetic determine dynamic lifetime hole systematic truly generally initial rare decay structure au may study determine consistent area substantially use also typically hr time conventional like yield solar see correspond atmospheric magnetic imager euv base attention display flux recur comparatively feature period field event disk mean scale less ephemeral rate experience coronal short cross evidence data compact'\n",
            "Label(s): ['astro-ph.SR']\n",
            "Predicted Label(s): (astro-ph.SR)\n",
            " \n",
            "Abstract: b'moreover purpose much physical negative author feature possible cellino angle linear new relation class solar distribution value calibration situation mainly extreme morphology parameter include present geometric conversely branch property concern produce curve mutual technique albedo available et asteroid infer difficult consider paper barbarian sufficient use calibration polarization limit sample agreement update extend systematically tens clearly unclear surface different call compute good obtain rather inversion relate object base accuracy result confirm albedos study asteroid distinguish unusual find dataset unexplored use al obtain correspond polarimetric case phase mean larger main mnras value mostly literature observe separate analysis polarimetric past know use data several explore'\n",
            "Label(s): ['astro-ph.SR' 'astro-ph.EP']\n",
            "Predicted Label(s): (astro-ph.EP)\n",
            " \n",
            "Abstract: b'highly however level substantial physical still intrapulse gap angle especially ray many polarize massive instrument dedicate property report merge produce statistically popular cosi due measurement evolve information gamma diverse crucial degree big study onboard polarization sample although low model indicate precise result widely either predict china magnetic gamma hole provide obtain polar systematic compact form object result black bright successful structure strongest universe uncertainty observe could relativistic first polarimeter see meaningful topology burst suggest also spacelab since report tiangong end lower despite well suffered explosion decade mostly bang emission believe jet ray evolution star spectral timing show know several burst'\n",
            "Label(s): ['astro-ph.HE']\n",
            "Predicted Label(s): (astro-ph.HE)\n",
            " \n",
            "Abstract: b'diameter moreover model possible canarias happen vesta deliver work regolith similar mu migration comparison within canaricam geometric emissivity property jm wavelength currently infrared albedo available observation arise asteroid gamma infer gran high investigate main sigma pac low small far belt effect result fraction inertia may apophis thermal could thermophysical telescopio asteroid surface derive around use also effective advanced fine herschel roughness rm size dependent eff basis process itokawa scale less data imply yarkovsky show derive maximum'\n",
            "Label(s): ['astro-ph.EP']\n",
            "Predicted Label(s): (astro-ph.EP)\n",
            " \n",
            "Abstract: b'moderate like distant patch assume stage number large show angular sky systematics multipoles time argue isotropy lessapprox cluster radio measurement power signal high degree agreement low survey earlier systematically per demonstrate different measure count effect result may uncertainties observe study presence roughly mock catalog area find use significant source report measure brightness flux size recover tgss despite sim scale excess data cause suitable circ evidence use source anisotropy explore'\n",
            "Label(s): ['astro-ph.CO']\n",
            "Predicted Label(s): (astro-ph.HE)\n",
            " \n",
            "Abstract: b'adopt detailed highly red formation selection range trend characterise simeq colour total new brighter match point design lesssim value cosmos probe ultra deep unique slope measure ultravista order subaru catalogue dust large minimise observation sfrd signal infer lbc extinct telescope sample exploit psf accurate ratio decrease analyse recover intrinsic galaxy galaxy abridge lbt luminosity throughout function redder different result yr three ground effect simulation assumption method cam form vircam base object mildly bright telescope maximise probability uncertainty take acquire extinction pdf frequently beta spread arcmin vista redshift standard image observational facility noise distribution account uv improve bias correct odot multi correspond redshift enitre lbgs characterise contribution estimate mpc rate field function isolate log photometric sim density suprime band camera fainter data star binocular know criterion'\n",
            "Label(s): ['astro-ph.GA']\n",
            "Predicted Label(s): (astro-ph.CO, astro-ph.IM, astro-ph.GA)\n",
            " \n"
          ]
        }
      ]
    }
  ],
  "metadata": {
    "colab": {
      "collapsed_sections": [],
      "name": "Multi_label_classification_ANN_3",
      "provenance": []
    },
    "kernelspec": {
      "display_name": "Python 3",
      "language": "python",
      "name": "python3"
    },
    "language_info": {
      "codemirror_mode": {
        "name": "ipython",
        "version": 3
      },
      "file_extension": ".py",
      "mimetype": "text/x-python",
      "name": "python",
      "nbconvert_exporter": "python",
      "pygments_lexer": "ipython3",
      "version": "3.7.0"
    }
  },
  "nbformat": 4,
  "nbformat_minor": 0
}