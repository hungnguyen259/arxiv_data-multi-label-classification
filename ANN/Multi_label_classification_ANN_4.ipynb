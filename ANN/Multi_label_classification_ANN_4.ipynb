{
  "cells": [
    {
      "cell_type": "markdown",
      "metadata": {
        "id": "g3ZzNXbACMKx"
      },
      "source": [
        "## Imports"
      ]
    },
    {
      "cell_type": "code",
      "execution_count": null,
      "metadata": {
        "id": "UsHuXXoICMKx"
      },
      "outputs": [],
      "source": [
        "from tensorflow.keras import layers\n",
        "from tensorflow import keras\n",
        "import tensorflow as tf\n",
        "\n",
        "from sklearn.model_selection import train_test_split\n",
        "from ast import literal_eval\n",
        "\n",
        "import matplotlib.pyplot as plt\n",
        "import pandas as pd\n",
        "import numpy as np"
      ]
    },
    {
      "cell_type": "code",
      "source": [
        "# import and read csv\n",
        "import pandas as pd\n",
        "from tensorflow.keras import layers\n",
        "from tensorflow import keras\n",
        "import tensorflow as tf\n",
        "from sklearn.model_selection import train_test_split\n",
        "from ast import literal_eval\n",
        "import numpy as np\n",
        "import string\n",
        "import re\n",
        "\n",
        "import matplotlib.pyplot as plt \n",
        "import seaborn as sns\n",
        "from sklearn.feature_extraction.text import TfidfVectorizer\n",
        "\n",
        "from sklearn.preprocessing import MultiLabelBinarizer\n",
        "\n",
        "import nltk\n",
        "from nltk.stem import WordNetLemmatizer\n",
        "from nltk.corpus import stopwords\n",
        "from nltk import pos_tag, word_tokenize\n",
        "\n",
        "nltk.download('wordnet')\n",
        "nltk.download('averaged_perceptron_tagger')\n",
        "nltk.download('punkt')\n",
        "nltk.download('stopwords')\n",
        "%matplotlib inline\n",
        "pd.set_option('display.max_colwidth', 300)"
      ],
      "metadata": {
        "id": "ck6EX0_8FK5V",
        "outputId": "8a9c74ec-931c-4693-d7cc-124b9771c707",
        "colab": {
          "base_uri": "https://localhost:8080/"
        }
      },
      "execution_count": null,
      "outputs": [
        {
          "output_type": "stream",
          "name": "stdout",
          "text": [
            "[nltk_data] Downloading package wordnet to /root/nltk_data...\n",
            "[nltk_data]   Unzipping corpora/wordnet.zip.\n",
            "[nltk_data] Downloading package averaged_perceptron_tagger to\n",
            "[nltk_data]     /root/nltk_data...\n",
            "[nltk_data]   Unzipping taggers/averaged_perceptron_tagger.zip.\n",
            "[nltk_data] Downloading package punkt to /root/nltk_data...\n",
            "[nltk_data]   Unzipping tokenizers/punkt.zip.\n",
            "[nltk_data] Downloading package stopwords to /root/nltk_data...\n",
            "[nltk_data]   Unzipping corpora/stopwords.zip.\n"
          ]
        }
      ]
    },
    {
      "cell_type": "markdown",
      "metadata": {
        "id": "QyKOOe1mCMKz"
      },
      "source": [
        "## Perform exploratory data analysis"
      ]
    },
    {
      "cell_type": "code",
      "source": [
        "!pip install -U -q PyDrive\n",
        "from pydrive.auth import GoogleAuth\n",
        "from pydrive.drive import GoogleDrive\n",
        "from google.colab import auth\n",
        "from oauth2client.client import GoogleCredentials\n",
        "  \n",
        "# Authenticate and create the PyDrive client.\n",
        "auth.authenticate_user()\n",
        "gauth = GoogleAuth()\n",
        "gauth.credentials = GoogleCredentials.get_application_default()\n",
        "drive = GoogleDrive(gauth)\n",
        "\n",
        "\n",
        "link = \"https://drive.google.com/file/d/18ZGW-c3oDNIEmBFUfzXl2v0v04mkSlJc/view\"\n",
        "  \n",
        "# to get the id part of the file\n",
        "id = link.split(\"/\")[-2]\n",
        "  \n",
        "downloaded = drive.CreateFile({'id':id}) \n",
        "downloaded.GetContentFile('arxiv.csv')  \n",
        "  \n",
        "arxiv_data = pd.read_csv('arxiv.csv')\n",
        "arxiv_data.head()"
      ],
      "metadata": {
        "colab": {
          "base_uri": "https://localhost:8080/",
          "height": 337
        },
        "id": "l51KfIIyRdJa",
        "outputId": "bc2a3536-c010-4d54-e346-bb5b8c7849a1"
      },
      "execution_count": null,
      "outputs": [
        {
          "output_type": "execute_result",
          "data": {
            "text/html": [
              "\n",
              "  <div id=\"df-1174a205-1d52-473e-8f94-a8b7d03fac1e\">\n",
              "    <div class=\"colab-df-container\">\n",
              "      <div>\n",
              "<style scoped>\n",
              "    .dataframe tbody tr th:only-of-type {\n",
              "        vertical-align: middle;\n",
              "    }\n",
              "\n",
              "    .dataframe tbody tr th {\n",
              "        vertical-align: top;\n",
              "    }\n",
              "\n",
              "    .dataframe thead th {\n",
              "        text-align: right;\n",
              "    }\n",
              "</style>\n",
              "<table border=\"1\" class=\"dataframe\">\n",
              "  <thead>\n",
              "    <tr style=\"text-align: right;\">\n",
              "      <th></th>\n",
              "      <th>titles</th>\n",
              "      <th>summaries</th>\n",
              "      <th>terms</th>\n",
              "    </tr>\n",
              "  </thead>\n",
              "  <tbody>\n",
              "    <tr>\n",
              "      <th>0</th>\n",
              "      <td>Revealing the Field Sub-subgiant Population Using a Catalog of Active Giant Stars and Gaia EDR3</td>\n",
              "      <td>Sub-subgiant stars (SSGs) fall below the subgiant branch and/or red of the\\ngiant branch in open and globular clusters, an area of the color-magnitude\\ndiagram (CMD) not populated by standard stellar evolution tracks. One\\nhypothesis is that SSGs result from rapid rotation in subgiants or giants...</td>\n",
              "      <td>['astro-ph.SR', 'astro-ph.GA']</td>\n",
              "    </tr>\n",
              "    <tr>\n",
              "      <th>1</th>\n",
              "      <td>ALMA detection of ethyl cyanide and methyl formate in the hot molecular core IRAS 18566+0408</td>\n",
              "      <td>In millimeter/submillimeter wavelength, the studies of the complex molecular\\nemission lines towards the hot molecular cores demonstrate valuable details\\nabout the chemical composition and massive star formation processes. We present\\nthe interferometric detection of rotational molecular emissi...</td>\n",
              "      <td>['astro-ph.GA']</td>\n",
              "    </tr>\n",
              "    <tr>\n",
              "      <th>2</th>\n",
              "      <td>Accretion processes in the galaxy cluster Hydra A/Abell 780</td>\n",
              "      <td>Clusters of galaxies evolve and accrete mass, mostly from small galaxy\\nsystems. Our aim is to study the velocity field of the galaxy cluster Abell\\n780, which is known for the powerful radio source Hydra A at its center and\\nwhere a spectacular X-ray tail associated with the galaxy LEDA 87445 h...</td>\n",
              "      <td>['astro-ph.CO', 'astro-ph.GA']</td>\n",
              "    </tr>\n",
              "    <tr>\n",
              "      <th>3</th>\n",
              "      <td>Radio astronomy locates the neutrino origin in bright blazars</td>\n",
              "      <td>High-energy astrophysical neutrinos have been observed by several telescopes\\nin the last decade, but their sources still remained unknown. We address the\\nproblem of locating astrophysical neutrinos' sources in a statistical manner.\\nWe show that blazars positionally associated with IceCube neu...</td>\n",
              "      <td>['astro-ph.HE', 'astro-ph.GA']</td>\n",
              "    </tr>\n",
              "    <tr>\n",
              "      <th>4</th>\n",
              "      <td>The extragalactic $γ$-ray background: imprints from the physical properties and evolution of star-forming galaxy populations</td>\n",
              "      <td>Star-forming galaxies (SFGs) are expected to harbour an abundant reservoir of\\ncosmic rays (CRs). At GeV energies, these CRs can undergo hadronic interactions\\nwith interstellar gases to produce $\\gamma$-rays, and the unresolved\\n$\\gamma$-ray emission from populations of SFGs form a component of...</td>\n",
              "      <td>['astro-ph.GA', 'astro-ph.HE']</td>\n",
              "    </tr>\n",
              "  </tbody>\n",
              "</table>\n",
              "</div>\n",
              "      <button class=\"colab-df-convert\" onclick=\"convertToInteractive('df-1174a205-1d52-473e-8f94-a8b7d03fac1e')\"\n",
              "              title=\"Convert this dataframe to an interactive table.\"\n",
              "              style=\"display:none;\">\n",
              "        \n",
              "  <svg xmlns=\"http://www.w3.org/2000/svg\" height=\"24px\"viewBox=\"0 0 24 24\"\n",
              "       width=\"24px\">\n",
              "    <path d=\"M0 0h24v24H0V0z\" fill=\"none\"/>\n",
              "    <path d=\"M18.56 5.44l.94 2.06.94-2.06 2.06-.94-2.06-.94-.94-2.06-.94 2.06-2.06.94zm-11 1L8.5 8.5l.94-2.06 2.06-.94-2.06-.94L8.5 2.5l-.94 2.06-2.06.94zm10 10l.94 2.06.94-2.06 2.06-.94-2.06-.94-.94-2.06-.94 2.06-2.06.94z\"/><path d=\"M17.41 7.96l-1.37-1.37c-.4-.4-.92-.59-1.43-.59-.52 0-1.04.2-1.43.59L10.3 9.45l-7.72 7.72c-.78.78-.78 2.05 0 2.83L4 21.41c.39.39.9.59 1.41.59.51 0 1.02-.2 1.41-.59l7.78-7.78 2.81-2.81c.8-.78.8-2.07 0-2.86zM5.41 20L4 18.59l7.72-7.72 1.47 1.35L5.41 20z\"/>\n",
              "  </svg>\n",
              "      </button>\n",
              "      \n",
              "  <style>\n",
              "    .colab-df-container {\n",
              "      display:flex;\n",
              "      flex-wrap:wrap;\n",
              "      gap: 12px;\n",
              "    }\n",
              "\n",
              "    .colab-df-convert {\n",
              "      background-color: #E8F0FE;\n",
              "      border: none;\n",
              "      border-radius: 50%;\n",
              "      cursor: pointer;\n",
              "      display: none;\n",
              "      fill: #1967D2;\n",
              "      height: 32px;\n",
              "      padding: 0 0 0 0;\n",
              "      width: 32px;\n",
              "    }\n",
              "\n",
              "    .colab-df-convert:hover {\n",
              "      background-color: #E2EBFA;\n",
              "      box-shadow: 0px 1px 2px rgba(60, 64, 67, 0.3), 0px 1px 3px 1px rgba(60, 64, 67, 0.15);\n",
              "      fill: #174EA6;\n",
              "    }\n",
              "\n",
              "    [theme=dark] .colab-df-convert {\n",
              "      background-color: #3B4455;\n",
              "      fill: #D2E3FC;\n",
              "    }\n",
              "\n",
              "    [theme=dark] .colab-df-convert:hover {\n",
              "      background-color: #434B5C;\n",
              "      box-shadow: 0px 1px 3px 1px rgba(0, 0, 0, 0.15);\n",
              "      filter: drop-shadow(0px 1px 2px rgba(0, 0, 0, 0.3));\n",
              "      fill: #FFFFFF;\n",
              "    }\n",
              "  </style>\n",
              "\n",
              "      <script>\n",
              "        const buttonEl =\n",
              "          document.querySelector('#df-1174a205-1d52-473e-8f94-a8b7d03fac1e button.colab-df-convert');\n",
              "        buttonEl.style.display =\n",
              "          google.colab.kernel.accessAllowed ? 'block' : 'none';\n",
              "\n",
              "        async function convertToInteractive(key) {\n",
              "          const element = document.querySelector('#df-1174a205-1d52-473e-8f94-a8b7d03fac1e');\n",
              "          const dataTable =\n",
              "            await google.colab.kernel.invokeFunction('convertToInteractive',\n",
              "                                                     [key], {});\n",
              "          if (!dataTable) return;\n",
              "\n",
              "          const docLinkHtml = 'Like what you see? Visit the ' +\n",
              "            '<a target=\"_blank\" href=https://colab.research.google.com/notebooks/data_table.ipynb>data table notebook</a>'\n",
              "            + ' to learn more about interactive tables.';\n",
              "          element.innerHTML = '';\n",
              "          dataTable['output_type'] = 'display_data';\n",
              "          await google.colab.output.renderOutput(dataTable, element);\n",
              "          const docLink = document.createElement('div');\n",
              "          docLink.innerHTML = docLinkHtml;\n",
              "          element.appendChild(docLink);\n",
              "        }\n",
              "      </script>\n",
              "    </div>\n",
              "  </div>\n",
              "  "
            ],
            "text/plain": [
              "                                                                                                                         titles  ...                           terms\n",
              "0                               Revealing the Field Sub-subgiant Population Using a Catalog of Active Giant Stars and Gaia EDR3  ...  ['astro-ph.SR', 'astro-ph.GA']\n",
              "1                                  ALMA detection of ethyl cyanide and methyl formate in the hot molecular core IRAS 18566+0408  ...                 ['astro-ph.GA']\n",
              "2                                                                   Accretion processes in the galaxy cluster Hydra A/Abell 780  ...  ['astro-ph.CO', 'astro-ph.GA']\n",
              "3                                                                 Radio astronomy locates the neutrino origin in bright blazars  ...  ['astro-ph.HE', 'astro-ph.GA']\n",
              "4  The extragalactic $γ$-ray background: imprints from the physical properties and evolution of star-forming galaxy populations  ...  ['astro-ph.GA', 'astro-ph.HE']\n",
              "\n",
              "[5 rows x 3 columns]"
            ]
          },
          "metadata": {},
          "execution_count": 3
        }
      ]
    },
    {
      "cell_type": "code",
      "execution_count": null,
      "metadata": {
        "id": "Oy0UhJb2CMK0",
        "outputId": "3a623239-e88a-428e-8973-9e59a7e8cda5",
        "colab": {
          "base_uri": "https://localhost:8080/"
        }
      },
      "outputs": [
        {
          "output_type": "stream",
          "name": "stdout",
          "text": [
            "There are 89336 rows in the dataset.\n"
          ]
        }
      ],
      "source": [
        "print(f\"There are {len(arxiv_data)} rows in the dataset.\")"
      ]
    },
    {
      "cell_type": "code",
      "execution_count": null,
      "metadata": {
        "id": "ZATqY_S1CMK1",
        "outputId": "0af1a295-e409-48ea-c2ae-964af90c8a52",
        "colab": {
          "base_uri": "https://localhost:8080/"
        }
      },
      "outputs": [
        {
          "output_type": "stream",
          "name": "stdout",
          "text": [
            "There are 19134 duplicate titles.\n"
          ]
        }
      ],
      "source": [
        "total_duplicate_titles = sum(arxiv_data[\"titles\"].duplicated())\n",
        "print(f\"There are {total_duplicate_titles} duplicate titles.\")"
      ]
    },
    {
      "cell_type": "code",
      "execution_count": null,
      "metadata": {
        "id": "RfyPWpszCMK2",
        "outputId": "81a6d148-549b-4aea-fc74-78fc1a3c45e6",
        "colab": {
          "base_uri": "https://localhost:8080/"
        }
      },
      "outputs": [
        {
          "output_type": "stream",
          "name": "stdout",
          "text": [
            "There are 70202 rows in the deduplicated dataset.\n",
            "22\n",
            "152\n"
          ]
        }
      ],
      "source": [
        "arxiv_data = arxiv_data[~arxiv_data[\"titles\"].duplicated()]\n",
        "print(f\"There are {len(arxiv_data)} rows in the deduplicated dataset.\")\n",
        "\n",
        "# There are some terms with occurrence as low as 1.\n",
        "print(sum(arxiv_data[\"terms\"].value_counts() == 1))\n",
        "\n",
        "# How many unique terms?\n",
        "print(arxiv_data[\"terms\"].nunique())"
      ]
    },
    {
      "cell_type": "code",
      "source": [
        "arxiv_data_filtered = arxiv_data"
      ],
      "metadata": {
        "id": "r92ASCTw_5o9"
      },
      "execution_count": null,
      "outputs": []
    },
    {
      "cell_type": "markdown",
      "metadata": {
        "id": "f5IUK2W3CMK3"
      },
      "source": [
        "## Convert the string labels to lists of strings"
      ]
    },
    {
      "cell_type": "code",
      "execution_count": null,
      "metadata": {
        "id": "C4aipxf5CMK3",
        "outputId": "9efef40b-f710-41b1-8964-d881e633a407",
        "colab": {
          "base_uri": "https://localhost:8080/"
        }
      },
      "outputs": [
        {
          "output_type": "execute_result",
          "data": {
            "text/plain": [
              "array([list(['astro-ph.SR', 'astro-ph.GA']), list(['astro-ph.GA']),\n",
              "       list(['astro-ph.CO', 'astro-ph.GA']),\n",
              "       list(['astro-ph.HE', 'astro-ph.GA']),\n",
              "       list(['astro-ph.GA', 'astro-ph.HE'])], dtype=object)"
            ]
          },
          "metadata": {},
          "execution_count": 8
        }
      ],
      "source": [
        "arxiv_data_filtered[\"terms\"] = arxiv_data_filtered[\"terms\"].apply(\n",
        "    lambda x: literal_eval(x)\n",
        ")\n",
        "arxiv_data_filtered[\"terms\"].values[:5]"
      ]
    },
    {
      "cell_type": "code",
      "source": [
        "dict_len = {}\n",
        "for i in range(arxiv_data_filtered.shape[0]):\n",
        "    if(len(arxiv_data_filtered.iloc[i][\"terms\"]) not in dict_len):\n",
        "        dict_len[len(arxiv_data_filtered.iloc[i][\"terms\"])] = 1\n",
        "    else:\n",
        "        dict_len[len(arxiv_data_filtered.iloc[i][\"terms\"])] += 1\n",
        "print(\"Occurancy of number of labels in a term: \")\n",
        "dict_len = dict(sorted(dict_len.items(), key=lambda item: item[1], reverse=True))\n",
        "for k, v in dict_len.items():\n",
        "    print(f\" - The number of paper have {k} labels in it's term: {v}\")"
      ],
      "metadata": {
        "id": "Cp8gMzSZ9dih",
        "colab": {
          "base_uri": "https://localhost:8080/"
        },
        "outputId": "d281edf3-7c95-4ae0-bd2d-813cadda42db"
      },
      "execution_count": null,
      "outputs": [
        {
          "output_type": "stream",
          "name": "stdout",
          "text": [
            "Occurancy of number of labels in a term: \n",
            " - The number of paper have 1 labels in it's term: 46399\n",
            " - The number of paper have 2 labels in it's term: 20635\n",
            " - The number of paper have 3 labels in it's term: 2904\n",
            " - The number of paper have 4 labels in it's term: 209\n",
            " - The number of paper have 5 labels in it's term: 54\n",
            " - The number of paper have 6 labels in it's term: 1\n"
          ]
        }
      ]
    },
    {
      "cell_type": "markdown",
      "source": [
        "##Pre-processing dataset\n"
      ],
      "metadata": {
        "id": "964YEOux8c4p"
      }
    },
    {
      "cell_type": "code",
      "source": [
        "all_terms = sum(arxiv_data_filtered[\"terms\"],[])\n",
        "all_terms = nltk.FreqDist(all_terms) \n",
        "# create dataframe\n",
        "all_terms_df = pd.DataFrame({'Term': list(all_terms.keys()), \n",
        "                              'Count': list(all_terms.values())})"
      ],
      "metadata": {
        "id": "GyccOZXLFbqx"
      },
      "execution_count": null,
      "outputs": []
    },
    {
      "cell_type": "code",
      "source": [
        "def clean_text(text):\n",
        "  # remove new line characters\n",
        "  text = re.sub(r\"\\n\", \" \", text)\n",
        "  # remove email\n",
        "  text = re.sub(r\"([A-Za-z0-9_.+-]+@[A-Za-z0-9-]+\\.?[A-Za-z0-9-.]+)\", \"\", text)\n",
        "  # remove url\n",
        "  text = re.sub(r\"((http|https)\\:\\/\\/)?[a-zA-Z0-9\\.\\/\\?\\:@\\-_=#]+\\.([a-zA-Z]){2,6}([a-zA-Z0-9\\.\\&\\/\\?\\:@\\-_=#])*\", \"\", text)\n",
        "  # remove punctuation\n",
        "  text = re.sub(f'[{re.escape(string.punctuation)}]', ' ', text)\n",
        "  # remove words including numbers\n",
        "  text = re.sub(r\"\\w*\\d\\w*\", \"\", text)\n",
        "  # remove single character and duplicated words\n",
        "  text = ' '.join(word for word in list(set(text.split())) if len(word) > 1)\n",
        "  # replace multiple whitespace by one whitespace\n",
        "  text = re.sub(r\"\\s+\", \" \", text)\n",
        "  # lower all text\n",
        "  text = text.lower()\n",
        "  # strip all text\n",
        "  text = text.strip()\n",
        "  return text"
      ],
      "metadata": {
        "id": "idNVPB3jFjwt"
      },
      "execution_count": null,
      "outputs": []
    },
    {
      "cell_type": "code",
      "source": [
        "def remove_stopwords(text):\n",
        "  stop_words = stopwords.words('english')\n",
        "  cleaned_text = []\n",
        "  # turn text to a list of words\n",
        "  word_list = text.split()\n",
        "  for word in word_list:\n",
        "    if word not in stop_words:\n",
        "      cleaned_text.append(word)\n",
        "  return ' '.join(cleaned_text)"
      ],
      "metadata": {
        "id": "MZwth4c9Fngt"
      },
      "execution_count": null,
      "outputs": []
    },
    {
      "cell_type": "code",
      "source": [
        "def lemmatize_text(text):\n",
        "  wnl = WordNetLemmatizer()\n",
        "  pos_text = pos_tag(word_tokenize(text))\n",
        "  cleaned_text = []\n",
        "  for word, tag in pos_text:\n",
        "    wntag = tag[0].lower()\n",
        "    wntag = wntag if wntag in ['a', 'r', 'n', 'v'] else None\n",
        "    if not wntag:\n",
        "      lem_word = word\n",
        "    else:\n",
        "      lem_word = wnl.lemmatize(word, wntag)\n",
        "    cleaned_text.append(lem_word)\n",
        "  return ' '.join(cleaned_text)"
      ],
      "metadata": {
        "id": "_24dH6LUFsev"
      },
      "execution_count": null,
      "outputs": []
    },
    {
      "cell_type": "code",
      "source": [
        "arxiv_data_filtered['summaries'] = arxiv_data_filtered['summaries'].apply(clean_text)\n",
        "arxiv_data_filtered['summaries'] = arxiv_data_filtered['summaries'].apply(remove_stopwords)\n",
        "arxiv_data_filtered['summaries'] = arxiv_data_filtered['summaries'].apply(lemmatize_text)\n",
        "arxiv_data_filtered['summaries']"
      ],
      "metadata": {
        "id": "9ew2D4zLFxri",
        "colab": {
          "base_uri": "https://localhost:8080/"
        },
        "outputId": "88864743-b1a3-47ce-830e-3454d92b8657"
      },
      "execution_count": null,
      "outputs": [
        {
          "output_type": "execute_result",
          "data": {
            "text/plain": [
              "0        lower binary radius reference catalog sub cvns subgiant strong turn present gaia system fall dramatic rotation binary magnitude rapid star isochrone average include known dynamical shortest color one branch impact populate use hypothesis population tidal temperatures fraction cluster indicate rs...\n",
              "1        ghz apply density equilibrium column original cn c strong statistical fractional valuable total mcmc chemical present detail cyanide frequency chain submillimeter determine time core formate respectively lte line spectrum composition estimate temperature three methyl ira local co markov algorith...\n",
              "2        southeast redshift catalog associate smaller technique south small might source lie sight system em asymmetry conclude galaxy galaxy sigmav core slightly mostly italian may mass line analyze higher galileo know dynamical substructure vrf velocity accrete typical discover km first detect center l...\n",
              "3        ghz lower significance associate vlbi strong statistical flare locate pks finding coincide conclude suggests extension last nrao still tevs decade discussion may flux start address observe within relativistic four detect use view icecube independent doppler directly remain astrophysical probabil...\n",
              "4        redshift probe undergo instead distribution emanates dominate distinguished imprint small source component sfgs high galaxy variation per originate work redshift earlier mass higher form anisotropy reservoir consider low rm investigate unresolved abundant gev form use odot energy different star ...\n",
              "                                                                                                                                                            ...                                                                                                                                                     \n",
              "89331    rsun binary auriga gravity instead eclipse systemic gaia high mission periodic rotate rotation variation indicate interpretation slightly consistent may imply see object single behind reveal form lambda orbit velocity km orbital take colour visible low function lii greater independent line aur t...\n",
              "89332    dwarf hydrodynamical optical binary average rate eclipse flow change eclipse opacity planck present form sight hydrogen result gas variation lagrangian account line initially optically depth shape point orbital centre partial take function light quiescence lobe ionization like structure tau use ...\n",
              "89333    hydrodynamical ob plausible similarly rate loss star account calculation mass two instability initial fraction ii remain detected dipolar field magnetic however reduce even enhance galactic perform brake formation supernova consider potential effect take close due progenitor black metallicity wi...\n",
              "89334    polymerization reaction radius cn drive wide sub distribution growth top induce bottom rationalized loss chemical isotropic form hydrogen radical cyanide radical gas shell indicate map rapid contain hollow earlier unsaturated length extend acetylene process observe various reveal mechanism map i...\n",
              "89335    cycle next presently variation longitudinal currently clearly cancellation solar present point asymmetrically call hinode high able diagnostics time wave activity last come iris start cancel use equator reveal spectropolarimeter tune four visibly clarification low hemisphere configuration preval...\n",
              "Name: summaries, Length: 70202, dtype: object"
            ]
          },
          "metadata": {},
          "execution_count": 14
        }
      ]
    },
    {
      "cell_type": "markdown",
      "metadata": {
        "id": "JYfEJL5nCMK3"
      },
      "source": [
        "## Split training set, validation set and test set"
      ]
    },
    {
      "cell_type": "code",
      "execution_count": null,
      "metadata": {
        "id": "I6kxRsHbCMK3",
        "colab": {
          "base_uri": "https://localhost:8080/"
        },
        "outputId": "0ccdfd91-4d43-4604-db7a-46a48cbfae41"
      },
      "outputs": [
        {
          "output_type": "stream",
          "name": "stdout",
          "text": [
            "Number of rows in training set: 49141\n",
            "Number of rows in validation set: 10530\n",
            "Number of rows in test set: 10531\n"
          ]
        }
      ],
      "source": [
        "test_split = 0.3\n",
        "\n",
        "# Initial train and test split.\n",
        "train_df, test_df = train_test_split(\n",
        "    arxiv_data_filtered,\n",
        "    test_size=test_split,\n",
        "    # stratify=arxiv_data_filtered[\"terms\"].values,\n",
        ")\n",
        "\n",
        "# Splitting the test set further into validation\n",
        "# and new test sets.\n",
        "val_df = test_df.sample(frac=0.5)\n",
        "test_df.drop(val_df.index, inplace=True)\n",
        "\n",
        "print(f\"Number of rows in training set: {len(train_df)}\")\n",
        "print(f\"Number of rows in validation set: {len(val_df)}\")\n",
        "print(f\"Number of rows in test set: {len(test_df)}\")"
      ]
    },
    {
      "cell_type": "markdown",
      "metadata": {
        "id": "i-PAnEOTCMK4"
      },
      "source": [
        "## Multi-label binarization"
      ]
    },
    {
      "cell_type": "code",
      "execution_count": null,
      "metadata": {
        "id": "7-XwTtwvCMK4",
        "colab": {
          "base_uri": "https://localhost:8080/"
        },
        "outputId": "c1c2673b-ec38-4316-f6eb-db96e25e6554"
      },
      "outputs": [
        {
          "output_type": "stream",
          "name": "stdout",
          "text": [
            "Vocabulary:\n",
            "\n",
            "['[UNK]', 'astro-ph.GA', 'astro-ph.SR', 'astro-ph.EP', 'astro-ph.HE', 'astro-ph.IM', 'astro-ph.CO']\n"
          ]
        }
      ],
      "source": [
        "terms = tf.ragged.constant(train_df[\"terms\"].values)\n",
        "lookup = tf.keras.layers.StringLookup(output_mode=\"multi_hot\")\n",
        "lookup.adapt(terms)\n",
        "vocab = lookup.get_vocabulary()\n",
        "\n",
        "\n",
        "def invert_multi_hot(encoded_labels):\n",
        "    \"\"\"Reverse a single multi-hot encoded label to a tuple of vocab terms.\"\"\"\n",
        "    hot_indices = np.argwhere(encoded_labels == 1.0)[..., 0]\n",
        "    return np.take(vocab, hot_indices)\n",
        "\n",
        "\n",
        "print(\"Vocabulary:\\n\")\n",
        "print(vocab)\n"
      ]
    },
    {
      "cell_type": "code",
      "execution_count": null,
      "metadata": {
        "id": "sXq1evCGCMK4",
        "colab": {
          "base_uri": "https://localhost:8080/"
        },
        "outputId": "55ad93f0-0092-418c-d227-c06702f3dfcc"
      },
      "outputs": [
        {
          "output_type": "stream",
          "name": "stdout",
          "text": [
            "Original label: ['astro-ph.SR', 'astro-ph.HE']\n",
            "Label-binarized representation: [[0. 0. 1. 0. 1. 0. 0.]]\n"
          ]
        }
      ],
      "source": [
        "sample_label = train_df[\"terms\"].iloc[0]\n",
        "print(f\"Original label: {sample_label}\")\n",
        "\n",
        "label_binarized = lookup([sample_label])\n",
        "print(f\"Label-binarized representation: {label_binarized}\")"
      ]
    },
    {
      "cell_type": "markdown",
      "metadata": {
        "id": "rL9-uRHaCMK5"
      },
      "source": [
        "## Data preprocessing and `tf.data.Dataset` objects\n"
      ]
    },
    {
      "cell_type": "code",
      "execution_count": null,
      "metadata": {
        "id": "H0JpYB05CMK5"
      },
      "outputs": [],
      "source": [
        "batch_size = 512\n",
        "auto = tf.data.AUTOTUNE\n",
        "\n",
        "\n",
        "def unify_text_length(text, label):\n",
        "    return tf.expand_dims(text, -1), label\n",
        "\n",
        "\n",
        "def make_dataset(dataframe, is_train=True):\n",
        "    labels = tf.ragged.constant(dataframe[\"terms\"].values)\n",
        "    label_binarized = lookup(labels).numpy()\n",
        "    dataset = tf.data.Dataset.from_tensor_slices(\n",
        "        (dataframe[\"summaries\"].values, label_binarized)\n",
        "    )\n",
        "    dataset = dataset.shuffle(batch_size * 10) if is_train else dataset\n",
        "    dataset = dataset.map(unify_text_length, num_parallel_calls=auto).cache()\n",
        "    return dataset.batch(batch_size)\n"
      ]
    },
    {
      "cell_type": "code",
      "execution_count": null,
      "metadata": {
        "id": "-bZ8KHqCCMK5"
      },
      "outputs": [],
      "source": [
        "train_dataset = make_dataset(train_df, is_train=True)\n",
        "validation_dataset = make_dataset(val_df, is_train=False)\n",
        "test_dataset = make_dataset(test_df, is_train=False)"
      ]
    },
    {
      "cell_type": "markdown",
      "metadata": {
        "id": "vr-ohRLSCMK6"
      },
      "source": [
        "## Dataset preview"
      ]
    },
    {
      "cell_type": "code",
      "execution_count": null,
      "metadata": {
        "id": "rGS0JbgtCMK6",
        "colab": {
          "base_uri": "https://localhost:8080/"
        },
        "outputId": "33d2ddae-05b9-4594-ac38-1541f08590e0"
      },
      "outputs": [
        {
          "output_type": "stream",
          "name": "stdout",
          "text": [
            "Abstract: b'include record trajectory arc precision allow state moment simulation image azimuths ten minute accord bolide improvement space video trace determination show fragment hundred iterative result method perform method angular measure atmosphere calibration altitude develop chelyabinsk distortion meter improve motion adjust compensation'\n",
            "Label(s): ['astro-ph.EP' 'astro-ph.IM']\n",
            " \n",
            "Abstract: b'eri apply averaged space epochs rho delta probably incomplete present amplitude characteristic mode identified frequency integer two search shift partly criteria multiplets hybrid scuti three four radial relation resonant use necessary colour amplitude variability prove pulsational linear derive found rotational different possible multiple star base photometry ground however reason space precise doublet among relative gcm exclude previously check publish spacing method multi couple sequence bar scaling develop one mode photometric discus widely combination satisfy sequence large discrepancy investigation find beating space separation resolve method appear way split amplitude carry frequency recently obtain regular data'\n",
            "Label(s): ['astro-ph.SR']\n",
            " \n",
            "Abstract: b'new fermi blazars agreement galactic redshift discover analyze luminosity lat newly background extragalactic source function light gamma counterpart away rather ray blazar study plane suggest high detect far soft gev group reconstruct direction month distant detection transient spectrum redshift could helpful pass evolution report data'\n",
            "Label(s): ['astro-ph.HE']\n",
            " \n",
            "Abstract: b'systematic link ghz future drive intermediate perform small association present technique goal across survey identify location high magpis determine preference brightness grouping mostly work homogeneously assign group use physical ionise one five shape confirm sample initial low quantify distinctly independent outline analysis group contain ordinance synthetic diffuse spatial application bootstrap star separate reduce distribute investigated galactic hierarchical determine sample extract formation numerical contain object distance myr cluster method cluster validity observation also parameter region longitudes younger scale discuss multidimensional share procedure main similar mass property morphology surface find whether massive galactocentric source shape region simulation six astronomical utilise condition resolution categorise error another limit sensitive latitude detection hii common data'\n",
            "Label(s): ['astro-ph.GA' 'astro-ph.SR' 'astro-ph.IM']\n",
            " \n",
            "Abstract: b'compare dust density pdr redshift distribution near enrich span dissociation compare caution across system conclude extent high gas galaxy companion galaxy new constrain atomic mass regard line jvla redden interpreted photo temperature already one three quasar assess therefore composed average constrain carbon co merger rm merge like show value continuum potentially energy likely medium well different low could multiple base bright major radio full starburst close observation far make region infrared alpha ci ism emission host highly element property spatially find assumption model separation millimeter interstellar complex arcsec component vary study excitation ratio alma spectral angular condition resolution heavily range disagree abundance diverse quasar standard millimetre physical show use'\n",
            "Label(s): ['astro-ph.GA']\n",
            " \n"
          ]
        }
      ],
      "source": [
        "text_batch, label_batch = next(iter(train_dataset))\n",
        "\n",
        "for i, text in enumerate(text_batch[:5]):\n",
        "    label = label_batch[i].numpy()[None, ...]\n",
        "    print(f\"Abstract: {text[0]}\")\n",
        "    print(f\"Label(s): {invert_multi_hot(label[0])}\")\n",
        "    print(\" \")"
      ]
    },
    {
      "cell_type": "markdown",
      "metadata": {
        "id": "RYJCqBUkCMK6"
      },
      "source": [
        "## Vectorization"
      ]
    },
    {
      "cell_type": "code",
      "execution_count": null,
      "metadata": {
        "id": "6j1yh35BCMK6",
        "colab": {
          "base_uri": "https://localhost:8080/"
        },
        "outputId": "177cde76-a846-41cc-8a12-d5afc1676b90"
      },
      "outputs": [
        {
          "output_type": "stream",
          "name": "stdout",
          "text": [
            "Vocabulary size: 162\n"
          ]
        }
      ],
      "source": [
        "train_df[\"total_words\"] = train_df[\"summaries\"].str.split().str.len()\n",
        "vocabulary_size = train_df[\"total_words\"].max()\n",
        "print(f\"Vocabulary size: {vocabulary_size}\")"
      ]
    },
    {
      "cell_type": "code",
      "execution_count": null,
      "metadata": {
        "id": "h3odTI_lCMK6"
      },
      "outputs": [],
      "source": [
        "text_vectorizer = layers.TextVectorization(\n",
        "    max_tokens=vocabulary_size, ngrams=2, output_mode=\"tf_idf\"\n",
        ")\n",
        "\n",
        "# `TextVectorization` layer needs to be adapted as per the vocabulary from our\n",
        "# training set.\n",
        "with tf.device(\"/CPU:0\"):\n",
        "    text_vectorizer.adapt(train_dataset.map(lambda text, label: text))\n",
        "\n",
        "train_dataset = train_dataset.map(\n",
        "    lambda text, label: (text_vectorizer(text), label), num_parallel_calls=auto\n",
        ").prefetch(auto)\n",
        "validation_dataset = validation_dataset.map(\n",
        "    lambda text, label: (text_vectorizer(text), label), num_parallel_calls=auto\n",
        ").prefetch(auto)\n",
        "test_dataset = test_dataset.map(\n",
        "    lambda text, label: (text_vectorizer(text), label), num_parallel_calls=auto\n",
        ").prefetch(auto)\n"
      ]
    },
    {
      "cell_type": "markdown",
      "metadata": {
        "id": "t9fDpf5YCMK7"
      },
      "source": [
        "## Create a text classification model\n"
      ]
    },
    {
      "cell_type": "code",
      "execution_count": null,
      "metadata": {
        "id": "LqayRS4ZCMK7"
      },
      "outputs": [],
      "source": [
        "\n",
        "def make_model():\n",
        "    shallow_mlp_model = keras.Sequential(\n",
        "        [\n",
        "            layers.Dense(256, activation=\"relu\"),\n",
        "            layers.Dropout(0.2),\n",
        "            layers.Dense(512, activation=\"relu\"),\n",
        "            layers.Dropout(0.1),\n",
        "            layers.Dense(256, activation=\"relu\"),\n",
        "            layers.Dense(lookup.vocabulary_size(), activation=\"sigmoid\"),\n",
        "        ]\n",
        "    )\n",
        "    return shallow_mlp_model\n"
      ]
    },
    {
      "cell_type": "markdown",
      "metadata": {
        "id": "hJNr3ifJCMK7"
      },
      "source": [
        "## Train the model"
      ]
    },
    {
      "cell_type": "code",
      "execution_count": null,
      "metadata": {
        "id": "kdj8wf0FCMK7",
        "outputId": "57e2c61e-0e33-481d-ea89-755f8d803d56",
        "colab": {
          "base_uri": "https://localhost:8080/",
          "height": 1000
        }
      },
      "outputs": [
        {
          "output_type": "stream",
          "name": "stdout",
          "text": [
            "Epoch 1/20\n",
            "96/96 [==============================] - 6s 53ms/step - loss: 0.7949 - precision: 0.2750 - recall: 0.1292 - val_loss: 0.4542 - val_precision: 0.7081 - val_recall: 0.0078\n",
            "Epoch 2/20\n",
            "96/96 [==============================] - 4s 46ms/step - loss: 0.4446 - precision: 0.5131 - recall: 0.1087 - val_loss: 0.3788 - val_precision: 0.6430 - val_recall: 0.2950\n",
            "Epoch 3/20\n",
            "96/96 [==============================] - 5s 47ms/step - loss: 0.3759 - precision: 0.6177 - recall: 0.3524 - val_loss: 0.3216 - val_precision: 0.6873 - val_recall: 0.5391\n",
            "Epoch 4/20\n",
            "96/96 [==============================] - 5s 47ms/step - loss: 0.3258 - precision: 0.6948 - recall: 0.4954 - val_loss: 0.2879 - val_precision: 0.7127 - val_recall: 0.6369\n",
            "Epoch 5/20\n",
            "96/96 [==============================] - 5s 47ms/step - loss: 0.2976 - precision: 0.7331 - recall: 0.5689 - val_loss: 0.2711 - val_precision: 0.7436 - val_recall: 0.6503\n",
            "Epoch 6/20\n",
            "96/96 [==============================] - 5s 47ms/step - loss: 0.2825 - precision: 0.7522 - recall: 0.6030 - val_loss: 0.2642 - val_precision: 0.7546 - val_recall: 0.6550\n",
            "Epoch 7/20\n",
            "96/96 [==============================] - 5s 47ms/step - loss: 0.2725 - precision: 0.7695 - recall: 0.6200 - val_loss: 0.2552 - val_precision: 0.7700 - val_recall: 0.6676\n",
            "Epoch 8/20\n",
            "96/96 [==============================] - 5s 47ms/step - loss: 0.2649 - precision: 0.7784 - recall: 0.6310 - val_loss: 0.2513 - val_precision: 0.7793 - val_recall: 0.6629\n",
            "Epoch 9/20\n",
            "96/96 [==============================] - 5s 47ms/step - loss: 0.2598 - precision: 0.7850 - recall: 0.6363 - val_loss: 0.2491 - val_precision: 0.7796 - val_recall: 0.6656\n",
            "Epoch 10/20\n",
            "96/96 [==============================] - 5s 47ms/step - loss: 0.2552 - precision: 0.7882 - recall: 0.6410 - val_loss: 0.2467 - val_precision: 0.7899 - val_recall: 0.6611\n",
            "Epoch 11/20\n",
            "96/96 [==============================] - 4s 47ms/step - loss: 0.2520 - precision: 0.7943 - recall: 0.6446 - val_loss: 0.2438 - val_precision: 0.7944 - val_recall: 0.6625\n",
            "Epoch 12/20\n",
            "96/96 [==============================] - 5s 47ms/step - loss: 0.2482 - precision: 0.7972 - recall: 0.6488 - val_loss: 0.2418 - val_precision: 0.7961 - val_recall: 0.6644\n",
            "Epoch 13/20\n",
            "96/96 [==============================] - 5s 47ms/step - loss: 0.2450 - precision: 0.8000 - recall: 0.6539 - val_loss: 0.2397 - val_precision: 0.7991 - val_recall: 0.6665\n",
            "Epoch 14/20\n",
            "96/96 [==============================] - 5s 47ms/step - loss: 0.2422 - precision: 0.8017 - recall: 0.6586 - val_loss: 0.2387 - val_precision: 0.8006 - val_recall: 0.6689\n",
            "Epoch 15/20\n",
            "96/96 [==============================] - 5s 47ms/step - loss: 0.2399 - precision: 0.8045 - recall: 0.6626 - val_loss: 0.2377 - val_precision: 0.8016 - val_recall: 0.6654\n",
            "Epoch 16/20\n",
            "96/96 [==============================] - 5s 47ms/step - loss: 0.2376 - precision: 0.8055 - recall: 0.6642 - val_loss: 0.2361 - val_precision: 0.7976 - val_recall: 0.6755\n",
            "Epoch 17/20\n",
            "96/96 [==============================] - 4s 47ms/step - loss: 0.2351 - precision: 0.8093 - recall: 0.6694 - val_loss: 0.2351 - val_precision: 0.7998 - val_recall: 0.6744\n",
            "Epoch 18/20\n",
            "96/96 [==============================] - 5s 47ms/step - loss: 0.2337 - precision: 0.8090 - recall: 0.6718 - val_loss: 0.2336 - val_precision: 0.7996 - val_recall: 0.6790\n",
            "Epoch 19/20\n",
            "96/96 [==============================] - 5s 47ms/step - loss: 0.2317 - precision: 0.8115 - recall: 0.6745 - val_loss: 0.2332 - val_precision: 0.8018 - val_recall: 0.6792\n",
            "Epoch 20/20\n",
            "96/96 [==============================] - 5s 47ms/step - loss: 0.2301 - precision: 0.8116 - recall: 0.6777 - val_loss: 0.2323 - val_precision: 0.8015 - val_recall: 0.6812\n"
          ]
        },
        {
          "output_type": "display_data",
          "data": {
            "image/png": "[encoded data removed]",
            "text/plain": [
              "<Figure size 432x288 with 1 Axes>"
            ]
          },
          "metadata": {
            "needs_background": "light"
          }
        },
        {
          "output_type": "display_data",
          "data": {
            "image/png": "[encoded data removed]",
            "text/plain": [
              "<Figure size 432x288 with 1 Axes>"
            ]
          },
          "metadata": {
            "needs_background": "light"
          }
        },
        {
          "output_type": "display_data",
          "data": {
            "image/png": "[encoded data removed]",
            "text/plain": [
              "<Figure size 432x288 with 1 Axes>"
            ]
          },
          "metadata": {
            "needs_background": "light"
          }
        }
      ],
      "source": [
        "epochs = 20\n",
        "\n",
        "shallow_mlp_model = make_model()\n",
        "shallow_mlp_model.compile(\n",
        "    loss=\"binary_crossentropy\", optimizer=\"adam\", metrics=[tf.keras.metrics.Precision(), tf.keras.metrics.Recall()]\n",
        ")\n",
        "\n",
        "history = shallow_mlp_model.fit(\n",
        "    train_dataset, validation_data=validation_dataset, epochs=epochs,\n",
        ")\n",
        "\n",
        "\n",
        "def plot_result(item):\n",
        "    plt.plot(history.history[item], label=item)\n",
        "    plt.plot(history.history[\"val_\" + item], label=\"val_\" + item)\n",
        "    plt.xlabel(\"Epochs\")\n",
        "    plt.ylabel(item)\n",
        "    plt.title(\"Train and Validation {} Over Epochs\".format(item), fontsize=14)\n",
        "    plt.legend()\n",
        "    plt.grid()\n",
        "    plt.show()\n",
        "\n",
        "\n",
        "plot_result(\"loss\")\n",
        "plot_result(\"precision\")\n",
        "plot_result(\"recall\")"
      ]
    },
    {
      "cell_type": "markdown",
      "metadata": {
        "id": "9SGJuIC_CMK7"
      },
      "source": [
        "## Evaluate the model"
      ]
    },
    {
      "cell_type": "markdown",
      "source": [
        "###Exact Match Radio"
      ],
      "metadata": {
        "id": "uWx9WJkfFCoj"
      }
    },
    {
      "cell_type": "code",
      "source": [
        "def get_y_true_and_y_pred_prob_value():\n",
        "    model_for_evaluate = keras.Sequential([text_vectorizer, shallow_mlp_model])\n",
        "    evaluate_dataset = make_dataset(test_df, is_train=False)\n",
        "\n",
        "    y_true = []\n",
        "    y_pred_prob = []\n",
        "\n",
        "    for text_batch, label_batch in evaluate_dataset:\n",
        "        predicted_probabilities = model_for_evaluate.predict(text_batch)\n",
        "        for i, text in enumerate(text_batch):\n",
        "            label = label_batch[i].numpy()[None, ...]\n",
        "            y_true.append(label[0])\n",
        "            y_pred_prob.append(predicted_probabilities[i])\n",
        "    y_true = np.array(y_true)\n",
        "    y_pred_prob = np.array(y_pred_prob)\n",
        "    return y_true, y_pred_prob\n"
      ],
      "metadata": {
        "id": "q2WLE755ewF1"
      },
      "execution_count": null,
      "outputs": []
    },
    {
      "cell_type": "code",
      "source": [
        "def get_y_pred(y_pred_prob, k=3, threshold=0.5):\n",
        "    y_pred = []\n",
        "    for pred in y_pred_prob:\n",
        "        top_k_labels = [\n",
        "            x\n",
        "            for _, x in sorted(\n",
        "                zip(pred, lookup.get_vocabulary()),\n",
        "                key=lambda pair: pair[0],\n",
        "                reverse=True,\n",
        "            )\n",
        "        ][:k]\n",
        "        y_top_k_labels = np.zeros(y_pred_prob[0].shape[0])\n",
        "        for j in range(len(vocab)):\n",
        "            if(vocab[j] in top_k_labels):\n",
        "                if(pred[j] > threshold):\n",
        "                    y_top_k_labels[j] = 1\n",
        "                else:\n",
        "                    top_k_labels.remove(vocab[j])\n",
        "        y_pred.append(y_top_k_labels)\n",
        "    y_pred = np.array(y_pred)   \n",
        "    return y_pred\n"
      ],
      "metadata": {
        "id": "gstTHRPug2WC"
      },
      "execution_count": null,
      "outputs": []
    },
    {
      "cell_type": "code",
      "source": [
        "y_true, y_pred_prob = get_y_true_and_y_pred_prob_value()\n",
        "for k in range(1,7,1):\n",
        "    for threshold in np.arange(0.3,0.8,0.1):\n",
        "        y_pred = get_y_pred(y_pred_prob, k, threshold)\n",
        "        number_of_test = test_df.shape[0]\n",
        "        from sklearn.metrics import accuracy_score\n",
        "        acc = accuracy_score(y_true, y_pred)\n",
        "        print(f\"With k = {k} and threshold = {round(threshold,1)} - Exact Match Radio accuracy on the test set: {round(acc * 100, 2)}%\")"
      ],
      "metadata": {
        "id": "1hD9Rzb2UQ6S",
        "colab": {
          "base_uri": "https://localhost:8080/"
        },
        "outputId": "64e26545-3495-4078-d187-735e2383b90d"
      },
      "execution_count": null,
      "outputs": [
        {
          "output_type": "stream",
          "name": "stdout",
          "text": [
            "With k = 1 and threshold = 0.3 - Exact Match Radio accuracy on the test set: 53.01%\n",
            "With k = 1 and threshold = 0.4 - Exact Match Radio accuracy on the test set: 52.9%\n",
            "With k = 1 and threshold = 0.5 - Exact Match Radio accuracy on the test set: 52.37%\n",
            "With k = 1 and threshold = 0.6 - Exact Match Radio accuracy on the test set: 50.9%\n",
            "With k = 1 and threshold = 0.7 - Exact Match Radio accuracy on the test set: 47.79%\n",
            "With k = 2 and threshold = 0.3 - Exact Match Radio accuracy on the test set: 45.6%\n",
            "With k = 2 and threshold = 0.4 - Exact Match Radio accuracy on the test set: 50.96%\n",
            "With k = 2 and threshold = 0.5 - Exact Match Radio accuracy on the test set: 53.2%\n",
            "With k = 2 and threshold = 0.6 - Exact Match Radio accuracy on the test set: 52.48%\n",
            "With k = 2 and threshold = 0.7 - Exact Match Radio accuracy on the test set: 48.71%\n",
            "With k = 3 and threshold = 0.3 - Exact Match Radio accuracy on the test set: 44.74%\n",
            "With k = 3 and threshold = 0.4 - Exact Match Radio accuracy on the test set: 50.78%\n",
            "With k = 3 and threshold = 0.5 - Exact Match Radio accuracy on the test set: 53.22%\n",
            "With k = 3 and threshold = 0.6 - Exact Match Radio accuracy on the test set: 52.49%\n",
            "With k = 3 and threshold = 0.7 - Exact Match Radio accuracy on the test set: 48.71%\n",
            "With k = 4 and threshold = 0.3 - Exact Match Radio accuracy on the test set: 44.75%\n",
            "With k = 4 and threshold = 0.4 - Exact Match Radio accuracy on the test set: 50.78%\n",
            "With k = 4 and threshold = 0.5 - Exact Match Radio accuracy on the test set: 53.22%\n",
            "With k = 4 and threshold = 0.6 - Exact Match Radio accuracy on the test set: 52.49%\n",
            "With k = 4 and threshold = 0.7 - Exact Match Radio accuracy on the test set: 48.71%\n",
            "With k = 5 and threshold = 0.3 - Exact Match Radio accuracy on the test set: 44.75%\n",
            "With k = 5 and threshold = 0.4 - Exact Match Radio accuracy on the test set: 50.78%\n",
            "With k = 5 and threshold = 0.5 - Exact Match Radio accuracy on the test set: 53.22%\n",
            "With k = 5 and threshold = 0.6 - Exact Match Radio accuracy on the test set: 52.49%\n",
            "With k = 5 and threshold = 0.7 - Exact Match Radio accuracy on the test set: 48.71%\n",
            "With k = 6 and threshold = 0.3 - Exact Match Radio accuracy on the test set: 44.75%\n",
            "With k = 6 and threshold = 0.4 - Exact Match Radio accuracy on the test set: 50.78%\n",
            "With k = 6 and threshold = 0.5 - Exact Match Radio accuracy on the test set: 53.22%\n",
            "With k = 6 and threshold = 0.6 - Exact Match Radio accuracy on the test set: 52.49%\n",
            "With k = 6 and threshold = 0.7 - Exact Match Radio accuracy on the test set: 48.71%\n"
          ]
        }
      ]
    },
    {
      "cell_type": "markdown",
      "source": [
        "### Hamming Loss"
      ],
      "metadata": {
        "id": "bMPuf5egY24S"
      }
    },
    {
      "cell_type": "code",
      "source": [
        "from sklearn.metrics import hamming_loss\n",
        "y_true, y_pred_prob = get_y_true_and_y_pred_prob_value()\n",
        "y_pred = get_y_pred(y_pred_prob, k=3, threshold=0.5)\n",
        "hml = hamming_loss(y_true, y_pred)\n",
        "print(f\"Hamming Loss = {round(hml, 5)}\")"
      ],
      "metadata": {
        "id": "Bh9vgPOHY2S1",
        "colab": {
          "base_uri": "https://localhost:8080/"
        },
        "outputId": "dabd4a05-f8bc-48eb-ca7b-c641f2beecce"
      },
      "execution_count": null,
      "outputs": [
        {
          "output_type": "stream",
          "name": "stdout",
          "text": [
            "Hamming Loss = 0.09682\n"
          ]
        }
      ]
    },
    {
      "cell_type": "markdown",
      "source": [
        "### Confusion Matrix Metrics"
      ],
      "metadata": {
        "id": "AIN3f9n6vayG"
      }
    },
    {
      "cell_type": "code",
      "source": [
        "from sklearn.metrics import multilabel_confusion_matrix\n",
        "\n",
        "y_true, y_pred_prob = get_y_true_and_y_pred_prob_value()\n",
        "y_pred = get_y_pred(y_pred_prob, k=3, threshold=0.5)\n",
        "\n",
        "m = multilabel_confusion_matrix(y_true, y_pred)\n",
        "\n",
        "for i in range(1,len(m)):\n",
        "    print(\"Multilabel_confusion_matrix_of: \"+vocab[i])\n",
        "    print(m[i])\n",
        "    print()\n",
        "    # print(vocab[i])"
      ],
      "metadata": {
        "id": "7Mb8VGVOuHKQ",
        "colab": {
          "base_uri": "https://localhost:8080/"
        },
        "outputId": "266d1cd9-d995-4168-beea-8e52b99df7ac"
      },
      "execution_count": null,
      "outputs": [
        {
          "output_type": "stream",
          "name": "stdout",
          "text": [
            "Multilabel_confusion_matrix_of: astro-ph.GA\n",
            "[[6780  443]\n",
            " [ 974 2334]]\n",
            "\n",
            "Multilabel_confusion_matrix_of: astro-ph.SR\n",
            "[[6989  593]\n",
            " [1032 1917]]\n",
            "\n",
            "Multilabel_confusion_matrix_of: astro-ph.EP\n",
            "[[7601  370]\n",
            " [ 478 2082]]\n",
            "\n",
            "Multilabel_confusion_matrix_of: astro-ph.HE\n",
            "[[7899  383]\n",
            " [ 765 1484]]\n",
            "\n",
            "Multilabel_confusion_matrix_of: astro-ph.IM\n",
            "[[8060  376]\n",
            " [ 747 1348]]\n",
            "\n",
            "Multilabel_confusion_matrix_of: astro-ph.CO\n",
            "[[8711  292]\n",
            " [ 684  844]]\n",
            "\n"
          ]
        }
      ]
    },
    {
      "cell_type": "markdown",
      "source": [
        "### Precision, Recall, F1_score, micro-average, macro-average metrics"
      ],
      "metadata": {
        "id": "do3etJAedqfD"
      }
    },
    {
      "cell_type": "code",
      "source": [
        "from sklearn.metrics import classification_report\n",
        "\n",
        "y_pred = get_y_pred(y_pred_prob, k=3, threshold=0.5)\n",
        "\n",
        "print(classification_report(y_true, y_pred,target_names=vocab, zero_division = 0))"
      ],
      "metadata": {
        "id": "VQMRBIQdvkAL",
        "colab": {
          "base_uri": "https://localhost:8080/"
        },
        "outputId": "7422ef60-d002-4279-8d76-d2b3bd46db0f"
      },
      "execution_count": null,
      "outputs": [
        {
          "output_type": "stream",
          "name": "stdout",
          "text": [
            "              precision    recall  f1-score   support\n",
            "\n",
            "       [UNK]       0.00      0.00      0.00         0\n",
            " astro-ph.GA       0.84      0.71      0.77      3308\n",
            " astro-ph.SR       0.76      0.65      0.70      2949\n",
            " astro-ph.EP       0.85      0.81      0.83      2560\n",
            " astro-ph.HE       0.79      0.66      0.72      2249\n",
            " astro-ph.IM       0.78      0.64      0.71      2095\n",
            " astro-ph.CO       0.74      0.55      0.63      1528\n",
            "\n",
            "   micro avg       0.80      0.68      0.74     14689\n",
            "   macro avg       0.68      0.57      0.62     14689\n",
            "weighted avg       0.80      0.68      0.74     14689\n",
            " samples avg       0.80      0.74      0.74     14689\n",
            "\n"
          ]
        }
      ]
    },
    {
      "cell_type": "markdown",
      "source": [
        "### Exist 1 in Top k predicts is true Accuracy"
      ],
      "metadata": {
        "id": "M4vCoFXeyACW"
      }
    },
    {
      "cell_type": "code",
      "source": [
        "def top_k_predict_is_true_accuracy(y_true, y_pred_prob, k=3, threshold = 0.5):\n",
        "    score = 0\n",
        "    for i in range(len(y_pred_prob)):\n",
        "            top_k_labels = [\n",
        "                x\n",
        "                for _, x in sorted(\n",
        "                    zip(y_pred_prob[i], lookup.get_vocabulary()),\n",
        "                    key=lambda pair: pair[0],\n",
        "                    reverse=True,\n",
        "                )\n",
        "            ][:k]\n",
        "            y_top_k_labels = np.zeros(y_pred_prob[0].shape[0])\n",
        "            for label in top_k_labels:\n",
        "                if(y_true[i][vocab.index(label)] == 1):\n",
        "                    score += 1\n",
        "                    break\n",
        "    return score/len(y_pred_prob)\n",
        "\n",
        "acc = top_k_predict_is_true_accuracy(y_true, y_pred_prob, 3, 0.5)\n",
        "print(f\"Accuracy: {round(acc, 5)}\")"
      ],
      "metadata": {
        "id": "-8bPEVxXyJv8",
        "colab": {
          "base_uri": "https://localhost:8080/"
        },
        "outputId": "b06acd37-d1e1-409c-a909-0c5a64e93e25"
      },
      "execution_count": null,
      "outputs": [
        {
          "output_type": "stream",
          "name": "stdout",
          "text": [
            "Accuracy: 0.9775\n"
          ]
        }
      ]
    },
    {
      "cell_type": "markdown",
      "metadata": {
        "id": "dMBkcIVJCMK8"
      },
      "source": [
        "## Inference"
      ]
    },
    {
      "cell_type": "code",
      "source": [
        "# Create a model for inference.\n",
        "model_for_inference = keras.Sequential([text_vectorizer, shallow_mlp_model])\n",
        "\n",
        "# Create a small dataset just for demoing inference.\n",
        "inference_dataset = make_dataset(test_df.sample(100), is_train=False)\n",
        "text_batch, label_batch = next(iter(inference_dataset))\n",
        "predicted_probabilities = model_for_inference.predict(text_batch)\n",
        "\n",
        "k=6\n",
        "\n",
        "# Perform inference.\n",
        "for i, text in enumerate(text_batch[:50]):\n",
        "    label = label_batch[i].numpy()[None, ...]\n",
        "    print(f\"Abstract: {text[0]}\")\n",
        "    print(f\"Label(s): {invert_multi_hot(label[0])}\")\n",
        "    predicted_proba = [proba for proba in predicted_probabilities[i]]\n",
        "    top_k_labels = [\n",
        "        x\n",
        "        for _, x in sorted(\n",
        "            zip(predicted_probabilities[i], lookup.get_vocabulary()),\n",
        "            key=lambda pair: pair[0],\n",
        "            reverse=True,\n",
        "        )\n",
        "    ][:k]\n",
        "    predicted_proba.sort(reverse = True)\n",
        "    for i in reversed(range(len(predicted_proba)-1)):\n",
        "        if(predicted_proba[i] < 0.2 and len(top_k_labels) > 0):\n",
        "            top_k_labels.pop(i)\n",
        "    print(f\"Predicted Label(s): ({', '.join([label for label in top_k_labels])})\")\n",
        "    print(\" \")"
      ],
      "metadata": {
        "id": "J9Eqxq-rdqlc",
        "colab": {
          "base_uri": "https://localhost:8080/"
        },
        "outputId": "6ac94c82-9768-4f04-9f62-581d4a38c6f9"
      },
      "execution_count": null,
      "outputs": [
        {
          "output_type": "stream",
          "name": "stdout",
          "text": [
            "Abstract: b'matter compare distribution operation determination mock body galaxy galaxy determine two correlation information recover analyze spectrum log anisotropies radial point function bias linear polar cdm dark base bias compare simulation survey band require least lambda distribution method catalogue apply one entropy azimuthal power parameter use find require method redshift sim simulate anisotropy show'\n",
            "Label(s): ['astro-ph.CO']\n",
            "Predicted Label(s): (astro-ph.CO, astro-ph.IM)\n",
            " \n",
            "Abstract: b'compare dust density rho sph upper outward chemical present dd justify turbulent gas determine net lagrangian isotopic cosmochemistry flux composition appear stochastic physically eulerian diffusive transport particle important journey understand form trajectory use difficulty well different application code coefficient model allow midplane sample timesgrad numerical formalism order disk potential also however study overcomes protoplanetary favor discus alter induces procedure gaseous individual gradient lagrangian proportional inward simple express grain layer test study diffusion simulation naturally popular size show'\n",
            "Label(s): ['astro-ph.EP']\n",
            "Predicted Label(s): (astro-ph.EP, astro-ph.GA, astro-ph.SR)\n",
            " \n",
            "Abstract: b'simulate faster current aim wide image end complementary performance present generator capture speed goal component optimization instance galaxy galaxy art magnitude star explore public average deg analyze central ufig astronomy typical necessary prepare implementation computational important vast subaru time code sextractor limit field fast image realistic code new feature laptop test capability simulation pixel requirement order introduce observational yielding rely order fast image quickly ultra limit simulate parameter part exist state bring us need simple sigma suprimecam measurement imaging model become achieve microsecond space produce simulation several method efficiently allow condition survey key second either show use'\n",
            "Label(s): ['astro-ph.IM']\n",
            "Predicted Label(s): (astro-ph.IM, astro-ph.CO, astro-ph.GA)\n",
            " \n",
            "Abstract: b'fix ghz dust profile origin radius approximation crude invokes growth sub luminosity total irradiation present give survey nominal result suggest host submillimeter brightness two correlation account particle exclusive average eff propto roughly observed temperature optically consider radial relation localize defined initial scenario rm temperature fraction jy remain percent migration unresolved continuum relationship intuitive visibility effective base data encircles interior new concentrated array dispersion provide trap sample size perpendicular scale disk timescales previously prescription characterization arcsecond filling model observation mm age nearby disk factor quantitative environment protoplanetary solid disappears shorter emission alternative manifestation stellar surface empirical find much ten simple model note essentially arcsec explanation extract estimate confirmation perhaps luminosity resolution range condition simple trend thick mutually reasonable significant size archival putative use'\n",
            "Label(s): ['astro-ph.SR' 'astro-ph.EP']\n",
            "Predicted Label(s): (astro-ph.EP, astro-ph.SR, astro-ph.GA)\n",
            " \n",
            "Abstract: b'locally photometric due sky brescia biviano download computer processing seem necessity quasi name research calculation survey host great able preand community instrument move line gap photo local within photoraptor choose point center provide general et accessible important algorithm set layer newton machine different application mlpqna data particularly fully learn official available program tool sample post order perceptron platform website archive problem application algorithm critical evaluate al everyone base fill variety personal cavuoti part private multi powerful train dedicate reveal need stored embeds massive ml besides network model huge spectroscopic astronomical another redshift desktop special package intranet use'\n",
            "Label(s): ['astro-ph.IM']\n",
            "Predicted Label(s): (astro-ph.CO, astro-ph.IM, astro-ph.GA)\n",
            " \n",
            "Abstract: b'fermi nevertheless fsrqs distribution thoroughly bl statistical present result analysis variation two correlation average unify spectrum mechanism discover quasar shape greater blazar orientation reassess detect value relationship form energy spectra different population indicative scheme index sample radio lac responsible order flat gamma subclass object ray distribution study lacertae blazars similar suggest sequence large property evolutionary homogenous difference shape anti exist band spectral suggest analysis significant show data'\n",
            "Label(s): ['astro-ph.GA' 'astro-ph.HE']\n",
            "Predicted Label(s): (astro-ph.HE)\n",
            " \n",
            "Abstract: b'perfectionism bin develop future optimal although precision expensive spectro velocity present pipeline compare pipeline conjunction exoplanet exposures chronological describe velocity radial point implementation localize min exposure function exoplanet reduction radial minerva tractable remain computationally calibration star performance fitting set array perform approach precise full raw potential method approximately text nearly discuss importance minimize procedure capable miniature extraction achieve error extract impart six spectral spread method reliable study rv identical standard data'\n",
            "Label(s): ['astro-ph.EP' 'astro-ph.IM']\n",
            "Predicted Label(s): (astro-ph.IM, astro-ph.SR)\n",
            " \n",
            "Abstract: b'strong planet gi form correlate otherwise host demonstrate enough core correlation work metal contraction interpret assembles planet observe positive core accrete usually survive pebble tidal framework fraction solid detect gravitational migration find onto accelerate star fragment evidence closer accretion strongly novelty formation ca giant metallicity accretion disruption theory increase driven frequency instability imminent rapidly inward survival massive result model collapse key simulate disc support recently'\n",
            "Label(s): ['astro-ph.EP']\n",
            "Predicted Label(s): (astro-ph.EP, astro-ph.SR)\n",
            " \n",
            "Abstract: b'dust catalog perform agb end radiative ir present point inevitable coincide galaxy shell densely star two planetary useful information calculation roughly literature object central detach observe amorphous various color populate iras discrepancy provide carbon envelope function investigate counterpart rich though structure use track well possible cross star available sample around generally post make catalog diagram transfer akari even silicate region infrared pre evolve opacity use type pne phase evolutionary find converge simple assumption theoretical msx model spectral nebulae identify reasonable shell evolution'\n",
            "Label(s): ['astro-ph.SR']\n",
            "Predicted Label(s): (astro-ph.SR, astro-ph.GA)\n",
            " \n",
            "Abstract: b'coincident binary probe prompt sgrbs emission detector engine high soft think ns penetrate ejecta propagation activity without last breakout may already typical relativistic fails year easily launch scenario rm merger gws detect time followup term energy long successful show even choke event short achieves gamma jet ray supernova gw delayed burst late activity case observationally merger break second generation produce require signature support ray produce propose event optimistic sgrb every gravitational grbs show wave solve'\n",
            "Label(s): ['astro-ph.HE']\n",
            "Predicted Label(s): (astro-ph.HE)\n",
            " \n",
            "Abstract: b'cumbres binary strong microlensing present necessitates survey blg two constrain mass cause first automate ogle light cover analysis time pm likely follow odot coverage well kpc different achieve base vector allow part feature curve inclusion baseline observatory las order interpretation consider distance effect robotic anomalous observation also parameter parallax estimate main lens second longer stellar lensing us find projected telescope alternative separation component event system intensive au detection obtain physical show data'\n",
            "Label(s): ['astro-ph.EP' 'astro-ph.IM']\n",
            "Predicted Label(s): (astro-ph.SR, astro-ph.EP)\n",
            " \n",
            "Abstract: b'bos simulate next real present decomposing image statistical forward performance compare improve give able galaxy galaxy ufig cosmological particular work pca purpose purpose cosmology extend furthermore kind know simulate simulator process necessary improve population provide component interpret et function light cut past important finally set sample use digital spectra different metallicities data population agreement show model approach line formation sky survey band elgs tortorelli difficulty forecast method emission multi fagioli also parameters age image finally pre apply compute uspec red ratio less al insight one good photometric derive accurately analyse find target principal generation mass stellar large property consistently find sdss galaxy model analysis selection expect study spectroscopic survey pronounce astrometric simulated sloan blue evolution use'\n",
            "Label(s): ['astro-ph.GA' 'astro-ph.CO']\n",
            "Predicted Label(s): (astro-ph.GA, astro-ph.CO)\n",
            " \n",
            "Abstract: b'equation sne constraint moderate present isotropic prefer delta result chain skewness metric jla ia cosmological consistent universe light deviation universe paper light therefore markov independent axis sample direction use energy different dark evidence curve simultaneously sample allow supernovae sigma geometry bianchi method parameter however employ cosmic scale level type large state amount anisotropic carlo isotropy result model besides vary study totally shear monte model analysis obvious joint standard fit anisotropy'\n",
            "Label(s): ['astro-ph.CO']\n",
            "Predicted Label(s): (astro-ph.CO, astro-ph.HE, astro-ph.IM)\n",
            " \n",
            "Abstract: b'gc binary density wide bh utilizing total system result companion retain calculate subsystem sizeable analyse single shortlist increase correlate paper population fraction cluster code gc potentially gyr relation array could build mention galactic available indication size harbour bh contain observational shortlisted number least cluster also black host scale mocca estimate speculation observable use mass stellar property certain hole ten theoretical model show globular hundred simulation contain several system identify simulated significant additionally'\n",
            "Label(s): ['astro-ph.GA' 'astro-ph.SR']\n",
            "Predicted Label(s): (astro-ph.GA, astro-ph.CO, astro-ph.HE)\n",
            " \n",
            "Abstract: b'heat prevail exert inclination underdense sound luminosity cancellation speed component differs irradiate result chi suggest gas remarkably think heat size without zero perturber expression sizeable dynamical planetary within velocity earth consider point thermal use min low radiation function fraction linear rise like surround direction diverges give medium mathrm new force set friction release number constant embryo scale perturbation diffusivity perturb gamma heat number hot specific equilibrium accretion opaque unit theory protoplanetary gaseous depend aspect mass large trail amount mar eccentricities gml mach travel tends modelled exists diffusion ratio thus astronomical opposed condition logarithmically limit heat disc standard uniform gravitational show'\n",
            "Label(s): ['astro-ph.GA' 'astro-ph.EP' 'astro-ph.HE']\n",
            "Predicted Label(s): (astro-ph.GA, astro-ph.CO, astro-ph.EP)\n",
            " \n",
            "Abstract: b'originate origin rate precision strong measurement planet sin capture frequency high host rotation think inconsistent slightly star considers activity false fgk positives erroneous photospheric planet observe isotope typical carbon observationally discriminate discrepancy paper population determination rely function tidal doppler exoplanet detect show integrate odot likely dwarfs field search around sample abundance signal previously infer due distribution method giant isochrone late ratio giant host increase explain study short main host hostile mass stellar sequence construct period whether massive require difference measurement early comparison expect suggest significantly occurrence deficit steeper either show'\n",
            "Label(s): ['astro-ph.SR' 'astro-ph.EP']\n",
            "Predicted Label(s): (astro-ph.EP, astro-ph.SR)\n",
            " \n",
            "Abstract: b'current encourage small would enrich near small might total break incorporate percentage previous frequency undetected analysis binary star mechanism consistent mix target apparently undertaken contrast estimate single cloud observe zams compatible three mechanism former km ngc population low merger remainder presence analysis via young field find rotational cloud possible could field star magnetic approximately compare dex incorporate sample latter lmc smc imply towards effect number cluster due vsini enrichment enrichment approximately underestimated less however velocity excess uncertainty indeed enhancement amount nitrogen similar type stellar follow large term property prediction evolutionary amount magellanic project experienced model explanation early comparison spectroscopic survey significant possible qualitative difference either evolution'\n",
            "Label(s): ['astro-ph.GA' 'astro-ph.SR']\n",
            "Predicted Label(s): (astro-ph.SR)\n",
            " \n",
            "Abstract: b'variable present yet categorize larger census stage magnitude gaia bp abridge add mission colour subset globally contain two star respectively public group extract compatible three four first successive provide million colour light variability increase level analysis proxy purity use curve release different photometry billion variable filter show even available brightness determine band full object epoch gather publish multi provide apply red ratio type mean value uncertainty illustrate abstract constitutes second mag large property archive compute accord rely source achieve rp band contain reliable study identify sim amplitude candidate catalogue amplitudes blue overview data'\n",
            "Label(s): ['astro-ph.SR']\n",
            "Predicted Label(s): (astro-ph.SR, astro-ph.GA, astro-ph.HE)\n",
            " \n",
            "Abstract: b'kinematic rate sign beta sub dla edge present integral oiii galaxy map rotation shift interpretation slightly search flux yr spectrum insufficient composite pmas single dynamical lambda ifu velocity detect point use function optic osiris keck analysis fwhm detect unresolved structure field erg correspond use reduce odot well guide marginally field detail possible star data indicative lgsao allow formation background disk previously potential spectroscopy observation measure region infrared red study extended emission laser mass adaptive make arcsecond foreground absorption map cm star region estimate several spread slit sim quasar support resolve blue show use'\n",
            "Label(s): ['astro-ph.GA']\n",
            "Predicted Label(s): (astro-ph.GA, astro-ph.SR)\n",
            " \n",
            "Abstract: b'double binary rate wide sub closely circ constraint small neutron form system characteristic pathway previous eject high predict dnss galaxy exhibit host binary inconsistent star consistent milky n without doubled mass roughly focus know orb observe three orbit km five product orbital population low scenario past rm merger cluster old ii merging analysis contain spin narrowly challenge odot ligo star base population argue kick distribute aligned eccentricity way sample around formation demonstrate environment year gamma bear measured ray number cluster distribution recent provide also approx pre burst lesssim theory must motivate sn natal contrary short second reside stellar dns angle property similarity period ax misalignment iii taylor require hulse split globular primordial spindown distinct detection evolution'\n",
            "Label(s): ['astro-ph.HE']\n",
            "Predicted Label(s): (astro-ph.HE, astro-ph.GA, astro-ph.SR)\n",
            " \n",
            "Abstract: b'data visualization several google use advantage spatial phase dimensional three explore first module user examples exploration blender view present create work interactive seamless technique space immersive together user toward analysis method astrophysical step multi astronomical immersion exhibit complex medium panorama use type environment employ degree different spherical package put immerse software data'\n",
            "Label(s): ['astro-ph.IM']\n",
            "Predicted Label(s): (astro-ph.IM, astro-ph.SR)\n",
            " \n",
            "Abstract: b'cmb simulate next sky probe stage measurement photon scan array strategy present choice kinetic detector characteristic frequency detector require project may imply analyze noise various strategy consider multiplexed ing low framework inductance understand onto spectra connect natively performance particularly thusly feature set allow proceed microwave experiment signal massively telescope discus poise generation type mkid natural affect mkids device simulate'\n",
            "Label(s): ['astro-ph.IM']\n",
            "Predicted Label(s): (astro-ph.IM)\n",
            " \n",
            "Abstract: b'lower sparse sample measurement space planets auto oscillation frequency kepler insolation carma gas companion host determine star aldebaran subject process implies historic know move planet planetary asteroseismic velocity earth thousand radial use lifetime verify time gaussian pm note odot photometry star base ground evidence approach unlock show around continuous potential spectroscopy telescope irregularly giant observation also nearby red acoustic main mass sequence dedicate push series result space model average contain spectroscopic astronomical decade regressive comparable archival data'\n",
            "Label(s): ['astro-ph.SR' 'astro-ph.EP']\n",
            "Predicted Label(s): (astro-ph.EP, astro-ph.SR)\n",
            " \n",
            "Abstract: b'density super gravity location approximation nest instead linearly planet capture goal system body gas different resonance particular still dissipation inwards may limit shift lead two gap planetary within method three conclusion orbital resonant function lock density axis presence context result time direction find different numerically motion depend even integrated semimajor size sigma resonance lock behavior disk test consider potential aim number problem least embed explain close due outwards shift also fast region destabilization study mean pair good estimate case circumstellar mass large stability amount carve dissipate compute massive series almost early decreasing system significantly affect significant earths expansion evolution'\n",
            "Label(s): ['astro-ph.EP']\n",
            "Predicted Label(s): (astro-ph.EP)\n",
            " \n",
            "Abstract: b'matter cmb density current constraint bound total improve cip survey able galaxy broken account adiabatic constrain perfectly spectrum perturbation local correlate already correlate analyze uncorrelated place rm independent investigate linear contribute value sample invariant cdm different fluctuation compensate multiple however aim degenerate bias even order relative baryon potential effect number forecast close taking future parameter approx nearly volume stronger degeneracy case power simplify parameter isocurvature scale achievable exist fiducial cips mathcal find tightest sigma nl ensure achieve unperturbed primordial suggest parametrizing overdensity png survey significantly prior sim amplitude setup show data'\n",
            "Label(s): ['astro-ph.CO']\n",
            "Predicted Label(s): (astro-ph.CO)\n",
            " \n",
            "Abstract: b'interpixel current yet read column precision sensitivity measurement near silicon persistence end floor array spectrograph present generator detector alternate characteristic spectrographs result extremely detector efficiency star hxrg instrument noise quantum hybrid simulator kind advance correlate various velocity promise radial ninety uncorrelated quantified structured doppler ipc percent capacitance show generate use achieve relate dark cadmium noise parameterized response available pixel white implication pink mercury numerical precise consider effect commercially wavelengths recent also picture approx infrared late hawaii longwards enable frame combination utilize type hgcdte characterize source nonlinear series error device simulation rv budget nir emulates telluride show'\n",
            "Label(s): ['astro-ph.EP' 'astro-ph.IM']\n",
            "Predicted Label(s): (astro-ph.IM, astro-ph.EP, astro-ph.SR)\n",
            " \n",
            "Abstract: b'although wide ossos dominate solar total present incline outer speed outer system result high combination circular pik crater non work calculation opposition group result de object dynamical collisional detach neptunian orbit within km orbital resonant improve population define low function bias directly origins classical happen collision proxy relate use energy likely well possible multiple base fragment population heliocentric allow speed belt revise approach inter formation survey relative distance distribution observation provide parameter region trans compute complete impact disruption one velocity collision calculate main scattering utilize phase wetherill indicate compute probability intrinsic space tnos model tno process model range sim outcome carry au serf body modify'\n",
            "Label(s): ['astro-ph.EP']\n",
            "Predicted Label(s): (astro-ph.EP)\n",
            " \n",
            "Abstract: b'date kinematic develop completely rate characterise distribution statistical incorporates luminosity find treatment contamination render present survey previous result able nyoc non introduce particular rid one literature result bouy classifier observe method conclusion weakly velocity use population sift provide general et function framework propagate tool result recovers analysis heteroscedastic probability value list young pm homogeneous candidate accuracy establish find member bias characterise motion population agreement membership new interval although test hierarchical formalism agree observational work homoskedastic test posterior aim intelligent proper cluster bayesian comprehensive also parameters nearby miss day al extended estimate photometric obtain uncertainty also bayesian threshold use model mass get informative property assumption probability pleiades govern model properly completeness model simulation maximum allows system prior sim open us data'\n",
            "Label(s): ['astro-ph.SR']\n",
            "Predicted Label(s): (astro-ph.CO, astro-ph.GA)\n",
            " \n",
            "Abstract: b'matter dwarf project index origin drive yet outflow associate larger zoom correlate issue largest extent gas galaxy galaxy brightness cosmological non udgs mechanism milky size average mass imply address fail reproduce typical use population udg low scenario rm isolate represent internal hi diffuse form spin subsequent odot concentration diffuse exist medium availability kpc dwarfs dark field star effective unusually haloes faint radii way formation episodes feedback core object due distribution challenge nihao ersic ultra less extended analogue broad similar color mass stellar surface halo whether galaxy process simulation contain gas naturally range negligible crucial key simulated expansion live show'\n",
            "Label(s): ['astro-ph.GA' 'astro-ph.CO']\n",
            "Predicted Label(s): (astro-ph.GA, astro-ph.CO)\n",
            " \n",
            "Abstract: b'since quadrupolar beam rate radius strong spectro neutron sight temporal geometric frequency result suggest circular consequence mechanism repeat broken sweep degree line central law polarize frbs within discover multipolar coherent radiation framework linear investigate magnetize dipolar derive coherent relationship likely spectra field star magnetic becomes magnetosphere line generally radio map drift gamma configuration geometry emit due evolve move fast confined region burst emit multisegment discuss charge emission case power bunch magnetospheric highly pulse exist angle property duration natural curve characterized assumption curvature study polarization spectral simulate open show wave'\n",
            "Label(s): ['astro-ph.HE']\n",
            "Predicted Label(s): (astro-ph.HE, astro-ph.SR)\n",
            " \n",
            "Abstract: b'lower location web compaction larger edge efficient dependency clue previous influence high galaxy gas galaxy host non mostly mechanism redshift may analyse central partly reveal examine detect adopt fraction rich build analysis code enhances suppress use star outside agreement becomes inherit depend proximity halo closer proximity remove simulation formation inside filament vorticity transfer effect residual close explain inferred agn distribution due assembly multi observation also momentum however less quench disperse environment direct horizon supply cosmic scale mass stellar large property find halo result environmental passive extract study suggest angular reside addition negligible'\n",
            "Label(s): ['astro-ph.GA']\n",
            "Predicted Label(s): (astro-ph.GA, astro-ph.CO)\n",
            " \n",
            "Abstract: b'lower optical dust density due rate column distribution unlike component system survey result high mstar galaxy indicate exhibit two consistent correction universe target factor predominantly central log local dimensional within typical population centroid sample light density investigate represent counterpart span change likely spatial kpc effective base star agreement bright normal rest locus k enhance radius resolve spiral compact formation descendant agree relative ssfr configuration regime starburst imply submillimeter infer overall observation specific good combine derive frame main color mass stellar majority sequence property experience structural massive source candels passive component ratio hst alma position ssfrms resolution median limit centrally true size smgs'\n",
            "Label(s): ['astro-ph.GA']\n",
            "Predicted Label(s): (astro-ph.GA)\n",
            " \n",
            "Abstract: b'systematic compare binary reprise eclipse small gaia systematics binary slightly consistent distance gtrsim within paper micro span analysis though pm appear release torres kpc report probed range become evidence test strongly brightnesses sample stassun negative newly distance lesssim global parallax increase offset depend second find arcseconds sense marginal range expectation data'\n",
            "Label(s): ['astro-ph.SR' 'astro-ph.EP' 'astro-ph.IM']\n",
            "Predicted Label(s): (astro-ph.SR, astro-ph.HE, astro-ph.GA)\n",
            " \n",
            "Abstract: b'systematic binary outburst helium super radius accretor strong fractional luminosity upper flare stage present neutron oscillation high soft imply discovery enough extremely mhz peak particular search notable may inclination flux object conservative swift photospheric observe qpo discover five detect light variability inferences finally value atmosphere type curve likely kpc marginally star variable long bright burn although allow implication compact eddington distance ray effect least due also make parameter burst thermonuclear burst one stable factor estimate discuss case kev depend similar state find hence ray best several system luminosity range limit rms amplitude detection expansion recently show used'\n",
            "Label(s): ['astro-ph.HE']\n",
            "Predicted Label(s): (astro-ph.HE)\n",
            " \n",
            "Abstract: b'lower ionospheric optical mesosphere hnc provide technique measurement strong incomplete unlike upper huygens circulation latitudinal variation middle reach particular may include central predominantly dynamical wind observe altitude seasonal atmospheric km shift wind thermal probe launched inference indicate important doppler represent level molecular remain atmosphere turn curve stratosphere field base expectation range force line stratospheric thermosphere speed response determine specie demonstrate restrict jet regime probe interaction sound extend distribution observation also far mm infrared wind occultation however progressively equatorial increase direct variety altogether magnetospheric stellar unconstrained mbar flash alma mesospheric maximum spectral six suggest range wave titan prograde show report'\n",
            "Label(s): ['astro-ph.EP']\n",
            "Predicted Label(s): (astro-ph.EP, astro-ph.SR)\n",
            " \n",
            "Abstract: b'binary driven image invoke dominated nursery ir br present detail material rayet gas star consistent author calculation unveil xmm central dynamical wind reveal form propose superbubble point remnant unveils maximum presence detect like display newton find diffuse cloud field star comparison contact need although nebula around sb lmc bubble previously effect cold ray supernova cluster distribution filamentary filling model destroy observation bubble region infrared wind simply extended sn explain emission pressure large dem use stellar powerful property magellanic wolf wr massive source snr lh complex study region confirm model several suggest view hot archival explosion evolution'\n",
            "Label(s): ['astro-ph.GA' 'astro-ph.HE']\n",
            "Predicted Label(s): (astro-ph.GA, astro-ph.SR)\n",
            " \n",
            "Abstract: b'double interestingly future ahead shen current associate top might cancellation solar stage reconstruction present speed component material body high two wave last overlap eruption filament observe one relation propose mini trigger shape paper sl et firstly extreme rise internal analysis emergence shape like related field sample run find ejection dark detail base magnetic flux evidence clear cme structure observatory dynamic complicate ultraviolet observational bubble jet narrow blowout due supply multi observation terrestrial al one outwardly chromosphere base jet along coronal suggest mass wavelength large angle ambiguity produce euv minute unambiguously accord photosphere together event confirms model distinct study obvious appear addition view observation corona reconnection either'\n",
            "Label(s): ['astro-ph.SR']\n",
            "Predicted Label(s): (astro-ph.SR)\n",
            " \n",
            "Abstract: b'systematic cmb dust beam sky imprint scalar contamination unprecedented present goal mismatch previous borne map instrumental non goal work particular wave instrument degree polarize dimensional various three strategy earth examine low greater fraction investigate build plane accuracy diffuse field base magnetic sufficiently half model focal response galactic background interaction effect microwave observation measure couple also ideal balloon tensor science impact design test must emission main cosmic scale level use asymmetry large find characterized foreground achieve spider control component study ratio primordial simulation polarization several spectral model expect resolution error amplitude observation gravitational plate wave'\n",
            "Label(s): ['astro-ph.IM' 'astro-ph.CO']\n",
            "Predicted Label(s): (astro-ph.GA, astro-ph.SR, astro-ph.HE)\n",
            " \n",
            "Abstract: b'systematic acquisition analytic read signal wise sensitivity measurement gain error requirement camera solar present lab pipeline adc issue coronagraph nonlinearity result time magnitude adcs useful reduces correction instrument correction camera discussion expression digitization noise result know sensor address cause depth necessary low polarimetric table ubiquitous leave reduction desire analysis nonlinearity calibration use odot digital well dark particularly adequate pixel observatory implement bit post demonstrate coronal order issue characterization residual photonfocus well method quantization instrument observation make parameter image traditionally telescope science illustrative impact discuss must instrumentation scientifically global facto derive case simplify suffer deep meet result measurement error mv model several analyze correct astronomical system magnetism error select lookup product besides setup show data'\n",
            "Label(s): ['astro-ph.IM']\n",
            "Predicted Label(s): (astro-ph.IM, astro-ph.EP)\n",
            " \n",
            "Abstract: b'matter date neil revisit march helium bat intermediate reflection strong example eclipse total source present detail neutron gehrels despite mode shell think suitable orbit interpretation star two particular interested downward limited flux one literature search context swift observe thompson outflowing burster understand one typical four first cause slow superburst partial general min visible slew remain detect like structure list appear additional fluctuation decay particularly look long new sax set photon galactic observatory collect ionized latter disk eddington ray residual due involve fundamentally observation also involve fast burst accretion thermonuclear burst nine type discuss phenomenon discus excess twenty case emission find automatic scattering highly longer phase property duration find remarkably xrt eight obscuration last consider flash change disturbance study event timescale fuel unusual pronounced thick cloud five ill expand phase pile show data'\n",
            "Label(s): ['astro-ph.HE']\n",
            "Predicted Label(s): (astro-ph.HE, astro-ph.SR)\n",
            " \n",
            "Abstract: b'date share follow sphere sky enables intermediate calibrate constraint arrays present across identify datasets previous largest high map uhecrs exploit multipoles deviation two particular deflection despite ultra without flux spectrum higher equator celestial reconstruct pierre observatory degree low exposure cover moment past build remain detected collaboration field use energy beyond regime coverage different possible cross search magnetic ankle auger flux feature promise major array accounting galactic strength energy contribution event indication around band scale order relative highest year full relies identification number telescope distribution eev also limit discuss derive extragalactic procedure cosmic scale observable large difference uhecr assumption map declination isotropy source ray normalization collaboration suppression effort angular thanks multipole anisotropy report'\n",
            "Label(s): ['astro-ph.HE']\n",
            "Predicted Label(s): (astro-ph.HE)\n",
            " \n",
            "Abstract: b'systematic since lower cr binary origin although sirius strong dominate small lying present ba system overabundance high result companion binary ti star atmospheric correlation two homogeneously fgk mass may include know ls photospheric zr process observe correlate various si four fe different orbital paper necessary sr la level analysis ca like understand sufficient form find follow spectra dwarf mild mg field could star base primary barium show even weak determine sample abundance among behavior study wd nature companion co separation ni parameter metallicity ratios giant however one na condition elemental cu aspect anomaly main similar suggest mass stellar element seem large constraint h ce separation anti component mainly study six expect wds nd system resolution abundance pattern key differentiate support al sc mn show'\n",
            "Label(s): ['astro-ph.GA' 'astro-ph.SR']\n",
            "Predicted Label(s): (astro-ph.SR)\n",
            " \n",
            "Abstract: b'photometric yet outflow associate spire calculate receiver upper total moderate present can not image indeed prolific mean high hibal undetected sfrs galaxy notcam non consistent information redshift activity despite target mass bal line yr furthermore understood show three energetic increase quasar five detect population general bol rm important imaging rule outline bolometric detect base ionisation derive appear odot spectra low star sfr flux however evidence enhancement support even compare hole program spectral sample formation environment band among range starburst epoch number entirely black mark accretion ergs direct derive detection part broad herschel mass phase exist poorly lobal evolutionary textit obeservations absorption paradigm eight spectral spectroscopic fir luminosity limit key lobals luminous target'\n",
            "Label(s): ['astro-ph.GA']\n",
            "Predicted Label(s): (astro-ph.GA, astro-ph.CO)\n",
            " \n",
            "Abstract: b'systematic dwarf instead eclipse would edge solar system characteristic kepler discovery binary mechanism primary search mass orbit three velocity propose straggler radial orbital provide low light lobe cluster jointly gravitationally curve found field photometry primary roche day long self determine white formation reminiscent range transfer overflow companion interact close due less stable evolve derive accurately lensing stellar mass eccentricity reveal model actual test model magnify pulse many period open excellent blue report'\n",
            "Label(s): ['astro-ph.SR']\n",
            "Predicted Label(s): (astro-ph.SR, astro-ph.EP)\n",
            " \n",
            "Abstract: b'detection cosmic future array photon present current available measurement near pierre review photon particles neutral icecube complementarity ray messenger report telescope neutrino result high analysis perform also collaboration outline status complement neutron charge energy ultra cross correlation search recently primary expectation neutrinos auger'\n",
            "Label(s): ['astro-ph.HE' 'astro-ph.IM']\n",
            "Predicted Label(s): (astro-ph.IM, astro-ph.HE)\n",
            " \n",
            "Abstract: b'cmb future sky measurement find count larger source isotropic speed similarly result time distort without universe constrain whereby local temperature three velocity kappa universe inference incorrect homogeneous reduce give different field could motion however inclusion structure around radio size necessarily scale background require previously measure effect number imprint distribution microwave lead extragalactic tension cosmic level lensing large cdot find sigma dipole unconstrained source peculiar angular addition show'\n",
            "Label(s): ['astro-ph.CO']\n",
            "Predicted Label(s): (astro-ph.CO, astro-ph.GA)\n",
            " \n",
            "Abstract: b'driven growth compare originate component dynamo shear previous turbulent galaxy rotate think slightly underlying propagation coefficient adler lead pump magnetohydrodynamic observed local helical thermal paper virtue injected investigate action via overline generate enhances field coherent use energy additional medium electromotive field magnetic argue aim analyse force distribute test reproduce inclusion align box buoyancy show omega demonstrate entire turbulence effect differentially prescription supernova ray due method also involve nearby explosion emf compute mean alpha sn ism govern large cosmic scale use large mathcal unbalanced model interstellar component diffusion simulation model cr random explosion evolution possibility'\n",
            "Label(s): ['astro-ph.GA']\n",
            "Predicted Label(s): (astro-ph.CO, astro-ph.HE, astro-ph.IM)\n",
            " \n",
            "Abstract: b'analytic dust although instead distribution smaller slowly luminosity larger planet total frequency last planetesimal orbit throughout two star calculation propto roughly gtrsim analyze collisional planet observe within recur km impact earth decline particle old warm solid set size time interest derive form follow cascade zone star new radius allow decline around formation numerical demonstrate among predicted pure current myr giant observation mm approx disk less lesssim agree theory shallower terrestrial observable rapidly type mass large prediction preclude spike model solar theory test produce simulation debris au every sizes coagulation data'\n",
            "Label(s): ['astro-ph.SR' 'astro-ph.EP']\n",
            "Predicted Label(s): (astro-ph.EP, astro-ph.SR)\n",
            " \n",
            "Abstract: b'ae kinematic since dust sparse rate intermediate orionis associate belong edge small present point gaia outer crystallinity msun older pah high remain think non star consistent still mass scarce yr spectrum data aim observed cooler optically population indicate old flow lunar display abundant tauri find energy onto accrete detailed report star feature locate even show around formation abundance inside disk previously release myr silicate cluster explain distribution also age equilibrium au disk however less herbig case combination thin arise second mass stellar state truncate find sigma crystal massive forsterite mu peculiar study ratio primordial spectral analyze analysis transitional gas condition range front sim hot pahs luminous cavity data'\n",
            "Label(s): ['astro-ph.SR']\n",
            "Predicted Label(s): (astro-ph.GA, astro-ph.SR)\n",
            " \n",
            "Abstract: b'carbide optical dust rate current growth distribution provide couple small luminosity silicon rate outflow total loss form relevant compare reprocess galaxy production gas ground combination star consistent particular estimate one literature factor include temperature various color reproduce physically first chemistry function carbon important deriving envelope show time dpr energy cloud spectra different quantity effective scheme iron available stationary simultaneously species newly lmc diagram smc account metallic method observation parameter approx wind compute ratio employ follow velocity discuss circumstellar finding main mass stellar property consistently grids magellanic employ compute photosphere model constant grain estimate model spectral element publicly luminosities abundance select significantly expansion size fit'\n",
            "Label(s): ['astro-ph.SR']\n",
            "Predicted Label(s): (astro-ph.GA, astro-ph.SR, astro-ph.HE)\n",
            " \n"
          ]
        }
      ]
    }
  ],
  "metadata": {
    "colab": {
      "collapsed_sections": [],
      "name": "Multi_label_classification_ANN_4",
      "provenance": []
    },
    "kernelspec": {
      "display_name": "Python 3",
      "language": "python",
      "name": "python3"
    },
    "language_info": {
      "codemirror_mode": {
        "name": "ipython",
        "version": 3
      },
      "file_extension": ".py",
      "mimetype": "text/x-python",
      "name": "python",
      "nbconvert_exporter": "python",
      "pygments_lexer": "ipython3",
      "version": "3.7.0"
    }
  },
  "nbformat": 4,
  "nbformat_minor": 0
}